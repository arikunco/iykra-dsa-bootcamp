{
 "cells": [
  {
   "cell_type": "markdown",
   "metadata": {},
   "source": [
    "<style>\n",
    "    .zero-margin {\n",
    "        margin: 0 px;\n",
    "     }\n",
    "</style>\n",
    "\n",
    "<div class=\"zero-margin\" style=\"text-align: center;\">\n",
    "    <p style=\"text-align: center; font-size: 20px; margin-bottom: 10px;\">Practice Case 03<p>\n",
    "    <p style=\"text-align: center; font-size: 40px; margin: 0px; font-weight: bold;text-transform: uppercase;\">Sentiment Analysis</p><br/>\n",
    "    <p  style=\"text-align: center; margin-bottom: 0px;\">Tuesday, October 31st 2019</p>\n",
    "     <p  style=\"text-align: center; margin-top: 0px;\">M. Haries Ramdhani</p>\n",
    "</div>"
   ]
  },
  {
   "cell_type": "markdown",
   "metadata": {},
   "source": [
    "For this practice case I tried to perform sentiment analysis for the top 10 places in Indonesia based on this [article](https://www.touropia.com/best-places-to-visit-in-indonesia/). The data is collected from the subreddit [r/travel](reddit.com/r/travel) on Oct 31st 2019. The data collection was done using the Reddit pushshift API, it takes maximum of 500 comments for each of the places that are listed in the article "
   ]
  },
  {
   "cell_type": "code",
   "execution_count": 3,
   "metadata": {},
   "outputs": [
    {
     "name": "stdout",
     "output_type": "stream",
     "text": [
      "[nltk_data] Downloading package stopwords to\n",
      "[nltk_data]     C:\\Users\\m.haris01\\AppData\\Roaming\\nltk_data...\n",
      "[nltk_data]   Package stopwords is already up-to-date!\n"
     ]
    }
   ],
   "source": [
    "import pandas as pd \n",
    "import numpy as np\n",
    "\n",
    "#import nltk module \n",
    "import nltk\n",
    "nltk.download('stopwords')\n",
    "from nltk.corpus import stopwords\n",
    "from nltk.stem import PorterStemmer\n",
    "\n",
    "#import reguler expression \n",
    "import re\n",
    "import time\n",
    "\n",
    "#import textblob \n",
    "from textblob import TextBlob\n",
    "\n",
    "#visualization \n",
    "import matplotlib.pyplot as plt\n",
    "import seaborn as sns \n",
    "%matplotlib inline \n",
    "\n",
    "import requests\n",
    "import json"
   ]
  },
  {
   "cell_type": "code",
   "execution_count": 77,
   "metadata": {},
   "outputs": [
    {
     "name": "stdout",
     "output_type": "stream",
     "text": [
      "GET raja%ampat COMMENTS STARTED\n",
      "GOT 161 raja%ampat COMMENTS\n",
      "\n",
      "GET tanjung%puting COMMENTS STARTED\n",
      "GOT 10 tanjung%puting COMMENTS\n",
      "\n",
      "GET flores COMMENTS STARTED\n",
      "GOT 500 flores COMMENTS\n",
      "\n",
      "GET toraja COMMENTS STARTED\n",
      "GOT 68 toraja COMMENTS\n",
      "\n",
      "GET bukit%lawang COMMENTS STARTED\n",
      "GOT 118 bukit%lawang COMMENTS\n",
      "\n",
      "GET bromo COMMENTS STARTED\n",
      "GOT 360 bromo COMMENTS\n",
      "\n",
      "GET lombok COMMENTS STARTED\n",
      "GOT 500 lombok COMMENTS\n",
      "\n",
      "GET komodo COMMENTS STARTED\n",
      "GOT 500 komodo COMMENTS\n",
      "\n",
      "GET yogyakarta COMMENTS STARTED\n",
      "GOT 368 yogyakarta COMMENTS\n",
      "\n",
      "GET bali COMMENTS STARTED\n",
      "GOT 500 bali COMMENTS\n",
      "\n"
     ]
    }
   ],
   "source": [
    "# List all of the top 10 places\n",
    "cities = [\"raja%ampat\", \"tanjung%puting\", \"flores\", \"toraja\", \"bukit%lawang\", \"bromo\", \"lombok\", \"komodo\", \"yogyakarta\", \"bali\"]\n",
    "\n",
    "comments = {}\n",
    "\n",
    "SIZE = 500\n",
    "\n",
    "# Get the data from the reddit pushshift\n",
    "for city in cities:\n",
    "    print(f\"GET {city} COMMENTS STARTED\")\n",
    "    \n",
    "    comments[city] = []\n",
    "    \n",
    "    doc = f\"https://api.pushshift.io/reddit/search/comment/?q={city}&size={SIZE}&subreddit=travel\"\n",
    "    \n",
    "    response = requests.get(doc, timeout = 10)\n",
    "    \n",
    "    data = json.loads(response.content)\n",
    "    data = data[\"data\"]\n",
    "    \n",
    "    for i in range(len(data)):\n",
    "        comments[city].append(data[i]['body'])\n",
    "        \n",
    "    print(f\"GOT {len(comments[city])} {city} COMMENTS\")\n",
    "    print(\"\")\n",
    "    \n",
    "    time.sleep(5)"
   ]
  },
  {
   "cell_type": "markdown",
   "metadata": {},
   "source": [
    "# Section B : Data Preprocessing"
   ]
  },
  {
   "cell_type": "markdown",
   "metadata": {},
   "source": [
    "## Step B.1. Basic Text Pre-processing "
   ]
  },
  {
   "cell_type": "markdown",
   "metadata": {},
   "source": [
    "### 1. Lower casing"
   ]
  },
  {
   "cell_type": "code",
   "execution_count": 78,
   "metadata": {},
   "outputs": [
    {
     "data": {
      "text/html": [
       "<div>\n",
       "<style>\n",
       "    .dataframe thead tr:only-child th {\n",
       "        text-align: right;\n",
       "    }\n",
       "\n",
       "    .dataframe thead th {\n",
       "        text-align: left;\n",
       "    }\n",
       "\n",
       "    .dataframe tbody tr th {\n",
       "        vertical-align: top;\n",
       "    }\n",
       "</style>\n",
       "<table border=\"1\" class=\"dataframe\">\n",
       "  <thead>\n",
       "    <tr style=\"text-align: right;\">\n",
       "      <th></th>\n",
       "      <th>comment</th>\n",
       "    </tr>\n",
       "  </thead>\n",
       "  <tbody>\n",
       "    <tr>\n",
       "      <th>0</th>\n",
       "      <td>&amp;gt; she doesn't like to be around a lot of pe...</td>\n",
       "    </tr>\n",
       "    <tr>\n",
       "      <th>1</th>\n",
       "      <td>mid april temperatures would be pretty high in...</td>\n",
       "    </tr>\n",
       "    <tr>\n",
       "      <th>2</th>\n",
       "      <td>no, you can't. airbnb has an age limit of 18, ...</td>\n",
       "    </tr>\n",
       "    <tr>\n",
       "      <th>3</th>\n",
       "      <td>i went to borneo and hired a boat to take me u...</td>\n",
       "    </tr>\n",
       "    <tr>\n",
       "      <th>4</th>\n",
       "      <td>the budget is depending on your wishes comfort...</td>\n",
       "    </tr>\n",
       "  </tbody>\n",
       "</table>\n",
       "</div>"
      ],
      "text/plain": [
       "                                             comment\n",
       "0  &gt; she doesn't like to be around a lot of pe...\n",
       "1  mid april temperatures would be pretty high in...\n",
       "2  no, you can't. airbnb has an age limit of 18, ...\n",
       "3  i went to borneo and hired a boat to take me u...\n",
       "4  the budget is depending on your wishes comfort..."
      ]
     },
     "execution_count": 78,
     "metadata": {},
     "output_type": "execute_result"
    }
   ],
   "source": [
    "for city in cities:\n",
    "    comments[city] = [comment.lower() for comment in comments[city]]\n",
    "    \n",
    "pd.DataFrame({\"comment\" : comments[city]}).head()"
   ]
  },
  {
   "cell_type": "markdown",
   "metadata": {},
   "source": [
    "### 2. Punctuation removal"
   ]
  },
  {
   "cell_type": "code",
   "execution_count": 79,
   "metadata": {},
   "outputs": [
    {
     "data": {
      "text/html": [
       "<div>\n",
       "<style>\n",
       "    .dataframe thead tr:only-child th {\n",
       "        text-align: right;\n",
       "    }\n",
       "\n",
       "    .dataframe thead th {\n",
       "        text-align: left;\n",
       "    }\n",
       "\n",
       "    .dataframe tbody tr th {\n",
       "        vertical-align: top;\n",
       "    }\n",
       "</style>\n",
       "<table border=\"1\" class=\"dataframe\">\n",
       "  <thead>\n",
       "    <tr style=\"text-align: right;\">\n",
       "      <th></th>\n",
       "      <th>comment</th>\n",
       "    </tr>\n",
       "  </thead>\n",
       "  <tbody>\n",
       "    <tr>\n",
       "      <th>0</th>\n",
       "      <td>gt she doesnt like to be around a lot of peopl...</td>\n",
       "    </tr>\n",
       "    <tr>\n",
       "      <th>1</th>\n",
       "      <td>mid april temperatures would be pretty high in...</td>\n",
       "    </tr>\n",
       "    <tr>\n",
       "      <th>2</th>\n",
       "      <td>no you cant airbnb has an age limit of 18 and ...</td>\n",
       "    </tr>\n",
       "    <tr>\n",
       "      <th>3</th>\n",
       "      <td>i went to borneo and hired a boat to take me u...</td>\n",
       "    </tr>\n",
       "    <tr>\n",
       "      <th>4</th>\n",
       "      <td>the budget is depending on your wishes comfort...</td>\n",
       "    </tr>\n",
       "  </tbody>\n",
       "</table>\n",
       "</div>"
      ],
      "text/plain": [
       "                                             comment\n",
       "0  gt she doesnt like to be around a lot of peopl...\n",
       "1  mid april temperatures would be pretty high in...\n",
       "2  no you cant airbnb has an age limit of 18 and ...\n",
       "3  i went to borneo and hired a boat to take me u...\n",
       "4  the budget is depending on your wishes comfort..."
      ]
     },
     "execution_count": 79,
     "metadata": {},
     "output_type": "execute_result"
    }
   ],
   "source": [
    "for city in cities:\n",
    "    comments[city] = [re.sub(r'[^\\w\\s]', '', comment) for comment in comments[city]]\n",
    "    \n",
    "pd.DataFrame({\"comment\" : comments[city]}).head()"
   ]
  },
  {
   "cell_type": "markdown",
   "metadata": {},
   "source": [
    "### 3. Stopwords removal"
   ]
  },
  {
   "cell_type": "code",
   "execution_count": 81,
   "metadata": {
    "collapsed": true
   },
   "outputs": [],
   "source": [
    "stop = stopwords.words('english')\n",
    "\n",
    "for city in cities:\n",
    "    comments[city] = [\" \".join(list(set(comment.split()) - set(stop))) for comment in comments[city]]\n",
    "    \n",
    "pd.DataFrame({\"comment\" : comments[city]}).head()"
   ]
  },
  {
   "cell_type": "markdown",
   "metadata": {},
   "source": [
    "### 4. Frequent words removal"
   ]
  },
  {
   "cell_type": "code",
   "execution_count": 101,
   "metadata": {},
   "outputs": [
    {
     "data": {
      "text/plain": [
       "['would',\n",
       " 'much',\n",
       " 'days',\n",
       " 'good',\n",
       " 'ubud',\n",
       " 'dont',\n",
       " 'places',\n",
       " 'around',\n",
       " 'beach',\n",
       " 'island']"
      ]
     },
     "execution_count": 101,
     "metadata": {},
     "output_type": "execute_result"
    }
   ],
   "source": [
    "freqs = {}\n",
    "for city in cities:\n",
    "    freq = pd.Series(\" \".join(comments[city]).split()).value_counts()[:10]\n",
    "    freq = list(freq.index)\n",
    "    \n",
    "    freqs[city] = freq\n",
    "freqs['bali']"
   ]
  },
  {
   "cell_type": "code",
   "execution_count": 102,
   "metadata": {},
   "outputs": [
    {
     "data": {
      "text/plain": [
       "'mind typical think daughter well place tropical tao itd wants try resort certainly restaurants classes best first perfectly north compared gt islands personally japan relaxed enjoy cost low im side might chiang koh fine vegan comes away beaches doesnt travel book lots although thailand day preferred atmosphere anywhere nido busy tours lot mother less cooking mai el people else sure east views temples isnt sea jungles southern somewhere plenty'"
      ]
     },
     "execution_count": 102,
     "metadata": {},
     "output_type": "execute_result"
    }
   ],
   "source": [
    "for city in cities:\n",
    "    comments[city] = [\" \".join(x for x in comment.split() if x not in freqs[city]) for comment in comments[city]]\n",
    "    \n",
    "pd.DataFrame({\"comment\" : comments[city]}).head()"
   ]
  },
  {
   "cell_type": "markdown",
   "metadata": {},
   "source": [
    "### 5. Rare words removal"
   ]
  },
  {
   "cell_type": "code",
   "execution_count": 103,
   "metadata": {},
   "outputs": [
    {
     "data": {
      "text/plain": [
       "['ready',\n",
       " 'essence',\n",
       " 'uneditedhttpsimgurcomgalleryosuftth',\n",
       " 'hammocks',\n",
       " 'external',\n",
       " 'hardest',\n",
       " 'disillusioned',\n",
       " 'minus',\n",
       " 'fraction',\n",
       " 'peanut']"
      ]
     },
     "execution_count": 103,
     "metadata": {},
     "output_type": "execute_result"
    }
   ],
   "source": [
    "rares = {}\n",
    "for city in cities:\n",
    "    rare = pd.Series(\" \".join(comments[city]).split()).value_counts()[-10:]\n",
    "    rare = list(rare.index)\n",
    "    \n",
    "    rares[city] = rare\n",
    "rares['bali']"
   ]
  },
  {
   "cell_type": "code",
   "execution_count": 104,
   "metadata": {},
   "outputs": [
    {
     "data": {
      "text/plain": [
       "'mind typical think daughter well place tropical tao itd wants try resort certainly restaurants classes best first perfectly north compared gt islands personally japan relaxed enjoy cost low im side might chiang koh fine vegan comes away beaches doesnt travel book lots although thailand day preferred atmosphere anywhere nido busy tours lot mother less cooking mai el people else sure east views temples isnt sea jungles southern somewhere plenty'"
      ]
     },
     "execution_count": 104,
     "metadata": {},
     "output_type": "execute_result"
    }
   ],
   "source": [
    "for city in cities:\n",
    "    comments[city] = [\" \".join(x for x in comment.split() if x not in rares[city]) for comment in comments[city]]\n",
    "    \n",
    "pd.DataFrame({\"comment\" : comments[city]}).head()"
   ]
  },
  {
   "cell_type": "markdown",
   "metadata": {},
   "source": [
    "### 6. Spelling correction"
   ]
  },
  {
   "cell_type": "code",
   "execution_count": 112,
   "metadata": {
    "collapsed": true
   },
   "outputs": [],
   "source": [
    "for city in cities:\n",
    "    print(f\"{city} COMMENTS CORRECTION STARTED\")\n",
    "    comments[city] = [str(TextBlob(comment).correct()) for comment in comments[city]]\n",
    "    \n",
    "    print(f\"{city} COMMENTS {len(comments[city])} CORRECTED\")"
   ]
  },
  {
   "cell_type": "markdown",
   "metadata": {},
   "source": [
    "### 7. Tokenization"
   ]
  },
  {
   "cell_type": "code",
   "execution_count": 113,
   "metadata": {},
   "outputs": [
    {
     "data": {
      "text/plain": [
       "WordList(['hope', 'country', 'mid', 'know', 'pick', 'strong', 'krabi', 'weather', 'bangkok', 'well', 'general', 'closer', 'april', 'another', 'restaurants', 'strugged', 'massage', 'currents', '2016', 'best', 'inland', 'phuket', 'option', 'food', 'water', 'high', 'relaxation', 'could', 'japan', 'land', 'vibe', 'spa', 'phi', 'australia', 'oriented', 'temperatures', 'pool', 'cairns', 'use', 'beaches', 'asia', 'lots', 'helps', 'culture', 'amazing', 'cool', 'bit', 'remembering', 'barring', 'interesting', 'shopping', 'sure', 'temples', 'pretty', 'bondi', 'vegetarian', 'resorts'])"
      ]
     },
     "execution_count": 113,
     "metadata": {},
     "output_type": "execute_result"
    }
   ],
   "source": [
    "TextBlob(comments['bali'][1]).words"
   ]
  },
  {
   "cell_type": "markdown",
   "metadata": {},
   "source": [
    "### 8. Stemming"
   ]
  },
  {
   "cell_type": "code",
   "execution_count": 115,
   "metadata": {},
   "outputs": [
    {
     "name": "stdout",
     "output_type": "stream",
     "text": [
      "raja%ampat COMMENTS STEMMING STARTED\n",
      "raja%ampat COMMENTS 161 STEMMED\n",
      "tanjung%puting COMMENTS STEMMING STARTED\n",
      "tanjung%puting COMMENTS 10 STEMMED\n",
      "flores COMMENTS STEMMING STARTED\n",
      "flores COMMENTS 500 STEMMED\n",
      "toraja COMMENTS STEMMING STARTED\n",
      "toraja COMMENTS 68 STEMMED\n",
      "bukit%lawang COMMENTS STEMMING STARTED\n",
      "bukit%lawang COMMENTS 118 STEMMED\n",
      "bromo COMMENTS STEMMING STARTED\n",
      "bromo COMMENTS 360 STEMMED\n",
      "lombok COMMENTS STEMMING STARTED\n",
      "lombok COMMENTS 500 STEMMED\n",
      "komodo COMMENTS STEMMING STARTED\n",
      "komodo COMMENTS 500 STEMMED\n",
      "yogyakarta COMMENTS STEMMING STARTED\n",
      "yogyakarta COMMENTS 368 STEMMED\n",
      "bali COMMENTS STEMMING STARTED\n",
      "bali COMMENTS 500 STEMMED\n"
     ]
    }
   ],
   "source": [
    "st = PorterStemmer()\n",
    "for city in cities:\n",
    "    print(f\"{city} COMMENTS STEMMING STARTED\")\n",
    "    \n",
    "    comments[city] = [\" \".join([st.stem(word) for word in comment.split()]) for comment in comments[city]]\n",
    "    print(f\"{city} COMMENTS {len(comments[city])} STEMMED\")"
   ]
  },
  {
   "cell_type": "code",
   "execution_count": 116,
   "metadata": {},
   "outputs": [
    {
     "data": {
      "text/html": [
       "<div>\n",
       "<style>\n",
       "    .dataframe thead tr:only-child th {\n",
       "        text-align: right;\n",
       "    }\n",
       "\n",
       "    .dataframe thead th {\n",
       "        text-align: left;\n",
       "    }\n",
       "\n",
       "    .dataframe tbody tr th {\n",
       "        vertical-align: top;\n",
       "    }\n",
       "</style>\n",
       "<table border=\"1\" class=\"dataframe\">\n",
       "  <thead>\n",
       "    <tr style=\"text-align: right;\">\n",
       "      <th></th>\n",
       "      <th>comment</th>\n",
       "    </tr>\n",
       "  </thead>\n",
       "  <tbody>\n",
       "    <tr>\n",
       "      <th>0</th>\n",
       "      <td>mind typic think daughter well place tropic ta...</td>\n",
       "    </tr>\n",
       "    <tr>\n",
       "      <th>1</th>\n",
       "      <td>hope countri mid know pick strong krabi weathe...</td>\n",
       "    </tr>\n",
       "    <tr>\n",
       "      <th>2</th>\n",
       "      <td>altern practic limit age airbnb admit imposs d...</td>\n",
       "    </tr>\n",
       "    <tr>\n",
       "      <th>3</th>\n",
       "      <td>hindu monument homo buddhist snorkel wonder ki...</td>\n",
       "    </tr>\n",
       "    <tr>\n",
       "      <th>4</th>\n",
       "      <td>countri need probabl mayb comfortwis summer gi...</td>\n",
       "    </tr>\n",
       "  </tbody>\n",
       "</table>\n",
       "</div>"
      ],
      "text/plain": [
       "                                             comment\n",
       "0  mind typic think daughter well place tropic ta...\n",
       "1  hope countri mid know pick strong krabi weathe...\n",
       "2  altern practic limit age airbnb admit imposs d...\n",
       "3  hindu monument homo buddhist snorkel wonder ki...\n",
       "4  countri need probabl mayb comfortwis summer gi..."
      ]
     },
     "execution_count": 116,
     "metadata": {},
     "output_type": "execute_result"
    }
   ],
   "source": [
    "pd.DataFrame({\"comment\" : comments[city]}).head()"
   ]
  },
  {
   "cell_type": "markdown",
   "metadata": {},
   "source": [
    "## Aggregating the Sentiments"
   ]
  },
  {
   "cell_type": "code",
   "execution_count": 164,
   "metadata": {
    "collapsed": true
   },
   "outputs": [],
   "source": [
    "sentiments = {}\n",
    "sentiment_classes = {}\n",
    "\n",
    "for city in cities:\n",
    "    sentiments[city] = []\n",
    "    sentiment_classes[city] = []\n",
    "    \n",
    "    for comment in comments[city]:\n",
    "        textB = TextBlob(comment)\n",
    "\n",
    "        sentiment = textB.sentiment.polarity\n",
    "        sentiments[city].append(sentiment)\n",
    "\n",
    "        if sentiment < 0.00:\n",
    "            sentiment_classes[city].append('Negative')\n",
    "        elif sentiment > 0.00:\n",
    "            sentiment_classes[city].append('Positive')\n",
    "        else:\n",
    "            sentiment_classes[city].append('Neutral')"
   ]
  },
  {
   "cell_type": "code",
   "execution_count": 165,
   "metadata": {
    "collapsed": true
   },
   "outputs": [],
   "source": [
    "df = {}"
   ]
  },
  {
   "cell_type": "code",
   "execution_count": 166,
   "metadata": {
    "collapsed": true
   },
   "outputs": [],
   "source": [
    "for city in cities:\n",
    "    df[city] = pd.DataFrame({\"comment\": comments[city], \"sentiment\": sentiments[city], \"sentiment_class\": sentiment_classes[city]})"
   ]
  },
  {
   "cell_type": "code",
   "execution_count": 170,
   "metadata": {},
   "outputs": [
    {
     "data": {
      "text/plain": [
       "sentiment_class\n",
       "Negative     19\n",
       "Neutral      30\n",
       "Positive    112\n",
       "Name: sentiment_class, dtype: int64"
      ]
     },
     "execution_count": 170,
     "metadata": {},
     "output_type": "execute_result"
    }
   ],
   "source": [
    "df[city].groupby(['sentiment_class'])['sentiment_class'].count()"
   ]
  },
  {
   "cell_type": "code",
   "execution_count": 171,
   "metadata": {
    "collapsed": true
   },
   "outputs": [],
   "source": [
    "sentiment_types = {}\n",
    "sentiment_counts = {}\n",
    "charts = {}\n",
    "\n",
    "for city in cities:\n",
    "    sentiment = df[city].groupby(['sentiment_class'])['sentiment_class'].count()\n",
    "\n",
    "    sentiment_types[city] = sentiment.index\n",
    "    sentiment_counts[city] = sentiment.values\n",
    "    \n",
    "    charts[city] = pd.DataFrame({\"sentiment\": sentiment_types[city], \"count\": sentiment_counts[city]})[[\"sentiment\", \"count\"]]\n",
    "    charts[city][\"percentage\"] = charts[city][\"count\"] / charts[city][\"count\"].sum()"
   ]
  },
  {
   "cell_type": "code",
   "execution_count": 178,
   "metadata": {},
   "outputs": [
    {
     "data": {
      "text/html": [
       "<div>\n",
       "<style>\n",
       "    .dataframe thead tr:only-child th {\n",
       "        text-align: right;\n",
       "    }\n",
       "\n",
       "    .dataframe thead th {\n",
       "        text-align: left;\n",
       "    }\n",
       "\n",
       "    .dataframe tbody tr th {\n",
       "        vertical-align: top;\n",
       "    }\n",
       "</style>\n",
       "<table border=\"1\" class=\"dataframe\">\n",
       "  <thead>\n",
       "    <tr style=\"text-align: right;\">\n",
       "      <th></th>\n",
       "      <th>sentiment</th>\n",
       "      <th>count</th>\n",
       "      <th>percentage</th>\n",
       "    </tr>\n",
       "  </thead>\n",
       "  <tbody>\n",
       "    <tr>\n",
       "      <th>0</th>\n",
       "      <td>Negative</td>\n",
       "      <td>79</td>\n",
       "      <td>0.158</td>\n",
       "    </tr>\n",
       "    <tr>\n",
       "      <th>1</th>\n",
       "      <td>Neutral</td>\n",
       "      <td>106</td>\n",
       "      <td>0.212</td>\n",
       "    </tr>\n",
       "    <tr>\n",
       "      <th>2</th>\n",
       "      <td>Positive</td>\n",
       "      <td>315</td>\n",
       "      <td>0.630</td>\n",
       "    </tr>\n",
       "  </tbody>\n",
       "</table>\n",
       "</div>"
      ],
      "text/plain": [
       "  sentiment  count  percentage\n",
       "0  Negative     79       0.158\n",
       "1   Neutral    106       0.212\n",
       "2  Positive    315       0.630"
      ]
     },
     "execution_count": 178,
     "metadata": {},
     "output_type": "execute_result"
    }
   ],
   "source": [
    "charts['bali']"
   ]
  },
  {
   "cell_type": "code",
   "execution_count": 179,
   "metadata": {},
   "outputs": [
    {
     "data": {
      "text/html": [
       "<div>\n",
       "<style>\n",
       "    .dataframe thead tr:only-child th {\n",
       "        text-align: right;\n",
       "    }\n",
       "\n",
       "    .dataframe thead th {\n",
       "        text-align: left;\n",
       "    }\n",
       "\n",
       "    .dataframe tbody tr th {\n",
       "        vertical-align: top;\n",
       "    }\n",
       "</style>\n",
       "<table border=\"1\" class=\"dataframe\">\n",
       "  <thead>\n",
       "    <tr style=\"text-align: right;\">\n",
       "      <th></th>\n",
       "      <th>sentiment</th>\n",
       "      <th>count</th>\n",
       "      <th>percentage</th>\n",
       "    </tr>\n",
       "  </thead>\n",
       "  <tbody>\n",
       "    <tr>\n",
       "      <th>0</th>\n",
       "      <td>Negative</td>\n",
       "      <td>19</td>\n",
       "      <td>0.118012</td>\n",
       "    </tr>\n",
       "    <tr>\n",
       "      <th>1</th>\n",
       "      <td>Neutral</td>\n",
       "      <td>30</td>\n",
       "      <td>0.186335</td>\n",
       "    </tr>\n",
       "    <tr>\n",
       "      <th>2</th>\n",
       "      <td>Positive</td>\n",
       "      <td>112</td>\n",
       "      <td>0.695652</td>\n",
       "    </tr>\n",
       "  </tbody>\n",
       "</table>\n",
       "</div>"
      ],
      "text/plain": [
       "  sentiment  count  percentage\n",
       "0  Negative     19    0.118012\n",
       "1   Neutral     30    0.186335\n",
       "2  Positive    112    0.695652"
      ]
     },
     "execution_count": 179,
     "metadata": {},
     "output_type": "execute_result"
    }
   ],
   "source": [
    "charts['raja%ampat']"
   ]
  },
  {
   "cell_type": "code",
   "execution_count": 183,
   "metadata": {},
   "outputs": [
    {
     "data": {
      "image/png": "[encoded data removed]",
      "text/plain": [
       "<matplotlib.figure.Figure at 0x12efbd68>"
      ]
     },
     "metadata": {},
     "output_type": "display_data"
    }
   ],
   "source": [
    "fig, axes = plt.subplots(round(len(cities) / 3), 3, figsize=(20, 20))\n",
    "\n",
    "for i, ax in enumerate(fig.axes):\n",
    "    if i < len(cities):\n",
    "        sns.barplot(x='sentiment', y='percentage', data=charts[cities[i]], ax=ax)\n",
    "        ax.set_title(cities[i].replace(\"%\", \" \").upper()) "
   ]
  }
 ],
 "metadata": {
  "kernelspec": {
   "display_name": "Python 3",
   "language": "python",
   "name": "python3"
  },
  "language_info": {
   "codemirror_mode": {
    "name": "ipython",
    "version": 3
   },
   "file_extension": ".py",
   "mimetype": "text/x-python",
   "name": "python",
   "nbconvert_exporter": "python",
   "pygments_lexer": "ipython3",
   "version": "3.6.3"
  }
 },
 "nbformat": 4,
 "nbformat_minor": 2
}
