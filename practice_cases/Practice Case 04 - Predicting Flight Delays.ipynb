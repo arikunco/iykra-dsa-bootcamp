{
 "cells": [
  {
   "cell_type": "markdown",
   "metadata": {},
   "source": [
    "<style>\n",
    "    .zero-margin {\n",
    "        margin: 0 px;\n",
    "     }\n",
    "</style>\n",
    "\n",
    "<div class=\"zero-margin\" style=\"text-align: center;\">\n",
    "    <p style=\"text-align: center; font-size: 20px; margin-bottom: 10px;\">Practice Case 04<p>\n",
    "    <p style=\"text-align: center; font-size: 40px; margin: 0px; font-weight: bold;text-transform: uppercase;\">Machine Learning</p><br/>\n",
    "    <p  style=\"text-align: center; margin-bottom: 0px;\">Monday, November 4th 2019</p>\n",
    "     <p  style=\"text-align: center; margin-top: 0px;\">M. Haries Ramdhani</p>\n",
    "</div>"
   ]
  },
  {
   "cell_type": "markdown",
   "metadata": {},
   "source": [
    "# Data Preparation"
   ]
  },
  {
   "cell_type": "code",
   "execution_count": 1,
   "metadata": {
    "collapsed": true
   },
   "outputs": [],
   "source": [
    "import pandas as pd\n",
    "import numpy as np\n",
    "import seaborn as sns\n",
    "import matplotlib.pyplot as plt\n",
    "\n",
    "from collections import OrderedDict\n",
    "from matplotlib.gridspec import GridSpec\n",
    "from sklearn import metrics, linear_model\n",
    "from sklearn.preprocessing import PolynomialFeatures, StandardScaler\n",
    "from sklearn.preprocessing import LabelEncoder, OneHotEncoder\n",
    "from sklearn.model_selection import train_test_split, cross_val_score, cross_val_predict\n",
    "from scipy.optimize import curve_fit\n",
    "\n",
    "pd.options.display.max_columns = 100\n",
    "import warnings\n",
    "warnings.filterwarnings(\"ignore\")"
   ]
  },
  {
   "cell_type": "code",
   "execution_count": 2,
   "metadata": {
    "collapsed": true
   },
   "outputs": [],
   "source": [
    "from bs4 import BeautifulSoup as bs\n",
    "import requests\n",
    "import re\n",
    "import time"
   ]
  },
  {
   "cell_type": "code",
   "execution_count": 3,
   "metadata": {
    "collapsed": true
   },
   "outputs": [],
   "source": [
    "df = pd.read_csv(\"../data/flight/training_dataset.csv\")\n",
    "df_test = pd.read_csv(\"../data/flight/test_dataset.csv\")"
   ]
  },
  {
   "cell_type": "code",
   "execution_count": 4,
   "metadata": {
    "collapsed": true
   },
   "outputs": [],
   "source": [
    "# Flag the test and train data so it can be easily distinguished in the future\n",
    "df_test[\"flag_test\"] = 1\n",
    "df[\"flag_test\"] = 0"
   ]
  },
  {
   "cell_type": "code",
   "execution_count": 5,
   "metadata": {
    "collapsed": true
   },
   "outputs": [],
   "source": [
    "df = df.append(df_test)"
   ]
  },
  {
   "cell_type": "code",
   "execution_count": 6,
   "metadata": {},
   "outputs": [
    {
     "data": {
      "text/html": [
       "<div>\n",
       "<style scoped>\n",
       "    .dataframe tbody tr th:only-of-type {\n",
       "        vertical-align: middle;\n",
       "    }\n",
       "\n",
       "    .dataframe tbody tr th {\n",
       "        vertical-align: top;\n",
       "    }\n",
       "\n",
       "    .dataframe thead th {\n",
       "        text-align: right;\n",
       "    }\n",
       "</style>\n",
       "<table border=\"1\" class=\"dataframe\">\n",
       "  <thead>\n",
       "    <tr style=\"text-align: right;\">\n",
       "      <th></th>\n",
       "      <th>id</th>\n",
       "      <th>number</th>\n",
       "      <th>airline</th>\n",
       "      <th>airline_name</th>\n",
       "      <th>scheduled_departure_time</th>\n",
       "      <th>scheduled_arrival_time</th>\n",
       "      <th>departure_airport_city</th>\n",
       "      <th>departure_airport_code</th>\n",
       "      <th>departure_airport_country</th>\n",
       "      <th>departure_airport_gate</th>\n",
       "      <th>departure_airport_name</th>\n",
       "      <th>departure_airport_region</th>\n",
       "      <th>departure_airport_terminal</th>\n",
       "      <th>departure_airport_timezone</th>\n",
       "      <th>arrival_airport_city</th>\n",
       "      <th>arrival_airport_code</th>\n",
       "      <th>arrival_airport_country</th>\n",
       "      <th>arrival_airport_gate</th>\n",
       "      <th>arrival_airport_name</th>\n",
       "      <th>arrival_airport_region</th>\n",
       "      <th>arrival_airport_terminal</th>\n",
       "      <th>arrival_airport_timezone</th>\n",
       "      <th>flight_equipment_iata</th>\n",
       "      <th>flight_equipment_name</th>\n",
       "      <th>flight_duration</th>\n",
       "      <th>delay</th>\n",
       "      <th>flag_test</th>\n",
       "    </tr>\n",
       "  </thead>\n",
       "  <tbody>\n",
       "    <tr>\n",
       "      <th>0</th>\n",
       "      <td>1</td>\n",
       "      <td>AK6430</td>\n",
       "      <td>AK</td>\n",
       "      <td>AirAsia</td>\n",
       "      <td>2018-10-05 22:00:00</td>\n",
       "      <td>2018-10-05 23:05:00</td>\n",
       "      <td>Kuala Lumpur</td>\n",
       "      <td>KUL</td>\n",
       "      <td>MY</td>\n",
       "      <td>J15</td>\n",
       "      <td>Kuala Lumpur International Airport</td>\n",
       "      <td>Asia</td>\n",
       "      <td>2</td>\n",
       "      <td>Asia/Kuala_Lumpur</td>\n",
       "      <td>Kota Bharu</td>\n",
       "      <td>KBR</td>\n",
       "      <td>MY</td>\n",
       "      <td>2</td>\n",
       "      <td>Sultan Ismail Petra Airport</td>\n",
       "      <td>Asia</td>\n",
       "      <td>NaN</td>\n",
       "      <td>Asia/Kuala_Lumpur</td>\n",
       "      <td>32S</td>\n",
       "      <td>Airbus A318 / A319 / A320 / A321</td>\n",
       "      <td>58m</td>\n",
       "      <td>2</td>\n",
       "      <td>0</td>\n",
       "    </tr>\n",
       "    <tr>\n",
       "      <th>1</th>\n",
       "      <td>2</td>\n",
       "      <td>ID*7164</td>\n",
       "      <td>ID*</td>\n",
       "      <td>Batik Air</td>\n",
       "      <td>2018-10-05 22:00:00</td>\n",
       "      <td>2018-10-05 23:55:00</td>\n",
       "      <td>Kuala Lumpur</td>\n",
       "      <td>KUL</td>\n",
       "      <td>MY</td>\n",
       "      <td>C33</td>\n",
       "      <td>Kuala Lumpur International Airport</td>\n",
       "      <td>Asia</td>\n",
       "      <td>M</td>\n",
       "      <td>Asia/Kuala_Lumpur</td>\n",
       "      <td>Jakarta</td>\n",
       "      <td>CGK</td>\n",
       "      <td>ID</td>\n",
       "      <td>5</td>\n",
       "      <td>Soekarno-Hatta International Airport</td>\n",
       "      <td>Asia</td>\n",
       "      <td>2</td>\n",
       "      <td>Asia/Jakarta</td>\n",
       "      <td>32S</td>\n",
       "      <td>Airbus A318 / A319 / A320 / A321</td>\n",
       "      <td>1h 55m</td>\n",
       "      <td>8</td>\n",
       "      <td>0</td>\n",
       "    </tr>\n",
       "    <tr>\n",
       "      <th>2</th>\n",
       "      <td>3</td>\n",
       "      <td>MXD9116</td>\n",
       "      <td>MXD</td>\n",
       "      <td>Malindo Air</td>\n",
       "      <td>2018-10-05 22:00:00</td>\n",
       "      <td>2018-10-05 23:55:00</td>\n",
       "      <td>Kuala Lumpur</td>\n",
       "      <td>KUL</td>\n",
       "      <td>MY</td>\n",
       "      <td>C33</td>\n",
       "      <td>Kuala Lumpur International Airport</td>\n",
       "      <td>Asia</td>\n",
       "      <td>M</td>\n",
       "      <td>Asia/Kuala_Lumpur</td>\n",
       "      <td>Jakarta</td>\n",
       "      <td>CGK</td>\n",
       "      <td>ID</td>\n",
       "      <td>5</td>\n",
       "      <td>Soekarno-Hatta International Airport</td>\n",
       "      <td>Asia</td>\n",
       "      <td>2</td>\n",
       "      <td>Asia/Jakarta</td>\n",
       "      <td>32S</td>\n",
       "      <td>Airbus A318 / A319 / A320 / A321</td>\n",
       "      <td>1h 55m</td>\n",
       "      <td>8</td>\n",
       "      <td>0</td>\n",
       "    </tr>\n",
       "    <tr>\n",
       "      <th>3</th>\n",
       "      <td>4</td>\n",
       "      <td>AK5198</td>\n",
       "      <td>AK</td>\n",
       "      <td>AirAsia</td>\n",
       "      <td>2018-10-05 22:05:00</td>\n",
       "      <td>2018-10-06 01:00:00</td>\n",
       "      <td>Kuala Lumpur</td>\n",
       "      <td>KUL</td>\n",
       "      <td>MY</td>\n",
       "      <td>J9</td>\n",
       "      <td>Kuala Lumpur International Airport</td>\n",
       "      <td>Asia</td>\n",
       "      <td>2</td>\n",
       "      <td>Asia/Kuala_Lumpur</td>\n",
       "      <td>Sandakan</td>\n",
       "      <td>SDK</td>\n",
       "      <td>MY</td>\n",
       "      <td>INT</td>\n",
       "      <td>Sandakan Airport</td>\n",
       "      <td>Asia</td>\n",
       "      <td>NaN</td>\n",
       "      <td>Asia/Kuala_Lumpur</td>\n",
       "      <td>32S</td>\n",
       "      <td>Airbus A318 / A319 / A320 / A321</td>\n",
       "      <td>2h 54m</td>\n",
       "      <td>0</td>\n",
       "      <td>0</td>\n",
       "    </tr>\n",
       "    <tr>\n",
       "      <th>4</th>\n",
       "      <td>5</td>\n",
       "      <td>AK516</td>\n",
       "      <td>AK</td>\n",
       "      <td>AirAsia</td>\n",
       "      <td>2018-10-05 22:10:00</td>\n",
       "      <td>2018-10-06 01:25:00</td>\n",
       "      <td>Kuala Lumpur</td>\n",
       "      <td>KUL</td>\n",
       "      <td>MY</td>\n",
       "      <td>P1</td>\n",
       "      <td>Kuala Lumpur International Airport</td>\n",
       "      <td>Asia</td>\n",
       "      <td>2</td>\n",
       "      <td>Asia/Kuala_Lumpur</td>\n",
       "      <td>Hanoi</td>\n",
       "      <td>HAN</td>\n",
       "      <td>VN</td>\n",
       "      <td>NaN</td>\n",
       "      <td>Noi Bai International Airport</td>\n",
       "      <td>Asia</td>\n",
       "      <td>T2</td>\n",
       "      <td>Asia/Ho_Chi_Minh</td>\n",
       "      <td>32S</td>\n",
       "      <td>Airbus A318 / A319 / A320 / A321</td>\n",
       "      <td>3h 17m</td>\n",
       "      <td>0</td>\n",
       "      <td>0</td>\n",
       "    </tr>\n",
       "  </tbody>\n",
       "</table>\n",
       "</div>"
      ],
      "text/plain": [
       "   id   number airline airline_name scheduled_departure_time  \\\n",
       "0   1   AK6430      AK      AirAsia      2018-10-05 22:00:00   \n",
       "1   2  ID*7164     ID*    Batik Air      2018-10-05 22:00:00   \n",
       "2   3  MXD9116     MXD  Malindo Air      2018-10-05 22:00:00   \n",
       "3   4   AK5198      AK      AirAsia      2018-10-05 22:05:00   \n",
       "4   5    AK516      AK      AirAsia      2018-10-05 22:10:00   \n",
       "\n",
       "  scheduled_arrival_time departure_airport_city departure_airport_code  \\\n",
       "0    2018-10-05 23:05:00           Kuala Lumpur                    KUL   \n",
       "1    2018-10-05 23:55:00           Kuala Lumpur                    KUL   \n",
       "2    2018-10-05 23:55:00           Kuala Lumpur                    KUL   \n",
       "3    2018-10-06 01:00:00           Kuala Lumpur                    KUL   \n",
       "4    2018-10-06 01:25:00           Kuala Lumpur                    KUL   \n",
       "\n",
       "  departure_airport_country departure_airport_gate  \\\n",
       "0                        MY                    J15   \n",
       "1                        MY                    C33   \n",
       "2                        MY                    C33   \n",
       "3                        MY                     J9   \n",
       "4                        MY                     P1   \n",
       "\n",
       "               departure_airport_name departure_airport_region  \\\n",
       "0  Kuala Lumpur International Airport                     Asia   \n",
       "1  Kuala Lumpur International Airport                     Asia   \n",
       "2  Kuala Lumpur International Airport                     Asia   \n",
       "3  Kuala Lumpur International Airport                     Asia   \n",
       "4  Kuala Lumpur International Airport                     Asia   \n",
       "\n",
       "  departure_airport_terminal departure_airport_timezone arrival_airport_city  \\\n",
       "0                          2          Asia/Kuala_Lumpur           Kota Bharu   \n",
       "1                          M          Asia/Kuala_Lumpur              Jakarta   \n",
       "2                          M          Asia/Kuala_Lumpur              Jakarta   \n",
       "3                          2          Asia/Kuala_Lumpur             Sandakan   \n",
       "4                          2          Asia/Kuala_Lumpur                Hanoi   \n",
       "\n",
       "  arrival_airport_code arrival_airport_country arrival_airport_gate  \\\n",
       "0                  KBR                      MY                    2   \n",
       "1                  CGK                      ID                    5   \n",
       "2                  CGK                      ID                    5   \n",
       "3                  SDK                      MY                  INT   \n",
       "4                  HAN                      VN                  NaN   \n",
       "\n",
       "                   arrival_airport_name arrival_airport_region  \\\n",
       "0           Sultan Ismail Petra Airport                   Asia   \n",
       "1  Soekarno-Hatta International Airport                   Asia   \n",
       "2  Soekarno-Hatta International Airport                   Asia   \n",
       "3                      Sandakan Airport                   Asia   \n",
       "4         Noi Bai International Airport                   Asia   \n",
       "\n",
       "  arrival_airport_terminal arrival_airport_timezone flight_equipment_iata  \\\n",
       "0                      NaN        Asia/Kuala_Lumpur                   32S   \n",
       "1                        2             Asia/Jakarta                   32S   \n",
       "2                        2             Asia/Jakarta                   32S   \n",
       "3                      NaN        Asia/Kuala_Lumpur                   32S   \n",
       "4                       T2         Asia/Ho_Chi_Minh                   32S   \n",
       "\n",
       "              flight_equipment_name flight_duration  delay  flag_test  \n",
       "0  Airbus A318 / A319 / A320 / A321             58m      2          0  \n",
       "1  Airbus A318 / A319 / A320 / A321          1h 55m      8          0  \n",
       "2  Airbus A318 / A319 / A320 / A321          1h 55m      8          0  \n",
       "3  Airbus A318 / A319 / A320 / A321          2h 54m      0          0  \n",
       "4  Airbus A318 / A319 / A320 / A321          3h 17m      0          0  "
      ]
     },
     "execution_count": 6,
     "metadata": {},
     "output_type": "execute_result"
    }
   ],
   "source": [
    "# Preview of the data frame\n",
    "df.head()"
   ]
  },
  {
   "cell_type": "code",
   "execution_count": 7,
   "metadata": {
    "scrolled": false
   },
   "outputs": [
    {
     "data": {
      "text/html": [
       "<div>\n",
       "<style scoped>\n",
       "    .dataframe tbody tr th:only-of-type {\n",
       "        vertical-align: middle;\n",
       "    }\n",
       "\n",
       "    .dataframe tbody tr th {\n",
       "        vertical-align: top;\n",
       "    }\n",
       "\n",
       "    .dataframe thead th {\n",
       "        text-align: right;\n",
       "    }\n",
       "</style>\n",
       "<table border=\"1\" class=\"dataframe\">\n",
       "  <thead>\n",
       "    <tr style=\"text-align: right;\">\n",
       "      <th></th>\n",
       "      <th>data_type</th>\n",
       "      <th>#_unique</th>\n",
       "      <th>#_nan</th>\n",
       "      <th>%_nan</th>\n",
       "    </tr>\n",
       "  </thead>\n",
       "  <tbody>\n",
       "    <tr>\n",
       "      <th>id</th>\n",
       "      <td>int64</td>\n",
       "      <td>152625</td>\n",
       "      <td>0</td>\n",
       "      <td>0.000000</td>\n",
       "    </tr>\n",
       "    <tr>\n",
       "      <th>scheduled_arrival_time</th>\n",
       "      <td>object</td>\n",
       "      <td>19159</td>\n",
       "      <td>7</td>\n",
       "      <td>0.004586</td>\n",
       "    </tr>\n",
       "    <tr>\n",
       "      <th>scheduled_departure_time</th>\n",
       "      <td>object</td>\n",
       "      <td>17499</td>\n",
       "      <td>0</td>\n",
       "      <td>0.000000</td>\n",
       "    </tr>\n",
       "    <tr>\n",
       "      <th>number</th>\n",
       "      <td>object</td>\n",
       "      <td>2590</td>\n",
       "      <td>0</td>\n",
       "      <td>0.000000</td>\n",
       "    </tr>\n",
       "    <tr>\n",
       "      <th>flight_duration</th>\n",
       "      <td>object</td>\n",
       "      <td>723</td>\n",
       "      <td>5</td>\n",
       "      <td>0.003276</td>\n",
       "    </tr>\n",
       "    <tr>\n",
       "      <th>delay</th>\n",
       "      <td>int64</td>\n",
       "      <td>379</td>\n",
       "      <td>0</td>\n",
       "      <td>0.000000</td>\n",
       "    </tr>\n",
       "    <tr>\n",
       "      <th>arrival_airport_gate</th>\n",
       "      <td>object</td>\n",
       "      <td>284</td>\n",
       "      <td>137275</td>\n",
       "      <td>89.942670</td>\n",
       "    </tr>\n",
       "    <tr>\n",
       "      <th>departure_airport_gate</th>\n",
       "      <td>object</td>\n",
       "      <td>189</td>\n",
       "      <td>60619</td>\n",
       "      <td>39.717609</td>\n",
       "    </tr>\n",
       "    <tr>\n",
       "      <th>arrival_airport_name</th>\n",
       "      <td>object</td>\n",
       "      <td>157</td>\n",
       "      <td>0</td>\n",
       "      <td>0.000000</td>\n",
       "    </tr>\n",
       "    <tr>\n",
       "      <th>arrival_airport_code</th>\n",
       "      <td>object</td>\n",
       "      <td>157</td>\n",
       "      <td>0</td>\n",
       "      <td>0.000000</td>\n",
       "    </tr>\n",
       "    <tr>\n",
       "      <th>arrival_airport_city</th>\n",
       "      <td>object</td>\n",
       "      <td>152</td>\n",
       "      <td>0</td>\n",
       "      <td>0.000000</td>\n",
       "    </tr>\n",
       "    <tr>\n",
       "      <th>airline</th>\n",
       "      <td>object</td>\n",
       "      <td>105</td>\n",
       "      <td>0</td>\n",
       "      <td>0.000000</td>\n",
       "    </tr>\n",
       "    <tr>\n",
       "      <th>airline_name</th>\n",
       "      <td>object</td>\n",
       "      <td>105</td>\n",
       "      <td>0</td>\n",
       "      <td>0.000000</td>\n",
       "    </tr>\n",
       "    <tr>\n",
       "      <th>flight_equipment_name</th>\n",
       "      <td>object</td>\n",
       "      <td>49</td>\n",
       "      <td>22</td>\n",
       "      <td>0.014414</td>\n",
       "    </tr>\n",
       "    <tr>\n",
       "      <th>flight_equipment_iata</th>\n",
       "      <td>object</td>\n",
       "      <td>49</td>\n",
       "      <td>22</td>\n",
       "      <td>0.014414</td>\n",
       "    </tr>\n",
       "    <tr>\n",
       "      <th>arrival_airport_timezone</th>\n",
       "      <td>object</td>\n",
       "      <td>43</td>\n",
       "      <td>0</td>\n",
       "      <td>0.000000</td>\n",
       "    </tr>\n",
       "    <tr>\n",
       "      <th>arrival_airport_country</th>\n",
       "      <td>object</td>\n",
       "      <td>39</td>\n",
       "      <td>0</td>\n",
       "      <td>0.000000</td>\n",
       "    </tr>\n",
       "    <tr>\n",
       "      <th>departure_airport_name</th>\n",
       "      <td>object</td>\n",
       "      <td>17</td>\n",
       "      <td>0</td>\n",
       "      <td>0.000000</td>\n",
       "    </tr>\n",
       "    <tr>\n",
       "      <th>departure_airport_code</th>\n",
       "      <td>object</td>\n",
       "      <td>17</td>\n",
       "      <td>0</td>\n",
       "      <td>0.000000</td>\n",
       "    </tr>\n",
       "    <tr>\n",
       "      <th>arrival_airport_terminal</th>\n",
       "      <td>object</td>\n",
       "      <td>17</td>\n",
       "      <td>79410</td>\n",
       "      <td>52.029484</td>\n",
       "    </tr>\n",
       "    <tr>\n",
       "      <th>departure_airport_city</th>\n",
       "      <td>object</td>\n",
       "      <td>16</td>\n",
       "      <td>0</td>\n",
       "      <td>0.000000</td>\n",
       "    </tr>\n",
       "    <tr>\n",
       "      <th>departure_airport_terminal</th>\n",
       "      <td>object</td>\n",
       "      <td>6</td>\n",
       "      <td>56588</td>\n",
       "      <td>37.076495</td>\n",
       "    </tr>\n",
       "    <tr>\n",
       "      <th>arrival_airport_region</th>\n",
       "      <td>object</td>\n",
       "      <td>4</td>\n",
       "      <td>0</td>\n",
       "      <td>0.000000</td>\n",
       "    </tr>\n",
       "    <tr>\n",
       "      <th>flag_test</th>\n",
       "      <td>int64</td>\n",
       "      <td>2</td>\n",
       "      <td>0</td>\n",
       "      <td>0.000000</td>\n",
       "    </tr>\n",
       "    <tr>\n",
       "      <th>departure_airport_region</th>\n",
       "      <td>object</td>\n",
       "      <td>1</td>\n",
       "      <td>0</td>\n",
       "      <td>0.000000</td>\n",
       "    </tr>\n",
       "    <tr>\n",
       "      <th>departure_airport_country</th>\n",
       "      <td>object</td>\n",
       "      <td>1</td>\n",
       "      <td>0</td>\n",
       "      <td>0.000000</td>\n",
       "    </tr>\n",
       "    <tr>\n",
       "      <th>departure_airport_timezone</th>\n",
       "      <td>object</td>\n",
       "      <td>1</td>\n",
       "      <td>0</td>\n",
       "      <td>0.000000</td>\n",
       "    </tr>\n",
       "  </tbody>\n",
       "</table>\n",
       "</div>"
      ],
      "text/plain": [
       "                           data_type  #_unique   #_nan      %_nan\n",
       "id                             int64    152625       0   0.000000\n",
       "scheduled_arrival_time        object     19159       7   0.004586\n",
       "scheduled_departure_time      object     17499       0   0.000000\n",
       "number                        object      2590       0   0.000000\n",
       "flight_duration               object       723       5   0.003276\n",
       "delay                          int64       379       0   0.000000\n",
       "arrival_airport_gate          object       284  137275  89.942670\n",
       "departure_airport_gate        object       189   60619  39.717609\n",
       "arrival_airport_name          object       157       0   0.000000\n",
       "arrival_airport_code          object       157       0   0.000000\n",
       "arrival_airport_city          object       152       0   0.000000\n",
       "airline                       object       105       0   0.000000\n",
       "airline_name                  object       105       0   0.000000\n",
       "flight_equipment_name         object        49      22   0.014414\n",
       "flight_equipment_iata         object        49      22   0.014414\n",
       "arrival_airport_timezone      object        43       0   0.000000\n",
       "arrival_airport_country       object        39       0   0.000000\n",
       "departure_airport_name        object        17       0   0.000000\n",
       "departure_airport_code        object        17       0   0.000000\n",
       "arrival_airport_terminal      object        17   79410  52.029484\n",
       "departure_airport_city        object        16       0   0.000000\n",
       "departure_airport_terminal    object         6   56588  37.076495\n",
       "arrival_airport_region        object         4       0   0.000000\n",
       "flag_test                      int64         2       0   0.000000\n",
       "departure_airport_region      object         1       0   0.000000\n",
       "departure_airport_country     object         1       0   0.000000\n",
       "departure_airport_timezone    object         1       0   0.000000"
      ]
     },
     "execution_count": 7,
     "metadata": {},
     "output_type": "execute_result"
    }
   ],
   "source": [
    "# gives some infos on columns types and number of null values\n",
    "df_info = pd.DataFrame(df.dtypes).rename(columns={0:'data_type'})\n",
    "df_info[\"#_unique\"] = df.nunique()\n",
    "df_info[\"#_nan\"] = df.isnull().sum().astype(int)\n",
    "df_info[\"%_nan\"] = df.isnull().sum()/df.shape[0]*100\n",
    "\n",
    "df_info.sort_values(by=\"#_unique\", ascending=False)"
   ]
  },
  {
   "cell_type": "markdown",
   "metadata": {},
   "source": [
    "Looking at the DataFrame above we got these insights:\n",
    "1. `scheduled_arrival_time` and `scheduled_departure_time` have to be converted into time format\n",
    "2. `arrival_airport_gate`, `arrival_airport_terminal`, `departure_airport_gate`, `departure_airport_terminal` contain the most missing values, this can be caused by the fact that the passengers aren't tracked based on the gates and terminals. Percentages of their missing values are very high (would be nice if it can be dropped).\n",
    "3. `flight_duration` is still in the object (string) type. It needs to be converted to `int`, in this case to minutes\n",
    "4. `departure_airport_region`, `departure_airport_country` and `departure_airport_timezone` only contain 1 unique value, so we can safely drop them\n",
    "5. We can also scrape the flight distance data from another website to get the distance between the two airports"
   ]
  },
  {
   "cell_type": "markdown",
   "metadata": {},
   "source": [
    "## Feature Engineering"
   ]
  },
  {
   "cell_type": "markdown",
   "metadata": {},
   "source": [
    "### Get Scheduled Flight Duration\n",
    "Get the scheduled flight duration from the ticket. This is calculated by substracting the `scheduled_arrival_date` and `scheduled_departure_date`<br/><br/> \n",
    "**ASSUMPTION**: `scheduled_flight_duration` might have something to do with the delay because it can be used to calculate the velocity of the airplane by dividing the `distance` with the `scheduled_flight_duration`, the slower the velocity of the airplane compared to the normal ones may cause the flight come later than its supposed to.\n"
   ]
  },
  {
   "cell_type": "markdown",
   "metadata": {},
   "source": [
    "#### Convert the time data to time objects"
   ]
  },
  {
   "cell_type": "code",
   "execution_count": 8,
   "metadata": {
    "collapsed": true
   },
   "outputs": [],
   "source": [
    "df[\"scheduled_departure_time\"] = pd.to_datetime(df[\"scheduled_departure_time\"]) \n",
    "df[\"scheduled_arrival_time\"] = pd.to_datetime(df[\"scheduled_arrival_time\"])"
   ]
  },
  {
   "cell_type": "code",
   "execution_count": 9,
   "metadata": {
    "collapsed": true
   },
   "outputs": [],
   "source": [
    "df[\"scheduled_flight_duration\"] = df[\"scheduled_arrival_time\"] - df[\"scheduled_departure_time\"]\n",
    "df[\"scheduled_flight_duration\"] = df[\"scheduled_flight_duration\"].dt.components['hours'] * 60 + df[\"scheduled_flight_duration\"].dt.components['minutes']"
   ]
  },
  {
   "cell_type": "code",
   "execution_count": 10,
   "metadata": {},
   "outputs": [
    {
     "data": {
      "text/html": [
       "<div>\n",
       "<style scoped>\n",
       "    .dataframe tbody tr th:only-of-type {\n",
       "        vertical-align: middle;\n",
       "    }\n",
       "\n",
       "    .dataframe tbody tr th {\n",
       "        vertical-align: top;\n",
       "    }\n",
       "\n",
       "    .dataframe thead th {\n",
       "        text-align: right;\n",
       "    }\n",
       "</style>\n",
       "<table border=\"1\" class=\"dataframe\">\n",
       "  <thead>\n",
       "    <tr style=\"text-align: right;\">\n",
       "      <th></th>\n",
       "      <th>id</th>\n",
       "      <th>number</th>\n",
       "      <th>airline</th>\n",
       "      <th>airline_name</th>\n",
       "      <th>scheduled_departure_time</th>\n",
       "      <th>scheduled_arrival_time</th>\n",
       "      <th>departure_airport_city</th>\n",
       "      <th>departure_airport_code</th>\n",
       "      <th>departure_airport_country</th>\n",
       "      <th>departure_airport_gate</th>\n",
       "      <th>departure_airport_name</th>\n",
       "      <th>departure_airport_region</th>\n",
       "      <th>departure_airport_terminal</th>\n",
       "      <th>departure_airport_timezone</th>\n",
       "      <th>arrival_airport_city</th>\n",
       "      <th>arrival_airport_code</th>\n",
       "      <th>arrival_airport_country</th>\n",
       "      <th>arrival_airport_gate</th>\n",
       "      <th>arrival_airport_name</th>\n",
       "      <th>arrival_airport_region</th>\n",
       "      <th>arrival_airport_terminal</th>\n",
       "      <th>arrival_airport_timezone</th>\n",
       "      <th>flight_equipment_iata</th>\n",
       "      <th>flight_equipment_name</th>\n",
       "      <th>flight_duration</th>\n",
       "      <th>delay</th>\n",
       "      <th>flag_test</th>\n",
       "      <th>scheduled_flight_duration</th>\n",
       "    </tr>\n",
       "  </thead>\n",
       "  <tbody>\n",
       "    <tr>\n",
       "      <th>0</th>\n",
       "      <td>1</td>\n",
       "      <td>AK6430</td>\n",
       "      <td>AK</td>\n",
       "      <td>AirAsia</td>\n",
       "      <td>2018-10-05 22:00:00</td>\n",
       "      <td>2018-10-05 23:05:00</td>\n",
       "      <td>Kuala Lumpur</td>\n",
       "      <td>KUL</td>\n",
       "      <td>MY</td>\n",
       "      <td>J15</td>\n",
       "      <td>Kuala Lumpur International Airport</td>\n",
       "      <td>Asia</td>\n",
       "      <td>2</td>\n",
       "      <td>Asia/Kuala_Lumpur</td>\n",
       "      <td>Kota Bharu</td>\n",
       "      <td>KBR</td>\n",
       "      <td>MY</td>\n",
       "      <td>2</td>\n",
       "      <td>Sultan Ismail Petra Airport</td>\n",
       "      <td>Asia</td>\n",
       "      <td>NaN</td>\n",
       "      <td>Asia/Kuala_Lumpur</td>\n",
       "      <td>32S</td>\n",
       "      <td>Airbus A318 / A319 / A320 / A321</td>\n",
       "      <td>58m</td>\n",
       "      <td>2</td>\n",
       "      <td>0</td>\n",
       "      <td>65.0</td>\n",
       "    </tr>\n",
       "    <tr>\n",
       "      <th>1</th>\n",
       "      <td>2</td>\n",
       "      <td>ID*7164</td>\n",
       "      <td>ID*</td>\n",
       "      <td>Batik Air</td>\n",
       "      <td>2018-10-05 22:00:00</td>\n",
       "      <td>2018-10-05 23:55:00</td>\n",
       "      <td>Kuala Lumpur</td>\n",
       "      <td>KUL</td>\n",
       "      <td>MY</td>\n",
       "      <td>C33</td>\n",
       "      <td>Kuala Lumpur International Airport</td>\n",
       "      <td>Asia</td>\n",
       "      <td>M</td>\n",
       "      <td>Asia/Kuala_Lumpur</td>\n",
       "      <td>Jakarta</td>\n",
       "      <td>CGK</td>\n",
       "      <td>ID</td>\n",
       "      <td>5</td>\n",
       "      <td>Soekarno-Hatta International Airport</td>\n",
       "      <td>Asia</td>\n",
       "      <td>2</td>\n",
       "      <td>Asia/Jakarta</td>\n",
       "      <td>32S</td>\n",
       "      <td>Airbus A318 / A319 / A320 / A321</td>\n",
       "      <td>1h 55m</td>\n",
       "      <td>8</td>\n",
       "      <td>0</td>\n",
       "      <td>115.0</td>\n",
       "    </tr>\n",
       "    <tr>\n",
       "      <th>2</th>\n",
       "      <td>3</td>\n",
       "      <td>MXD9116</td>\n",
       "      <td>MXD</td>\n",
       "      <td>Malindo Air</td>\n",
       "      <td>2018-10-05 22:00:00</td>\n",
       "      <td>2018-10-05 23:55:00</td>\n",
       "      <td>Kuala Lumpur</td>\n",
       "      <td>KUL</td>\n",
       "      <td>MY</td>\n",
       "      <td>C33</td>\n",
       "      <td>Kuala Lumpur International Airport</td>\n",
       "      <td>Asia</td>\n",
       "      <td>M</td>\n",
       "      <td>Asia/Kuala_Lumpur</td>\n",
       "      <td>Jakarta</td>\n",
       "      <td>CGK</td>\n",
       "      <td>ID</td>\n",
       "      <td>5</td>\n",
       "      <td>Soekarno-Hatta International Airport</td>\n",
       "      <td>Asia</td>\n",
       "      <td>2</td>\n",
       "      <td>Asia/Jakarta</td>\n",
       "      <td>32S</td>\n",
       "      <td>Airbus A318 / A319 / A320 / A321</td>\n",
       "      <td>1h 55m</td>\n",
       "      <td>8</td>\n",
       "      <td>0</td>\n",
       "      <td>115.0</td>\n",
       "    </tr>\n",
       "    <tr>\n",
       "      <th>3</th>\n",
       "      <td>4</td>\n",
       "      <td>AK5198</td>\n",
       "      <td>AK</td>\n",
       "      <td>AirAsia</td>\n",
       "      <td>2018-10-05 22:05:00</td>\n",
       "      <td>2018-10-06 01:00:00</td>\n",
       "      <td>Kuala Lumpur</td>\n",
       "      <td>KUL</td>\n",
       "      <td>MY</td>\n",
       "      <td>J9</td>\n",
       "      <td>Kuala Lumpur International Airport</td>\n",
       "      <td>Asia</td>\n",
       "      <td>2</td>\n",
       "      <td>Asia/Kuala_Lumpur</td>\n",
       "      <td>Sandakan</td>\n",
       "      <td>SDK</td>\n",
       "      <td>MY</td>\n",
       "      <td>INT</td>\n",
       "      <td>Sandakan Airport</td>\n",
       "      <td>Asia</td>\n",
       "      <td>NaN</td>\n",
       "      <td>Asia/Kuala_Lumpur</td>\n",
       "      <td>32S</td>\n",
       "      <td>Airbus A318 / A319 / A320 / A321</td>\n",
       "      <td>2h 54m</td>\n",
       "      <td>0</td>\n",
       "      <td>0</td>\n",
       "      <td>175.0</td>\n",
       "    </tr>\n",
       "    <tr>\n",
       "      <th>4</th>\n",
       "      <td>5</td>\n",
       "      <td>AK516</td>\n",
       "      <td>AK</td>\n",
       "      <td>AirAsia</td>\n",
       "      <td>2018-10-05 22:10:00</td>\n",
       "      <td>2018-10-06 01:25:00</td>\n",
       "      <td>Kuala Lumpur</td>\n",
       "      <td>KUL</td>\n",
       "      <td>MY</td>\n",
       "      <td>P1</td>\n",
       "      <td>Kuala Lumpur International Airport</td>\n",
       "      <td>Asia</td>\n",
       "      <td>2</td>\n",
       "      <td>Asia/Kuala_Lumpur</td>\n",
       "      <td>Hanoi</td>\n",
       "      <td>HAN</td>\n",
       "      <td>VN</td>\n",
       "      <td>NaN</td>\n",
       "      <td>Noi Bai International Airport</td>\n",
       "      <td>Asia</td>\n",
       "      <td>T2</td>\n",
       "      <td>Asia/Ho_Chi_Minh</td>\n",
       "      <td>32S</td>\n",
       "      <td>Airbus A318 / A319 / A320 / A321</td>\n",
       "      <td>3h 17m</td>\n",
       "      <td>0</td>\n",
       "      <td>0</td>\n",
       "      <td>195.0</td>\n",
       "    </tr>\n",
       "  </tbody>\n",
       "</table>\n",
       "</div>"
      ],
      "text/plain": [
       "   id   number airline airline_name scheduled_departure_time  \\\n",
       "0   1   AK6430      AK      AirAsia      2018-10-05 22:00:00   \n",
       "1   2  ID*7164     ID*    Batik Air      2018-10-05 22:00:00   \n",
       "2   3  MXD9116     MXD  Malindo Air      2018-10-05 22:00:00   \n",
       "3   4   AK5198      AK      AirAsia      2018-10-05 22:05:00   \n",
       "4   5    AK516      AK      AirAsia      2018-10-05 22:10:00   \n",
       "\n",
       "  scheduled_arrival_time departure_airport_city departure_airport_code  \\\n",
       "0    2018-10-05 23:05:00           Kuala Lumpur                    KUL   \n",
       "1    2018-10-05 23:55:00           Kuala Lumpur                    KUL   \n",
       "2    2018-10-05 23:55:00           Kuala Lumpur                    KUL   \n",
       "3    2018-10-06 01:00:00           Kuala Lumpur                    KUL   \n",
       "4    2018-10-06 01:25:00           Kuala Lumpur                    KUL   \n",
       "\n",
       "  departure_airport_country departure_airport_gate  \\\n",
       "0                        MY                    J15   \n",
       "1                        MY                    C33   \n",
       "2                        MY                    C33   \n",
       "3                        MY                     J9   \n",
       "4                        MY                     P1   \n",
       "\n",
       "               departure_airport_name departure_airport_region  \\\n",
       "0  Kuala Lumpur International Airport                     Asia   \n",
       "1  Kuala Lumpur International Airport                     Asia   \n",
       "2  Kuala Lumpur International Airport                     Asia   \n",
       "3  Kuala Lumpur International Airport                     Asia   \n",
       "4  Kuala Lumpur International Airport                     Asia   \n",
       "\n",
       "  departure_airport_terminal departure_airport_timezone arrival_airport_city  \\\n",
       "0                          2          Asia/Kuala_Lumpur           Kota Bharu   \n",
       "1                          M          Asia/Kuala_Lumpur              Jakarta   \n",
       "2                          M          Asia/Kuala_Lumpur              Jakarta   \n",
       "3                          2          Asia/Kuala_Lumpur             Sandakan   \n",
       "4                          2          Asia/Kuala_Lumpur                Hanoi   \n",
       "\n",
       "  arrival_airport_code arrival_airport_country arrival_airport_gate  \\\n",
       "0                  KBR                      MY                    2   \n",
       "1                  CGK                      ID                    5   \n",
       "2                  CGK                      ID                    5   \n",
       "3                  SDK                      MY                  INT   \n",
       "4                  HAN                      VN                  NaN   \n",
       "\n",
       "                   arrival_airport_name arrival_airport_region  \\\n",
       "0           Sultan Ismail Petra Airport                   Asia   \n",
       "1  Soekarno-Hatta International Airport                   Asia   \n",
       "2  Soekarno-Hatta International Airport                   Asia   \n",
       "3                      Sandakan Airport                   Asia   \n",
       "4         Noi Bai International Airport                   Asia   \n",
       "\n",
       "  arrival_airport_terminal arrival_airport_timezone flight_equipment_iata  \\\n",
       "0                      NaN        Asia/Kuala_Lumpur                   32S   \n",
       "1                        2             Asia/Jakarta                   32S   \n",
       "2                        2             Asia/Jakarta                   32S   \n",
       "3                      NaN        Asia/Kuala_Lumpur                   32S   \n",
       "4                       T2         Asia/Ho_Chi_Minh                   32S   \n",
       "\n",
       "              flight_equipment_name flight_duration  delay  flag_test  \\\n",
       "0  Airbus A318 / A319 / A320 / A321             58m      2          0   \n",
       "1  Airbus A318 / A319 / A320 / A321          1h 55m      8          0   \n",
       "2  Airbus A318 / A319 / A320 / A321          1h 55m      8          0   \n",
       "3  Airbus A318 / A319 / A320 / A321          2h 54m      0          0   \n",
       "4  Airbus A318 / A319 / A320 / A321          3h 17m      0          0   \n",
       "\n",
       "   scheduled_flight_duration  \n",
       "0                       65.0  \n",
       "1                      115.0  \n",
       "2                      115.0  \n",
       "3                      175.0  \n",
       "4                      195.0  "
      ]
     },
     "execution_count": 10,
     "metadata": {},
     "output_type": "execute_result"
    }
   ],
   "source": [
    "df.head()"
   ]
  },
  {
   "cell_type": "markdown",
   "metadata": {},
   "source": [
    "### Get Distance Between Two Airports\n",
    "Get the distance between the departure airport and arrival airport. The data of the distance between the airports is obtained from the website https://www.prokerala.com/travel/airports/distance, the data then scrapped and only the distances between he two airports were taken.<br/><br/>\n",
    "**ASSUMPTION**: As stated in the previous engineered feature, we're going to try to use the distance together with the flight duration to calculate the velocity of the airplane. *(ignoring the take off and landing time)*"
   ]
  },
  {
   "cell_type": "markdown",
   "metadata": {},
   "source": [
    "#### Get the Unique Routes\n",
    "Get only the unique routes since we don't want to perform it repeatedly -> time consuming and web scraping is already taking a long time"
   ]
  },
  {
   "cell_type": "code",
   "execution_count": 11,
   "metadata": {},
   "outputs": [
    {
     "data": {
      "text/html": [
       "<div>\n",
       "<style scoped>\n",
       "    .dataframe tbody tr th:only-of-type {\n",
       "        vertical-align: middle;\n",
       "    }\n",
       "\n",
       "    .dataframe tbody tr th {\n",
       "        vertical-align: top;\n",
       "    }\n",
       "\n",
       "    .dataframe thead th {\n",
       "        text-align: right;\n",
       "    }\n",
       "</style>\n",
       "<table border=\"1\" class=\"dataframe\">\n",
       "  <thead>\n",
       "    <tr style=\"text-align: right;\">\n",
       "      <th></th>\n",
       "      <th>departure_airport_code</th>\n",
       "      <th>arrival_airport_code</th>\n",
       "    </tr>\n",
       "  </thead>\n",
       "  <tbody>\n",
       "    <tr>\n",
       "      <th>0</th>\n",
       "      <td>KUL</td>\n",
       "      <td>KBR</td>\n",
       "    </tr>\n",
       "    <tr>\n",
       "      <th>1</th>\n",
       "      <td>KUL</td>\n",
       "      <td>CGK</td>\n",
       "    </tr>\n",
       "    <tr>\n",
       "      <th>3</th>\n",
       "      <td>KUL</td>\n",
       "      <td>SDK</td>\n",
       "    </tr>\n",
       "    <tr>\n",
       "      <th>4</th>\n",
       "      <td>KUL</td>\n",
       "      <td>HAN</td>\n",
       "    </tr>\n",
       "    <tr>\n",
       "      <th>5</th>\n",
       "      <td>KUL</td>\n",
       "      <td>AOR</td>\n",
       "    </tr>\n",
       "  </tbody>\n",
       "</table>\n",
       "</div>"
      ],
      "text/plain": [
       "  departure_airport_code arrival_airport_code\n",
       "0                    KUL                  KBR\n",
       "1                    KUL                  CGK\n",
       "3                    KUL                  SDK\n",
       "4                    KUL                  HAN\n",
       "5                    KUL                  AOR"
      ]
     },
     "execution_count": 11,
     "metadata": {},
     "output_type": "execute_result"
    }
   ],
   "source": [
    "route_df = df.drop_duplicates(subset=[\"departure_airport_code\", \"arrival_airport_code\"])[[\"departure_airport_code\", \"arrival_airport_code\"]]\n",
    "route_df.head()"
   ]
  },
  {
   "cell_type": "markdown",
   "metadata": {},
   "source": [
    "Basically what the below codes do is scraping the distance (in km) from prokerala.com using the dataframe of the unique route of the airplane."
   ]
  },
  {
   "cell_type": "code",
   "execution_count": 12,
   "metadata": {
    "collapsed": true
   },
   "outputs": [],
   "source": [
    "# flight_distances = []\n",
    "\n",
    "# for route in route_df.values:\n",
    "#     doc = f\"https://www.prokerala.com/travel/airports/distance/from-{route[0].lower()}/to-{route[1].lower()}/\"\n",
    "\n",
    "#     response = requests.get(doc, timeout = 10)\n",
    "#     soup = bs(response.content, \"html.parser\")\n",
    "\n",
    "#     content = [element.text for element in soup.find_all('div', {'class': 'tc'})]\n",
    "    \n",
    "#     # Check if content contains any values\n",
    "#     if content:\n",
    "#         flight_distance_content = content[1]\n",
    "\n",
    "#         flight_distance = re.findall(r\"(\\d+(\\.\\d+)?)\", content[1])[1][0]\n",
    "#         print(flight_distance)\n",
    "#         flight_distances.append(float(flight_distance))\n",
    "        \n",
    "#     else:\n",
    "#         flight_distances.append(np.nan)\n",
    "    \n",
    "#     time.sleep(2)"
   ]
  },
  {
   "cell_type": "markdown",
   "metadata": {},
   "source": [
    "#### Set the Value and Save it for Later Use"
   ]
  },
  {
   "cell_type": "code",
   "execution_count": 13,
   "metadata": {
    "collapsed": true
   },
   "outputs": [],
   "source": [
    "# route_df[\"distance\"] = flight_distances\n",
    "\n",
    "# route_df.to_csv(\"route_distance\", index=False)"
   ]
  },
  {
   "cell_type": "code",
   "execution_count": 14,
   "metadata": {
    "collapsed": true
   },
   "outputs": [],
   "source": [
    "route_df = pd.read_csv(\"route_distance\")"
   ]
  },
  {
   "cell_type": "code",
   "execution_count": 15,
   "metadata": {
    "collapsed": true
   },
   "outputs": [],
   "source": [
    "df = pd.merge(df, route_df,  how='left', left_on=[\"departure_airport_code\", \"arrival_airport_code\"], right_on=[\"departure_airport_code\", \"arrival_airport_code\"])"
   ]
  },
  {
   "cell_type": "markdown",
   "metadata": {},
   "source": [
    "### Convert Scheduled Flight Duration to Hour\n",
    "Get only the hour of how long the flight took place<br/>  \n",
    "**ASSUMPTION**: Taking the minutes into account is too specific -> it'd be hard for later grouping"
   ]
  },
  {
   "cell_type": "code",
   "execution_count": 16,
   "metadata": {
    "collapsed": true
   },
   "outputs": [],
   "source": [
    "df[\"scheduled_flight_duration_h\"] = df[\"scheduled_flight_duration\"].apply(lambda x: x / 60)"
   ]
  },
  {
   "cell_type": "markdown",
   "metadata": {},
   "source": [
    "### Calculate the Flight Velocity (in km/h)\n",
    "The flight velocity is calculated by dividing the flight distance with the scheduled_flight_duration"
   ]
  },
  {
   "cell_type": "code",
   "execution_count": 17,
   "metadata": {
    "collapsed": true
   },
   "outputs": [],
   "source": [
    "df[\"flight_velocity\"] = df[\"distance\"] / df[\"scheduled_flight_duration_h\"]"
   ]
  },
  {
   "cell_type": "markdown",
   "metadata": {},
   "source": [
    "### Flag Faster Flight\n",
    "The feature `flag_faster_flight` tells us whether the airplane flies faster than their counterparts. The flight is called faster if the `flight_velocity` is higher compared to any other planes which flew from the same departure airports to the same arrival airports.<br/>\n",
    "\n",
    "**ASSUMPTION**: Slower flight may be caused by the transit, if the delay happened during the transit it will eventually affect the following flight delay's probability."
   ]
  },
  {
   "cell_type": "code",
   "execution_count": 18,
   "metadata": {
    "collapsed": true
   },
   "outputs": [],
   "source": [
    "flight_velocity_group_df = df.groupby([\"departure_airport_code\", \"arrival_airport_code\", \"flight_velocity\"]).count()[[]].reset_index()"
   ]
  },
  {
   "cell_type": "code",
   "execution_count": 19,
   "metadata": {
    "collapsed": true
   },
   "outputs": [],
   "source": [
    "min_flight_velocity_group_df = flight_velocity_group_df.groupby([\"departure_airport_code\", \"arrival_airport_code\"]).min().reset_index().rename(columns={\"flight_velocity\": \"min_flight_velocity\"})"
   ]
  },
  {
   "cell_type": "code",
   "execution_count": 20,
   "metadata": {
    "collapsed": true
   },
   "outputs": [],
   "source": [
    "flight_velocity_group_df = pd.merge(flight_velocity_group_df, min_flight_velocity_group_df,  how='left', left_on=[\"departure_airport_code\", \"arrival_airport_code\"], right_on=[\"departure_airport_code\", \"arrival_airport_code\"])"
   ]
  },
  {
   "cell_type": "code",
   "execution_count": 21,
   "metadata": {
    "collapsed": true
   },
   "outputs": [],
   "source": [
    "flight_velocity_group_df[\"flag_faster_flight\"] = (flight_velocity_group_df[\"flight_velocity\"] == flight_velocity_group_df[\"min_flight_velocity\"]).astype(int)"
   ]
  },
  {
   "cell_type": "code",
   "execution_count": 22,
   "metadata": {
    "collapsed": true
   },
   "outputs": [],
   "source": [
    "flight_velocity_group_df = flight_velocity_group_df.drop(\"min_flight_velocity\", axis=1)"
   ]
  },
  {
   "cell_type": "code",
   "execution_count": 23,
   "metadata": {
    "collapsed": true
   },
   "outputs": [],
   "source": [
    "df = pd.merge(df, flight_velocity_group_df,  how='left', left_on=[\"departure_airport_code\", \"arrival_airport_code\", \"flight_velocity\"], right_on=[\"departure_airport_code\", \"arrival_airport_code\", \"flight_velocity\"])"
   ]
  },
  {
   "cell_type": "code",
   "execution_count": 24,
   "metadata": {},
   "outputs": [
    {
     "data": {
      "text/html": [
       "<div>\n",
       "<style scoped>\n",
       "    .dataframe tbody tr th:only-of-type {\n",
       "        vertical-align: middle;\n",
       "    }\n",
       "\n",
       "    .dataframe tbody tr th {\n",
       "        vertical-align: top;\n",
       "    }\n",
       "\n",
       "    .dataframe thead th {\n",
       "        text-align: right;\n",
       "    }\n",
       "</style>\n",
       "<table border=\"1\" class=\"dataframe\">\n",
       "  <thead>\n",
       "    <tr style=\"text-align: right;\">\n",
       "      <th></th>\n",
       "      <th>id</th>\n",
       "      <th>number</th>\n",
       "      <th>airline</th>\n",
       "      <th>airline_name</th>\n",
       "      <th>scheduled_departure_time</th>\n",
       "      <th>scheduled_arrival_time</th>\n",
       "      <th>departure_airport_city</th>\n",
       "      <th>departure_airport_code</th>\n",
       "      <th>departure_airport_country</th>\n",
       "      <th>departure_airport_gate</th>\n",
       "      <th>departure_airport_name</th>\n",
       "      <th>departure_airport_region</th>\n",
       "      <th>departure_airport_terminal</th>\n",
       "      <th>departure_airport_timezone</th>\n",
       "      <th>arrival_airport_city</th>\n",
       "      <th>arrival_airport_code</th>\n",
       "      <th>arrival_airport_country</th>\n",
       "      <th>arrival_airport_gate</th>\n",
       "      <th>arrival_airport_name</th>\n",
       "      <th>arrival_airport_region</th>\n",
       "      <th>arrival_airport_terminal</th>\n",
       "      <th>arrival_airport_timezone</th>\n",
       "      <th>flight_equipment_iata</th>\n",
       "      <th>flight_equipment_name</th>\n",
       "      <th>flight_duration</th>\n",
       "      <th>delay</th>\n",
       "      <th>flag_test</th>\n",
       "      <th>scheduled_flight_duration</th>\n",
       "      <th>distance</th>\n",
       "      <th>scheduled_flight_duration_h</th>\n",
       "      <th>flight_velocity</th>\n",
       "      <th>flag_faster_flight</th>\n",
       "    </tr>\n",
       "  </thead>\n",
       "  <tbody>\n",
       "    <tr>\n",
       "      <th>0</th>\n",
       "      <td>1</td>\n",
       "      <td>AK6430</td>\n",
       "      <td>AK</td>\n",
       "      <td>AirAsia</td>\n",
       "      <td>2018-10-05 22:00:00</td>\n",
       "      <td>2018-10-05 23:05:00</td>\n",
       "      <td>Kuala Lumpur</td>\n",
       "      <td>KUL</td>\n",
       "      <td>MY</td>\n",
       "      <td>J15</td>\n",
       "      <td>Kuala Lumpur International Airport</td>\n",
       "      <td>Asia</td>\n",
       "      <td>2</td>\n",
       "      <td>Asia/Kuala_Lumpur</td>\n",
       "      <td>Kota Bharu</td>\n",
       "      <td>KBR</td>\n",
       "      <td>MY</td>\n",
       "      <td>2</td>\n",
       "      <td>Sultan Ismail Petra Airport</td>\n",
       "      <td>Asia</td>\n",
       "      <td>NaN</td>\n",
       "      <td>Asia/Kuala_Lumpur</td>\n",
       "      <td>32S</td>\n",
       "      <td>Airbus A318 / A319 / A320 / A321</td>\n",
       "      <td>58m</td>\n",
       "      <td>2</td>\n",
       "      <td>0</td>\n",
       "      <td>65.0</td>\n",
       "      <td>385.98</td>\n",
       "      <td>1.083333</td>\n",
       "      <td>356.289231</td>\n",
       "      <td>0.0</td>\n",
       "    </tr>\n",
       "    <tr>\n",
       "      <th>1</th>\n",
       "      <td>2</td>\n",
       "      <td>ID*7164</td>\n",
       "      <td>ID*</td>\n",
       "      <td>Batik Air</td>\n",
       "      <td>2018-10-05 22:00:00</td>\n",
       "      <td>2018-10-05 23:55:00</td>\n",
       "      <td>Kuala Lumpur</td>\n",
       "      <td>KUL</td>\n",
       "      <td>MY</td>\n",
       "      <td>C33</td>\n",
       "      <td>Kuala Lumpur International Airport</td>\n",
       "      <td>Asia</td>\n",
       "      <td>M</td>\n",
       "      <td>Asia/Kuala_Lumpur</td>\n",
       "      <td>Jakarta</td>\n",
       "      <td>CGK</td>\n",
       "      <td>ID</td>\n",
       "      <td>5</td>\n",
       "      <td>Soekarno-Hatta International Airport</td>\n",
       "      <td>Asia</td>\n",
       "      <td>2</td>\n",
       "      <td>Asia/Jakarta</td>\n",
       "      <td>32S</td>\n",
       "      <td>Airbus A318 / A319 / A320 / A321</td>\n",
       "      <td>1h 55m</td>\n",
       "      <td>8</td>\n",
       "      <td>0</td>\n",
       "      <td>115.0</td>\n",
       "      <td>1129.47</td>\n",
       "      <td>1.916667</td>\n",
       "      <td>589.288696</td>\n",
       "      <td>0.0</td>\n",
       "    </tr>\n",
       "    <tr>\n",
       "      <th>2</th>\n",
       "      <td>3</td>\n",
       "      <td>MXD9116</td>\n",
       "      <td>MXD</td>\n",
       "      <td>Malindo Air</td>\n",
       "      <td>2018-10-05 22:00:00</td>\n",
       "      <td>2018-10-05 23:55:00</td>\n",
       "      <td>Kuala Lumpur</td>\n",
       "      <td>KUL</td>\n",
       "      <td>MY</td>\n",
       "      <td>C33</td>\n",
       "      <td>Kuala Lumpur International Airport</td>\n",
       "      <td>Asia</td>\n",
       "      <td>M</td>\n",
       "      <td>Asia/Kuala_Lumpur</td>\n",
       "      <td>Jakarta</td>\n",
       "      <td>CGK</td>\n",
       "      <td>ID</td>\n",
       "      <td>5</td>\n",
       "      <td>Soekarno-Hatta International Airport</td>\n",
       "      <td>Asia</td>\n",
       "      <td>2</td>\n",
       "      <td>Asia/Jakarta</td>\n",
       "      <td>32S</td>\n",
       "      <td>Airbus A318 / A319 / A320 / A321</td>\n",
       "      <td>1h 55m</td>\n",
       "      <td>8</td>\n",
       "      <td>0</td>\n",
       "      <td>115.0</td>\n",
       "      <td>1129.47</td>\n",
       "      <td>1.916667</td>\n",
       "      <td>589.288696</td>\n",
       "      <td>0.0</td>\n",
       "    </tr>\n",
       "    <tr>\n",
       "      <th>3</th>\n",
       "      <td>4</td>\n",
       "      <td>AK5198</td>\n",
       "      <td>AK</td>\n",
       "      <td>AirAsia</td>\n",
       "      <td>2018-10-05 22:05:00</td>\n",
       "      <td>2018-10-06 01:00:00</td>\n",
       "      <td>Kuala Lumpur</td>\n",
       "      <td>KUL</td>\n",
       "      <td>MY</td>\n",
       "      <td>J9</td>\n",
       "      <td>Kuala Lumpur International Airport</td>\n",
       "      <td>Asia</td>\n",
       "      <td>2</td>\n",
       "      <td>Asia/Kuala_Lumpur</td>\n",
       "      <td>Sandakan</td>\n",
       "      <td>SDK</td>\n",
       "      <td>MY</td>\n",
       "      <td>INT</td>\n",
       "      <td>Sandakan Airport</td>\n",
       "      <td>Asia</td>\n",
       "      <td>NaN</td>\n",
       "      <td>Asia/Kuala_Lumpur</td>\n",
       "      <td>32S</td>\n",
       "      <td>Airbus A318 / A319 / A320 / A321</td>\n",
       "      <td>2h 54m</td>\n",
       "      <td>0</td>\n",
       "      <td>0</td>\n",
       "      <td>175.0</td>\n",
       "      <td>1846.94</td>\n",
       "      <td>2.916667</td>\n",
       "      <td>633.236571</td>\n",
       "      <td>1.0</td>\n",
       "    </tr>\n",
       "    <tr>\n",
       "      <th>4</th>\n",
       "      <td>5</td>\n",
       "      <td>AK516</td>\n",
       "      <td>AK</td>\n",
       "      <td>AirAsia</td>\n",
       "      <td>2018-10-05 22:10:00</td>\n",
       "      <td>2018-10-06 01:25:00</td>\n",
       "      <td>Kuala Lumpur</td>\n",
       "      <td>KUL</td>\n",
       "      <td>MY</td>\n",
       "      <td>P1</td>\n",
       "      <td>Kuala Lumpur International Airport</td>\n",
       "      <td>Asia</td>\n",
       "      <td>2</td>\n",
       "      <td>Asia/Kuala_Lumpur</td>\n",
       "      <td>Hanoi</td>\n",
       "      <td>HAN</td>\n",
       "      <td>VN</td>\n",
       "      <td>NaN</td>\n",
       "      <td>Noi Bai International Airport</td>\n",
       "      <td>Asia</td>\n",
       "      <td>T2</td>\n",
       "      <td>Asia/Ho_Chi_Minh</td>\n",
       "      <td>32S</td>\n",
       "      <td>Airbus A318 / A319 / A320 / A321</td>\n",
       "      <td>3h 17m</td>\n",
       "      <td>0</td>\n",
       "      <td>0</td>\n",
       "      <td>195.0</td>\n",
       "      <td>2102.37</td>\n",
       "      <td>3.250000</td>\n",
       "      <td>646.883077</td>\n",
       "      <td>0.0</td>\n",
       "    </tr>\n",
       "  </tbody>\n",
       "</table>\n",
       "</div>"
      ],
      "text/plain": [
       "   id   number airline airline_name scheduled_departure_time  \\\n",
       "0   1   AK6430      AK      AirAsia      2018-10-05 22:00:00   \n",
       "1   2  ID*7164     ID*    Batik Air      2018-10-05 22:00:00   \n",
       "2   3  MXD9116     MXD  Malindo Air      2018-10-05 22:00:00   \n",
       "3   4   AK5198      AK      AirAsia      2018-10-05 22:05:00   \n",
       "4   5    AK516      AK      AirAsia      2018-10-05 22:10:00   \n",
       "\n",
       "  scheduled_arrival_time departure_airport_city departure_airport_code  \\\n",
       "0    2018-10-05 23:05:00           Kuala Lumpur                    KUL   \n",
       "1    2018-10-05 23:55:00           Kuala Lumpur                    KUL   \n",
       "2    2018-10-05 23:55:00           Kuala Lumpur                    KUL   \n",
       "3    2018-10-06 01:00:00           Kuala Lumpur                    KUL   \n",
       "4    2018-10-06 01:25:00           Kuala Lumpur                    KUL   \n",
       "\n",
       "  departure_airport_country departure_airport_gate  \\\n",
       "0                        MY                    J15   \n",
       "1                        MY                    C33   \n",
       "2                        MY                    C33   \n",
       "3                        MY                     J9   \n",
       "4                        MY                     P1   \n",
       "\n",
       "               departure_airport_name departure_airport_region  \\\n",
       "0  Kuala Lumpur International Airport                     Asia   \n",
       "1  Kuala Lumpur International Airport                     Asia   \n",
       "2  Kuala Lumpur International Airport                     Asia   \n",
       "3  Kuala Lumpur International Airport                     Asia   \n",
       "4  Kuala Lumpur International Airport                     Asia   \n",
       "\n",
       "  departure_airport_terminal departure_airport_timezone arrival_airport_city  \\\n",
       "0                          2          Asia/Kuala_Lumpur           Kota Bharu   \n",
       "1                          M          Asia/Kuala_Lumpur              Jakarta   \n",
       "2                          M          Asia/Kuala_Lumpur              Jakarta   \n",
       "3                          2          Asia/Kuala_Lumpur             Sandakan   \n",
       "4                          2          Asia/Kuala_Lumpur                Hanoi   \n",
       "\n",
       "  arrival_airport_code arrival_airport_country arrival_airport_gate  \\\n",
       "0                  KBR                      MY                    2   \n",
       "1                  CGK                      ID                    5   \n",
       "2                  CGK                      ID                    5   \n",
       "3                  SDK                      MY                  INT   \n",
       "4                  HAN                      VN                  NaN   \n",
       "\n",
       "                   arrival_airport_name arrival_airport_region  \\\n",
       "0           Sultan Ismail Petra Airport                   Asia   \n",
       "1  Soekarno-Hatta International Airport                   Asia   \n",
       "2  Soekarno-Hatta International Airport                   Asia   \n",
       "3                      Sandakan Airport                   Asia   \n",
       "4         Noi Bai International Airport                   Asia   \n",
       "\n",
       "  arrival_airport_terminal arrival_airport_timezone flight_equipment_iata  \\\n",
       "0                      NaN        Asia/Kuala_Lumpur                   32S   \n",
       "1                        2             Asia/Jakarta                   32S   \n",
       "2                        2             Asia/Jakarta                   32S   \n",
       "3                      NaN        Asia/Kuala_Lumpur                   32S   \n",
       "4                       T2         Asia/Ho_Chi_Minh                   32S   \n",
       "\n",
       "              flight_equipment_name flight_duration  delay  flag_test  \\\n",
       "0  Airbus A318 / A319 / A320 / A321             58m      2          0   \n",
       "1  Airbus A318 / A319 / A320 / A321          1h 55m      8          0   \n",
       "2  Airbus A318 / A319 / A320 / A321          1h 55m      8          0   \n",
       "3  Airbus A318 / A319 / A320 / A321          2h 54m      0          0   \n",
       "4  Airbus A318 / A319 / A320 / A321          3h 17m      0          0   \n",
       "\n",
       "   scheduled_flight_duration  distance  scheduled_flight_duration_h  \\\n",
       "0                       65.0    385.98                     1.083333   \n",
       "1                      115.0   1129.47                     1.916667   \n",
       "2                      115.0   1129.47                     1.916667   \n",
       "3                      175.0   1846.94                     2.916667   \n",
       "4                      195.0   2102.37                     3.250000   \n",
       "\n",
       "   flight_velocity  flag_faster_flight  \n",
       "0       356.289231                 0.0  \n",
       "1       589.288696                 0.0  \n",
       "2       589.288696                 0.0  \n",
       "3       633.236571                 1.0  \n",
       "4       646.883077                 0.0  "
      ]
     },
     "execution_count": 24,
     "metadata": {},
     "output_type": "execute_result"
    }
   ],
   "source": [
    "df.head()"
   ]
  },
  {
   "cell_type": "markdown",
   "metadata": {},
   "source": [
    "### Get the Day\n",
    "Get the name of the day, `Monday`, `Sunday` etc."
   ]
  },
  {
   "cell_type": "code",
   "execution_count": 25,
   "metadata": {
    "collapsed": true
   },
   "outputs": [],
   "source": [
    "df[\"scheduled_departure_day\"] = df[\"scheduled_departure_time\"].apply(lambda x: x.strftime(\"%A\"))"
   ]
  },
  {
   "cell_type": "markdown",
   "metadata": {},
   "source": [
    "### Flag Weekend\n",
    "If the `scheduled_departure_day` is weekend (`Sunday` or `Saturday`), the data point is flagged as `1`, `0` otherwise"
   ]
  },
  {
   "cell_type": "code",
   "execution_count": 26,
   "metadata": {
    "collapsed": true
   },
   "outputs": [],
   "source": [
    "df[\"scheduled_departure_weekend_flag\"] = df[\"scheduled_departure_day\"].apply(lambda x: 1 if x in [\"Sunday\", \"Saturday\"] else 0)"
   ]
  },
  {
   "cell_type": "markdown",
   "metadata": {},
   "source": [
    "### Get the Hour"
   ]
  },
  {
   "cell_type": "code",
   "execution_count": 27,
   "metadata": {
    "collapsed": true
   },
   "outputs": [],
   "source": [
    "df[\"scheduled_departure_hour\"] = df[\"scheduled_departure_time\"].apply(lambda x : x.hour)\n",
    "df[\"scheduled_arrival_hour\"] = df[\"scheduled_arrival_time\"].apply(lambda x : x.hour)"
   ]
  },
  {
   "cell_type": "markdown",
   "metadata": {},
   "source": [
    "### Get the Parts of the Day"
   ]
  },
  {
   "cell_type": "markdown",
   "metadata": {},
   "source": [
    "https://7esl.com/times-of-the-day/"
   ]
  },
  {
   "cell_type": "code",
   "execution_count": 28,
   "metadata": {
    "collapsed": true
   },
   "outputs": [],
   "source": [
    "def convert_to_pod(hour):\n",
    "    if hour <= 4:\n",
    "        return'Late Night'\n",
    "    elif hour <= 8:\n",
    "        return 'Early Morning'\n",
    "    elif hour <= 12:\n",
    "        return 'Morning'\n",
    "    elif hour <= 16:\n",
    "        return'Noon'\n",
    "    elif hour <= 20:\n",
    "        return 'Eve'\n",
    "    else:\n",
    "        return'Night'"
   ]
  },
  {
   "cell_type": "code",
   "execution_count": 29,
   "metadata": {
    "collapsed": true
   },
   "outputs": [],
   "source": [
    "df[\"scheduled_departure_pod\"] = df[\"scheduled_departure_hour\"].apply(convert_to_pod)"
   ]
  },
  {
   "cell_type": "markdown",
   "metadata": {},
   "source": [
    "### Flag Holiday"
   ]
  },
  {
   "cell_type": "code",
   "execution_count": 30,
   "metadata": {
    "collapsed": true
   },
   "outputs": [],
   "source": [
    "holiday_df = pd.read_csv(\"../data/flight/holiday_2018.csv\")"
   ]
  },
  {
   "cell_type": "code",
   "execution_count": 31,
   "metadata": {
    "collapsed": true
   },
   "outputs": [],
   "source": [
    "holiday_df[\"Date\"] = holiday_df[\"Date\"].str.split(\"-\").apply(lambda x: f\"{x[2]}-{x[1]}-{x[0]}\")"
   ]
  },
  {
   "cell_type": "code",
   "execution_count": 32,
   "metadata": {
    "collapsed": true
   },
   "outputs": [],
   "source": [
    "df[\"scheduled_departure_date\"] = df[\"scheduled_departure_time\"].apply(lambda x: x.strftime(\"%Y-%m-%d\"))\n",
    "\n",
    "holidays_2018 = list(holiday_df[\"Date\"])\n",
    "\n",
    "df[\"scheduled_departure_holiday_flag\"] = df[\"scheduled_departure_date\"].apply(lambda x: 1 if x in holidays_2018 else 0)"
   ]
  },
  {
   "cell_type": "markdown",
   "metadata": {},
   "source": [
    "### Flag -1 Holiday"
   ]
  },
  {
   "cell_type": "code",
   "execution_count": 33,
   "metadata": {
    "collapsed": true
   },
   "outputs": [],
   "source": [
    "holidays_2018_1 = []\n",
    "for holiday_2018 in holidays_2018:\n",
    "    if holiday_2018[5:7] in [\"10\", \"11\"]:\n",
    "        day_before = int(holiday_2018[-2:]) - 1\n",
    "        day_after = int(holiday_2018[-2:]) + 1\n",
    "        \n",
    "        if day_before // 10 == 0:\n",
    "            day_before = f\"0{day_before}\"\n",
    "        \n",
    "        if day_after // 10 == 0:\n",
    "            day_after = f\"0{day_after}\"\n",
    "        \n",
    "        date_before = f\"2018-{holiday_2018[5:7]}-{day_before}\"\n",
    "        date_after = f\"2018-{holiday_2018[ 5:7]}-{day_after}\"\n",
    "        \n",
    "        holidays_2018_1.append(date_before) \n",
    "        holidays_2018_1.append(date_after)"
   ]
  },
  {
   "cell_type": "code",
   "execution_count": 34,
   "metadata": {
    "collapsed": true
   },
   "outputs": [],
   "source": [
    "df[\"scheduled_departure_min_1_holiday_flag\"] = df[\"scheduled_departure_date\"].apply(lambda x: 1 if x in holidays_2018_1 else 0)"
   ]
  },
  {
   "cell_type": "markdown",
   "metadata": {},
   "source": [
    "### Flag Delay"
   ]
  },
  {
   "cell_type": "code",
   "execution_count": 35,
   "metadata": {
    "collapsed": true
   },
   "outputs": [],
   "source": [
    "df[\"flag_delay\"] = df[\"delay\"].apply(lambda x : 1 if x > 0 else 0)"
   ]
  },
  {
   "cell_type": "markdown",
   "metadata": {},
   "source": [
    "### Group Delay\n",
    "Grouping the delay based on how long the delay took place, it's called `on time` if the the plane came earlier or on time (has `0` delay), `small delay` if the delay time is lower than 5 and greater than 0, `medium delay` if it's not greater than 45 and `large delay` otherwise"
   ]
  },
  {
   "cell_type": "code",
   "execution_count": 36,
   "metadata": {
    "collapsed": true
   },
   "outputs": [],
   "source": [
    "def group_delay(delay):\n",
    "    if delay == 0:\n",
    "        return \"on time\"\n",
    "    elif delay < 5:\n",
    "        return \"small delay\"\n",
    "    elif delay < 45:\n",
    "        return \"medium delay\"\n",
    "    else:\n",
    "        return \"large delay\""
   ]
  },
  {
   "cell_type": "code",
   "execution_count": 37,
   "metadata": {
    "collapsed": true
   },
   "outputs": [],
   "source": [
    "df[\"delay_level\"] = df[\"delay\"].apply(group_delay)"
   ]
  },
  {
   "cell_type": "code",
   "execution_count": 38,
   "metadata": {
    "collapsed": true
   },
   "outputs": [],
   "source": [
    "top_10_airline_counts = df['airline_name'].value_counts().head(10).index"
   ]
  },
  {
   "cell_type": "code",
   "execution_count": 39,
   "metadata": {
    "scrolled": false
   },
   "outputs": [
    {
     "data": {
      "image/png": "[encoded data removed]",
      "text/plain": [
       "<Figure size 1440x1440 with 1 Axes>"
      ]
     },
     "metadata": {},
     "output_type": "display_data"
    }
   ],
   "source": [
    "fig = plt.figure(1, figsize=(20, 20))\n",
    "\n",
    "palette = ['#ff9999','#66b3ff','#99ff99','#ffcc99']\n",
    "\n",
    "ax = sns.countplot(y=\"airline_name\", hue='delay_level', palette=palette, data=df[df[\"airline_name\"].isin(top_10_airline_counts)], order = top_10_airline_counts)\n",
    "plt.show()"
   ]
  },
  {
   "cell_type": "markdown",
   "metadata": {},
   "source": [
    "### Count No. of Airplanes in a Terminal on Specific Date"
   ]
  },
  {
   "cell_type": "code",
   "execution_count": 40,
   "metadata": {
    "collapsed": true
   },
   "outputs": [],
   "source": [
    "cnt_by_airport_date_df = df.groupby([\"scheduled_departure_date\", \"departure_airport_code\"]).count()[[\"id\"]].reset_index().rename(columns={\"id\": \"cnt_by_airport_date\"})"
   ]
  },
  {
   "cell_type": "code",
   "execution_count": 41,
   "metadata": {
    "collapsed": true
   },
   "outputs": [],
   "source": [
    "df = pd.merge(df, cnt_by_airport_date_df,  how='left', left_on=[\"scheduled_departure_date\", \"departure_airport_code\"], right_on=[\"scheduled_departure_date\", \"departure_airport_code\"])"
   ]
  },
  {
   "cell_type": "code",
   "execution_count": 42,
   "metadata": {},
   "outputs": [
    {
     "data": {
      "text/html": [
       "<div>\n",
       "<style scoped>\n",
       "    .dataframe tbody tr th:only-of-type {\n",
       "        vertical-align: middle;\n",
       "    }\n",
       "\n",
       "    .dataframe tbody tr th {\n",
       "        vertical-align: top;\n",
       "    }\n",
       "\n",
       "    .dataframe thead th {\n",
       "        text-align: right;\n",
       "    }\n",
       "</style>\n",
       "<table border=\"1\" class=\"dataframe\">\n",
       "  <thead>\n",
       "    <tr style=\"text-align: right;\">\n",
       "      <th></th>\n",
       "      <th>id</th>\n",
       "      <th>number</th>\n",
       "      <th>airline</th>\n",
       "      <th>airline_name</th>\n",
       "      <th>scheduled_departure_time</th>\n",
       "      <th>scheduled_arrival_time</th>\n",
       "      <th>departure_airport_city</th>\n",
       "      <th>departure_airport_code</th>\n",
       "      <th>departure_airport_country</th>\n",
       "      <th>departure_airport_gate</th>\n",
       "      <th>departure_airport_name</th>\n",
       "      <th>departure_airport_region</th>\n",
       "      <th>departure_airport_terminal</th>\n",
       "      <th>departure_airport_timezone</th>\n",
       "      <th>arrival_airport_city</th>\n",
       "      <th>arrival_airport_code</th>\n",
       "      <th>arrival_airport_country</th>\n",
       "      <th>arrival_airport_gate</th>\n",
       "      <th>arrival_airport_name</th>\n",
       "      <th>arrival_airport_region</th>\n",
       "      <th>arrival_airport_terminal</th>\n",
       "      <th>arrival_airport_timezone</th>\n",
       "      <th>flight_equipment_iata</th>\n",
       "      <th>flight_equipment_name</th>\n",
       "      <th>flight_duration</th>\n",
       "      <th>delay</th>\n",
       "      <th>flag_test</th>\n",
       "      <th>scheduled_flight_duration</th>\n",
       "      <th>distance</th>\n",
       "      <th>scheduled_flight_duration_h</th>\n",
       "      <th>flight_velocity</th>\n",
       "      <th>flag_faster_flight</th>\n",
       "      <th>scheduled_departure_day</th>\n",
       "      <th>scheduled_departure_weekend_flag</th>\n",
       "      <th>scheduled_departure_hour</th>\n",
       "      <th>scheduled_arrival_hour</th>\n",
       "      <th>scheduled_departure_pod</th>\n",
       "      <th>scheduled_departure_date</th>\n",
       "      <th>scheduled_departure_holiday_flag</th>\n",
       "      <th>scheduled_departure_min_1_holiday_flag</th>\n",
       "      <th>flag_delay</th>\n",
       "      <th>delay_level</th>\n",
       "      <th>cnt_by_airport_date</th>\n",
       "    </tr>\n",
       "  </thead>\n",
       "  <tbody>\n",
       "    <tr>\n",
       "      <th>77402</th>\n",
       "      <td>297158</td>\n",
       "      <td>AK6246</td>\n",
       "      <td>AK</td>\n",
       "      <td>AirAsia</td>\n",
       "      <td>2018-11-14 11:50:00</td>\n",
       "      <td>2018-11-14 12:30:00</td>\n",
       "      <td>Penang</td>\n",
       "      <td>PEN</td>\n",
       "      <td>MY</td>\n",
       "      <td>NaN</td>\n",
       "      <td>Penang International Airport</td>\n",
       "      <td>Asia</td>\n",
       "      <td>NaN</td>\n",
       "      <td>Asia/Kuala_Lumpur</td>\n",
       "      <td>Langkawi</td>\n",
       "      <td>LGK</td>\n",
       "      <td>MY</td>\n",
       "      <td>NaN</td>\n",
       "      <td>Langkawi International Airport</td>\n",
       "      <td>Asia</td>\n",
       "      <td>NaN</td>\n",
       "      <td>Asia/Kuala_Lumpur</td>\n",
       "      <td>32S</td>\n",
       "      <td>Airbus A318 / A319 / A320 / A321</td>\n",
       "      <td>49m</td>\n",
       "      <td>0</td>\n",
       "      <td>0</td>\n",
       "      <td>40.0</td>\n",
       "      <td>129.88</td>\n",
       "      <td>0.666667</td>\n",
       "      <td>194.82</td>\n",
       "      <td>1.0</td>\n",
       "      <td>Wednesday</td>\n",
       "      <td>0</td>\n",
       "      <td>11</td>\n",
       "      <td>12.0</td>\n",
       "      <td>Morning</td>\n",
       "      <td>2018-11-14</td>\n",
       "      <td>0</td>\n",
       "      <td>0</td>\n",
       "      <td>0</td>\n",
       "      <td>on time</td>\n",
       "      <td>202</td>\n",
       "    </tr>\n",
       "  </tbody>\n",
       "</table>\n",
       "</div>"
      ],
      "text/plain": [
       "           id  number airline airline_name scheduled_departure_time  \\\n",
       "77402  297158  AK6246      AK      AirAsia      2018-11-14 11:50:00   \n",
       "\n",
       "      scheduled_arrival_time departure_airport_city departure_airport_code  \\\n",
       "77402    2018-11-14 12:30:00                 Penang                    PEN   \n",
       "\n",
       "      departure_airport_country departure_airport_gate  \\\n",
       "77402                        MY                    NaN   \n",
       "\n",
       "             departure_airport_name departure_airport_region  \\\n",
       "77402  Penang International Airport                     Asia   \n",
       "\n",
       "      departure_airport_terminal departure_airport_timezone  \\\n",
       "77402                        NaN          Asia/Kuala_Lumpur   \n",
       "\n",
       "      arrival_airport_city arrival_airport_code arrival_airport_country  \\\n",
       "77402             Langkawi                  LGK                      MY   \n",
       "\n",
       "      arrival_airport_gate            arrival_airport_name  \\\n",
       "77402                  NaN  Langkawi International Airport   \n",
       "\n",
       "      arrival_airport_region arrival_airport_terminal  \\\n",
       "77402                   Asia                      NaN   \n",
       "\n",
       "      arrival_airport_timezone flight_equipment_iata  \\\n",
       "77402        Asia/Kuala_Lumpur                   32S   \n",
       "\n",
       "                  flight_equipment_name flight_duration  delay  flag_test  \\\n",
       "77402  Airbus A318 / A319 / A320 / A321             49m      0          0   \n",
       "\n",
       "       scheduled_flight_duration  distance  scheduled_flight_duration_h  \\\n",
       "77402                       40.0    129.88                     0.666667   \n",
       "\n",
       "       flight_velocity  flag_faster_flight scheduled_departure_day  \\\n",
       "77402           194.82                 1.0               Wednesday   \n",
       "\n",
       "       scheduled_departure_weekend_flag  scheduled_departure_hour  \\\n",
       "77402                                 0                        11   \n",
       "\n",
       "       scheduled_arrival_hour scheduled_departure_pod  \\\n",
       "77402                    12.0                 Morning   \n",
       "\n",
       "      scheduled_departure_date  scheduled_departure_holiday_flag  \\\n",
       "77402               2018-11-14                                 0   \n",
       "\n",
       "       scheduled_departure_min_1_holiday_flag  flag_delay delay_level  \\\n",
       "77402                                       0           0     on time   \n",
       "\n",
       "       cnt_by_airport_date  \n",
       "77402                  202  "
      ]
     },
     "execution_count": 42,
     "metadata": {},
     "output_type": "execute_result"
    }
   ],
   "source": [
    "df.sample()"
   ]
  },
  {
   "cell_type": "markdown",
   "metadata": {},
   "source": [
    "### Count No. of Airplanes in the Arrival Airport on Specific Hour"
   ]
  },
  {
   "cell_type": "code",
   "execution_count": 43,
   "metadata": {
    "collapsed": true
   },
   "outputs": [],
   "source": [
    "cnt_by_airport_hour_df = df.groupby([\"departure_airport_code\", \"scheduled_departure_hour\"]).count()[[\"id\"]].reset_index().rename(columns={\"id\": \"cnt_by_dep_airport_hour\"})"
   ]
  },
  {
   "cell_type": "code",
   "execution_count": 44,
   "metadata": {
    "collapsed": true
   },
   "outputs": [],
   "source": [
    "df = pd.merge(df, cnt_by_airport_hour_df,  how='left', left_on=[\"scheduled_departure_hour\", \"departure_airport_code\"], right_on=[\"scheduled_departure_hour\", \"departure_airport_code\"])"
   ]
  },
  {
   "cell_type": "code",
   "execution_count": 45,
   "metadata": {
    "scrolled": true
   },
   "outputs": [
    {
     "data": {
      "text/html": [
       "<div>\n",
       "<style scoped>\n",
       "    .dataframe tbody tr th:only-of-type {\n",
       "        vertical-align: middle;\n",
       "    }\n",
       "\n",
       "    .dataframe tbody tr th {\n",
       "        vertical-align: top;\n",
       "    }\n",
       "\n",
       "    .dataframe thead th {\n",
       "        text-align: right;\n",
       "    }\n",
       "</style>\n",
       "<table border=\"1\" class=\"dataframe\">\n",
       "  <thead>\n",
       "    <tr style=\"text-align: right;\">\n",
       "      <th></th>\n",
       "      <th>id</th>\n",
       "      <th>number</th>\n",
       "      <th>airline</th>\n",
       "      <th>airline_name</th>\n",
       "      <th>scheduled_departure_time</th>\n",
       "      <th>scheduled_arrival_time</th>\n",
       "      <th>departure_airport_city</th>\n",
       "      <th>departure_airport_code</th>\n",
       "      <th>departure_airport_country</th>\n",
       "      <th>departure_airport_gate</th>\n",
       "      <th>departure_airport_name</th>\n",
       "      <th>departure_airport_region</th>\n",
       "      <th>departure_airport_terminal</th>\n",
       "      <th>departure_airport_timezone</th>\n",
       "      <th>arrival_airport_city</th>\n",
       "      <th>arrival_airport_code</th>\n",
       "      <th>arrival_airport_country</th>\n",
       "      <th>arrival_airport_gate</th>\n",
       "      <th>arrival_airport_name</th>\n",
       "      <th>arrival_airport_region</th>\n",
       "      <th>arrival_airport_terminal</th>\n",
       "      <th>arrival_airport_timezone</th>\n",
       "      <th>flight_equipment_iata</th>\n",
       "      <th>flight_equipment_name</th>\n",
       "      <th>flight_duration</th>\n",
       "      <th>delay</th>\n",
       "      <th>flag_test</th>\n",
       "      <th>scheduled_flight_duration</th>\n",
       "      <th>distance</th>\n",
       "      <th>scheduled_flight_duration_h</th>\n",
       "      <th>flight_velocity</th>\n",
       "      <th>flag_faster_flight</th>\n",
       "      <th>scheduled_departure_day</th>\n",
       "      <th>scheduled_departure_weekend_flag</th>\n",
       "      <th>scheduled_departure_hour</th>\n",
       "      <th>scheduled_arrival_hour</th>\n",
       "      <th>scheduled_departure_pod</th>\n",
       "      <th>scheduled_departure_date</th>\n",
       "      <th>scheduled_departure_holiday_flag</th>\n",
       "      <th>scheduled_departure_min_1_holiday_flag</th>\n",
       "      <th>flag_delay</th>\n",
       "      <th>delay_level</th>\n",
       "      <th>cnt_by_airport_date</th>\n",
       "      <th>cnt_by_dep_airport_hour</th>\n",
       "    </tr>\n",
       "  </thead>\n",
       "  <tbody>\n",
       "    <tr>\n",
       "      <th>27248</th>\n",
       "      <td>54206</td>\n",
       "      <td>BI3018</td>\n",
       "      <td>BI</td>\n",
       "      <td>Royal Brunei Airlines</td>\n",
       "      <td>2018-10-19 02:00:00</td>\n",
       "      <td>2018-10-19 03:00:00</td>\n",
       "      <td>Kota Bharu</td>\n",
       "      <td>KBR</td>\n",
       "      <td>MY</td>\n",
       "      <td>NaN</td>\n",
       "      <td>Sultan Ismail Petra Airport</td>\n",
       "      <td>Asia</td>\n",
       "      <td>NaN</td>\n",
       "      <td>Asia/Kuala_Lumpur</td>\n",
       "      <td>Kuala Lumpur</td>\n",
       "      <td>KUL</td>\n",
       "      <td>MY</td>\n",
       "      <td>NaN</td>\n",
       "      <td>Kuala Lumpur International Airport</td>\n",
       "      <td>Asia</td>\n",
       "      <td>M</td>\n",
       "      <td>Asia/Kuala_Lumpur</td>\n",
       "      <td>738</td>\n",
       "      <td>Boeing 737-800 Passenger</td>\n",
       "      <td>1h 2m</td>\n",
       "      <td>0</td>\n",
       "      <td>0</td>\n",
       "      <td>60.0</td>\n",
       "      <td>385.98</td>\n",
       "      <td>1.0</td>\n",
       "      <td>385.98</td>\n",
       "      <td>0.0</td>\n",
       "      <td>Friday</td>\n",
       "      <td>0</td>\n",
       "      <td>2</td>\n",
       "      <td>3.0</td>\n",
       "      <td>Late Night</td>\n",
       "      <td>2018-10-19</td>\n",
       "      <td>0</td>\n",
       "      <td>0</td>\n",
       "      <td>0</td>\n",
       "      <td>on time</td>\n",
       "      <td>46</td>\n",
       "      <td>135</td>\n",
       "    </tr>\n",
       "  </tbody>\n",
       "</table>\n",
       "</div>"
      ],
      "text/plain": [
       "          id  number airline           airline_name scheduled_departure_time  \\\n",
       "27248  54206  BI3018      BI  Royal Brunei Airlines      2018-10-19 02:00:00   \n",
       "\n",
       "      scheduled_arrival_time departure_airport_city departure_airport_code  \\\n",
       "27248    2018-10-19 03:00:00             Kota Bharu                    KBR   \n",
       "\n",
       "      departure_airport_country departure_airport_gate  \\\n",
       "27248                        MY                    NaN   \n",
       "\n",
       "            departure_airport_name departure_airport_region  \\\n",
       "27248  Sultan Ismail Petra Airport                     Asia   \n",
       "\n",
       "      departure_airport_terminal departure_airport_timezone  \\\n",
       "27248                        NaN          Asia/Kuala_Lumpur   \n",
       "\n",
       "      arrival_airport_city arrival_airport_code arrival_airport_country  \\\n",
       "27248         Kuala Lumpur                  KUL                      MY   \n",
       "\n",
       "      arrival_airport_gate                arrival_airport_name  \\\n",
       "27248                  NaN  Kuala Lumpur International Airport   \n",
       "\n",
       "      arrival_airport_region arrival_airport_terminal  \\\n",
       "27248                   Asia                        M   \n",
       "\n",
       "      arrival_airport_timezone flight_equipment_iata  \\\n",
       "27248        Asia/Kuala_Lumpur                   738   \n",
       "\n",
       "          flight_equipment_name flight_duration  delay  flag_test  \\\n",
       "27248  Boeing 737-800 Passenger           1h 2m      0          0   \n",
       "\n",
       "       scheduled_flight_duration  distance  scheduled_flight_duration_h  \\\n",
       "27248                       60.0    385.98                          1.0   \n",
       "\n",
       "       flight_velocity  flag_faster_flight scheduled_departure_day  \\\n",
       "27248           385.98                 0.0                  Friday   \n",
       "\n",
       "       scheduled_departure_weekend_flag  scheduled_departure_hour  \\\n",
       "27248                                 0                         2   \n",
       "\n",
       "       scheduled_arrival_hour scheduled_departure_pod  \\\n",
       "27248                     3.0              Late Night   \n",
       "\n",
       "      scheduled_departure_date  scheduled_departure_holiday_flag  \\\n",
       "27248               2018-10-19                                 0   \n",
       "\n",
       "       scheduled_departure_min_1_holiday_flag  flag_delay delay_level  \\\n",
       "27248                                       0           0     on time   \n",
       "\n",
       "       cnt_by_airport_date  cnt_by_dep_airport_hour  \n",
       "27248                   46                      135  "
      ]
     },
     "execution_count": 45,
     "metadata": {},
     "output_type": "execute_result"
    }
   ],
   "source": [
    "df.sample()"
   ]
  },
  {
   "cell_type": "markdown",
   "metadata": {},
   "source": [
    "### Count No. of Airplanes in the Arrival Airport on Specific Hour"
   ]
  },
  {
   "cell_type": "code",
   "execution_count": 46,
   "metadata": {
    "collapsed": true
   },
   "outputs": [],
   "source": [
    "cnt_by_airport_hour_df = df.groupby([\"arrival_airport_code\", \"scheduled_arrival_hour\"]).count()[[\"id\"]].reset_index().rename(columns={\"id\": \"cnt_by_arr_airport_hour\"})"
   ]
  },
  {
   "cell_type": "code",
   "execution_count": 47,
   "metadata": {
    "collapsed": true
   },
   "outputs": [],
   "source": [
    "df = pd.merge(df, cnt_by_airport_hour_df,  how='left', left_on=[\"scheduled_arrival_hour\", \"arrival_airport_code\"], right_on=[\"scheduled_arrival_hour\", \"arrival_airport_code\"])"
   ]
  },
  {
   "cell_type": "code",
   "execution_count": 48,
   "metadata": {
    "scrolled": true
   },
   "outputs": [
    {
     "data": {
      "text/html": [
       "<div>\n",
       "<style scoped>\n",
       "    .dataframe tbody tr th:only-of-type {\n",
       "        vertical-align: middle;\n",
       "    }\n",
       "\n",
       "    .dataframe tbody tr th {\n",
       "        vertical-align: top;\n",
       "    }\n",
       "\n",
       "    .dataframe thead th {\n",
       "        text-align: right;\n",
       "    }\n",
       "</style>\n",
       "<table border=\"1\" class=\"dataframe\">\n",
       "  <thead>\n",
       "    <tr style=\"text-align: right;\">\n",
       "      <th></th>\n",
       "      <th>id</th>\n",
       "      <th>number</th>\n",
       "      <th>airline</th>\n",
       "      <th>airline_name</th>\n",
       "      <th>scheduled_departure_time</th>\n",
       "      <th>scheduled_arrival_time</th>\n",
       "      <th>departure_airport_city</th>\n",
       "      <th>departure_airport_code</th>\n",
       "      <th>departure_airport_country</th>\n",
       "      <th>departure_airport_gate</th>\n",
       "      <th>departure_airport_name</th>\n",
       "      <th>departure_airport_region</th>\n",
       "      <th>departure_airport_terminal</th>\n",
       "      <th>departure_airport_timezone</th>\n",
       "      <th>arrival_airport_city</th>\n",
       "      <th>arrival_airport_code</th>\n",
       "      <th>arrival_airport_country</th>\n",
       "      <th>arrival_airport_gate</th>\n",
       "      <th>arrival_airport_name</th>\n",
       "      <th>arrival_airport_region</th>\n",
       "      <th>arrival_airport_terminal</th>\n",
       "      <th>arrival_airport_timezone</th>\n",
       "      <th>flight_equipment_iata</th>\n",
       "      <th>flight_equipment_name</th>\n",
       "      <th>flight_duration</th>\n",
       "      <th>delay</th>\n",
       "      <th>flag_test</th>\n",
       "      <th>scheduled_flight_duration</th>\n",
       "      <th>distance</th>\n",
       "      <th>scheduled_flight_duration_h</th>\n",
       "      <th>flight_velocity</th>\n",
       "      <th>flag_faster_flight</th>\n",
       "      <th>scheduled_departure_day</th>\n",
       "      <th>scheduled_departure_weekend_flag</th>\n",
       "      <th>scheduled_departure_hour</th>\n",
       "      <th>scheduled_arrival_hour</th>\n",
       "      <th>scheduled_departure_pod</th>\n",
       "      <th>scheduled_departure_date</th>\n",
       "      <th>scheduled_departure_holiday_flag</th>\n",
       "      <th>scheduled_departure_min_1_holiday_flag</th>\n",
       "      <th>flag_delay</th>\n",
       "      <th>delay_level</th>\n",
       "      <th>cnt_by_airport_date</th>\n",
       "      <th>cnt_by_dep_airport_hour</th>\n",
       "      <th>cnt_by_arr_airport_hour</th>\n",
       "    </tr>\n",
       "  </thead>\n",
       "  <tbody>\n",
       "    <tr>\n",
       "      <th>46674</th>\n",
       "      <td>148552</td>\n",
       "      <td>MH3257</td>\n",
       "      <td>MH</td>\n",
       "      <td>Malaysia Airlines</td>\n",
       "      <td>2018-10-30 04:55:00</td>\n",
       "      <td>2018-10-30 05:50:00</td>\n",
       "      <td>Kota Kinabalu</td>\n",
       "      <td>BKI</td>\n",
       "      <td>MY</td>\n",
       "      <td>NaN</td>\n",
       "      <td>Kota Kinabalu International Airport</td>\n",
       "      <td>Asia</td>\n",
       "      <td>1</td>\n",
       "      <td>Asia/Kuala_Lumpur</td>\n",
       "      <td>Mulu</td>\n",
       "      <td>MZV</td>\n",
       "      <td>MY</td>\n",
       "      <td>NaN</td>\n",
       "      <td>Mulu Airport</td>\n",
       "      <td>Asia</td>\n",
       "      <td>NaN</td>\n",
       "      <td>Asia/Kuala_Lumpur</td>\n",
       "      <td>AT7</td>\n",
       "      <td>ATR 72</td>\n",
       "      <td>55m</td>\n",
       "      <td>1</td>\n",
       "      <td>0</td>\n",
       "      <td>55.0</td>\n",
       "      <td>251.01</td>\n",
       "      <td>0.916667</td>\n",
       "      <td>273.829091</td>\n",
       "      <td>1.0</td>\n",
       "      <td>Tuesday</td>\n",
       "      <td>0</td>\n",
       "      <td>4</td>\n",
       "      <td>5.0</td>\n",
       "      <td>Late Night</td>\n",
       "      <td>2018-10-30</td>\n",
       "      <td>0</td>\n",
       "      <td>1</td>\n",
       "      <td>1</td>\n",
       "      <td>small delay</td>\n",
       "      <td>164</td>\n",
       "      <td>689</td>\n",
       "      <td>33.0</td>\n",
       "    </tr>\n",
       "  </tbody>\n",
       "</table>\n",
       "</div>"
      ],
      "text/plain": [
       "           id  number airline       airline_name scheduled_departure_time  \\\n",
       "46674  148552  MH3257      MH  Malaysia Airlines      2018-10-30 04:55:00   \n",
       "\n",
       "      scheduled_arrival_time departure_airport_city departure_airport_code  \\\n",
       "46674    2018-10-30 05:50:00          Kota Kinabalu                    BKI   \n",
       "\n",
       "      departure_airport_country departure_airport_gate  \\\n",
       "46674                        MY                    NaN   \n",
       "\n",
       "                    departure_airport_name departure_airport_region  \\\n",
       "46674  Kota Kinabalu International Airport                     Asia   \n",
       "\n",
       "      departure_airport_terminal departure_airport_timezone  \\\n",
       "46674                          1          Asia/Kuala_Lumpur   \n",
       "\n",
       "      arrival_airport_city arrival_airport_code arrival_airport_country  \\\n",
       "46674                 Mulu                  MZV                      MY   \n",
       "\n",
       "      arrival_airport_gate arrival_airport_name arrival_airport_region  \\\n",
       "46674                  NaN         Mulu Airport                   Asia   \n",
       "\n",
       "      arrival_airport_terminal arrival_airport_timezone flight_equipment_iata  \\\n",
       "46674                      NaN        Asia/Kuala_Lumpur                   AT7   \n",
       "\n",
       "      flight_equipment_name flight_duration  delay  flag_test  \\\n",
       "46674                ATR 72             55m      1          0   \n",
       "\n",
       "       scheduled_flight_duration  distance  scheduled_flight_duration_h  \\\n",
       "46674                       55.0    251.01                     0.916667   \n",
       "\n",
       "       flight_velocity  flag_faster_flight scheduled_departure_day  \\\n",
       "46674       273.829091                 1.0                 Tuesday   \n",
       "\n",
       "       scheduled_departure_weekend_flag  scheduled_departure_hour  \\\n",
       "46674                                 0                         4   \n",
       "\n",
       "       scheduled_arrival_hour scheduled_departure_pod  \\\n",
       "46674                     5.0              Late Night   \n",
       "\n",
       "      scheduled_departure_date  scheduled_departure_holiday_flag  \\\n",
       "46674               2018-10-30                                 0   \n",
       "\n",
       "       scheduled_departure_min_1_holiday_flag  flag_delay  delay_level  \\\n",
       "46674                                       1           1  small delay   \n",
       "\n",
       "       cnt_by_airport_date  cnt_by_dep_airport_hour  cnt_by_arr_airport_hour  \n",
       "46674                  164                      689                     33.0  "
      ]
     },
     "execution_count": 48,
     "metadata": {},
     "output_type": "execute_result"
    }
   ],
   "source": [
    "df.sample()"
   ]
  },
  {
   "cell_type": "markdown",
   "metadata": {},
   "source": [
    "### Get Wake Category from Flight_Equipment_IATA\n",
    "The wake category is obtained from the [Flugzeuginfo.net](http://www.flugzeuginfo.net/table_accodes_iata_en.php). Wake turbulence is a disturbance in the atmosphere that forms behind an aircraft as it passes through the air. It includes various components, the most important of which are wingtip vortices and jetwash. ICAO mandates the Wake turbulence categories based upon the Maximum Takeoff Weight (MTOW) of the aircraft. The FAA uses a similar system, though with different weights (Wikipedia).\n",
    "\n",
    "| ICAO Category | MTOW                                          |\n",
    "|---------------|-----------------------------------------------|\n",
    "| Light (L)     | x <= 7,000 kilograms (15,000 lb)              |\n",
    "| Medium (M)    | 7,000 kg < x < 136,000 kilograms (300,000 lb) |\n",
    "| Heavy (H)     | 136,000 kg <= x                               |\n",
    "| Super (J)     | Airbus A380                                   |"
   ]
  },
  {
   "cell_type": "code",
   "execution_count": 49,
   "metadata": {
    "collapsed": true
   },
   "outputs": [],
   "source": [
    "flightment_iata_df = pd.read_csv(\"../data/flight/flightment_iata.csv\")"
   ]
  },
  {
   "cell_type": "code",
   "execution_count": 50,
   "metadata": {
    "collapsed": true
   },
   "outputs": [],
   "source": [
    "df = pd.merge(df, flightment_iata_df[[\"IATA\", \"Wake\"]], how='left', left_on=\"flight_equipment_iata\", right_on=\"IATA\")"
   ]
  },
  {
   "cell_type": "markdown",
   "metadata": {},
   "source": [
    "### Get the Weather Data"
   ]
  },
  {
   "cell_type": "markdown",
   "metadata": {},
   "source": [
    "#### Clean the Weather Data"
   ]
  },
  {
   "cell_type": "code",
   "execution_count": 51,
   "metadata": {},
   "outputs": [
    {
     "data": {
      "text/plain": [
       "array(['Kuala Lumpur', 'Kota Kinabalu', 'Sandakan', 'Kudat', 'Miri',\n",
       "       'Labuan', 'Penang', 'Kuching', 'Bintulu', 'Johor Bharu',\n",
       "       'Langkawi', 'Sibu', 'Marudi', 'Kota Bharu', 'Lawas', 'Mulu'],\n",
       "      dtype=object)"
      ]
     },
     "execution_count": 51,
     "metadata": {},
     "output_type": "execute_result"
    }
   ],
   "source": [
    "df[\"departure_airport_city\"].unique()"
   ]
  },
  {
   "cell_type": "code",
   "execution_count": 52,
   "metadata": {
    "collapsed": true
   },
   "outputs": [],
   "source": [
    "weather_data_df = pd.read_csv(\"../data/flight/weather_data/labuan.csv\", index_col=False, sep=\";\")"
   ]
  },
  {
   "cell_type": "code",
   "execution_count": 53,
   "metadata": {},
   "outputs": [
    {
     "data": {
      "text/html": [
       "<div>\n",
       "<style scoped>\n",
       "    .dataframe tbody tr th:only-of-type {\n",
       "        vertical-align: middle;\n",
       "    }\n",
       "\n",
       "    .dataframe tbody tr th {\n",
       "        vertical-align: top;\n",
       "    }\n",
       "\n",
       "    .dataframe thead th {\n",
       "        text-align: right;\n",
       "    }\n",
       "</style>\n",
       "<table border=\"1\" class=\"dataframe\">\n",
       "  <thead>\n",
       "    <tr style=\"text-align: right;\">\n",
       "      <th></th>\n",
       "      <th>Local time in Labuan (airport)</th>\n",
       "      <th>T</th>\n",
       "      <th>Po</th>\n",
       "      <th>P</th>\n",
       "      <th>Pa</th>\n",
       "      <th>U</th>\n",
       "      <th>DD</th>\n",
       "      <th>Ff</th>\n",
       "      <th>ff10</th>\n",
       "      <th>ff3</th>\n",
       "      <th>N</th>\n",
       "      <th>WW</th>\n",
       "      <th>W1</th>\n",
       "      <th>W2</th>\n",
       "      <th>Tn</th>\n",
       "      <th>Tx</th>\n",
       "      <th>Cl</th>\n",
       "      <th>Nh</th>\n",
       "      <th>H</th>\n",
       "      <th>Cm</th>\n",
       "      <th>Ch</th>\n",
       "      <th>VV</th>\n",
       "      <th>Td</th>\n",
       "      <th>RRR</th>\n",
       "      <th>tR</th>\n",
       "      <th>E</th>\n",
       "      <th>Tg</th>\n",
       "      <th>E'</th>\n",
       "      <th>sss</th>\n",
       "    </tr>\n",
       "  </thead>\n",
       "  <tbody>\n",
       "    <tr>\n",
       "      <th>467</th>\n",
       "      <td>03.11.2018 14:00</td>\n",
       "      <td>33.5</td>\n",
       "      <td>753.5</td>\n",
       "      <td>756.0</td>\n",
       "      <td>-2.0</td>\n",
       "      <td>61</td>\n",
       "      <td>Wind blowing from the north-east</td>\n",
       "      <td>2</td>\n",
       "      <td>NaN</td>\n",
       "      <td>NaN</td>\n",
       "      <td>90  or more, but not 100%</td>\n",
       "      <td>Clouds generally forming or developing.</td>\n",
       "      <td>Cloud covering more than 1/2 of the sky throug...</td>\n",
       "      <td>Cloud covering more than 1/2 of the sky throug...</td>\n",
       "      <td>NaN</td>\n",
       "      <td>NaN</td>\n",
       "      <td>Cumulus and Stratocumulus other than Stratocum...</td>\n",
       "      <td>10%  or less, but not 0</td>\n",
       "      <td>300-600</td>\n",
       "      <td>Patches (often lenticular) of Altocumulus tran...</td>\n",
       "      <td>Cirrus spissatus, in patches or entangled shea...</td>\n",
       "      <td>30.0</td>\n",
       "      <td>24.9</td>\n",
       "      <td>No precipitation</td>\n",
       "      <td>6.0</td>\n",
       "      <td>NaN</td>\n",
       "      <td>NaN</td>\n",
       "      <td>NaN</td>\n",
       "      <td>NaN</td>\n",
       "    </tr>\n",
       "  </tbody>\n",
       "</table>\n",
       "</div>"
      ],
      "text/plain": [
       "    Local time in Labuan (airport)     T     Po      P   Pa   U  \\\n",
       "467               03.11.2018 14:00  33.5  753.5  756.0 -2.0  61   \n",
       "\n",
       "                                   DD  Ff  ff10  ff3  \\\n",
       "467  Wind blowing from the north-east   2   NaN  NaN   \n",
       "\n",
       "                             N                                        WW  \\\n",
       "467  90  or more, but not 100%  Clouds generally forming or developing.    \n",
       "\n",
       "                                                    W1  \\\n",
       "467  Cloud covering more than 1/2 of the sky throug...   \n",
       "\n",
       "                                                    W2  Tn  Tx  \\\n",
       "467  Cloud covering more than 1/2 of the sky throug... NaN NaN   \n",
       "\n",
       "                                                    Cl  \\\n",
       "467  Cumulus and Stratocumulus other than Stratocum...   \n",
       "\n",
       "                          Nh        H  \\\n",
       "467  10%  or less, but not 0  300-600   \n",
       "\n",
       "                                                    Cm  \\\n",
       "467  Patches (often lenticular) of Altocumulus tran...   \n",
       "\n",
       "                                                    Ch    VV    Td  \\\n",
       "467  Cirrus spissatus, in patches or entangled shea...  30.0  24.9   \n",
       "\n",
       "                  RRR   tR   E  Tg  E'  sss  \n",
       "467  No precipitation  6.0 NaN NaN NaN  NaN  "
      ]
     },
     "execution_count": 53,
     "metadata": {},
     "output_type": "execute_result"
    }
   ],
   "source": [
    "weather_data_df.sample()"
   ]
  },
  {
   "cell_type": "code",
   "execution_count": 54,
   "metadata": {
    "collapsed": true
   },
   "outputs": [],
   "source": [
    "weather_data_df[\"date\"] = weather_data_df.iloc[:,0].str.split().str[0].str.split(\".\").apply(lambda x: np.array(x)[[2, 1, 0]]).str.join(\"-\")\n",
    "weather_data_df[\"time\"] = weather_data_df.iloc[:,0].str.split().str[1].str.split(\":\").str[0]"
   ]
  },
  {
   "cell_type": "code",
   "execution_count": 55,
   "metadata": {
    "collapsed": true
   },
   "outputs": [],
   "source": [
    "weather_data_df = weather_data_df[[\"date\", \"time\", \"T\", \"Po\", \"U\", \"DD\", \"Ff\", \"N\", \"WW\", \"Cl\", \"Nh\", \"H\", \"VV\"]]"
   ]
  },
  {
   "cell_type": "code",
   "execution_count": 56,
   "metadata": {
    "collapsed": true
   },
   "outputs": [],
   "source": [
    "weather_data_df[\"city\"] = \"Labuan\""
   ]
  },
  {
   "cell_type": "code",
   "execution_count": 57,
   "metadata": {
    "collapsed": true,
    "scrolled": false
   },
   "outputs": [],
   "source": [
    "# weather_data_comp_df = weather_data_df.copy()"
   ]
  },
  {
   "cell_type": "code",
   "execution_count": 58,
   "metadata": {
    "collapsed": true
   },
   "outputs": [],
   "source": [
    "# weather_data_comp_df = weather_data_comp_df.append(weather_data_df)"
   ]
  },
  {
   "cell_type": "code",
   "execution_count": 59,
   "metadata": {
    "collapsed": true
   },
   "outputs": [],
   "source": [
    "# weather_data_comp_df.to_csv(\"weather_data_comp.csv\", index=False, encoding = \"utf-8\")"
   ]
  },
  {
   "cell_type": "code",
   "execution_count": 60,
   "metadata": {
    "collapsed": true
   },
   "outputs": [],
   "source": [
    "weather_data_comp_df = pd.read_csv(\"weather_data_comp.csv\")"
   ]
  },
  {
   "cell_type": "markdown",
   "metadata": {},
   "source": [
    "### Find the Closest Time and Date to Weather"
   ]
  },
  {
   "cell_type": "code",
   "execution_count": 61,
   "metadata": {},
   "outputs": [
    {
     "data": {
      "text/plain": [
       "array([23, 20, 17, 14, 11,  8,  5,  2], dtype=int64)"
      ]
     },
     "execution_count": 61,
     "metadata": {},
     "output_type": "execute_result"
    }
   ],
   "source": [
    "weather_data_comp_df[\"time\"].unique()"
   ]
  },
  {
   "cell_type": "code",
   "execution_count": 62,
   "metadata": {},
   "outputs": [
    {
     "data": {
      "text/plain": [
       "array([22, 23,  6,  0,  1,  2,  3,  4,  5,  7,  8,  9, 10, 11, 12, 13, 14,\n",
       "       15, 16, 17, 18, 21, 19, 20], dtype=int64)"
      ]
     },
     "execution_count": 62,
     "metadata": {},
     "output_type": "execute_result"
    }
   ],
   "source": [
    "df[\"scheduled_departure_hour\"].unique()"
   ]
  },
  {
   "cell_type": "code",
   "execution_count": 63,
   "metadata": {
    "collapsed": true
   },
   "outputs": [],
   "source": [
    "def get_closest_weather_time(time):\n",
    "    if time in [1, 2, 3]:\n",
    "        return \"02\"\n",
    "    elif time in [4, 5, 6]:\n",
    "        return \"05\"\n",
    "    elif time in [7, 8, 9]:\n",
    "        return \"08\"\n",
    "    elif time in [10, 11, 12]:\n",
    "        return \"11\"\n",
    "    elif time in [13, 14, 15]:\n",
    "        return \"14\"\n",
    "    elif time in [16, 17, 18]:\n",
    "        return \"17\"\n",
    "    elif time in [19, 20, 21]:\n",
    "        return \"20\"\n",
    "    elif time in [22, 23, 0]:\n",
    "        return \"23\""
   ]
  },
  {
   "cell_type": "code",
   "execution_count": 64,
   "metadata": {
    "collapsed": true
   },
   "outputs": [],
   "source": [
    "df[\"closest_weather_time\"] = df[\"scheduled_departure_hour\"].apply(get_closest_weather_time).astype(int)"
   ]
  },
  {
   "cell_type": "markdown",
   "metadata": {},
   "source": [
    "#### Combine Weather Data with the Flight Data"
   ]
  },
  {
   "cell_type": "code",
   "execution_count": 65,
   "metadata": {},
   "outputs": [
    {
     "data": {
      "text/html": [
       "<div>\n",
       "<style scoped>\n",
       "    .dataframe tbody tr th:only-of-type {\n",
       "        vertical-align: middle;\n",
       "    }\n",
       "\n",
       "    .dataframe tbody tr th {\n",
       "        vertical-align: top;\n",
       "    }\n",
       "\n",
       "    .dataframe thead th {\n",
       "        text-align: right;\n",
       "    }\n",
       "</style>\n",
       "<table border=\"1\" class=\"dataframe\">\n",
       "  <thead>\n",
       "    <tr style=\"text-align: right;\">\n",
       "      <th></th>\n",
       "      <th>id</th>\n",
       "      <th>number</th>\n",
       "      <th>airline</th>\n",
       "      <th>airline_name</th>\n",
       "      <th>scheduled_departure_time</th>\n",
       "      <th>scheduled_arrival_time</th>\n",
       "      <th>departure_airport_city</th>\n",
       "      <th>departure_airport_code</th>\n",
       "      <th>departure_airport_country</th>\n",
       "      <th>departure_airport_gate</th>\n",
       "      <th>departure_airport_name</th>\n",
       "      <th>departure_airport_region</th>\n",
       "      <th>departure_airport_terminal</th>\n",
       "      <th>departure_airport_timezone</th>\n",
       "      <th>arrival_airport_city</th>\n",
       "      <th>arrival_airport_code</th>\n",
       "      <th>arrival_airport_country</th>\n",
       "      <th>arrival_airport_gate</th>\n",
       "      <th>arrival_airport_name</th>\n",
       "      <th>arrival_airport_region</th>\n",
       "      <th>arrival_airport_terminal</th>\n",
       "      <th>arrival_airport_timezone</th>\n",
       "      <th>flight_equipment_iata</th>\n",
       "      <th>flight_equipment_name</th>\n",
       "      <th>flight_duration</th>\n",
       "      <th>delay</th>\n",
       "      <th>flag_test</th>\n",
       "      <th>scheduled_flight_duration</th>\n",
       "      <th>distance</th>\n",
       "      <th>scheduled_flight_duration_h</th>\n",
       "      <th>flight_velocity</th>\n",
       "      <th>flag_faster_flight</th>\n",
       "      <th>scheduled_departure_day</th>\n",
       "      <th>scheduled_departure_weekend_flag</th>\n",
       "      <th>scheduled_departure_hour</th>\n",
       "      <th>scheduled_arrival_hour</th>\n",
       "      <th>scheduled_departure_pod</th>\n",
       "      <th>scheduled_departure_date</th>\n",
       "      <th>scheduled_departure_holiday_flag</th>\n",
       "      <th>scheduled_departure_min_1_holiday_flag</th>\n",
       "      <th>flag_delay</th>\n",
       "      <th>delay_level</th>\n",
       "      <th>cnt_by_airport_date</th>\n",
       "      <th>cnt_by_dep_airport_hour</th>\n",
       "      <th>cnt_by_arr_airport_hour</th>\n",
       "      <th>IATA</th>\n",
       "      <th>Wake</th>\n",
       "      <th>closest_weather_time</th>\n",
       "    </tr>\n",
       "  </thead>\n",
       "  <tbody>\n",
       "    <tr>\n",
       "      <th>82563</th>\n",
       "      <td>328936</td>\n",
       "      <td>AK278</td>\n",
       "      <td>AK</td>\n",
       "      <td>AirAsia</td>\n",
       "      <td>2018-11-17 05:40:00</td>\n",
       "      <td>2018-11-17 08:05:00</td>\n",
       "      <td>Kuala Lumpur</td>\n",
       "      <td>KUL</td>\n",
       "      <td>MY</td>\n",
       "      <td>L2</td>\n",
       "      <td>Kuala Lumpur International Airport</td>\n",
       "      <td>Asia</td>\n",
       "      <td>2</td>\n",
       "      <td>Asia/Kuala_Lumpur</td>\n",
       "      <td>Bandar Seri Begawan</td>\n",
       "      <td>BWN</td>\n",
       "      <td>BN</td>\n",
       "      <td>NaN</td>\n",
       "      <td>Brunei International Airport</td>\n",
       "      <td>Asia</td>\n",
       "      <td>NaN</td>\n",
       "      <td>Asia/Brunei</td>\n",
       "      <td>32S</td>\n",
       "      <td>Airbus A318 / A319 / A320 / A321</td>\n",
       "      <td>2h 36m</td>\n",
       "      <td>8</td>\n",
       "      <td>0</td>\n",
       "      <td>145.0</td>\n",
       "      <td>1487.07</td>\n",
       "      <td>2.416667</td>\n",
       "      <td>615.33931</td>\n",
       "      <td>0.0</td>\n",
       "      <td>Saturday</td>\n",
       "      <td>1</td>\n",
       "      <td>5</td>\n",
       "      <td>8.0</td>\n",
       "      <td>Early Morning</td>\n",
       "      <td>2018-11-17</td>\n",
       "      <td>0</td>\n",
       "      <td>0</td>\n",
       "      <td>1</td>\n",
       "      <td>medium delay</td>\n",
       "      <td>1108</td>\n",
       "      <td>3934</td>\n",
       "      <td>54.0</td>\n",
       "      <td>NaN</td>\n",
       "      <td>NaN</td>\n",
       "      <td>5</td>\n",
       "    </tr>\n",
       "  </tbody>\n",
       "</table>\n",
       "</div>"
      ],
      "text/plain": [
       "           id number airline airline_name scheduled_departure_time  \\\n",
       "82563  328936  AK278      AK      AirAsia      2018-11-17 05:40:00   \n",
       "\n",
       "      scheduled_arrival_time departure_airport_city departure_airport_code  \\\n",
       "82563    2018-11-17 08:05:00           Kuala Lumpur                    KUL   \n",
       "\n",
       "      departure_airport_country departure_airport_gate  \\\n",
       "82563                        MY                     L2   \n",
       "\n",
       "                   departure_airport_name departure_airport_region  \\\n",
       "82563  Kuala Lumpur International Airport                     Asia   \n",
       "\n",
       "      departure_airport_terminal departure_airport_timezone  \\\n",
       "82563                          2          Asia/Kuala_Lumpur   \n",
       "\n",
       "      arrival_airport_city arrival_airport_code arrival_airport_country  \\\n",
       "82563  Bandar Seri Begawan                  BWN                      BN   \n",
       "\n",
       "      arrival_airport_gate          arrival_airport_name  \\\n",
       "82563                  NaN  Brunei International Airport   \n",
       "\n",
       "      arrival_airport_region arrival_airport_terminal  \\\n",
       "82563                   Asia                      NaN   \n",
       "\n",
       "      arrival_airport_timezone flight_equipment_iata  \\\n",
       "82563              Asia/Brunei                   32S   \n",
       "\n",
       "                  flight_equipment_name flight_duration  delay  flag_test  \\\n",
       "82563  Airbus A318 / A319 / A320 / A321          2h 36m      8          0   \n",
       "\n",
       "       scheduled_flight_duration  distance  scheduled_flight_duration_h  \\\n",
       "82563                      145.0   1487.07                     2.416667   \n",
       "\n",
       "       flight_velocity  flag_faster_flight scheduled_departure_day  \\\n",
       "82563        615.33931                 0.0                Saturday   \n",
       "\n",
       "       scheduled_departure_weekend_flag  scheduled_departure_hour  \\\n",
       "82563                                 1                         5   \n",
       "\n",
       "       scheduled_arrival_hour scheduled_departure_pod  \\\n",
       "82563                     8.0           Early Morning   \n",
       "\n",
       "      scheduled_departure_date  scheduled_departure_holiday_flag  \\\n",
       "82563               2018-11-17                                 0   \n",
       "\n",
       "       scheduled_departure_min_1_holiday_flag  flag_delay   delay_level  \\\n",
       "82563                                       0           1  medium delay   \n",
       "\n",
       "       cnt_by_airport_date  cnt_by_dep_airport_hour  cnt_by_arr_airport_hour  \\\n",
       "82563                 1108                     3934                     54.0   \n",
       "\n",
       "      IATA Wake  closest_weather_time  \n",
       "82563  NaN  NaN                     5  "
      ]
     },
     "execution_count": 65,
     "metadata": {},
     "output_type": "execute_result"
    }
   ],
   "source": [
    "df.sample()"
   ]
  },
  {
   "cell_type": "code",
   "execution_count": 66,
   "metadata": {
    "collapsed": true
   },
   "outputs": [],
   "source": [
    "df = pd.merge(df, weather_data_comp_df, how='left', left_on=[\"scheduled_departure_date\", \"closest_weather_time\", \"departure_airport_city\"], right_on=[\"date\", \"time\", \"city\"])"
   ]
  },
  {
   "cell_type": "code",
   "execution_count": 67,
   "metadata": {
    "collapsed": true
   },
   "outputs": [],
   "source": [
    "merged_weather_df = df[[\"IATA\", \"Wake\", \"T\", \"Po\", \"U\", \"DD\", \"Ff\", \"N\", \"WW\", \"Cl\", \"Nh\", \"H\", \"VV\"]]"
   ]
  },
  {
   "cell_type": "code",
   "execution_count": 68,
   "metadata": {},
   "outputs": [
    {
     "data": {
      "text/plain": [
       "array(['Kota Kinabalu', 'Sandakan', 'Kudat', 'Bintulu', 'Johor Bharu',\n",
       "       'Langkawi', 'Sibu', 'Marudi', 'Lawas', 'Mulu'], dtype=object)"
      ]
     },
     "execution_count": 68,
     "metadata": {},
     "output_type": "execute_result"
    }
   ],
   "source": [
    "df[df[\"T\"].isnull()][\"departure_airport_city\"].unique()"
   ]
  },
  {
   "cell_type": "code",
   "execution_count": 69,
   "metadata": {},
   "outputs": [
    {
     "data": {
      "text/plain": [
       "array(['Kuala Lumpur', 'Miri', 'Labuan', 'Penang', 'Kuching',\n",
       "       'Johor Bharu', 'Langkawi', 'Kota Bharu'], dtype=object)"
      ]
     },
     "execution_count": 69,
     "metadata": {},
     "output_type": "execute_result"
    }
   ],
   "source": [
    "df[~df[\"T\"].isnull()][\"departure_airport_city\"].unique()"
   ]
  },
  {
   "cell_type": "markdown",
   "metadata": {},
   "source": [
    "#### Find the Closest Location to the Airport with No Weather"
   ]
  },
  {
   "cell_type": "code",
   "execution_count": 70,
   "metadata": {
    "collapsed": true
   },
   "outputs": [],
   "source": [
    "airport_df = pd.read_csv(\"../data/flight/my_airport.csv\")"
   ]
  },
  {
   "cell_type": "code",
   "execution_count": 71,
   "metadata": {},
   "outputs": [
    {
     "data": {
      "text/html": [
       "<div>\n",
       "<style scoped>\n",
       "    .dataframe tbody tr th:only-of-type {\n",
       "        vertical-align: middle;\n",
       "    }\n",
       "\n",
       "    .dataframe tbody tr th {\n",
       "        vertical-align: top;\n",
       "    }\n",
       "\n",
       "    .dataframe thead th {\n",
       "        text-align: right;\n",
       "    }\n",
       "</style>\n",
       "<table border=\"1\" class=\"dataframe\">\n",
       "  <thead>\n",
       "    <tr style=\"text-align: right;\">\n",
       "      <th></th>\n",
       "      <th>id</th>\n",
       "      <th>ident</th>\n",
       "      <th>type</th>\n",
       "      <th>name</th>\n",
       "      <th>latitude_deg</th>\n",
       "      <th>longitude_deg</th>\n",
       "      <th>elevation_ft</th>\n",
       "      <th>continent</th>\n",
       "      <th>iso_country</th>\n",
       "      <th>iso_region</th>\n",
       "      <th>municipality</th>\n",
       "      <th>scheduled_service</th>\n",
       "      <th>gps_code</th>\n",
       "      <th>iata_code</th>\n",
       "    </tr>\n",
       "  </thead>\n",
       "  <tbody>\n",
       "    <tr>\n",
       "      <th>0</th>\n",
       "      <td>41322</td>\n",
       "      <td>WMAA</td>\n",
       "      <td>small_airport</td>\n",
       "      <td>Bahau Airport</td>\n",
       "      <td>2.816670</td>\n",
       "      <td>102.417000</td>\n",
       "      <td>214.0</td>\n",
       "      <td>AS</td>\n",
       "      <td>MY</td>\n",
       "      <td>MY-05</td>\n",
       "      <td>Bahau</td>\n",
       "      <td>no</td>\n",
       "      <td>WMAA</td>\n",
       "      <td>NaN</td>\n",
       "    </tr>\n",
       "    <tr>\n",
       "      <th>1</th>\n",
       "      <td>41323</td>\n",
       "      <td>WMAB</td>\n",
       "      <td>small_airport</td>\n",
       "      <td>Batu Pahat Airport</td>\n",
       "      <td>1.860242</td>\n",
       "      <td>102.901001</td>\n",
       "      <td>30.0</td>\n",
       "      <td>AS</td>\n",
       "      <td>MY</td>\n",
       "      <td>MY-01</td>\n",
       "      <td>Batu Pahat</td>\n",
       "      <td>no</td>\n",
       "      <td>WMAB</td>\n",
       "      <td>NaN</td>\n",
       "    </tr>\n",
       "    <tr>\n",
       "      <th>2</th>\n",
       "      <td>32660</td>\n",
       "      <td>WMAC</td>\n",
       "      <td>small_airport</td>\n",
       "      <td>Benta Airport</td>\n",
       "      <td>4.050000</td>\n",
       "      <td>101.983002</td>\n",
       "      <td>250.0</td>\n",
       "      <td>AS</td>\n",
       "      <td>MY</td>\n",
       "      <td>MY-06</td>\n",
       "      <td>Benta</td>\n",
       "      <td>no</td>\n",
       "      <td>WMAC</td>\n",
       "      <td>NaN</td>\n",
       "    </tr>\n",
       "    <tr>\n",
       "      <th>3</th>\n",
       "      <td>32661</td>\n",
       "      <td>WMAD</td>\n",
       "      <td>small_airport</td>\n",
       "      <td>Bentong Airport</td>\n",
       "      <td>3.550000</td>\n",
       "      <td>101.883003</td>\n",
       "      <td>350.0</td>\n",
       "      <td>AS</td>\n",
       "      <td>MY</td>\n",
       "      <td>MY-06</td>\n",
       "      <td>Bentong</td>\n",
       "      <td>no</td>\n",
       "      <td>WMAD</td>\n",
       "      <td>NaN</td>\n",
       "    </tr>\n",
       "    <tr>\n",
       "      <th>4</th>\n",
       "      <td>32662</td>\n",
       "      <td>WMAE</td>\n",
       "      <td>small_airport</td>\n",
       "      <td>Bidor Airport</td>\n",
       "      <td>4.116389</td>\n",
       "      <td>101.281998</td>\n",
       "      <td>128.0</td>\n",
       "      <td>AS</td>\n",
       "      <td>MY</td>\n",
       "      <td>MY-08</td>\n",
       "      <td>Bidor</td>\n",
       "      <td>no</td>\n",
       "      <td>WMAE</td>\n",
       "      <td>NaN</td>\n",
       "    </tr>\n",
       "  </tbody>\n",
       "</table>\n",
       "</div>"
      ],
      "text/plain": [
       "      id ident           type                name  latitude_deg  \\\n",
       "0  41322  WMAA  small_airport       Bahau Airport      2.816670   \n",
       "1  41323  WMAB  small_airport  Batu Pahat Airport      1.860242   \n",
       "2  32660  WMAC  small_airport       Benta Airport      4.050000   \n",
       "3  32661  WMAD  small_airport     Bentong Airport      3.550000   \n",
       "4  32662  WMAE  small_airport       Bidor Airport      4.116389   \n",
       "\n",
       "   longitude_deg  elevation_ft continent iso_country iso_region municipality  \\\n",
       "0     102.417000         214.0        AS          MY      MY-05        Bahau   \n",
       "1     102.901001          30.0        AS          MY      MY-01   Batu Pahat   \n",
       "2     101.983002         250.0        AS          MY      MY-06        Benta   \n",
       "3     101.883003         350.0        AS          MY      MY-06      Bentong   \n",
       "4     101.281998         128.0        AS          MY      MY-08        Bidor   \n",
       "\n",
       "  scheduled_service gps_code iata_code  \n",
       "0                no     WMAA       NaN  \n",
       "1                no     WMAB       NaN  \n",
       "2                no     WMAC       NaN  \n",
       "3                no     WMAD       NaN  \n",
       "4                no     WMAE       NaN  "
      ]
     },
     "execution_count": 71,
     "metadata": {},
     "output_type": "execute_result"
    }
   ],
   "source": [
    "airport_df.head()"
   ]
  },
  {
   "cell_type": "code",
   "execution_count": 72,
   "metadata": {
    "collapsed": true
   },
   "outputs": [],
   "source": [
    "df_airport_list = df.drop_duplicates(subset=[\"departure_airport_code\"])[[\"departure_airport_code\"]].values.reshape(-1)"
   ]
  },
  {
   "cell_type": "code",
   "execution_count": 73,
   "metadata": {
    "collapsed": true
   },
   "outputs": [],
   "source": [
    "# Calculate the Nearest distance between two airports\n",
    "def distance(lat1, lon1, lat2, lon2):  \n",
    "    p = 0.017453292519943295\n",
    "    a = 0.5 - cos((lat2-lat1)*p)/2 + cos(lat1*p)*cos(lat2*p) * (1-cos((lon2-lon1)*p)) / 2\n",
    "    \n",
    "    return 12742 * asin(sqrt(a)) #2*R*asin.."
   ]
  },
  {
   "cell_type": "code",
   "execution_count": 74,
   "metadata": {},
   "outputs": [
    {
     "data": {
      "text/plain": [
       "array([[  2.81666994, 102.4169998 ],\n",
       "       [  1.86024201, 102.901001  ],\n",
       "       [  4.05000019, 101.9830017 ],\n",
       "       [  3.54999995, 101.8830032 ],\n",
       "       [  4.1163888 , 101.2819977 ],\n",
       "       [  4.78629017, 103.3820038 ],\n",
       "       [  5.43276977, 101.1230011 ],\n",
       "       [  3.89971995, 100.9489975 ],\n",
       "       [  5.53868008, 102.1949997 ],\n",
       "       [  4.33027792, 102.3949966 ],\n",
       "       [  2.04138994, 103.3069992 ],\n",
       "       [  2.4003799 , 103.0400009 ],\n",
       "       [  2.3829999 , 103.8669968 ],\n",
       "       [  2.04999995, 102.6500015 ],\n",
       "       [  2.5       , 102.8330002 ],\n",
       "       [  4.2222    , 100.6993    ],\n",
       "       [  5.61761999, 100.5429993 ],\n",
       "       [  3.46700001, 102.3830032 ],\n",
       "       [  3.75      , 101.1669998 ],\n",
       "       [  5.68300009, 100.9830017 ],\n",
       "       [  4.8670001 , 100.7170029 ],\n",
       "       [  2.81818008, 104.1600037 ],\n",
       "       [  5.79957008, 102.4840012 ],\n",
       "       [  6.18967009, 100.3980026 ],\n",
       "       [  5.46591997, 100.3909988 ],\n",
       "       [  6.16685009, 102.2929993 ],\n",
       "       [  3.77538991, 103.2089996 ],\n",
       "       [  4.53722   , 103.427002  ],\n",
       "       [  3.11225009, 101.7030029 ],\n",
       "       [  4.5679698 , 101.0920029 ],\n",
       "       [  1.64131   , 103.669998  ],\n",
       "       [  2.74557996, 101.7099991 ],\n",
       "       [  6.32973003,  99.72869873],\n",
       "       [  2.26336002, 102.2519989 ],\n",
       "       [  5.38263988, 103.1029968 ],\n",
       "       [  5.29714012, 100.2770004 ],\n",
       "       [  4.23222017, 100.6159973 ],\n",
       "       [  4.44999981, 114.        ],\n",
       "       [  4.24471998, 100.5530014 ],\n",
       "       [  5.76527977, 103.0070038 ],\n",
       "       [  3.13057995, 101.5490036 ]])"
      ]
     },
     "execution_count": 74,
     "metadata": {},
     "output_type": "execute_result"
    }
   ],
   "source": [
    "airport_df[[\"latitude_deg\", \"longitude_deg\"]].values"
   ]
  },
  {
   "cell_type": "code",
   "execution_count": 75,
   "metadata": {},
   "outputs": [
    {
     "data": {
      "text/html": [
       "<div>\n",
       "<style scoped>\n",
       "    .dataframe tbody tr th:only-of-type {\n",
       "        vertical-align: middle;\n",
       "    }\n",
       "\n",
       "    .dataframe tbody tr th {\n",
       "        vertical-align: top;\n",
       "    }\n",
       "\n",
       "    .dataframe thead th {\n",
       "        text-align: right;\n",
       "    }\n",
       "</style>\n",
       "<table border=\"1\" class=\"dataframe\">\n",
       "  <thead>\n",
       "    <tr style=\"text-align: right;\">\n",
       "      <th></th>\n",
       "      <th>data_type</th>\n",
       "      <th>#_unique</th>\n",
       "      <th>#_nan</th>\n",
       "      <th>%_nan</th>\n",
       "    </tr>\n",
       "  </thead>\n",
       "  <tbody>\n",
       "    <tr>\n",
       "      <th>T</th>\n",
       "      <td>float64</td>\n",
       "      <td>115</td>\n",
       "      <td>20331</td>\n",
       "      <td>13.320885</td>\n",
       "    </tr>\n",
       "    <tr>\n",
       "      <th>Po</th>\n",
       "      <td>float64</td>\n",
       "      <td>92</td>\n",
       "      <td>20331</td>\n",
       "      <td>13.320885</td>\n",
       "    </tr>\n",
       "    <tr>\n",
       "      <th>U</th>\n",
       "      <td>float64</td>\n",
       "      <td>49</td>\n",
       "      <td>20331</td>\n",
       "      <td>13.320885</td>\n",
       "    </tr>\n",
       "    <tr>\n",
       "      <th>IATA</th>\n",
       "      <td>object</td>\n",
       "      <td>44</td>\n",
       "      <td>44602</td>\n",
       "      <td>29.223260</td>\n",
       "    </tr>\n",
       "    <tr>\n",
       "      <th>VV</th>\n",
       "      <td>float64</td>\n",
       "      <td>37</td>\n",
       "      <td>20331</td>\n",
       "      <td>13.320885</td>\n",
       "    </tr>\n",
       "    <tr>\n",
       "      <th>WW</th>\n",
       "      <td>object</td>\n",
       "      <td>30</td>\n",
       "      <td>20331</td>\n",
       "      <td>13.320885</td>\n",
       "    </tr>\n",
       "    <tr>\n",
       "      <th>DD</th>\n",
       "      <td>object</td>\n",
       "      <td>16</td>\n",
       "      <td>20331</td>\n",
       "      <td>13.320885</td>\n",
       "    </tr>\n",
       "    <tr>\n",
       "      <th>Cl</th>\n",
       "      <td>object</td>\n",
       "      <td>9</td>\n",
       "      <td>20331</td>\n",
       "      <td>13.320885</td>\n",
       "    </tr>\n",
       "    <tr>\n",
       "      <th>Ff</th>\n",
       "      <td>float64</td>\n",
       "      <td>8</td>\n",
       "      <td>20331</td>\n",
       "      <td>13.320885</td>\n",
       "    </tr>\n",
       "    <tr>\n",
       "      <th>Nh</th>\n",
       "      <td>object</td>\n",
       "      <td>7</td>\n",
       "      <td>20509</td>\n",
       "      <td>13.437510</td>\n",
       "    </tr>\n",
       "    <tr>\n",
       "      <th>H</th>\n",
       "      <td>object</td>\n",
       "      <td>6</td>\n",
       "      <td>20331</td>\n",
       "      <td>13.320885</td>\n",
       "    </tr>\n",
       "    <tr>\n",
       "      <th>N</th>\n",
       "      <td>object</td>\n",
       "      <td>4</td>\n",
       "      <td>20331</td>\n",
       "      <td>13.320885</td>\n",
       "    </tr>\n",
       "    <tr>\n",
       "      <th>Wake</th>\n",
       "      <td>object</td>\n",
       "      <td>3</td>\n",
       "      <td>44602</td>\n",
       "      <td>29.223260</td>\n",
       "    </tr>\n",
       "  </tbody>\n",
       "</table>\n",
       "</div>"
      ],
      "text/plain": [
       "     data_type  #_unique  #_nan      %_nan\n",
       "T      float64       115  20331  13.320885\n",
       "Po     float64        92  20331  13.320885\n",
       "U      float64        49  20331  13.320885\n",
       "IATA    object        44  44602  29.223260\n",
       "VV     float64        37  20331  13.320885\n",
       "WW      object        30  20331  13.320885\n",
       "DD      object        16  20331  13.320885\n",
       "Cl      object         9  20331  13.320885\n",
       "Ff     float64         8  20331  13.320885\n",
       "Nh      object         7  20509  13.437510\n",
       "H       object         6  20331  13.320885\n",
       "N       object         4  20331  13.320885\n",
       "Wake    object         3  44602  29.223260"
      ]
     },
     "execution_count": 75,
     "metadata": {},
     "output_type": "execute_result"
    }
   ],
   "source": [
    "# gives some infos on columns types and number of null values\n",
    "df_info = pd.DataFrame(merged_weather_df.dtypes).rename(columns={0:'data_type'})\n",
    "df_info[\"#_unique\"] = merged_weather_df.nunique()\n",
    "df_info[\"#_nan\"] = merged_weather_df.isnull().sum().astype(int)\n",
    "df_info[\"%_nan\"] = merged_weather_df.isnull().sum()/merged_weather_df.shape[0]*100\n",
    "\n",
    "df_info.sort_values(by=\"#_unique\", ascending=False)"
   ]
  },
  {
   "cell_type": "code",
   "execution_count": 76,
   "metadata": {},
   "outputs": [
    {
     "data": {
      "text/html": [
       "<div>\n",
       "<style scoped>\n",
       "    .dataframe tbody tr th:only-of-type {\n",
       "        vertical-align: middle;\n",
       "    }\n",
       "\n",
       "    .dataframe tbody tr th {\n",
       "        vertical-align: top;\n",
       "    }\n",
       "\n",
       "    .dataframe thead th {\n",
       "        text-align: right;\n",
       "    }\n",
       "</style>\n",
       "<table border=\"1\" class=\"dataframe\">\n",
       "  <thead>\n",
       "    <tr style=\"text-align: right;\">\n",
       "      <th></th>\n",
       "      <th>id</th>\n",
       "      <th>number</th>\n",
       "      <th>airline</th>\n",
       "      <th>airline_name</th>\n",
       "      <th>scheduled_departure_time</th>\n",
       "      <th>scheduled_arrival_time</th>\n",
       "      <th>departure_airport_city</th>\n",
       "      <th>departure_airport_code</th>\n",
       "      <th>departure_airport_country</th>\n",
       "      <th>departure_airport_gate</th>\n",
       "      <th>departure_airport_name</th>\n",
       "      <th>departure_airport_region</th>\n",
       "      <th>departure_airport_terminal</th>\n",
       "      <th>departure_airport_timezone</th>\n",
       "      <th>arrival_airport_city</th>\n",
       "      <th>arrival_airport_code</th>\n",
       "      <th>arrival_airport_country</th>\n",
       "      <th>arrival_airport_gate</th>\n",
       "      <th>arrival_airport_name</th>\n",
       "      <th>arrival_airport_region</th>\n",
       "      <th>arrival_airport_terminal</th>\n",
       "      <th>arrival_airport_timezone</th>\n",
       "      <th>flight_equipment_iata</th>\n",
       "      <th>flight_equipment_name</th>\n",
       "      <th>flight_duration</th>\n",
       "      <th>delay</th>\n",
       "      <th>flag_test</th>\n",
       "      <th>scheduled_flight_duration</th>\n",
       "      <th>distance</th>\n",
       "      <th>scheduled_flight_duration_h</th>\n",
       "      <th>flight_velocity</th>\n",
       "      <th>flag_faster_flight</th>\n",
       "      <th>scheduled_departure_day</th>\n",
       "      <th>scheduled_departure_weekend_flag</th>\n",
       "      <th>scheduled_departure_hour</th>\n",
       "      <th>scheduled_arrival_hour</th>\n",
       "      <th>scheduled_departure_pod</th>\n",
       "      <th>scheduled_departure_date</th>\n",
       "      <th>scheduled_departure_holiday_flag</th>\n",
       "      <th>scheduled_departure_min_1_holiday_flag</th>\n",
       "      <th>flag_delay</th>\n",
       "      <th>delay_level</th>\n",
       "      <th>cnt_by_airport_date</th>\n",
       "      <th>cnt_by_dep_airport_hour</th>\n",
       "      <th>cnt_by_arr_airport_hour</th>\n",
       "      <th>IATA</th>\n",
       "      <th>Wake</th>\n",
       "      <th>closest_weather_time</th>\n",
       "      <th>date</th>\n",
       "      <th>time</th>\n",
       "      <th>T</th>\n",
       "      <th>Po</th>\n",
       "      <th>U</th>\n",
       "      <th>DD</th>\n",
       "      <th>Ff</th>\n",
       "      <th>N</th>\n",
       "      <th>WW</th>\n",
       "      <th>Cl</th>\n",
       "      <th>Nh</th>\n",
       "      <th>H</th>\n",
       "      <th>VV</th>\n",
       "      <th>city</th>\n",
       "    </tr>\n",
       "  </thead>\n",
       "  <tbody>\n",
       "    <tr>\n",
       "      <th>50298</th>\n",
       "      <td>167925</td>\n",
       "      <td>9W4204</td>\n",
       "      <td>9W</td>\n",
       "      <td>Jet Airways (India)</td>\n",
       "      <td>2018-11-01 10:50:00</td>\n",
       "      <td>2018-11-01 16:20:00</td>\n",
       "      <td>Kuala Lumpur</td>\n",
       "      <td>KUL</td>\n",
       "      <td>MY</td>\n",
       "      <td>C36</td>\n",
       "      <td>Kuala Lumpur International Airport</td>\n",
       "      <td>Asia</td>\n",
       "      <td>M</td>\n",
       "      <td>Asia/Kuala_Lumpur</td>\n",
       "      <td>Delhi</td>\n",
       "      <td>DEL</td>\n",
       "      <td>IN</td>\n",
       "      <td>NaN</td>\n",
       "      <td>Indira Gandhi International Airport</td>\n",
       "      <td>Asia</td>\n",
       "      <td>T3</td>\n",
       "      <td>Asia/Kolkata</td>\n",
       "      <td>333</td>\n",
       "      <td>Airbus A330-300</td>\n",
       "      <td>5h 30m</td>\n",
       "      <td>5</td>\n",
       "      <td>0</td>\n",
       "      <td>330.0</td>\n",
       "      <td>3878.14</td>\n",
       "      <td>5.5</td>\n",
       "      <td>705.116364</td>\n",
       "      <td>0.0</td>\n",
       "      <td>Thursday</td>\n",
       "      <td>0</td>\n",
       "      <td>10</td>\n",
       "      <td>16.0</td>\n",
       "      <td>Morning</td>\n",
       "      <td>2018-11-01</td>\n",
       "      <td>0</td>\n",
       "      <td>1</td>\n",
       "      <td>1</td>\n",
       "      <td>medium delay</td>\n",
       "      <td>1142</td>\n",
       "      <td>5221</td>\n",
       "      <td>351.0</td>\n",
       "      <td>333</td>\n",
       "      <td>H</td>\n",
       "      <td>11</td>\n",
       "      <td>2018-11-01</td>\n",
       "      <td>11.0</td>\n",
       "      <td>30.0</td>\n",
       "      <td>756.1</td>\n",
       "      <td>67.0</td>\n",
       "      <td>Wind blowing from the north-northeast</td>\n",
       "      <td>1.0</td>\n",
       "      <td>90  or more, but not 100%</td>\n",
       "      <td>Haze.</td>\n",
       "      <td>Cumulus humilis or Cumulus fractus other than ...</td>\n",
       "      <td>10%  or less, but not 0</td>\n",
       "      <td>300-600</td>\n",
       "      <td>10.0</td>\n",
       "      <td>Kuala Lumpur</td>\n",
       "    </tr>\n",
       "  </tbody>\n",
       "</table>\n",
       "</div>"
      ],
      "text/plain": [
       "           id  number airline         airline_name scheduled_departure_time  \\\n",
       "50298  167925  9W4204      9W  Jet Airways (India)      2018-11-01 10:50:00   \n",
       "\n",
       "      scheduled_arrival_time departure_airport_city departure_airport_code  \\\n",
       "50298    2018-11-01 16:20:00           Kuala Lumpur                    KUL   \n",
       "\n",
       "      departure_airport_country departure_airport_gate  \\\n",
       "50298                        MY                    C36   \n",
       "\n",
       "                   departure_airport_name departure_airport_region  \\\n",
       "50298  Kuala Lumpur International Airport                     Asia   \n",
       "\n",
       "      departure_airport_terminal departure_airport_timezone  \\\n",
       "50298                          M          Asia/Kuala_Lumpur   \n",
       "\n",
       "      arrival_airport_city arrival_airport_code arrival_airport_country  \\\n",
       "50298                Delhi                  DEL                      IN   \n",
       "\n",
       "      arrival_airport_gate                 arrival_airport_name  \\\n",
       "50298                  NaN  Indira Gandhi International Airport   \n",
       "\n",
       "      arrival_airport_region arrival_airport_terminal  \\\n",
       "50298                   Asia                       T3   \n",
       "\n",
       "      arrival_airport_timezone flight_equipment_iata flight_equipment_name  \\\n",
       "50298             Asia/Kolkata                   333       Airbus A330-300   \n",
       "\n",
       "      flight_duration  delay  flag_test  scheduled_flight_duration  distance  \\\n",
       "50298          5h 30m      5          0                      330.0   3878.14   \n",
       "\n",
       "       scheduled_flight_duration_h  flight_velocity  flag_faster_flight  \\\n",
       "50298                          5.5       705.116364                 0.0   \n",
       "\n",
       "      scheduled_departure_day  scheduled_departure_weekend_flag  \\\n",
       "50298                Thursday                                 0   \n",
       "\n",
       "       scheduled_departure_hour  scheduled_arrival_hour  \\\n",
       "50298                        10                    16.0   \n",
       "\n",
       "      scheduled_departure_pod scheduled_departure_date  \\\n",
       "50298                 Morning               2018-11-01   \n",
       "\n",
       "       scheduled_departure_holiday_flag  \\\n",
       "50298                                 0   \n",
       "\n",
       "       scheduled_departure_min_1_holiday_flag  flag_delay   delay_level  \\\n",
       "50298                                       1           1  medium delay   \n",
       "\n",
       "       cnt_by_airport_date  cnt_by_dep_airport_hour  cnt_by_arr_airport_hour  \\\n",
       "50298                 1142                     5221                    351.0   \n",
       "\n",
       "      IATA Wake  closest_weather_time        date  time     T     Po     U  \\\n",
       "50298  333    H                    11  2018-11-01  11.0  30.0  756.1  67.0   \n",
       "\n",
       "                                          DD   Ff                          N  \\\n",
       "50298  Wind blowing from the north-northeast  1.0  90  or more, but not 100%   \n",
       "\n",
       "           WW                                                 Cl  \\\n",
       "50298  Haze.   Cumulus humilis or Cumulus fractus other than ...   \n",
       "\n",
       "                            Nh        H    VV          city  \n",
       "50298  10%  or less, but not 0  300-600  10.0  Kuala Lumpur  "
      ]
     },
     "execution_count": 76,
     "metadata": {},
     "output_type": "execute_result"
    }
   ],
   "source": [
    "df.sample()"
   ]
  },
  {
   "cell_type": "markdown",
   "metadata": {},
   "source": [
    "## Data Cleaning"
   ]
  },
  {
   "cell_type": "markdown",
   "metadata": {},
   "source": [
    "#### Save Data For LogReg Training"
   ]
  },
  {
   "cell_type": "code",
   "execution_count": 77,
   "metadata": {
    "collapsed": true
   },
   "outputs": [],
   "source": [
    "logreg_df = df.copy()"
   ]
  },
  {
   "cell_type": "code",
   "execution_count": 78,
   "metadata": {
    "collapsed": true
   },
   "outputs": [],
   "source": [
    "logreg_df[\"flag_delay\"] = df[\"delay\"].apply(lambda x: 1 if x > 60 else 0)"
   ]
  },
  {
   "cell_type": "code",
   "execution_count": 79,
   "metadata": {},
   "outputs": [
    {
     "data": {
      "text/html": [
       "<div>\n",
       "<style scoped>\n",
       "    .dataframe tbody tr th:only-of-type {\n",
       "        vertical-align: middle;\n",
       "    }\n",
       "\n",
       "    .dataframe tbody tr th {\n",
       "        vertical-align: top;\n",
       "    }\n",
       "\n",
       "    .dataframe thead th {\n",
       "        text-align: right;\n",
       "    }\n",
       "</style>\n",
       "<table border=\"1\" class=\"dataframe\">\n",
       "  <thead>\n",
       "    <tr style=\"text-align: right;\">\n",
       "      <th></th>\n",
       "      <th>id</th>\n",
       "      <th>number</th>\n",
       "      <th>airline</th>\n",
       "      <th>airline_name</th>\n",
       "      <th>scheduled_departure_time</th>\n",
       "      <th>scheduled_arrival_time</th>\n",
       "      <th>departure_airport_city</th>\n",
       "      <th>departure_airport_code</th>\n",
       "      <th>departure_airport_country</th>\n",
       "      <th>departure_airport_gate</th>\n",
       "      <th>departure_airport_name</th>\n",
       "      <th>departure_airport_region</th>\n",
       "      <th>departure_airport_terminal</th>\n",
       "      <th>departure_airport_timezone</th>\n",
       "      <th>arrival_airport_city</th>\n",
       "      <th>arrival_airport_code</th>\n",
       "      <th>arrival_airport_country</th>\n",
       "      <th>arrival_airport_gate</th>\n",
       "      <th>arrival_airport_name</th>\n",
       "      <th>arrival_airport_region</th>\n",
       "      <th>arrival_airport_terminal</th>\n",
       "      <th>arrival_airport_timezone</th>\n",
       "      <th>flight_equipment_iata</th>\n",
       "      <th>flight_equipment_name</th>\n",
       "      <th>flight_duration</th>\n",
       "      <th>delay</th>\n",
       "      <th>flag_test</th>\n",
       "      <th>scheduled_flight_duration</th>\n",
       "      <th>distance</th>\n",
       "      <th>scheduled_flight_duration_h</th>\n",
       "      <th>flight_velocity</th>\n",
       "      <th>flag_faster_flight</th>\n",
       "      <th>scheduled_departure_day</th>\n",
       "      <th>scheduled_departure_weekend_flag</th>\n",
       "      <th>scheduled_departure_hour</th>\n",
       "      <th>scheduled_arrival_hour</th>\n",
       "      <th>scheduled_departure_pod</th>\n",
       "      <th>scheduled_departure_date</th>\n",
       "      <th>scheduled_departure_holiday_flag</th>\n",
       "      <th>scheduled_departure_min_1_holiday_flag</th>\n",
       "      <th>flag_delay</th>\n",
       "      <th>delay_level</th>\n",
       "      <th>cnt_by_airport_date</th>\n",
       "      <th>cnt_by_dep_airport_hour</th>\n",
       "      <th>cnt_by_arr_airport_hour</th>\n",
       "      <th>IATA</th>\n",
       "      <th>Wake</th>\n",
       "      <th>closest_weather_time</th>\n",
       "      <th>date</th>\n",
       "      <th>time</th>\n",
       "      <th>T</th>\n",
       "      <th>Po</th>\n",
       "      <th>U</th>\n",
       "      <th>DD</th>\n",
       "      <th>Ff</th>\n",
       "      <th>N</th>\n",
       "      <th>WW</th>\n",
       "      <th>Cl</th>\n",
       "      <th>Nh</th>\n",
       "      <th>H</th>\n",
       "      <th>VV</th>\n",
       "      <th>city</th>\n",
       "    </tr>\n",
       "  </thead>\n",
       "  <tbody>\n",
       "    <tr>\n",
       "      <th>0</th>\n",
       "      <td>1</td>\n",
       "      <td>AK6430</td>\n",
       "      <td>AK</td>\n",
       "      <td>AirAsia</td>\n",
       "      <td>2018-10-05 22:00:00</td>\n",
       "      <td>2018-10-05 23:05:00</td>\n",
       "      <td>Kuala Lumpur</td>\n",
       "      <td>KUL</td>\n",
       "      <td>MY</td>\n",
       "      <td>J15</td>\n",
       "      <td>Kuala Lumpur International Airport</td>\n",
       "      <td>Asia</td>\n",
       "      <td>2</td>\n",
       "      <td>Asia/Kuala_Lumpur</td>\n",
       "      <td>Kota Bharu</td>\n",
       "      <td>KBR</td>\n",
       "      <td>MY</td>\n",
       "      <td>2</td>\n",
       "      <td>Sultan Ismail Petra Airport</td>\n",
       "      <td>Asia</td>\n",
       "      <td>NaN</td>\n",
       "      <td>Asia/Kuala_Lumpur</td>\n",
       "      <td>32S</td>\n",
       "      <td>Airbus A318 / A319 / A320 / A321</td>\n",
       "      <td>58m</td>\n",
       "      <td>2</td>\n",
       "      <td>0</td>\n",
       "      <td>65.0</td>\n",
       "      <td>385.98</td>\n",
       "      <td>1.083333</td>\n",
       "      <td>356.289231</td>\n",
       "      <td>0.0</td>\n",
       "      <td>Friday</td>\n",
       "      <td>0</td>\n",
       "      <td>22</td>\n",
       "      <td>23.0</td>\n",
       "      <td>Night</td>\n",
       "      <td>2018-10-05</td>\n",
       "      <td>0</td>\n",
       "      <td>1</td>\n",
       "      <td>1</td>\n",
       "      <td>small delay</td>\n",
       "      <td>1055</td>\n",
       "      <td>2174</td>\n",
       "      <td>456.0</td>\n",
       "      <td>NaN</td>\n",
       "      <td>NaN</td>\n",
       "      <td>23</td>\n",
       "      <td>2018-10-05</td>\n",
       "      <td>23.0</td>\n",
       "      <td>28.3</td>\n",
       "      <td>756.7</td>\n",
       "      <td>82.0</td>\n",
       "      <td>Wind blowing from the east</td>\n",
       "      <td>3.0</td>\n",
       "      <td>90  or more, but not 100%</td>\n",
       "      <td>Lightning visible, no thunder heard.</td>\n",
       "      <td>Stratocumulus other than Stratocumulus cumulog...</td>\n",
       "      <td>10%  or less, but not 0</td>\n",
       "      <td>300-600</td>\n",
       "      <td>9.0</td>\n",
       "      <td>Kuala Lumpur</td>\n",
       "    </tr>\n",
       "    <tr>\n",
       "      <th>1</th>\n",
       "      <td>2</td>\n",
       "      <td>ID*7164</td>\n",
       "      <td>ID*</td>\n",
       "      <td>Batik Air</td>\n",
       "      <td>2018-10-05 22:00:00</td>\n",
       "      <td>2018-10-05 23:55:00</td>\n",
       "      <td>Kuala Lumpur</td>\n",
       "      <td>KUL</td>\n",
       "      <td>MY</td>\n",
       "      <td>C33</td>\n",
       "      <td>Kuala Lumpur International Airport</td>\n",
       "      <td>Asia</td>\n",
       "      <td>M</td>\n",
       "      <td>Asia/Kuala_Lumpur</td>\n",
       "      <td>Jakarta</td>\n",
       "      <td>CGK</td>\n",
       "      <td>ID</td>\n",
       "      <td>5</td>\n",
       "      <td>Soekarno-Hatta International Airport</td>\n",
       "      <td>Asia</td>\n",
       "      <td>2</td>\n",
       "      <td>Asia/Jakarta</td>\n",
       "      <td>32S</td>\n",
       "      <td>Airbus A318 / A319 / A320 / A321</td>\n",
       "      <td>1h 55m</td>\n",
       "      <td>8</td>\n",
       "      <td>0</td>\n",
       "      <td>115.0</td>\n",
       "      <td>1129.47</td>\n",
       "      <td>1.916667</td>\n",
       "      <td>589.288696</td>\n",
       "      <td>0.0</td>\n",
       "      <td>Friday</td>\n",
       "      <td>0</td>\n",
       "      <td>22</td>\n",
       "      <td>23.0</td>\n",
       "      <td>Night</td>\n",
       "      <td>2018-10-05</td>\n",
       "      <td>0</td>\n",
       "      <td>1</td>\n",
       "      <td>1</td>\n",
       "      <td>medium delay</td>\n",
       "      <td>1055</td>\n",
       "      <td>2174</td>\n",
       "      <td>250.0</td>\n",
       "      <td>NaN</td>\n",
       "      <td>NaN</td>\n",
       "      <td>23</td>\n",
       "      <td>2018-10-05</td>\n",
       "      <td>23.0</td>\n",
       "      <td>28.3</td>\n",
       "      <td>756.7</td>\n",
       "      <td>82.0</td>\n",
       "      <td>Wind blowing from the east</td>\n",
       "      <td>3.0</td>\n",
       "      <td>90  or more, but not 100%</td>\n",
       "      <td>Lightning visible, no thunder heard.</td>\n",
       "      <td>Stratocumulus other than Stratocumulus cumulog...</td>\n",
       "      <td>10%  or less, but not 0</td>\n",
       "      <td>300-600</td>\n",
       "      <td>9.0</td>\n",
       "      <td>Kuala Lumpur</td>\n",
       "    </tr>\n",
       "    <tr>\n",
       "      <th>2</th>\n",
       "      <td>3</td>\n",
       "      <td>MXD9116</td>\n",
       "      <td>MXD</td>\n",
       "      <td>Malindo Air</td>\n",
       "      <td>2018-10-05 22:00:00</td>\n",
       "      <td>2018-10-05 23:55:00</td>\n",
       "      <td>Kuala Lumpur</td>\n",
       "      <td>KUL</td>\n",
       "      <td>MY</td>\n",
       "      <td>C33</td>\n",
       "      <td>Kuala Lumpur International Airport</td>\n",
       "      <td>Asia</td>\n",
       "      <td>M</td>\n",
       "      <td>Asia/Kuala_Lumpur</td>\n",
       "      <td>Jakarta</td>\n",
       "      <td>CGK</td>\n",
       "      <td>ID</td>\n",
       "      <td>5</td>\n",
       "      <td>Soekarno-Hatta International Airport</td>\n",
       "      <td>Asia</td>\n",
       "      <td>2</td>\n",
       "      <td>Asia/Jakarta</td>\n",
       "      <td>32S</td>\n",
       "      <td>Airbus A318 / A319 / A320 / A321</td>\n",
       "      <td>1h 55m</td>\n",
       "      <td>8</td>\n",
       "      <td>0</td>\n",
       "      <td>115.0</td>\n",
       "      <td>1129.47</td>\n",
       "      <td>1.916667</td>\n",
       "      <td>589.288696</td>\n",
       "      <td>0.0</td>\n",
       "      <td>Friday</td>\n",
       "      <td>0</td>\n",
       "      <td>22</td>\n",
       "      <td>23.0</td>\n",
       "      <td>Night</td>\n",
       "      <td>2018-10-05</td>\n",
       "      <td>0</td>\n",
       "      <td>1</td>\n",
       "      <td>1</td>\n",
       "      <td>medium delay</td>\n",
       "      <td>1055</td>\n",
       "      <td>2174</td>\n",
       "      <td>250.0</td>\n",
       "      <td>NaN</td>\n",
       "      <td>NaN</td>\n",
       "      <td>23</td>\n",
       "      <td>2018-10-05</td>\n",
       "      <td>23.0</td>\n",
       "      <td>28.3</td>\n",
       "      <td>756.7</td>\n",
       "      <td>82.0</td>\n",
       "      <td>Wind blowing from the east</td>\n",
       "      <td>3.0</td>\n",
       "      <td>90  or more, but not 100%</td>\n",
       "      <td>Lightning visible, no thunder heard.</td>\n",
       "      <td>Stratocumulus other than Stratocumulus cumulog...</td>\n",
       "      <td>10%  or less, but not 0</td>\n",
       "      <td>300-600</td>\n",
       "      <td>9.0</td>\n",
       "      <td>Kuala Lumpur</td>\n",
       "    </tr>\n",
       "    <tr>\n",
       "      <th>3</th>\n",
       "      <td>4</td>\n",
       "      <td>AK5198</td>\n",
       "      <td>AK</td>\n",
       "      <td>AirAsia</td>\n",
       "      <td>2018-10-05 22:05:00</td>\n",
       "      <td>2018-10-06 01:00:00</td>\n",
       "      <td>Kuala Lumpur</td>\n",
       "      <td>KUL</td>\n",
       "      <td>MY</td>\n",
       "      <td>J9</td>\n",
       "      <td>Kuala Lumpur International Airport</td>\n",
       "      <td>Asia</td>\n",
       "      <td>2</td>\n",
       "      <td>Asia/Kuala_Lumpur</td>\n",
       "      <td>Sandakan</td>\n",
       "      <td>SDK</td>\n",
       "      <td>MY</td>\n",
       "      <td>INT</td>\n",
       "      <td>Sandakan Airport</td>\n",
       "      <td>Asia</td>\n",
       "      <td>NaN</td>\n",
       "      <td>Asia/Kuala_Lumpur</td>\n",
       "      <td>32S</td>\n",
       "      <td>Airbus A318 / A319 / A320 / A321</td>\n",
       "      <td>2h 54m</td>\n",
       "      <td>0</td>\n",
       "      <td>0</td>\n",
       "      <td>175.0</td>\n",
       "      <td>1846.94</td>\n",
       "      <td>2.916667</td>\n",
       "      <td>633.236571</td>\n",
       "      <td>1.0</td>\n",
       "      <td>Friday</td>\n",
       "      <td>0</td>\n",
       "      <td>22</td>\n",
       "      <td>1.0</td>\n",
       "      <td>Night</td>\n",
       "      <td>2018-10-05</td>\n",
       "      <td>0</td>\n",
       "      <td>1</td>\n",
       "      <td>0</td>\n",
       "      <td>on time</td>\n",
       "      <td>1055</td>\n",
       "      <td>2174</td>\n",
       "      <td>154.0</td>\n",
       "      <td>NaN</td>\n",
       "      <td>NaN</td>\n",
       "      <td>23</td>\n",
       "      <td>2018-10-05</td>\n",
       "      <td>23.0</td>\n",
       "      <td>28.3</td>\n",
       "      <td>756.7</td>\n",
       "      <td>82.0</td>\n",
       "      <td>Wind blowing from the east</td>\n",
       "      <td>3.0</td>\n",
       "      <td>90  or more, but not 100%</td>\n",
       "      <td>Lightning visible, no thunder heard.</td>\n",
       "      <td>Stratocumulus other than Stratocumulus cumulog...</td>\n",
       "      <td>10%  or less, but not 0</td>\n",
       "      <td>300-600</td>\n",
       "      <td>9.0</td>\n",
       "      <td>Kuala Lumpur</td>\n",
       "    </tr>\n",
       "    <tr>\n",
       "      <th>4</th>\n",
       "      <td>5</td>\n",
       "      <td>AK516</td>\n",
       "      <td>AK</td>\n",
       "      <td>AirAsia</td>\n",
       "      <td>2018-10-05 22:10:00</td>\n",
       "      <td>2018-10-06 01:25:00</td>\n",
       "      <td>Kuala Lumpur</td>\n",
       "      <td>KUL</td>\n",
       "      <td>MY</td>\n",
       "      <td>P1</td>\n",
       "      <td>Kuala Lumpur International Airport</td>\n",
       "      <td>Asia</td>\n",
       "      <td>2</td>\n",
       "      <td>Asia/Kuala_Lumpur</td>\n",
       "      <td>Hanoi</td>\n",
       "      <td>HAN</td>\n",
       "      <td>VN</td>\n",
       "      <td>NaN</td>\n",
       "      <td>Noi Bai International Airport</td>\n",
       "      <td>Asia</td>\n",
       "      <td>T2</td>\n",
       "      <td>Asia/Ho_Chi_Minh</td>\n",
       "      <td>32S</td>\n",
       "      <td>Airbus A318 / A319 / A320 / A321</td>\n",
       "      <td>3h 17m</td>\n",
       "      <td>0</td>\n",
       "      <td>0</td>\n",
       "      <td>195.0</td>\n",
       "      <td>2102.37</td>\n",
       "      <td>3.250000</td>\n",
       "      <td>646.883077</td>\n",
       "      <td>0.0</td>\n",
       "      <td>Friday</td>\n",
       "      <td>0</td>\n",
       "      <td>22</td>\n",
       "      <td>1.0</td>\n",
       "      <td>Night</td>\n",
       "      <td>2018-10-05</td>\n",
       "      <td>0</td>\n",
       "      <td>1</td>\n",
       "      <td>0</td>\n",
       "      <td>on time</td>\n",
       "      <td>1055</td>\n",
       "      <td>2174</td>\n",
       "      <td>103.0</td>\n",
       "      <td>NaN</td>\n",
       "      <td>NaN</td>\n",
       "      <td>23</td>\n",
       "      <td>2018-10-05</td>\n",
       "      <td>23.0</td>\n",
       "      <td>28.3</td>\n",
       "      <td>756.7</td>\n",
       "      <td>82.0</td>\n",
       "      <td>Wind blowing from the east</td>\n",
       "      <td>3.0</td>\n",
       "      <td>90  or more, but not 100%</td>\n",
       "      <td>Lightning visible, no thunder heard.</td>\n",
       "      <td>Stratocumulus other than Stratocumulus cumulog...</td>\n",
       "      <td>10%  or less, but not 0</td>\n",
       "      <td>300-600</td>\n",
       "      <td>9.0</td>\n",
       "      <td>Kuala Lumpur</td>\n",
       "    </tr>\n",
       "  </tbody>\n",
       "</table>\n",
       "</div>"
      ],
      "text/plain": [
       "   id   number airline airline_name scheduled_departure_time  \\\n",
       "0   1   AK6430      AK      AirAsia      2018-10-05 22:00:00   \n",
       "1   2  ID*7164     ID*    Batik Air      2018-10-05 22:00:00   \n",
       "2   3  MXD9116     MXD  Malindo Air      2018-10-05 22:00:00   \n",
       "3   4   AK5198      AK      AirAsia      2018-10-05 22:05:00   \n",
       "4   5    AK516      AK      AirAsia      2018-10-05 22:10:00   \n",
       "\n",
       "  scheduled_arrival_time departure_airport_city departure_airport_code  \\\n",
       "0    2018-10-05 23:05:00           Kuala Lumpur                    KUL   \n",
       "1    2018-10-05 23:55:00           Kuala Lumpur                    KUL   \n",
       "2    2018-10-05 23:55:00           Kuala Lumpur                    KUL   \n",
       "3    2018-10-06 01:00:00           Kuala Lumpur                    KUL   \n",
       "4    2018-10-06 01:25:00           Kuala Lumpur                    KUL   \n",
       "\n",
       "  departure_airport_country departure_airport_gate  \\\n",
       "0                        MY                    J15   \n",
       "1                        MY                    C33   \n",
       "2                        MY                    C33   \n",
       "3                        MY                     J9   \n",
       "4                        MY                     P1   \n",
       "\n",
       "               departure_airport_name departure_airport_region  \\\n",
       "0  Kuala Lumpur International Airport                     Asia   \n",
       "1  Kuala Lumpur International Airport                     Asia   \n",
       "2  Kuala Lumpur International Airport                     Asia   \n",
       "3  Kuala Lumpur International Airport                     Asia   \n",
       "4  Kuala Lumpur International Airport                     Asia   \n",
       "\n",
       "  departure_airport_terminal departure_airport_timezone arrival_airport_city  \\\n",
       "0                          2          Asia/Kuala_Lumpur           Kota Bharu   \n",
       "1                          M          Asia/Kuala_Lumpur              Jakarta   \n",
       "2                          M          Asia/Kuala_Lumpur              Jakarta   \n",
       "3                          2          Asia/Kuala_Lumpur             Sandakan   \n",
       "4                          2          Asia/Kuala_Lumpur                Hanoi   \n",
       "\n",
       "  arrival_airport_code arrival_airport_country arrival_airport_gate  \\\n",
       "0                  KBR                      MY                    2   \n",
       "1                  CGK                      ID                    5   \n",
       "2                  CGK                      ID                    5   \n",
       "3                  SDK                      MY                  INT   \n",
       "4                  HAN                      VN                  NaN   \n",
       "\n",
       "                   arrival_airport_name arrival_airport_region  \\\n",
       "0           Sultan Ismail Petra Airport                   Asia   \n",
       "1  Soekarno-Hatta International Airport                   Asia   \n",
       "2  Soekarno-Hatta International Airport                   Asia   \n",
       "3                      Sandakan Airport                   Asia   \n",
       "4         Noi Bai International Airport                   Asia   \n",
       "\n",
       "  arrival_airport_terminal arrival_airport_timezone flight_equipment_iata  \\\n",
       "0                      NaN        Asia/Kuala_Lumpur                   32S   \n",
       "1                        2             Asia/Jakarta                   32S   \n",
       "2                        2             Asia/Jakarta                   32S   \n",
       "3                      NaN        Asia/Kuala_Lumpur                   32S   \n",
       "4                       T2         Asia/Ho_Chi_Minh                   32S   \n",
       "\n",
       "              flight_equipment_name flight_duration  delay  flag_test  \\\n",
       "0  Airbus A318 / A319 / A320 / A321             58m      2          0   \n",
       "1  Airbus A318 / A319 / A320 / A321          1h 55m      8          0   \n",
       "2  Airbus A318 / A319 / A320 / A321          1h 55m      8          0   \n",
       "3  Airbus A318 / A319 / A320 / A321          2h 54m      0          0   \n",
       "4  Airbus A318 / A319 / A320 / A321          3h 17m      0          0   \n",
       "\n",
       "   scheduled_flight_duration  distance  scheduled_flight_duration_h  \\\n",
       "0                       65.0    385.98                     1.083333   \n",
       "1                      115.0   1129.47                     1.916667   \n",
       "2                      115.0   1129.47                     1.916667   \n",
       "3                      175.0   1846.94                     2.916667   \n",
       "4                      195.0   2102.37                     3.250000   \n",
       "\n",
       "   flight_velocity  flag_faster_flight scheduled_departure_day  \\\n",
       "0       356.289231                 0.0                  Friday   \n",
       "1       589.288696                 0.0                  Friday   \n",
       "2       589.288696                 0.0                  Friday   \n",
       "3       633.236571                 1.0                  Friday   \n",
       "4       646.883077                 0.0                  Friday   \n",
       "\n",
       "   scheduled_departure_weekend_flag  scheduled_departure_hour  \\\n",
       "0                                 0                        22   \n",
       "1                                 0                        22   \n",
       "2                                 0                        22   \n",
       "3                                 0                        22   \n",
       "4                                 0                        22   \n",
       "\n",
       "   scheduled_arrival_hour scheduled_departure_pod scheduled_departure_date  \\\n",
       "0                    23.0                   Night               2018-10-05   \n",
       "1                    23.0                   Night               2018-10-05   \n",
       "2                    23.0                   Night               2018-10-05   \n",
       "3                     1.0                   Night               2018-10-05   \n",
       "4                     1.0                   Night               2018-10-05   \n",
       "\n",
       "   scheduled_departure_holiday_flag  scheduled_departure_min_1_holiday_flag  \\\n",
       "0                                 0                                       1   \n",
       "1                                 0                                       1   \n",
       "2                                 0                                       1   \n",
       "3                                 0                                       1   \n",
       "4                                 0                                       1   \n",
       "\n",
       "   flag_delay   delay_level  cnt_by_airport_date  cnt_by_dep_airport_hour  \\\n",
       "0           1   small delay                 1055                     2174   \n",
       "1           1  medium delay                 1055                     2174   \n",
       "2           1  medium delay                 1055                     2174   \n",
       "3           0       on time                 1055                     2174   \n",
       "4           0       on time                 1055                     2174   \n",
       "\n",
       "   cnt_by_arr_airport_hour IATA Wake  closest_weather_time        date  time  \\\n",
       "0                    456.0  NaN  NaN                    23  2018-10-05  23.0   \n",
       "1                    250.0  NaN  NaN                    23  2018-10-05  23.0   \n",
       "2                    250.0  NaN  NaN                    23  2018-10-05  23.0   \n",
       "3                    154.0  NaN  NaN                    23  2018-10-05  23.0   \n",
       "4                    103.0  NaN  NaN                    23  2018-10-05  23.0   \n",
       "\n",
       "      T     Po     U                          DD   Ff  \\\n",
       "0  28.3  756.7  82.0  Wind blowing from the east  3.0   \n",
       "1  28.3  756.7  82.0  Wind blowing from the east  3.0   \n",
       "2  28.3  756.7  82.0  Wind blowing from the east  3.0   \n",
       "3  28.3  756.7  82.0  Wind blowing from the east  3.0   \n",
       "4  28.3  756.7  82.0  Wind blowing from the east  3.0   \n",
       "\n",
       "                           N                                     WW  \\\n",
       "0  90  or more, but not 100%  Lightning visible, no thunder heard.    \n",
       "1  90  or more, but not 100%  Lightning visible, no thunder heard.    \n",
       "2  90  or more, but not 100%  Lightning visible, no thunder heard.    \n",
       "3  90  or more, but not 100%  Lightning visible, no thunder heard.    \n",
       "4  90  or more, but not 100%  Lightning visible, no thunder heard.    \n",
       "\n",
       "                                                  Cl                       Nh  \\\n",
       "0  Stratocumulus other than Stratocumulus cumulog...  10%  or less, but not 0   \n",
       "1  Stratocumulus other than Stratocumulus cumulog...  10%  or less, but not 0   \n",
       "2  Stratocumulus other than Stratocumulus cumulog...  10%  or less, but not 0   \n",
       "3  Stratocumulus other than Stratocumulus cumulog...  10%  or less, but not 0   \n",
       "4  Stratocumulus other than Stratocumulus cumulog...  10%  or less, but not 0   \n",
       "\n",
       "         H   VV          city  \n",
       "0  300-600  9.0  Kuala Lumpur  \n",
       "1  300-600  9.0  Kuala Lumpur  \n",
       "2  300-600  9.0  Kuala Lumpur  \n",
       "3  300-600  9.0  Kuala Lumpur  \n",
       "4  300-600  9.0  Kuala Lumpur  "
      ]
     },
     "execution_count": 79,
     "metadata": {},
     "output_type": "execute_result"
    }
   ],
   "source": [
    "df.head()"
   ]
  },
  {
   "cell_type": "markdown",
   "metadata": {},
   "source": [
    "### Drop Possibly Unused Features"
   ]
  },
  {
   "cell_type": "markdown",
   "metadata": {},
   "source": [
    "The feature below are dropped based on these criteria:\n",
    "1. Categorical features which have plenty number of unique values (e.g. `scheduled_arrival_time`)\n",
    "2. Categorical features with similar number of unique values (e.g. `arrival_airport_name` and `arrival_airport_code` are pretty similar, one of them needs to be dropped)\n",
    "3. Features which have more than ~40% of missing data\n",
    "4. Features with only 1 unique value\n"
   ]
  },
  {
   "cell_type": "code",
   "execution_count": 80,
   "metadata": {
    "collapsed": true
   },
   "outputs": [],
   "source": [
    "df = df.drop([\n",
    "    \"id\", \n",
    "    \"scheduled_arrival_time\", \n",
    "    \"scheduled_departure_time\", \n",
    "    \"flight_duration\",\n",
    "    \"arrival_airport_gate\",\n",
    "    \"departure_airport_gate\",\n",
    "    \"arrival_airport_name\",\n",
    "    \"arrival_airport_city\",\n",
    "    \"airline\",\n",
    "    \"flight_equipment_name\",\n",
    "    \"arrival_airport_timezone\",\n",
    "    \"arrival_airport_country\",\n",
    "    \"arrival_airport_terminal\",\n",
    "    \"departure_airport_name\",\n",
    "    \"departure_airport_city\",\n",
    "    \"departure_airport_terminal\",\n",
    "    \"arrival_airport_region\",\n",
    "    \"departure_airport_region\",\n",
    "    \"departure_airport_country\",\n",
    "    \"departure_airport_timezone\"\n",
    "], axis=1)"
   ]
  },
  {
   "cell_type": "code",
   "execution_count": 81,
   "metadata": {},
   "outputs": [
    {
     "data": {
      "text/html": [
       "<div>\n",
       "<style scoped>\n",
       "    .dataframe tbody tr th:only-of-type {\n",
       "        vertical-align: middle;\n",
       "    }\n",
       "\n",
       "    .dataframe tbody tr th {\n",
       "        vertical-align: top;\n",
       "    }\n",
       "\n",
       "    .dataframe thead th {\n",
       "        text-align: right;\n",
       "    }\n",
       "</style>\n",
       "<table border=\"1\" class=\"dataframe\">\n",
       "  <thead>\n",
       "    <tr style=\"text-align: right;\">\n",
       "      <th></th>\n",
       "      <th>number</th>\n",
       "      <th>airline_name</th>\n",
       "      <th>departure_airport_code</th>\n",
       "      <th>arrival_airport_code</th>\n",
       "      <th>flight_equipment_iata</th>\n",
       "      <th>delay</th>\n",
       "      <th>flag_test</th>\n",
       "      <th>scheduled_flight_duration</th>\n",
       "      <th>distance</th>\n",
       "      <th>scheduled_flight_duration_h</th>\n",
       "      <th>flight_velocity</th>\n",
       "      <th>flag_faster_flight</th>\n",
       "      <th>scheduled_departure_day</th>\n",
       "      <th>scheduled_departure_weekend_flag</th>\n",
       "      <th>scheduled_departure_hour</th>\n",
       "      <th>scheduled_arrival_hour</th>\n",
       "      <th>scheduled_departure_pod</th>\n",
       "      <th>scheduled_departure_date</th>\n",
       "      <th>scheduled_departure_holiday_flag</th>\n",
       "      <th>scheduled_departure_min_1_holiday_flag</th>\n",
       "      <th>flag_delay</th>\n",
       "      <th>delay_level</th>\n",
       "      <th>cnt_by_airport_date</th>\n",
       "      <th>cnt_by_dep_airport_hour</th>\n",
       "      <th>cnt_by_arr_airport_hour</th>\n",
       "      <th>IATA</th>\n",
       "      <th>Wake</th>\n",
       "      <th>closest_weather_time</th>\n",
       "      <th>date</th>\n",
       "      <th>time</th>\n",
       "      <th>T</th>\n",
       "      <th>Po</th>\n",
       "      <th>U</th>\n",
       "      <th>DD</th>\n",
       "      <th>Ff</th>\n",
       "      <th>N</th>\n",
       "      <th>WW</th>\n",
       "      <th>Cl</th>\n",
       "      <th>Nh</th>\n",
       "      <th>H</th>\n",
       "      <th>VV</th>\n",
       "      <th>city</th>\n",
       "    </tr>\n",
       "  </thead>\n",
       "  <tbody>\n",
       "    <tr>\n",
       "      <th>0</th>\n",
       "      <td>AK6430</td>\n",
       "      <td>AirAsia</td>\n",
       "      <td>KUL</td>\n",
       "      <td>KBR</td>\n",
       "      <td>32S</td>\n",
       "      <td>2</td>\n",
       "      <td>0</td>\n",
       "      <td>65.0</td>\n",
       "      <td>385.98</td>\n",
       "      <td>1.083333</td>\n",
       "      <td>356.289231</td>\n",
       "      <td>0.0</td>\n",
       "      <td>Friday</td>\n",
       "      <td>0</td>\n",
       "      <td>22</td>\n",
       "      <td>23.0</td>\n",
       "      <td>Night</td>\n",
       "      <td>2018-10-05</td>\n",
       "      <td>0</td>\n",
       "      <td>1</td>\n",
       "      <td>1</td>\n",
       "      <td>small delay</td>\n",
       "      <td>1055</td>\n",
       "      <td>2174</td>\n",
       "      <td>456.0</td>\n",
       "      <td>NaN</td>\n",
       "      <td>NaN</td>\n",
       "      <td>23</td>\n",
       "      <td>2018-10-05</td>\n",
       "      <td>23.0</td>\n",
       "      <td>28.3</td>\n",
       "      <td>756.7</td>\n",
       "      <td>82.0</td>\n",
       "      <td>Wind blowing from the east</td>\n",
       "      <td>3.0</td>\n",
       "      <td>90  or more, but not 100%</td>\n",
       "      <td>Lightning visible, no thunder heard.</td>\n",
       "      <td>Stratocumulus other than Stratocumulus cumulog...</td>\n",
       "      <td>10%  or less, but not 0</td>\n",
       "      <td>300-600</td>\n",
       "      <td>9.0</td>\n",
       "      <td>Kuala Lumpur</td>\n",
       "    </tr>\n",
       "    <tr>\n",
       "      <th>1</th>\n",
       "      <td>ID*7164</td>\n",
       "      <td>Batik Air</td>\n",
       "      <td>KUL</td>\n",
       "      <td>CGK</td>\n",
       "      <td>32S</td>\n",
       "      <td>8</td>\n",
       "      <td>0</td>\n",
       "      <td>115.0</td>\n",
       "      <td>1129.47</td>\n",
       "      <td>1.916667</td>\n",
       "      <td>589.288696</td>\n",
       "      <td>0.0</td>\n",
       "      <td>Friday</td>\n",
       "      <td>0</td>\n",
       "      <td>22</td>\n",
       "      <td>23.0</td>\n",
       "      <td>Night</td>\n",
       "      <td>2018-10-05</td>\n",
       "      <td>0</td>\n",
       "      <td>1</td>\n",
       "      <td>1</td>\n",
       "      <td>medium delay</td>\n",
       "      <td>1055</td>\n",
       "      <td>2174</td>\n",
       "      <td>250.0</td>\n",
       "      <td>NaN</td>\n",
       "      <td>NaN</td>\n",
       "      <td>23</td>\n",
       "      <td>2018-10-05</td>\n",
       "      <td>23.0</td>\n",
       "      <td>28.3</td>\n",
       "      <td>756.7</td>\n",
       "      <td>82.0</td>\n",
       "      <td>Wind blowing from the east</td>\n",
       "      <td>3.0</td>\n",
       "      <td>90  or more, but not 100%</td>\n",
       "      <td>Lightning visible, no thunder heard.</td>\n",
       "      <td>Stratocumulus other than Stratocumulus cumulog...</td>\n",
       "      <td>10%  or less, but not 0</td>\n",
       "      <td>300-600</td>\n",
       "      <td>9.0</td>\n",
       "      <td>Kuala Lumpur</td>\n",
       "    </tr>\n",
       "    <tr>\n",
       "      <th>2</th>\n",
       "      <td>MXD9116</td>\n",
       "      <td>Malindo Air</td>\n",
       "      <td>KUL</td>\n",
       "      <td>CGK</td>\n",
       "      <td>32S</td>\n",
       "      <td>8</td>\n",
       "      <td>0</td>\n",
       "      <td>115.0</td>\n",
       "      <td>1129.47</td>\n",
       "      <td>1.916667</td>\n",
       "      <td>589.288696</td>\n",
       "      <td>0.0</td>\n",
       "      <td>Friday</td>\n",
       "      <td>0</td>\n",
       "      <td>22</td>\n",
       "      <td>23.0</td>\n",
       "      <td>Night</td>\n",
       "      <td>2018-10-05</td>\n",
       "      <td>0</td>\n",
       "      <td>1</td>\n",
       "      <td>1</td>\n",
       "      <td>medium delay</td>\n",
       "      <td>1055</td>\n",
       "      <td>2174</td>\n",
       "      <td>250.0</td>\n",
       "      <td>NaN</td>\n",
       "      <td>NaN</td>\n",
       "      <td>23</td>\n",
       "      <td>2018-10-05</td>\n",
       "      <td>23.0</td>\n",
       "      <td>28.3</td>\n",
       "      <td>756.7</td>\n",
       "      <td>82.0</td>\n",
       "      <td>Wind blowing from the east</td>\n",
       "      <td>3.0</td>\n",
       "      <td>90  or more, but not 100%</td>\n",
       "      <td>Lightning visible, no thunder heard.</td>\n",
       "      <td>Stratocumulus other than Stratocumulus cumulog...</td>\n",
       "      <td>10%  or less, but not 0</td>\n",
       "      <td>300-600</td>\n",
       "      <td>9.0</td>\n",
       "      <td>Kuala Lumpur</td>\n",
       "    </tr>\n",
       "    <tr>\n",
       "      <th>3</th>\n",
       "      <td>AK5198</td>\n",
       "      <td>AirAsia</td>\n",
       "      <td>KUL</td>\n",
       "      <td>SDK</td>\n",
       "      <td>32S</td>\n",
       "      <td>0</td>\n",
       "      <td>0</td>\n",
       "      <td>175.0</td>\n",
       "      <td>1846.94</td>\n",
       "      <td>2.916667</td>\n",
       "      <td>633.236571</td>\n",
       "      <td>1.0</td>\n",
       "      <td>Friday</td>\n",
       "      <td>0</td>\n",
       "      <td>22</td>\n",
       "      <td>1.0</td>\n",
       "      <td>Night</td>\n",
       "      <td>2018-10-05</td>\n",
       "      <td>0</td>\n",
       "      <td>1</td>\n",
       "      <td>0</td>\n",
       "      <td>on time</td>\n",
       "      <td>1055</td>\n",
       "      <td>2174</td>\n",
       "      <td>154.0</td>\n",
       "      <td>NaN</td>\n",
       "      <td>NaN</td>\n",
       "      <td>23</td>\n",
       "      <td>2018-10-05</td>\n",
       "      <td>23.0</td>\n",
       "      <td>28.3</td>\n",
       "      <td>756.7</td>\n",
       "      <td>82.0</td>\n",
       "      <td>Wind blowing from the east</td>\n",
       "      <td>3.0</td>\n",
       "      <td>90  or more, but not 100%</td>\n",
       "      <td>Lightning visible, no thunder heard.</td>\n",
       "      <td>Stratocumulus other than Stratocumulus cumulog...</td>\n",
       "      <td>10%  or less, but not 0</td>\n",
       "      <td>300-600</td>\n",
       "      <td>9.0</td>\n",
       "      <td>Kuala Lumpur</td>\n",
       "    </tr>\n",
       "    <tr>\n",
       "      <th>4</th>\n",
       "      <td>AK516</td>\n",
       "      <td>AirAsia</td>\n",
       "      <td>KUL</td>\n",
       "      <td>HAN</td>\n",
       "      <td>32S</td>\n",
       "      <td>0</td>\n",
       "      <td>0</td>\n",
       "      <td>195.0</td>\n",
       "      <td>2102.37</td>\n",
       "      <td>3.250000</td>\n",
       "      <td>646.883077</td>\n",
       "      <td>0.0</td>\n",
       "      <td>Friday</td>\n",
       "      <td>0</td>\n",
       "      <td>22</td>\n",
       "      <td>1.0</td>\n",
       "      <td>Night</td>\n",
       "      <td>2018-10-05</td>\n",
       "      <td>0</td>\n",
       "      <td>1</td>\n",
       "      <td>0</td>\n",
       "      <td>on time</td>\n",
       "      <td>1055</td>\n",
       "      <td>2174</td>\n",
       "      <td>103.0</td>\n",
       "      <td>NaN</td>\n",
       "      <td>NaN</td>\n",
       "      <td>23</td>\n",
       "      <td>2018-10-05</td>\n",
       "      <td>23.0</td>\n",
       "      <td>28.3</td>\n",
       "      <td>756.7</td>\n",
       "      <td>82.0</td>\n",
       "      <td>Wind blowing from the east</td>\n",
       "      <td>3.0</td>\n",
       "      <td>90  or more, but not 100%</td>\n",
       "      <td>Lightning visible, no thunder heard.</td>\n",
       "      <td>Stratocumulus other than Stratocumulus cumulog...</td>\n",
       "      <td>10%  or less, but not 0</td>\n",
       "      <td>300-600</td>\n",
       "      <td>9.0</td>\n",
       "      <td>Kuala Lumpur</td>\n",
       "    </tr>\n",
       "  </tbody>\n",
       "</table>\n",
       "</div>"
      ],
      "text/plain": [
       "    number airline_name departure_airport_code arrival_airport_code  \\\n",
       "0   AK6430      AirAsia                    KUL                  KBR   \n",
       "1  ID*7164    Batik Air                    KUL                  CGK   \n",
       "2  MXD9116  Malindo Air                    KUL                  CGK   \n",
       "3   AK5198      AirAsia                    KUL                  SDK   \n",
       "4    AK516      AirAsia                    KUL                  HAN   \n",
       "\n",
       "  flight_equipment_iata  delay  flag_test  scheduled_flight_duration  \\\n",
       "0                   32S      2          0                       65.0   \n",
       "1                   32S      8          0                      115.0   \n",
       "2                   32S      8          0                      115.0   \n",
       "3                   32S      0          0                      175.0   \n",
       "4                   32S      0          0                      195.0   \n",
       "\n",
       "   distance  scheduled_flight_duration_h  flight_velocity  flag_faster_flight  \\\n",
       "0    385.98                     1.083333       356.289231                 0.0   \n",
       "1   1129.47                     1.916667       589.288696                 0.0   \n",
       "2   1129.47                     1.916667       589.288696                 0.0   \n",
       "3   1846.94                     2.916667       633.236571                 1.0   \n",
       "4   2102.37                     3.250000       646.883077                 0.0   \n",
       "\n",
       "  scheduled_departure_day  scheduled_departure_weekend_flag  \\\n",
       "0                  Friday                                 0   \n",
       "1                  Friday                                 0   \n",
       "2                  Friday                                 0   \n",
       "3                  Friday                                 0   \n",
       "4                  Friday                                 0   \n",
       "\n",
       "   scheduled_departure_hour  scheduled_arrival_hour scheduled_departure_pod  \\\n",
       "0                        22                    23.0                   Night   \n",
       "1                        22                    23.0                   Night   \n",
       "2                        22                    23.0                   Night   \n",
       "3                        22                     1.0                   Night   \n",
       "4                        22                     1.0                   Night   \n",
       "\n",
       "  scheduled_departure_date  scheduled_departure_holiday_flag  \\\n",
       "0               2018-10-05                                 0   \n",
       "1               2018-10-05                                 0   \n",
       "2               2018-10-05                                 0   \n",
       "3               2018-10-05                                 0   \n",
       "4               2018-10-05                                 0   \n",
       "\n",
       "   scheduled_departure_min_1_holiday_flag  flag_delay   delay_level  \\\n",
       "0                                       1           1   small delay   \n",
       "1                                       1           1  medium delay   \n",
       "2                                       1           1  medium delay   \n",
       "3                                       1           0       on time   \n",
       "4                                       1           0       on time   \n",
       "\n",
       "   cnt_by_airport_date  cnt_by_dep_airport_hour  cnt_by_arr_airport_hour IATA  \\\n",
       "0                 1055                     2174                    456.0  NaN   \n",
       "1                 1055                     2174                    250.0  NaN   \n",
       "2                 1055                     2174                    250.0  NaN   \n",
       "3                 1055                     2174                    154.0  NaN   \n",
       "4                 1055                     2174                    103.0  NaN   \n",
       "\n",
       "  Wake  closest_weather_time        date  time     T     Po     U  \\\n",
       "0  NaN                    23  2018-10-05  23.0  28.3  756.7  82.0   \n",
       "1  NaN                    23  2018-10-05  23.0  28.3  756.7  82.0   \n",
       "2  NaN                    23  2018-10-05  23.0  28.3  756.7  82.0   \n",
       "3  NaN                    23  2018-10-05  23.0  28.3  756.7  82.0   \n",
       "4  NaN                    23  2018-10-05  23.0  28.3  756.7  82.0   \n",
       "\n",
       "                           DD   Ff                          N  \\\n",
       "0  Wind blowing from the east  3.0  90  or more, but not 100%   \n",
       "1  Wind blowing from the east  3.0  90  or more, but not 100%   \n",
       "2  Wind blowing from the east  3.0  90  or more, but not 100%   \n",
       "3  Wind blowing from the east  3.0  90  or more, but not 100%   \n",
       "4  Wind blowing from the east  3.0  90  or more, but not 100%   \n",
       "\n",
       "                                      WW  \\\n",
       "0  Lightning visible, no thunder heard.    \n",
       "1  Lightning visible, no thunder heard.    \n",
       "2  Lightning visible, no thunder heard.    \n",
       "3  Lightning visible, no thunder heard.    \n",
       "4  Lightning visible, no thunder heard.    \n",
       "\n",
       "                                                  Cl                       Nh  \\\n",
       "0  Stratocumulus other than Stratocumulus cumulog...  10%  or less, but not 0   \n",
       "1  Stratocumulus other than Stratocumulus cumulog...  10%  or less, but not 0   \n",
       "2  Stratocumulus other than Stratocumulus cumulog...  10%  or less, but not 0   \n",
       "3  Stratocumulus other than Stratocumulus cumulog...  10%  or less, but not 0   \n",
       "4  Stratocumulus other than Stratocumulus cumulog...  10%  or less, but not 0   \n",
       "\n",
       "         H   VV          city  \n",
       "0  300-600  9.0  Kuala Lumpur  \n",
       "1  300-600  9.0  Kuala Lumpur  \n",
       "2  300-600  9.0  Kuala Lumpur  \n",
       "3  300-600  9.0  Kuala Lumpur  \n",
       "4  300-600  9.0  Kuala Lumpur  "
      ]
     },
     "execution_count": 81,
     "metadata": {},
     "output_type": "execute_result"
    }
   ],
   "source": [
    "df.head()"
   ]
  },
  {
   "cell_type": "markdown",
   "metadata": {},
   "source": [
    "### Drop Missing Values"
   ]
  },
  {
   "cell_type": "code",
   "execution_count": 82,
   "metadata": {
    "collapsed": true
   },
   "outputs": [],
   "source": [
    "df = df.dropna()\n",
    "logreg_df = logreg_df.dropna()"
   ]
  },
  {
   "cell_type": "code",
   "execution_count": 83,
   "metadata": {},
   "outputs": [
    {
     "name": "stdout",
     "output_type": "stream",
     "text": [
      "After missing values are removed the total number of rows become 94909\n"
     ]
    }
   ],
   "source": [
    "print(f\"After missing values are removed the total number of rows become {df.shape[0]}\")"
   ]
  },
  {
   "cell_type": "markdown",
   "metadata": {},
   "source": [
    "### Drop Outliers"
   ]
  },
  {
   "cell_type": "code",
   "execution_count": 84,
   "metadata": {},
   "outputs": [
    {
     "data": {
      "image/png": "[encoded data removed]",
      "text/plain": [
       "<Figure size 1440x720 with 1 Axes>"
      ]
     },
     "metadata": {},
     "output_type": "display_data"
    }
   ],
   "source": [
    "plt.figure(figsize=[20, 10])\n",
    "sns.distplot(df[\"delay\"], hist=False)\n",
    "plt.title(\"Distribution of the Delay\")\n",
    "plt.show()"
   ]
  },
  {
   "cell_type": "code",
   "execution_count": 85,
   "metadata": {},
   "outputs": [
    {
     "name": "stdout",
     "output_type": "stream",
     "text": [
      "The total number of rows before the deletion of the outliers based on the column delay is 94909\n"
     ]
    }
   ],
   "source": [
    "print(f\"The total number of rows before the deletion of the outliers based on the column delay is {df.shape[0]}\")"
   ]
  },
  {
   "cell_type": "code",
   "execution_count": 86,
   "metadata": {
    "collapsed": true
   },
   "outputs": [],
   "source": [
    "q1 = df[\"delay\"].quantile(0.25)\n",
    "q3 = df[\"delay\"].quantile(0.75)\n",
    "\n",
    "iqr = q3 - q1"
   ]
  },
  {
   "cell_type": "code",
   "execution_count": 87,
   "metadata": {
    "collapsed": true
   },
   "outputs": [],
   "source": [
    "df = df[~(df[\"delay\"] > (q3 + 6 * iqr))]"
   ]
  },
  {
   "cell_type": "code",
   "execution_count": 88,
   "metadata": {},
   "outputs": [
    {
     "data": {
      "image/png": "[encoded data removed]",
      "text/plain": [
       "<Figure size 1440x720 with 1 Axes>"
      ]
     },
     "metadata": {},
     "output_type": "display_data"
    }
   ],
   "source": [
    "plt.figure(figsize=[20, 10])\n",
    "sns.distplot(df[\"delay\"], hist=False)\n",
    "plt.title(\"Distribution of the Delay After Outlier Removal\")\n",
    "plt.show()"
   ]
  },
  {
   "cell_type": "code",
   "execution_count": 89,
   "metadata": {},
   "outputs": [
    {
     "name": "stdout",
     "output_type": "stream",
     "text": [
      "The total number of rows before the deletion of the outliers based on the column delay is 94110\n"
     ]
    }
   ],
   "source": [
    "print(f\"The total number of rows before the deletion of the outliers based on the column delay is {df.shape[0]}\")"
   ]
  },
  {
   "cell_type": "code",
   "execution_count": 90,
   "metadata": {
    "collapsed": true
   },
   "outputs": [],
   "source": [
    "df_test = df.copy()\n",
    "df_test = df_test[df_test[\"flag_test\"] == 1]\n",
    "\n",
    "df = df[df[\"flag_test\"] == 0].drop(\"flag_test\", axis=1)"
   ]
  },
  {
   "cell_type": "markdown",
   "metadata": {},
   "source": [
    "### Correlation Between Numerical Features"
   ]
  },
  {
   "cell_type": "code",
   "execution_count": 91,
   "metadata": {},
   "outputs": [
    {
     "data": {
      "image/png": "[encoded data removed]",
      "text/plain": [
       "<Figure size 864x864 with 2 Axes>"
      ]
     },
     "metadata": {},
     "output_type": "display_data"
    }
   ],
   "source": [
    "plt.figure(figsize=[12, 12])\n",
    "sns.heatmap(df.corr())\n",
    "plt.show()"
   ]
  },
  {
   "cell_type": "markdown",
   "metadata": {},
   "source": [
    "### Recommendation for the Passengers"
   ]
  },
  {
   "cell_type": "code",
   "execution_count": 92,
   "metadata": {
    "collapsed": true
   },
   "outputs": [],
   "source": [
    "delay_by_features = [\"airline_name\", \n",
    "                     \"scheduled_departure_pod\", \n",
    "                     \"scheduled_departure_hour\", \n",
    "                     \"scheduled_departure_holiday_flag\", \n",
    "                     \"scheduled_departure_day\",\n",
    "                    \"arrival_airport_code\",\n",
    "                     \"departure_airport_code\",\n",
    "                    \"number\"]\n",
    "delay_bys = {}\n",
    "\n",
    "for delay_by_feature in delay_by_features:\n",
    "    cnt_delay_by_df = df.groupby(delay_by_feature).sum()[\"flag_delay\"].reset_index().rename(columns={\"flag_delay\": \"cnt_delay\"})\n",
    "    obs_delay_by_df = df.groupby(delay_by_feature).count()[\"flag_delay\"].reset_index().rename(columns={\"flag_delay\": \"obs_delay\"})\n",
    "\n",
    "    delay_by_df = pd.merge(cnt_delay_by_df, obs_delay_by_df,  how='left', left_on=[delay_by_feature], right_on=[delay_by_feature])\n",
    "    delay_by_df[\"%_delay\"] = delay_by_df[\"cnt_delay\"] / delay_by_df[\"obs_delay\"]\n",
    "    \n",
    "    delay_bys[delay_by_feature] = delay_by_df.sort_values(by=\"%_delay\")"
   ]
  },
  {
   "cell_type": "code",
   "execution_count": 93,
   "metadata": {},
   "outputs": [
    {
     "data": {
      "image/png": "[encoded data removed]",
      "text/plain": [
       "<Figure size 1440x1440 with 4 Axes>"
      ]
     },
     "metadata": {},
     "output_type": "display_data"
    }
   ],
   "source": [
    "fig, axs = plt.subplots(2, 2, figsize=(20, 20))\n",
    "colors = ['#ff9999','#66b3ff','#99ff99','#ffcc99']\n",
    "\n",
    "\n",
    "i, j = 0, 0\n",
    "for col in [\"scheduled_departure_pod\", \"scheduled_departure_holiday_flag\", \"scheduled_departure_day\", \"departure_airport_code\"]:\n",
    "    labels = list(delay_bys[col][col])\n",
    "    sizes = list(round(delay_bys[col][\"%_delay\"] * 100))\n",
    "    \n",
    "    axs[i, j].pie(sizes, colors = colors, labels=labels, autopct='%1.1f%%', startangle=90)\n",
    "    axs[i, j].set_title(f\"Likelihood to delay by {col}\")\n",
    "    j += 1\n",
    "    \n",
    "    if j % 2 == 0:\n",
    "        j = 0\n",
    "        i += 1\n",
    "        \n",
    "plt.show()"
   ]
  },
  {
   "cell_type": "markdown",
   "metadata": {},
   "source": [
    "Looking at the pie charts above we can conclude these recommendations for the passengers:\n",
    "1. Travelling in the night (9pm - 3am) has a lower likelihood to delay compared to traveling in the noon (12pm - 4pm)\n",
    "2. Travelling in during the d-day of holiday has lower chance to delay compared to other normal days\n",
    "3. There's no really significant difference between travelling on weekdays or on weekends\n",
    "4. Travelling from Sultan Abdul Aziz Shah Airport (SZB) has lower chance to delay compared than the rest airport"
   ]
  },
  {
   "cell_type": "code",
   "execution_count": 94,
   "metadata": {
    "scrolled": true
   },
   "outputs": [
    {
     "data": {
      "text/html": [
       "<div>\n",
       "<style scoped>\n",
       "    .dataframe tbody tr th:only-of-type {\n",
       "        vertical-align: middle;\n",
       "    }\n",
       "\n",
       "    .dataframe tbody tr th {\n",
       "        vertical-align: top;\n",
       "    }\n",
       "\n",
       "    .dataframe thead th {\n",
       "        text-align: right;\n",
       "    }\n",
       "</style>\n",
       "<table border=\"1\" class=\"dataframe\">\n",
       "  <thead>\n",
       "    <tr style=\"text-align: right;\">\n",
       "      <th></th>\n",
       "      <th>airline_name</th>\n",
       "      <th>cnt_delay</th>\n",
       "      <th>obs_delay</th>\n",
       "      <th>%_delay</th>\n",
       "    </tr>\n",
       "  </thead>\n",
       "  <tbody>\n",
       "    <tr>\n",
       "      <th>42</th>\n",
       "      <td>Indonesia AirAsia</td>\n",
       "      <td>0</td>\n",
       "      <td>6</td>\n",
       "      <td>0.0</td>\n",
       "    </tr>\n",
       "    <tr>\n",
       "      <th>90</th>\n",
       "      <td>YTO Cargo</td>\n",
       "      <td>0</td>\n",
       "      <td>24</td>\n",
       "      <td>0.0</td>\n",
       "    </tr>\n",
       "    <tr>\n",
       "      <th>57</th>\n",
       "      <td>Nepal Airlines</td>\n",
       "      <td>0</td>\n",
       "      <td>3</td>\n",
       "      <td>0.0</td>\n",
       "    </tr>\n",
       "    <tr>\n",
       "      <th>79</th>\n",
       "      <td>Thai Smile</td>\n",
       "      <td>0</td>\n",
       "      <td>2</td>\n",
       "      <td>0.0</td>\n",
       "    </tr>\n",
       "    <tr>\n",
       "      <th>73</th>\n",
       "      <td>Silk Way West</td>\n",
       "      <td>0</td>\n",
       "      <td>14</td>\n",
       "      <td>0.0</td>\n",
       "    </tr>\n",
       "  </tbody>\n",
       "</table>\n",
       "</div>"
      ],
      "text/plain": [
       "         airline_name  cnt_delay  obs_delay  %_delay\n",
       "42  Indonesia AirAsia          0          6      0.0\n",
       "90          YTO Cargo          0         24      0.0\n",
       "57     Nepal Airlines          0          3      0.0\n",
       "79         Thai Smile          0          2      0.0\n",
       "73      Silk Way West          0         14      0.0"
      ]
     },
     "execution_count": 94,
     "metadata": {},
     "output_type": "execute_result"
    }
   ],
   "source": [
    "delay_bys[\"airline_name\"].head()"
   ]
  },
  {
   "cell_type": "markdown",
   "metadata": {},
   "source": [
    "Travelling using Firefly is very recommended since it has zero delays even after the 4,5k flights in the month"
   ]
  },
  {
   "cell_type": "code",
   "execution_count": 95,
   "metadata": {
    "scrolled": true
   },
   "outputs": [
    {
     "data": {
      "text/html": [
       "<div>\n",
       "<style scoped>\n",
       "    .dataframe tbody tr th:only-of-type {\n",
       "        vertical-align: middle;\n",
       "    }\n",
       "\n",
       "    .dataframe tbody tr th {\n",
       "        vertical-align: top;\n",
       "    }\n",
       "\n",
       "    .dataframe thead th {\n",
       "        text-align: right;\n",
       "    }\n",
       "</style>\n",
       "<table border=\"1\" class=\"dataframe\">\n",
       "  <thead>\n",
       "    <tr style=\"text-align: right;\">\n",
       "      <th></th>\n",
       "      <th>arrival_airport_code</th>\n",
       "      <th>cnt_delay</th>\n",
       "      <th>obs_delay</th>\n",
       "      <th>%_delay</th>\n",
       "    </tr>\n",
       "  </thead>\n",
       "  <tbody>\n",
       "    <tr>\n",
       "      <th>120</th>\n",
       "      <td>XSP</td>\n",
       "      <td>0</td>\n",
       "      <td>2</td>\n",
       "      <td>0.000000</td>\n",
       "    </tr>\n",
       "    <tr>\n",
       "      <th>54</th>\n",
       "      <td>JOG</td>\n",
       "      <td>0</td>\n",
       "      <td>12</td>\n",
       "      <td>0.000000</td>\n",
       "    </tr>\n",
       "    <tr>\n",
       "      <th>39</th>\n",
       "      <td>GYD</td>\n",
       "      <td>0</td>\n",
       "      <td>14</td>\n",
       "      <td>0.000000</td>\n",
       "    </tr>\n",
       "    <tr>\n",
       "      <th>87</th>\n",
       "      <td>NNG</td>\n",
       "      <td>5</td>\n",
       "      <td>44</td>\n",
       "      <td>0.113636</td>\n",
       "    </tr>\n",
       "    <tr>\n",
       "      <th>73</th>\n",
       "      <td>LMN</td>\n",
       "      <td>14</td>\n",
       "      <td>113</td>\n",
       "      <td>0.123894</td>\n",
       "    </tr>\n",
       "  </tbody>\n",
       "</table>\n",
       "</div>"
      ],
      "text/plain": [
       "    arrival_airport_code  cnt_delay  obs_delay   %_delay\n",
       "120                  XSP          0          2  0.000000\n",
       "54                   JOG          0         12  0.000000\n",
       "39                   GYD          0         14  0.000000\n",
       "87                   NNG          5         44  0.113636\n",
       "73                   LMN         14        113  0.123894"
      ]
     },
     "execution_count": 95,
     "metadata": {},
     "output_type": "execute_result"
    }
   ],
   "source": [
    "delay_bys[\"arrival_airport_code\"].head()"
   ]
  },
  {
   "cell_type": "code",
   "execution_count": 96,
   "metadata": {
    "scrolled": true
   },
   "outputs": [
    {
     "data": {
      "text/html": [
       "<div>\n",
       "<style scoped>\n",
       "    .dataframe tbody tr th:only-of-type {\n",
       "        vertical-align: middle;\n",
       "    }\n",
       "\n",
       "    .dataframe tbody tr th {\n",
       "        vertical-align: top;\n",
       "    }\n",
       "\n",
       "    .dataframe thead th {\n",
       "        text-align: right;\n",
       "    }\n",
       "</style>\n",
       "<table border=\"1\" class=\"dataframe\">\n",
       "  <thead>\n",
       "    <tr style=\"text-align: right;\">\n",
       "      <th></th>\n",
       "      <th>number</th>\n",
       "      <th>cnt_delay</th>\n",
       "      <th>obs_delay</th>\n",
       "      <th>%_delay</th>\n",
       "    </tr>\n",
       "  </thead>\n",
       "  <tbody>\n",
       "    <tr>\n",
       "      <th>934</th>\n",
       "      <td>MH5471</td>\n",
       "      <td>0</td>\n",
       "      <td>57</td>\n",
       "      <td>0.0</td>\n",
       "    </tr>\n",
       "    <tr>\n",
       "      <th>419</th>\n",
       "      <td>FY1327</td>\n",
       "      <td>0</td>\n",
       "      <td>22</td>\n",
       "      <td>0.0</td>\n",
       "    </tr>\n",
       "    <tr>\n",
       "      <th>899</th>\n",
       "      <td>MH5368</td>\n",
       "      <td>0</td>\n",
       "      <td>88</td>\n",
       "      <td>0.0</td>\n",
       "    </tr>\n",
       "    <tr>\n",
       "      <th>900</th>\n",
       "      <td>MH5371</td>\n",
       "      <td>0</td>\n",
       "      <td>47</td>\n",
       "      <td>0.0</td>\n",
       "    </tr>\n",
       "    <tr>\n",
       "      <th>901</th>\n",
       "      <td>MH5372</td>\n",
       "      <td>0</td>\n",
       "      <td>58</td>\n",
       "      <td>0.0</td>\n",
       "    </tr>\n",
       "  </tbody>\n",
       "</table>\n",
       "</div>"
      ],
      "text/plain": [
       "     number  cnt_delay  obs_delay  %_delay\n",
       "934  MH5471          0         57      0.0\n",
       "419  FY1327          0         22      0.0\n",
       "899  MH5368          0         88      0.0\n",
       "900  MH5371          0         47      0.0\n",
       "901  MH5372          0         58      0.0"
      ]
     },
     "execution_count": 96,
     "metadata": {},
     "output_type": "execute_result"
    }
   ],
   "source": [
    "delay_bys[\"number\"].head()"
   ]
  },
  {
   "cell_type": "markdown",
   "metadata": {},
   "source": [
    "## Linear Regression"
   ]
  },
  {
   "cell_type": "code",
   "execution_count": 97,
   "metadata": {
    "collapsed": true
   },
   "outputs": [],
   "source": [
    "from sklearn.linear_model import LinearRegression, LogisticRegression\n",
    "from sklearn.metrics import r2_score"
   ]
  },
  {
   "cell_type": "markdown",
   "metadata": {},
   "source": [
    "#### Univariate Linear Regression"
   ]
  },
  {
   "cell_type": "markdown",
   "metadata": {},
   "source": [
    "For the purpose of creating the univariate linear regression, I used the delay as the dependent variable and distance as the independent variable"
   ]
  },
  {
   "cell_type": "code",
   "execution_count": 98,
   "metadata": {},
   "outputs": [
    {
     "name": "stdout",
     "output_type": "stream",
     "text": [
      "The linear model is: Y = 8.0032 + 0.00088747X\n"
     ]
    }
   ],
   "source": [
    "X = df[\"distance\"].values.reshape(-1,1)\n",
    "y = df[\"delay\"].values.reshape(-1,1)\n",
    "\n",
    "reg = LinearRegression()\n",
    "reg.fit(X, y)\n",
    "print(\"The linear model is: Y = {:.5} + {:.5}X\".format(reg.intercept_[0], reg.coef_[0][0]))"
   ]
  },
  {
   "cell_type": "code",
   "execution_count": 99,
   "metadata": {},
   "outputs": [
    {
     "data": {
      "image/png": "[encoded data removed]",
      "text/plain": [
       "<Figure size 1152x576 with 1 Axes>"
      ]
     },
     "metadata": {},
     "output_type": "display_data"
    }
   ],
   "source": [
    "predictions = reg.predict(X)\n",
    "\n",
    "plt.figure(figsize=(16, 8))\n",
    "plt.scatter(\n",
    "    df['distance'],\n",
    "    df['delay'],\n",
    "    c='black'\n",
    ")\n",
    "plt.plot(\n",
    "    df['distance'],\n",
    "    predictions,\n",
    "    c='blue',\n",
    "    linewidth=2\n",
    ")\n",
    "plt.xlabel(\"Distance between two airports\")\n",
    "plt.ylabel(\"Delay\")\n",
    "plt.show()"
   ]
  },
  {
   "cell_type": "code",
   "execution_count": 100,
   "metadata": {
    "collapsed": true
   },
   "outputs": [],
   "source": [
    "from sklearn.metrics import r2_score, mean_squared_error, confusion_matrix, f1_score, auc"
   ]
  },
  {
   "cell_type": "code",
   "execution_count": 101,
   "metadata": {},
   "outputs": [
    {
     "name": "stdout",
     "output_type": "stream",
     "text": [
      "The R2 Score for the Univariate Linear Regression model is 0.012961572024875578 and the mean-squared error is 253.3935142336967\n"
     ]
    }
   ],
   "source": [
    "r2 = r2_score(y, predictions)\n",
    "mse = mean_squared_error(y, predictions)\n",
    "\n",
    "print(f\"The R2 Score for the Univariate Linear Regression model is {r2} and the mean-squared error is {mse}\")"
   ]
  },
  {
   "cell_type": "markdown",
   "metadata": {},
   "source": [
    "#### Multivariate Linear Regression"
   ]
  },
  {
   "cell_type": "code",
   "execution_count": 103,
   "metadata": {},
   "outputs": [],
   "source": [
    "X = df[[\"flight_velocity\", \"flag_faster_flight\", \"scheduled_departure_holiday_flag\", \"cnt_by_airport_date\", \"cnt_by_airport_hour\", \"T\"]]\n",
    "y = df[\"delay\"].values.reshape(-1,1)\n",
    "\n",
    "reg = LinearRegression()\n",
    "reg.fit(X, y)"
   ]
  },
  {
   "cell_type": "code",
   "execution_count": 145,
   "metadata": {
    "collapsed": true
   },
   "outputs": [],
   "source": [
    "predictions = reg.predict(X)"
   ]
  },
  {
   "cell_type": "code",
   "execution_count": 146,
   "metadata": {},
   "outputs": [
    {
     "name": "stdout",
     "output_type": "stream",
     "text": [
      "The R2 Score for the Univariate Linear Regression model is 0.1292515167229401 and the mean-squared error is 34.31142070301985\n"
     ]
    }
   ],
   "source": [
    "r2 = r2_score(y, predictions)\n",
    "mse = mean_squared_error(y, predictions)\n",
    "\n",
    "print(f\"The R2 Score for the Univariate Linear Regression model is {r2} and the mean-squared error is {mse}\")"
   ]
  },
  {
   "cell_type": "markdown",
   "metadata": {},
   "source": [
    "#### Predicting Delay for December"
   ]
  },
  {
   "cell_type": "code",
   "execution_count": 129,
   "metadata": {},
   "outputs": [],
   "source": [
    "dec_df = df[df[\"scheduled_departure_date\"].str[5:7] == \"12\"].copy()"
   ]
  },
  {
   "cell_type": "code",
   "execution_count": 130,
   "metadata": {
    "collapsed": true
   },
   "outputs": [],
   "source": [
    "X = dec_df[[\"flight_velocity\", \"flag_faster_flight\", \"scheduled_departure_holiday_flag\", \"cnt_by_airport_date\", \"cnt_by_airport_hour\", \"T\"]]\n",
    "y = dec_df[\"delay\"].values.reshape(-1,1)\n",
    "\n",
    "reg = LinearRegression()\n",
    "reg.fit(X, y)"
   ]
  },
  {
   "cell_type": "code",
   "execution_count": 131,
   "metadata": {
    "collapsed": true
   },
   "outputs": [],
   "source": [
    "predictions = reg.predict(X)"
   ]
  },
  {
   "cell_type": "code",
   "execution_count": null,
   "metadata": {
    "collapsed": true
   },
   "outputs": [],
   "source": [
    "predictions"
   ]
  },
  {
   "cell_type": "markdown",
   "metadata": {},
   "source": [
    "### Logistic Regression"
   ]
  },
  {
   "cell_type": "code",
   "execution_count": 111,
   "metadata": {
    "collapsed": true
   },
   "outputs": [],
   "source": [
    "X = logreg_df[\"distance\"].values.reshape(-1,1)\n",
    "y = logreg_df[\"flag_delay\"].values.reshape(-1,1)"
   ]
  },
  {
   "cell_type": "code",
   "execution_count": 148,
   "metadata": {
    "collapsed": true
   },
   "outputs": [],
   "source": [
    "X_train, X_val, y_train, y_val = train_test_split(X, y, random_state=42)"
   ]
  },
  {
   "cell_type": "code",
   "execution_count": 149,
   "metadata": {},
   "outputs": [
    {
     "data": {
      "text/plain": [
       "LogisticRegression(C=1.0, class_weight=None, dual=False, fit_intercept=True,\n",
       "                   intercept_scaling=1, l1_ratio=None, max_iter=100,\n",
       "                   multi_class='warn', n_jobs=None, penalty='l2',\n",
       "                   random_state=None, solver='warn', tol=0.0001, verbose=0,\n",
       "                   warm_start=False)"
      ]
     },
     "execution_count": 149,
     "metadata": {},
     "output_type": "execute_result"
    }
   ],
   "source": [
    "lr = LogisticRegression()\n",
    "lr.fit(X_train, y_train)"
   ]
  },
  {
   "cell_type": "code",
   "execution_count": 150,
   "metadata": {
    "collapsed": true
   },
   "outputs": [],
   "source": [
    "y_pred = lr.predict(X_val)"
   ]
  },
  {
   "cell_type": "markdown",
   "metadata": {},
   "source": [
    "The confusion matrix, AUC and F1Score for the logistic regression model"
   ]
  },
  {
   "cell_type": "code",
   "execution_count": 151,
   "metadata": {},
   "outputs": [
    {
     "name": "stdout",
     "output_type": "stream",
     "text": [
      "The confusion matrix is as follow [[58  0]\n",
      " [35  3]]\n",
      "The F1 Score is 0.14634146341463414\n"
     ]
    }
   ],
   "source": [
    "print(f\"The confusion matrix is as follow {confusion_matrix(y_val, y_pred)}\")\n",
    "print(f\"The F1 Score is {f1_score(y_val, y_pred)}\")"
   ]
  },
  {
   "cell_type": "code",
   "execution_count": 155,
   "metadata": {
    "collapsed": true
   },
   "outputs": [],
   "source": [
    "from scipy.special import expit\n",
    "\n",
    "df = pd.DataFrame({'X': X_val[:,0], 'y': y_val})\n",
    "df = df.sort_values(by='X')\n",
    "\n",
    "sigmoid_function = expit(df['X'] * lr.coef_[0][0] + lr.intercept_[0]).ravel()\n",
    "plt.figure(figsize=(16, 8))\n",
    "\n",
    "plt.plot(df['X'], sigmoid_function)\n",
    "plt.scatter(df['X'], df['y'], c=df['y'])\n",
    "plt.show()"
   ]
  },
  {
   "cell_type": "markdown",
   "metadata": {},
   "source": [
    "#### Decision Tree"
   ]
  },
  {
   "cell_type": "code",
   "execution_count": 156,
   "metadata": {
    "collapsed": true
   },
   "outputs": [],
   "source": [
    "from sklearn.tree import DecisionTreeClassifier\n",
    "from sklearn.tree import export_graphviz\n",
    "from sklearn.externals.six import StringIO "
   ]
  },
  {
   "cell_type": "code",
   "execution_count": 157,
   "metadata": {
    "collapsed": true
   },
   "outputs": [],
   "source": [
    "X = df[[\"distance\", \"scheduled_departure_weekend_flag\", \"scheduled_departure_holiday_flag\"]]\n",
    "y = df[\"delay\"]"
   ]
  },
  {
   "cell_type": "code",
   "execution_count": 158,
   "metadata": {
    "collapsed": true
   },
   "outputs": [],
   "source": [
    "X_train, X_val, y_train, y_val = train_test_split(X, y, random_state=1)"
   ]
  },
  {
   "cell_type": "code",
   "execution_count": 159,
   "metadata": {},
   "outputs": [
    {
     "data": {
      "text/plain": [
       "DecisionTreeClassifier(class_weight=None, criterion='gini', max_depth=None,\n",
       "                       max_features=None, max_leaf_nodes=None,\n",
       "                       min_impurity_decrease=0.0, min_impurity_split=None,\n",
       "                       min_samples_leaf=1, min_samples_split=2,\n",
       "                       min_weight_fraction_leaf=0.0, presort=False,\n",
       "                       random_state=None, splitter='best')"
      ]
     },
     "execution_count": 159,
     "metadata": {},
     "output_type": "execute_result"
    }
   ],
   "source": [
    "dt = DecisionTreeClassifier()\n",
    "dt.fit(X_train, y_train)"
   ]
  },
  {
   "cell_type": "code",
   "execution_count": 160,
   "metadata": {
    "collapsed": true
   },
   "outputs": [],
   "source": [
    "y_pred = dt.predict(X_val)"
   ]
  },
  {
   "cell_type": "code",
   "execution_count": 162,
   "metadata": {
    "collapsed": true
   },
   "outputs": [],
   "source": [
    "print(f\"The confusion matrix is as follow {confusion_matrix(y_val, y_pred)}\")\n",
    "print(f\"The F1 Score is {f1_score(y_val, y_pred)}\")\n",
    "print(f\"The AUC is {auc(y_val, y_pred)}\")"
   ]
  }
 ],
 "metadata": {
  "kernelspec": {
   "display_name": "Python 3",
   "language": "python",
   "name": "python3"
  },
  "language_info": {
   "codemirror_mode": {
    "name": "ipython",
    "version": 3
   },
   "file_extension": ".py",
   "mimetype": "text/x-python",
   "name": "python",
   "nbconvert_exporter": "python",
   "pygments_lexer": "ipython3",
   "version": "3.6.3"
  }
 },
 "nbformat": 4,
 "nbformat_minor": 2
}
