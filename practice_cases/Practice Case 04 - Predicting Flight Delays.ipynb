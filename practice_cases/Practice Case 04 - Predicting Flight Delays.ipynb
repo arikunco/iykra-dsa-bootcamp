{
 "cells": [
  {
   "cell_type": "markdown",
   "metadata": {},
   "source": [
    "<style>\n",
    "    .zero-margin {\n",
    "        margin: 0 px;\n",
    "     }\n",
    "</style>\n",
    "\n",
    "<div class=\"zero-margin\" style=\"text-align: center;\">\n",
    "    <p style=\"text-align: center; font-size: 20px; margin-bottom: 10px;\">Practice Case 04<p>\n",
    "    <p style=\"text-align: center; font-size: 40px; margin: 0px; font-weight: bold;text-transform: uppercase;\">Machine Learning</p><br/>\n",
    "    <p  style=\"text-align: center; margin-bottom: 0px;\">Monday, November 4th 2019</p>\n",
    "     <p  style=\"text-align: center; margin-top: 0px;\">M. Haries Ramdhani</p>\n",
    "</div>"
   ]
  },
  {
   "cell_type": "markdown",
   "metadata": {},
   "source": [
    "# Data Preparation"
   ]
  },
  {
   "cell_type": "code",
   "execution_count": 39,
   "metadata": {
    "collapsed": true
   },
   "outputs": [],
   "source": [
    "import pandas as pd\n",
    "import numpy as np\n",
    "import seaborn as sns\n",
    "import matplotlib.pyplot as plt\n",
    "\n",
    "from collections import OrderedDict\n",
    "from matplotlib.gridspec import GridSpec\n",
    "from sklearn import metrics, linear_model\n",
    "from sklearn.preprocessing import PolynomialFeatures, StandardScaler\n",
    "from sklearn.preprocessing import LabelEncoder, OneHotEncoder\n",
    "from sklearn.model_selection import train_test_split, cross_val_score, cross_val_predict\n",
    "from scipy.optimize import curve_fit\n",
    "\n",
    "pd.options.display.max_columns = 50\n",
    "import warnings\n",
    "warnings.filterwarnings(\"ignore\")"
   ]
  },
  {
   "cell_type": "code",
   "execution_count": 40,
   "metadata": {
    "collapsed": true
   },
   "outputs": [],
   "source": [
    "from bs4 import BeautifulSoup as bs\n",
    "import requests\n",
    "import re\n",
    "import time"
   ]
  },
  {
   "cell_type": "code",
   "execution_count": 41,
   "metadata": {
    "collapsed": true
   },
   "outputs": [],
   "source": [
    "df = pd.read_csv(\"../data/flight/training_dataset.csv\")\n",
    "df_test = pd.read_csv(\"../data/flight/test_dataset.csv\")"
   ]
  },
  {
   "cell_type": "code",
   "execution_count": 42,
   "metadata": {
    "collapsed": true
   },
   "outputs": [],
   "source": [
    "# Flag the test and train data so it can be easily distinguished in the future\n",
    "df_test[\"flag_test\"] = 1\n",
    "df[\"flag_test\"] = 0"
   ]
  },
  {
   "cell_type": "code",
   "execution_count": 43,
   "metadata": {
    "collapsed": true
   },
   "outputs": [],
   "source": [
    "df = df.append(df_test)"
   ]
  },
  {
   "cell_type": "code",
   "execution_count": 44,
   "metadata": {},
   "outputs": [
    {
     "data": {
      "text/html": [
       "<div>\n",
       "<style>\n",
       "    .dataframe thead tr:only-child th {\n",
       "        text-align: right;\n",
       "    }\n",
       "\n",
       "    .dataframe thead th {\n",
       "        text-align: left;\n",
       "    }\n",
       "\n",
       "    .dataframe tbody tr th {\n",
       "        vertical-align: top;\n",
       "    }\n",
       "</style>\n",
       "<table border=\"1\" class=\"dataframe\">\n",
       "  <thead>\n",
       "    <tr style=\"text-align: right;\">\n",
       "      <th></th>\n",
       "      <th>id</th>\n",
       "      <th>number</th>\n",
       "      <th>airline</th>\n",
       "      <th>airline_name</th>\n",
       "      <th>scheduled_departure_time</th>\n",
       "      <th>scheduled_arrival_time</th>\n",
       "      <th>departure_airport_city</th>\n",
       "      <th>departure_airport_code</th>\n",
       "      <th>departure_airport_country</th>\n",
       "      <th>departure_airport_gate</th>\n",
       "      <th>departure_airport_name</th>\n",
       "      <th>departure_airport_region</th>\n",
       "      <th>departure_airport_terminal</th>\n",
       "      <th>departure_airport_timezone</th>\n",
       "      <th>arrival_airport_city</th>\n",
       "      <th>arrival_airport_code</th>\n",
       "      <th>arrival_airport_country</th>\n",
       "      <th>arrival_airport_gate</th>\n",
       "      <th>arrival_airport_name</th>\n",
       "      <th>arrival_airport_region</th>\n",
       "      <th>arrival_airport_terminal</th>\n",
       "      <th>arrival_airport_timezone</th>\n",
       "      <th>flight_equipment_iata</th>\n",
       "      <th>flight_equipment_name</th>\n",
       "      <th>flight_duration</th>\n",
       "      <th>delay</th>\n",
       "      <th>flag_test</th>\n",
       "    </tr>\n",
       "  </thead>\n",
       "  <tbody>\n",
       "    <tr>\n",
       "      <th>0</th>\n",
       "      <td>1</td>\n",
       "      <td>AK6430</td>\n",
       "      <td>AK</td>\n",
       "      <td>AirAsia</td>\n",
       "      <td>2018-10-05 22:00:00</td>\n",
       "      <td>2018-10-05 23:05:00</td>\n",
       "      <td>Kuala Lumpur</td>\n",
       "      <td>KUL</td>\n",
       "      <td>MY</td>\n",
       "      <td>J15</td>\n",
       "      <td>Kuala Lumpur International Airport</td>\n",
       "      <td>Asia</td>\n",
       "      <td>2</td>\n",
       "      <td>Asia/Kuala_Lumpur</td>\n",
       "      <td>Kota Bharu</td>\n",
       "      <td>KBR</td>\n",
       "      <td>MY</td>\n",
       "      <td>2</td>\n",
       "      <td>Sultan Ismail Petra Airport</td>\n",
       "      <td>Asia</td>\n",
       "      <td>NaN</td>\n",
       "      <td>Asia/Kuala_Lumpur</td>\n",
       "      <td>32S</td>\n",
       "      <td>Airbus A318 / A319 / A320 / A321</td>\n",
       "      <td>58m</td>\n",
       "      <td>2</td>\n",
       "      <td>0</td>\n",
       "    </tr>\n",
       "    <tr>\n",
       "      <th>1</th>\n",
       "      <td>2</td>\n",
       "      <td>ID*7164</td>\n",
       "      <td>ID*</td>\n",
       "      <td>Batik Air</td>\n",
       "      <td>2018-10-05 22:00:00</td>\n",
       "      <td>2018-10-05 23:55:00</td>\n",
       "      <td>Kuala Lumpur</td>\n",
       "      <td>KUL</td>\n",
       "      <td>MY</td>\n",
       "      <td>C33</td>\n",
       "      <td>Kuala Lumpur International Airport</td>\n",
       "      <td>Asia</td>\n",
       "      <td>M</td>\n",
       "      <td>Asia/Kuala_Lumpur</td>\n",
       "      <td>Jakarta</td>\n",
       "      <td>CGK</td>\n",
       "      <td>ID</td>\n",
       "      <td>5</td>\n",
       "      <td>Soekarno-Hatta International Airport</td>\n",
       "      <td>Asia</td>\n",
       "      <td>2</td>\n",
       "      <td>Asia/Jakarta</td>\n",
       "      <td>32S</td>\n",
       "      <td>Airbus A318 / A319 / A320 / A321</td>\n",
       "      <td>1h 55m</td>\n",
       "      <td>8</td>\n",
       "      <td>0</td>\n",
       "    </tr>\n",
       "    <tr>\n",
       "      <th>2</th>\n",
       "      <td>3</td>\n",
       "      <td>MXD9116</td>\n",
       "      <td>MXD</td>\n",
       "      <td>Malindo Air</td>\n",
       "      <td>2018-10-05 22:00:00</td>\n",
       "      <td>2018-10-05 23:55:00</td>\n",
       "      <td>Kuala Lumpur</td>\n",
       "      <td>KUL</td>\n",
       "      <td>MY</td>\n",
       "      <td>C33</td>\n",
       "      <td>Kuala Lumpur International Airport</td>\n",
       "      <td>Asia</td>\n",
       "      <td>M</td>\n",
       "      <td>Asia/Kuala_Lumpur</td>\n",
       "      <td>Jakarta</td>\n",
       "      <td>CGK</td>\n",
       "      <td>ID</td>\n",
       "      <td>5</td>\n",
       "      <td>Soekarno-Hatta International Airport</td>\n",
       "      <td>Asia</td>\n",
       "      <td>2</td>\n",
       "      <td>Asia/Jakarta</td>\n",
       "      <td>32S</td>\n",
       "      <td>Airbus A318 / A319 / A320 / A321</td>\n",
       "      <td>1h 55m</td>\n",
       "      <td>8</td>\n",
       "      <td>0</td>\n",
       "    </tr>\n",
       "    <tr>\n",
       "      <th>3</th>\n",
       "      <td>4</td>\n",
       "      <td>AK5198</td>\n",
       "      <td>AK</td>\n",
       "      <td>AirAsia</td>\n",
       "      <td>2018-10-05 22:05:00</td>\n",
       "      <td>2018-10-06 01:00:00</td>\n",
       "      <td>Kuala Lumpur</td>\n",
       "      <td>KUL</td>\n",
       "      <td>MY</td>\n",
       "      <td>J9</td>\n",
       "      <td>Kuala Lumpur International Airport</td>\n",
       "      <td>Asia</td>\n",
       "      <td>2</td>\n",
       "      <td>Asia/Kuala_Lumpur</td>\n",
       "      <td>Sandakan</td>\n",
       "      <td>SDK</td>\n",
       "      <td>MY</td>\n",
       "      <td>INT</td>\n",
       "      <td>Sandakan Airport</td>\n",
       "      <td>Asia</td>\n",
       "      <td>NaN</td>\n",
       "      <td>Asia/Kuala_Lumpur</td>\n",
       "      <td>32S</td>\n",
       "      <td>Airbus A318 / A319 / A320 / A321</td>\n",
       "      <td>2h 54m</td>\n",
       "      <td>0</td>\n",
       "      <td>0</td>\n",
       "    </tr>\n",
       "    <tr>\n",
       "      <th>4</th>\n",
       "      <td>5</td>\n",
       "      <td>AK516</td>\n",
       "      <td>AK</td>\n",
       "      <td>AirAsia</td>\n",
       "      <td>2018-10-05 22:10:00</td>\n",
       "      <td>2018-10-06 01:25:00</td>\n",
       "      <td>Kuala Lumpur</td>\n",
       "      <td>KUL</td>\n",
       "      <td>MY</td>\n",
       "      <td>P1</td>\n",
       "      <td>Kuala Lumpur International Airport</td>\n",
       "      <td>Asia</td>\n",
       "      <td>2</td>\n",
       "      <td>Asia/Kuala_Lumpur</td>\n",
       "      <td>Hanoi</td>\n",
       "      <td>HAN</td>\n",
       "      <td>VN</td>\n",
       "      <td>NaN</td>\n",
       "      <td>Noi Bai International Airport</td>\n",
       "      <td>Asia</td>\n",
       "      <td>T2</td>\n",
       "      <td>Asia/Ho_Chi_Minh</td>\n",
       "      <td>32S</td>\n",
       "      <td>Airbus A318 / A319 / A320 / A321</td>\n",
       "      <td>3h 17m</td>\n",
       "      <td>0</td>\n",
       "      <td>0</td>\n",
       "    </tr>\n",
       "  </tbody>\n",
       "</table>\n",
       "</div>"
      ],
      "text/plain": [
       "   id   number airline airline_name scheduled_departure_time  \\\n",
       "0   1   AK6430      AK      AirAsia      2018-10-05 22:00:00   \n",
       "1   2  ID*7164     ID*    Batik Air      2018-10-05 22:00:00   \n",
       "2   3  MXD9116     MXD  Malindo Air      2018-10-05 22:00:00   \n",
       "3   4   AK5198      AK      AirAsia      2018-10-05 22:05:00   \n",
       "4   5    AK516      AK      AirAsia      2018-10-05 22:10:00   \n",
       "\n",
       "  scheduled_arrival_time departure_airport_city departure_airport_code  \\\n",
       "0    2018-10-05 23:05:00           Kuala Lumpur                    KUL   \n",
       "1    2018-10-05 23:55:00           Kuala Lumpur                    KUL   \n",
       "2    2018-10-05 23:55:00           Kuala Lumpur                    KUL   \n",
       "3    2018-10-06 01:00:00           Kuala Lumpur                    KUL   \n",
       "4    2018-10-06 01:25:00           Kuala Lumpur                    KUL   \n",
       "\n",
       "  departure_airport_country departure_airport_gate  \\\n",
       "0                        MY                    J15   \n",
       "1                        MY                    C33   \n",
       "2                        MY                    C33   \n",
       "3                        MY                     J9   \n",
       "4                        MY                     P1   \n",
       "\n",
       "               departure_airport_name departure_airport_region  \\\n",
       "0  Kuala Lumpur International Airport                     Asia   \n",
       "1  Kuala Lumpur International Airport                     Asia   \n",
       "2  Kuala Lumpur International Airport                     Asia   \n",
       "3  Kuala Lumpur International Airport                     Asia   \n",
       "4  Kuala Lumpur International Airport                     Asia   \n",
       "\n",
       "  departure_airport_terminal departure_airport_timezone arrival_airport_city  \\\n",
       "0                          2          Asia/Kuala_Lumpur           Kota Bharu   \n",
       "1                          M          Asia/Kuala_Lumpur              Jakarta   \n",
       "2                          M          Asia/Kuala_Lumpur              Jakarta   \n",
       "3                          2          Asia/Kuala_Lumpur             Sandakan   \n",
       "4                          2          Asia/Kuala_Lumpur                Hanoi   \n",
       "\n",
       "  arrival_airport_code arrival_airport_country arrival_airport_gate  \\\n",
       "0                  KBR                      MY                    2   \n",
       "1                  CGK                      ID                    5   \n",
       "2                  CGK                      ID                    5   \n",
       "3                  SDK                      MY                  INT   \n",
       "4                  HAN                      VN                  NaN   \n",
       "\n",
       "                   arrival_airport_name arrival_airport_region  \\\n",
       "0           Sultan Ismail Petra Airport                   Asia   \n",
       "1  Soekarno-Hatta International Airport                   Asia   \n",
       "2  Soekarno-Hatta International Airport                   Asia   \n",
       "3                      Sandakan Airport                   Asia   \n",
       "4         Noi Bai International Airport                   Asia   \n",
       "\n",
       "  arrival_airport_terminal arrival_airport_timezone flight_equipment_iata  \\\n",
       "0                      NaN        Asia/Kuala_Lumpur                   32S   \n",
       "1                        2             Asia/Jakarta                   32S   \n",
       "2                        2             Asia/Jakarta                   32S   \n",
       "3                      NaN        Asia/Kuala_Lumpur                   32S   \n",
       "4                       T2         Asia/Ho_Chi_Minh                   32S   \n",
       "\n",
       "              flight_equipment_name flight_duration  delay  flag_test  \n",
       "0  Airbus A318 / A319 / A320 / A321             58m      2          0  \n",
       "1  Airbus A318 / A319 / A320 / A321          1h 55m      8          0  \n",
       "2  Airbus A318 / A319 / A320 / A321          1h 55m      8          0  \n",
       "3  Airbus A318 / A319 / A320 / A321          2h 54m      0          0  \n",
       "4  Airbus A318 / A319 / A320 / A321          3h 17m      0          0  "
      ]
     },
     "execution_count": 44,
     "metadata": {},
     "output_type": "execute_result"
    }
   ],
   "source": [
    "# Preview of the data frame\n",
    "df.head()"
   ]
  },
  {
   "cell_type": "code",
   "execution_count": 45,
   "metadata": {
    "scrolled": false
   },
   "outputs": [
    {
     "data": {
      "text/html": [
       "<div>\n",
       "<style>\n",
       "    .dataframe thead tr:only-child th {\n",
       "        text-align: right;\n",
       "    }\n",
       "\n",
       "    .dataframe thead th {\n",
       "        text-align: left;\n",
       "    }\n",
       "\n",
       "    .dataframe tbody tr th {\n",
       "        vertical-align: top;\n",
       "    }\n",
       "</style>\n",
       "<table border=\"1\" class=\"dataframe\">\n",
       "  <thead>\n",
       "    <tr style=\"text-align: right;\">\n",
       "      <th></th>\n",
       "      <th>data_type</th>\n",
       "      <th>#_unique</th>\n",
       "      <th>#_nan</th>\n",
       "      <th>%_nan</th>\n",
       "    </tr>\n",
       "  </thead>\n",
       "  <tbody>\n",
       "    <tr>\n",
       "      <th>id</th>\n",
       "      <td>int64</td>\n",
       "      <td>152625</td>\n",
       "      <td>0</td>\n",
       "      <td>0.000000</td>\n",
       "    </tr>\n",
       "    <tr>\n",
       "      <th>scheduled_arrival_time</th>\n",
       "      <td>object</td>\n",
       "      <td>19159</td>\n",
       "      <td>7</td>\n",
       "      <td>0.004586</td>\n",
       "    </tr>\n",
       "    <tr>\n",
       "      <th>scheduled_departure_time</th>\n",
       "      <td>object</td>\n",
       "      <td>17499</td>\n",
       "      <td>0</td>\n",
       "      <td>0.000000</td>\n",
       "    </tr>\n",
       "    <tr>\n",
       "      <th>number</th>\n",
       "      <td>object</td>\n",
       "      <td>2590</td>\n",
       "      <td>0</td>\n",
       "      <td>0.000000</td>\n",
       "    </tr>\n",
       "    <tr>\n",
       "      <th>flight_duration</th>\n",
       "      <td>object</td>\n",
       "      <td>724</td>\n",
       "      <td>0</td>\n",
       "      <td>0.000000</td>\n",
       "    </tr>\n",
       "    <tr>\n",
       "      <th>delay</th>\n",
       "      <td>int64</td>\n",
       "      <td>379</td>\n",
       "      <td>0</td>\n",
       "      <td>0.000000</td>\n",
       "    </tr>\n",
       "    <tr>\n",
       "      <th>arrival_airport_gate</th>\n",
       "      <td>object</td>\n",
       "      <td>284</td>\n",
       "      <td>137275</td>\n",
       "      <td>89.942670</td>\n",
       "    </tr>\n",
       "    <tr>\n",
       "      <th>departure_airport_gate</th>\n",
       "      <td>object</td>\n",
       "      <td>189</td>\n",
       "      <td>60619</td>\n",
       "      <td>39.717609</td>\n",
       "    </tr>\n",
       "    <tr>\n",
       "      <th>arrival_airport_name</th>\n",
       "      <td>object</td>\n",
       "      <td>157</td>\n",
       "      <td>0</td>\n",
       "      <td>0.000000</td>\n",
       "    </tr>\n",
       "    <tr>\n",
       "      <th>arrival_airport_code</th>\n",
       "      <td>object</td>\n",
       "      <td>157</td>\n",
       "      <td>0</td>\n",
       "      <td>0.000000</td>\n",
       "    </tr>\n",
       "    <tr>\n",
       "      <th>arrival_airport_city</th>\n",
       "      <td>object</td>\n",
       "      <td>152</td>\n",
       "      <td>0</td>\n",
       "      <td>0.000000</td>\n",
       "    </tr>\n",
       "    <tr>\n",
       "      <th>airline</th>\n",
       "      <td>object</td>\n",
       "      <td>105</td>\n",
       "      <td>0</td>\n",
       "      <td>0.000000</td>\n",
       "    </tr>\n",
       "    <tr>\n",
       "      <th>airline_name</th>\n",
       "      <td>object</td>\n",
       "      <td>105</td>\n",
       "      <td>0</td>\n",
       "      <td>0.000000</td>\n",
       "    </tr>\n",
       "    <tr>\n",
       "      <th>flight_equipment_name</th>\n",
       "      <td>object</td>\n",
       "      <td>49</td>\n",
       "      <td>22</td>\n",
       "      <td>0.014414</td>\n",
       "    </tr>\n",
       "    <tr>\n",
       "      <th>flight_equipment_iata</th>\n",
       "      <td>object</td>\n",
       "      <td>49</td>\n",
       "      <td>22</td>\n",
       "      <td>0.014414</td>\n",
       "    </tr>\n",
       "    <tr>\n",
       "      <th>arrival_airport_timezone</th>\n",
       "      <td>object</td>\n",
       "      <td>43</td>\n",
       "      <td>0</td>\n",
       "      <td>0.000000</td>\n",
       "    </tr>\n",
       "    <tr>\n",
       "      <th>arrival_airport_country</th>\n",
       "      <td>object</td>\n",
       "      <td>39</td>\n",
       "      <td>0</td>\n",
       "      <td>0.000000</td>\n",
       "    </tr>\n",
       "    <tr>\n",
       "      <th>departure_airport_name</th>\n",
       "      <td>object</td>\n",
       "      <td>17</td>\n",
       "      <td>0</td>\n",
       "      <td>0.000000</td>\n",
       "    </tr>\n",
       "    <tr>\n",
       "      <th>departure_airport_code</th>\n",
       "      <td>object</td>\n",
       "      <td>17</td>\n",
       "      <td>0</td>\n",
       "      <td>0.000000</td>\n",
       "    </tr>\n",
       "    <tr>\n",
       "      <th>arrival_airport_terminal</th>\n",
       "      <td>object</td>\n",
       "      <td>17</td>\n",
       "      <td>79410</td>\n",
       "      <td>52.029484</td>\n",
       "    </tr>\n",
       "    <tr>\n",
       "      <th>departure_airport_city</th>\n",
       "      <td>object</td>\n",
       "      <td>16</td>\n",
       "      <td>0</td>\n",
       "      <td>0.000000</td>\n",
       "    </tr>\n",
       "    <tr>\n",
       "      <th>departure_airport_terminal</th>\n",
       "      <td>object</td>\n",
       "      <td>6</td>\n",
       "      <td>56588</td>\n",
       "      <td>37.076495</td>\n",
       "    </tr>\n",
       "    <tr>\n",
       "      <th>arrival_airport_region</th>\n",
       "      <td>object</td>\n",
       "      <td>4</td>\n",
       "      <td>0</td>\n",
       "      <td>0.000000</td>\n",
       "    </tr>\n",
       "    <tr>\n",
       "      <th>flag_test</th>\n",
       "      <td>int64</td>\n",
       "      <td>2</td>\n",
       "      <td>0</td>\n",
       "      <td>0.000000</td>\n",
       "    </tr>\n",
       "    <tr>\n",
       "      <th>departure_airport_region</th>\n",
       "      <td>object</td>\n",
       "      <td>1</td>\n",
       "      <td>0</td>\n",
       "      <td>0.000000</td>\n",
       "    </tr>\n",
       "    <tr>\n",
       "      <th>departure_airport_country</th>\n",
       "      <td>object</td>\n",
       "      <td>1</td>\n",
       "      <td>0</td>\n",
       "      <td>0.000000</td>\n",
       "    </tr>\n",
       "    <tr>\n",
       "      <th>departure_airport_timezone</th>\n",
       "      <td>object</td>\n",
       "      <td>1</td>\n",
       "      <td>0</td>\n",
       "      <td>0.000000</td>\n",
       "    </tr>\n",
       "  </tbody>\n",
       "</table>\n",
       "</div>"
      ],
      "text/plain": [
       "                           data_type  #_unique   #_nan      %_nan\n",
       "id                             int64    152625       0   0.000000\n",
       "scheduled_arrival_time        object     19159       7   0.004586\n",
       "scheduled_departure_time      object     17499       0   0.000000\n",
       "number                        object      2590       0   0.000000\n",
       "flight_duration               object       724       0   0.000000\n",
       "delay                          int64       379       0   0.000000\n",
       "arrival_airport_gate          object       284  137275  89.942670\n",
       "departure_airport_gate        object       189   60619  39.717609\n",
       "arrival_airport_name          object       157       0   0.000000\n",
       "arrival_airport_code          object       157       0   0.000000\n",
       "arrival_airport_city          object       152       0   0.000000\n",
       "airline                       object       105       0   0.000000\n",
       "airline_name                  object       105       0   0.000000\n",
       "flight_equipment_name         object        49      22   0.014414\n",
       "flight_equipment_iata         object        49      22   0.014414\n",
       "arrival_airport_timezone      object        43       0   0.000000\n",
       "arrival_airport_country       object        39       0   0.000000\n",
       "departure_airport_name        object        17       0   0.000000\n",
       "departure_airport_code        object        17       0   0.000000\n",
       "arrival_airport_terminal      object        17   79410  52.029484\n",
       "departure_airport_city        object        16       0   0.000000\n",
       "departure_airport_terminal    object         6   56588  37.076495\n",
       "arrival_airport_region        object         4       0   0.000000\n",
       "flag_test                      int64         2       0   0.000000\n",
       "departure_airport_region      object         1       0   0.000000\n",
       "departure_airport_country     object         1       0   0.000000\n",
       "departure_airport_timezone    object         1       0   0.000000"
      ]
     },
     "execution_count": 45,
     "metadata": {},
     "output_type": "execute_result"
    }
   ],
   "source": [
    "# gives some infos on columns types and number of null values\n",
    "df_info = pd.DataFrame(df.dtypes).rename(columns={0:'data_type'})\n",
    "df_info[\"#_unique\"] = df.nunique()\n",
    "df_info[\"#_nan\"] = df.isnull().sum().astype(int)\n",
    "df_info[\"%_nan\"] = df.isnull().sum()/df.shape[0]*100\n",
    "\n",
    "df_info.sort_values(by=\"#_unique\", ascending=False)"
   ]
  },
  {
   "cell_type": "markdown",
   "metadata": {},
   "source": [
    "Looking at the DataFrame above we got these insights:\n",
    "1. `scheduled_arrival_time` and `scheduled_departure_time` have to be converted into time format\n",
    "2. `arrival_airport_gate`, `arrival_airport_terminal`, `departure_airport_gate`, `departure_airport_terminal` contain the most missing values, this can be caused by the fact that the passengers aren't tracked based on the gates and terminals. Percentages of their missing values are very high (would be nice if it can be dropped).\n",
    "3. `flight_duration` is still in the object (string) type. It needs to be converted to `int`, in this case to minutes\n",
    "4. `departure_airport_region`, `departure_airport_country` and `departure_airport_timezone` only contain 1 unique value, so we can safely drop them\n",
    "5. We can also scrape the flight distance data from another website to get the distance between the two airports"
   ]
  },
  {
   "cell_type": "markdown",
   "metadata": {},
   "source": [
    "## Feature Engineering"
   ]
  },
  {
   "cell_type": "markdown",
   "metadata": {},
   "source": [
    "### Get Scheduled Flight Duration\n",
    "Get the scheduled flight duration from the ticket. This is calculated by substracting the `scheduled_arrival_ `scheduled_departure_date` "
   ]
  },
  {
   "cell_type": "markdown",
   "metadata": {},
   "source": [
    "#### Convert the time data to time objects"
   ]
  },
  {
   "cell_type": "code",
   "execution_count": 46,
   "metadata": {
    "collapsed": true
   },
   "outputs": [],
   "source": [
    "df[\"scheduled_departure_time\"] = pd.to_datetime(df[\"scheduled_departure_time\"]) \n",
    "df[\"scheduled_arrival_time\"] = pd.to_datetime(df[\"scheduled_arrival_time\"])"
   ]
  },
  {
   "cell_type": "code",
   "execution_count": 47,
   "metadata": {
    "collapsed": true
   },
   "outputs": [],
   "source": [
    "df[\"scheduled_flight_duration\"] = df[\"scheduled_arrival_time\"] - df[\"scheduled_departure_time\"]\n",
    "df[\"scheduled_flight_duration\"] = df[\"scheduled_flight_duration\"].dt.components['hours'] * 60 + df[\"scheduled_flight_duration\"].dt.components['minutes']"
   ]
  },
  {
   "cell_type": "code",
   "execution_count": 48,
   "metadata": {},
   "outputs": [
    {
     "data": {
      "text/html": [
       "<div>\n",
       "<style>\n",
       "    .dataframe thead tr:only-child th {\n",
       "        text-align: right;\n",
       "    }\n",
       "\n",
       "    .dataframe thead th {\n",
       "        text-align: left;\n",
       "    }\n",
       "\n",
       "    .dataframe tbody tr th {\n",
       "        vertical-align: top;\n",
       "    }\n",
       "</style>\n",
       "<table border=\"1\" class=\"dataframe\">\n",
       "  <thead>\n",
       "    <tr style=\"text-align: right;\">\n",
       "      <th></th>\n",
       "      <th>id</th>\n",
       "      <th>number</th>\n",
       "      <th>airline</th>\n",
       "      <th>airline_name</th>\n",
       "      <th>scheduled_departure_time</th>\n",
       "      <th>scheduled_arrival_time</th>\n",
       "      <th>departure_airport_city</th>\n",
       "      <th>departure_airport_code</th>\n",
       "      <th>departure_airport_country</th>\n",
       "      <th>departure_airport_gate</th>\n",
       "      <th>departure_airport_name</th>\n",
       "      <th>departure_airport_region</th>\n",
       "      <th>departure_airport_terminal</th>\n",
       "      <th>departure_airport_timezone</th>\n",
       "      <th>arrival_airport_city</th>\n",
       "      <th>arrival_airport_code</th>\n",
       "      <th>arrival_airport_country</th>\n",
       "      <th>arrival_airport_gate</th>\n",
       "      <th>arrival_airport_name</th>\n",
       "      <th>arrival_airport_region</th>\n",
       "      <th>arrival_airport_terminal</th>\n",
       "      <th>arrival_airport_timezone</th>\n",
       "      <th>flight_equipment_iata</th>\n",
       "      <th>flight_equipment_name</th>\n",
       "      <th>flight_duration</th>\n",
       "      <th>delay</th>\n",
       "      <th>flag_test</th>\n",
       "      <th>scheduled_flight_duration</th>\n",
       "    </tr>\n",
       "  </thead>\n",
       "  <tbody>\n",
       "    <tr>\n",
       "      <th>0</th>\n",
       "      <td>1</td>\n",
       "      <td>AK6430</td>\n",
       "      <td>AK</td>\n",
       "      <td>AirAsia</td>\n",
       "      <td>2018-10-05 22:00:00</td>\n",
       "      <td>2018-10-05 23:05:00</td>\n",
       "      <td>Kuala Lumpur</td>\n",
       "      <td>KUL</td>\n",
       "      <td>MY</td>\n",
       "      <td>J15</td>\n",
       "      <td>Kuala Lumpur International Airport</td>\n",
       "      <td>Asia</td>\n",
       "      <td>2</td>\n",
       "      <td>Asia/Kuala_Lumpur</td>\n",
       "      <td>Kota Bharu</td>\n",
       "      <td>KBR</td>\n",
       "      <td>MY</td>\n",
       "      <td>2</td>\n",
       "      <td>Sultan Ismail Petra Airport</td>\n",
       "      <td>Asia</td>\n",
       "      <td>NaN</td>\n",
       "      <td>Asia/Kuala_Lumpur</td>\n",
       "      <td>32S</td>\n",
       "      <td>Airbus A318 / A319 / A320 / A321</td>\n",
       "      <td>58m</td>\n",
       "      <td>2</td>\n",
       "      <td>0</td>\n",
       "      <td>65.0</td>\n",
       "    </tr>\n",
       "    <tr>\n",
       "      <th>1</th>\n",
       "      <td>2</td>\n",
       "      <td>ID*7164</td>\n",
       "      <td>ID*</td>\n",
       "      <td>Batik Air</td>\n",
       "      <td>2018-10-05 22:00:00</td>\n",
       "      <td>2018-10-05 23:55:00</td>\n",
       "      <td>Kuala Lumpur</td>\n",
       "      <td>KUL</td>\n",
       "      <td>MY</td>\n",
       "      <td>C33</td>\n",
       "      <td>Kuala Lumpur International Airport</td>\n",
       "      <td>Asia</td>\n",
       "      <td>M</td>\n",
       "      <td>Asia/Kuala_Lumpur</td>\n",
       "      <td>Jakarta</td>\n",
       "      <td>CGK</td>\n",
       "      <td>ID</td>\n",
       "      <td>5</td>\n",
       "      <td>Soekarno-Hatta International Airport</td>\n",
       "      <td>Asia</td>\n",
       "      <td>2</td>\n",
       "      <td>Asia/Jakarta</td>\n",
       "      <td>32S</td>\n",
       "      <td>Airbus A318 / A319 / A320 / A321</td>\n",
       "      <td>1h 55m</td>\n",
       "      <td>8</td>\n",
       "      <td>0</td>\n",
       "      <td>115.0</td>\n",
       "    </tr>\n",
       "    <tr>\n",
       "      <th>2</th>\n",
       "      <td>3</td>\n",
       "      <td>MXD9116</td>\n",
       "      <td>MXD</td>\n",
       "      <td>Malindo Air</td>\n",
       "      <td>2018-10-05 22:00:00</td>\n",
       "      <td>2018-10-05 23:55:00</td>\n",
       "      <td>Kuala Lumpur</td>\n",
       "      <td>KUL</td>\n",
       "      <td>MY</td>\n",
       "      <td>C33</td>\n",
       "      <td>Kuala Lumpur International Airport</td>\n",
       "      <td>Asia</td>\n",
       "      <td>M</td>\n",
       "      <td>Asia/Kuala_Lumpur</td>\n",
       "      <td>Jakarta</td>\n",
       "      <td>CGK</td>\n",
       "      <td>ID</td>\n",
       "      <td>5</td>\n",
       "      <td>Soekarno-Hatta International Airport</td>\n",
       "      <td>Asia</td>\n",
       "      <td>2</td>\n",
       "      <td>Asia/Jakarta</td>\n",
       "      <td>32S</td>\n",
       "      <td>Airbus A318 / A319 / A320 / A321</td>\n",
       "      <td>1h 55m</td>\n",
       "      <td>8</td>\n",
       "      <td>0</td>\n",
       "      <td>115.0</td>\n",
       "    </tr>\n",
       "    <tr>\n",
       "      <th>3</th>\n",
       "      <td>4</td>\n",
       "      <td>AK5198</td>\n",
       "      <td>AK</td>\n",
       "      <td>AirAsia</td>\n",
       "      <td>2018-10-05 22:05:00</td>\n",
       "      <td>2018-10-06 01:00:00</td>\n",
       "      <td>Kuala Lumpur</td>\n",
       "      <td>KUL</td>\n",
       "      <td>MY</td>\n",
       "      <td>J9</td>\n",
       "      <td>Kuala Lumpur International Airport</td>\n",
       "      <td>Asia</td>\n",
       "      <td>2</td>\n",
       "      <td>Asia/Kuala_Lumpur</td>\n",
       "      <td>Sandakan</td>\n",
       "      <td>SDK</td>\n",
       "      <td>MY</td>\n",
       "      <td>INT</td>\n",
       "      <td>Sandakan Airport</td>\n",
       "      <td>Asia</td>\n",
       "      <td>NaN</td>\n",
       "      <td>Asia/Kuala_Lumpur</td>\n",
       "      <td>32S</td>\n",
       "      <td>Airbus A318 / A319 / A320 / A321</td>\n",
       "      <td>2h 54m</td>\n",
       "      <td>0</td>\n",
       "      <td>0</td>\n",
       "      <td>175.0</td>\n",
       "    </tr>\n",
       "    <tr>\n",
       "      <th>4</th>\n",
       "      <td>5</td>\n",
       "      <td>AK516</td>\n",
       "      <td>AK</td>\n",
       "      <td>AirAsia</td>\n",
       "      <td>2018-10-05 22:10:00</td>\n",
       "      <td>2018-10-06 01:25:00</td>\n",
       "      <td>Kuala Lumpur</td>\n",
       "      <td>KUL</td>\n",
       "      <td>MY</td>\n",
       "      <td>P1</td>\n",
       "      <td>Kuala Lumpur International Airport</td>\n",
       "      <td>Asia</td>\n",
       "      <td>2</td>\n",
       "      <td>Asia/Kuala_Lumpur</td>\n",
       "      <td>Hanoi</td>\n",
       "      <td>HAN</td>\n",
       "      <td>VN</td>\n",
       "      <td>NaN</td>\n",
       "      <td>Noi Bai International Airport</td>\n",
       "      <td>Asia</td>\n",
       "      <td>T2</td>\n",
       "      <td>Asia/Ho_Chi_Minh</td>\n",
       "      <td>32S</td>\n",
       "      <td>Airbus A318 / A319 / A320 / A321</td>\n",
       "      <td>3h 17m</td>\n",
       "      <td>0</td>\n",
       "      <td>0</td>\n",
       "      <td>195.0</td>\n",
       "    </tr>\n",
       "  </tbody>\n",
       "</table>\n",
       "</div>"
      ],
      "text/plain": [
       "   id   number airline airline_name scheduled_departure_time  \\\n",
       "0   1   AK6430      AK      AirAsia      2018-10-05 22:00:00   \n",
       "1   2  ID*7164     ID*    Batik Air      2018-10-05 22:00:00   \n",
       "2   3  MXD9116     MXD  Malindo Air      2018-10-05 22:00:00   \n",
       "3   4   AK5198      AK      AirAsia      2018-10-05 22:05:00   \n",
       "4   5    AK516      AK      AirAsia      2018-10-05 22:10:00   \n",
       "\n",
       "  scheduled_arrival_time departure_airport_city departure_airport_code  \\\n",
       "0    2018-10-05 23:05:00           Kuala Lumpur                    KUL   \n",
       "1    2018-10-05 23:55:00           Kuala Lumpur                    KUL   \n",
       "2    2018-10-05 23:55:00           Kuala Lumpur                    KUL   \n",
       "3    2018-10-06 01:00:00           Kuala Lumpur                    KUL   \n",
       "4    2018-10-06 01:25:00           Kuala Lumpur                    KUL   \n",
       "\n",
       "  departure_airport_country departure_airport_gate  \\\n",
       "0                        MY                    J15   \n",
       "1                        MY                    C33   \n",
       "2                        MY                    C33   \n",
       "3                        MY                     J9   \n",
       "4                        MY                     P1   \n",
       "\n",
       "               departure_airport_name departure_airport_region  \\\n",
       "0  Kuala Lumpur International Airport                     Asia   \n",
       "1  Kuala Lumpur International Airport                     Asia   \n",
       "2  Kuala Lumpur International Airport                     Asia   \n",
       "3  Kuala Lumpur International Airport                     Asia   \n",
       "4  Kuala Lumpur International Airport                     Asia   \n",
       "\n",
       "  departure_airport_terminal departure_airport_timezone arrival_airport_city  \\\n",
       "0                          2          Asia/Kuala_Lumpur           Kota Bharu   \n",
       "1                          M          Asia/Kuala_Lumpur              Jakarta   \n",
       "2                          M          Asia/Kuala_Lumpur              Jakarta   \n",
       "3                          2          Asia/Kuala_Lumpur             Sandakan   \n",
       "4                          2          Asia/Kuala_Lumpur                Hanoi   \n",
       "\n",
       "  arrival_airport_code arrival_airport_country arrival_airport_gate  \\\n",
       "0                  KBR                      MY                    2   \n",
       "1                  CGK                      ID                    5   \n",
       "2                  CGK                      ID                    5   \n",
       "3                  SDK                      MY                  INT   \n",
       "4                  HAN                      VN                  NaN   \n",
       "\n",
       "                   arrival_airport_name arrival_airport_region  \\\n",
       "0           Sultan Ismail Petra Airport                   Asia   \n",
       "1  Soekarno-Hatta International Airport                   Asia   \n",
       "2  Soekarno-Hatta International Airport                   Asia   \n",
       "3                      Sandakan Airport                   Asia   \n",
       "4         Noi Bai International Airport                   Asia   \n",
       "\n",
       "  arrival_airport_terminal arrival_airport_timezone flight_equipment_iata  \\\n",
       "0                      NaN        Asia/Kuala_Lumpur                   32S   \n",
       "1                        2             Asia/Jakarta                   32S   \n",
       "2                        2             Asia/Jakarta                   32S   \n",
       "3                      NaN        Asia/Kuala_Lumpur                   32S   \n",
       "4                       T2         Asia/Ho_Chi_Minh                   32S   \n",
       "\n",
       "              flight_equipment_name flight_duration  delay  flag_test  \\\n",
       "0  Airbus A318 / A319 / A320 / A321             58m      2          0   \n",
       "1  Airbus A318 / A319 / A320 / A321          1h 55m      8          0   \n",
       "2  Airbus A318 / A319 / A320 / A321          1h 55m      8          0   \n",
       "3  Airbus A318 / A319 / A320 / A321          2h 54m      0          0   \n",
       "4  Airbus A318 / A319 / A320 / A321          3h 17m      0          0   \n",
       "\n",
       "   scheduled_flight_duration  \n",
       "0                       65.0  \n",
       "1                      115.0  \n",
       "2                      115.0  \n",
       "3                      175.0  \n",
       "4                      195.0  "
      ]
     },
     "execution_count": 48,
     "metadata": {},
     "output_type": "execute_result"
    }
   ],
   "source": [
    "df.head()"
   ]
  },
  {
   "cell_type": "markdown",
   "metadata": {},
   "source": [
    "### Get Distance Between Two Airports"
   ]
  },
  {
   "cell_type": "markdown",
   "metadata": {},
   "source": [
    "#### Get the Unique Routes\n",
    "Get only the unique routes since we don't want to perform it repeatedly -> time consuming and web scraping is already taking a long time"
   ]
  },
  {
   "cell_type": "code",
   "execution_count": 49,
   "metadata": {},
   "outputs": [
    {
     "data": {
      "text/html": [
       "<div>\n",
       "<style>\n",
       "    .dataframe thead tr:only-child th {\n",
       "        text-align: right;\n",
       "    }\n",
       "\n",
       "    .dataframe thead th {\n",
       "        text-align: left;\n",
       "    }\n",
       "\n",
       "    .dataframe tbody tr th {\n",
       "        vertical-align: top;\n",
       "    }\n",
       "</style>\n",
       "<table border=\"1\" class=\"dataframe\">\n",
       "  <thead>\n",
       "    <tr style=\"text-align: right;\">\n",
       "      <th></th>\n",
       "      <th>departure_airport_code</th>\n",
       "      <th>arrival_airport_code</th>\n",
       "    </tr>\n",
       "  </thead>\n",
       "  <tbody>\n",
       "    <tr>\n",
       "      <th>0</th>\n",
       "      <td>KUL</td>\n",
       "      <td>KBR</td>\n",
       "    </tr>\n",
       "    <tr>\n",
       "      <th>1</th>\n",
       "      <td>KUL</td>\n",
       "      <td>CGK</td>\n",
       "    </tr>\n",
       "    <tr>\n",
       "      <th>3</th>\n",
       "      <td>KUL</td>\n",
       "      <td>SDK</td>\n",
       "    </tr>\n",
       "    <tr>\n",
       "      <th>4</th>\n",
       "      <td>KUL</td>\n",
       "      <td>HAN</td>\n",
       "    </tr>\n",
       "    <tr>\n",
       "      <th>5</th>\n",
       "      <td>KUL</td>\n",
       "      <td>AOR</td>\n",
       "    </tr>\n",
       "  </tbody>\n",
       "</table>\n",
       "</div>"
      ],
      "text/plain": [
       "  departure_airport_code arrival_airport_code\n",
       "0                    KUL                  KBR\n",
       "1                    KUL                  CGK\n",
       "3                    KUL                  SDK\n",
       "4                    KUL                  HAN\n",
       "5                    KUL                  AOR"
      ]
     },
     "execution_count": 49,
     "metadata": {},
     "output_type": "execute_result"
    }
   ],
   "source": [
    "route_df = df.drop_duplicates(subset=[\"departure_airport_code\", \"arrival_airport_code\"])[[\"departure_airport_code\", \"arrival_airport_code\"]]\n",
    "route_df.head()"
   ]
  },
  {
   "cell_type": "markdown",
   "metadata": {},
   "source": [
    "Basically what the below codes do is scraping the distance (in km) from prokerala.com using the dataframe of the unique route of the airplane."
   ]
  },
  {
   "cell_type": "code",
   "execution_count": 50,
   "metadata": {
    "collapsed": true
   },
   "outputs": [],
   "source": [
    "# flight_distances = []\n",
    "\n",
    "# for route in route_df.values:\n",
    "#     doc = f\"https://www.prokerala.com/travel/airports/distance/from-{route[0].lower()}/to-{route[1].lower()}/\"\n",
    "\n",
    "#     response = requests.get(doc, timeout = 10)\n",
    "#     soup = bs(response.content, \"html.parser\")\n",
    "\n",
    "#     content = [element.text for element in soup.find_all('div', {'class': 'tc'})]\n",
    "    \n",
    "#     # Check if content contains any values\n",
    "#     if content:\n",
    "#         flight_distance_content = content[1]\n",
    "\n",
    "#         flight_distance = re.findall(r\"(\\d+(\\.\\d+)?)\", content[1])[1][0]\n",
    "#         print(flight_distance)\n",
    "#         flight_distances.append(float(flight_distance))\n",
    "        \n",
    "#     else:\n",
    "#         flight_distances.append(np.nan)\n",
    "    \n",
    "#     time.sleep(2)"
   ]
  },
  {
   "cell_type": "markdown",
   "metadata": {},
   "source": [
    "#### Set the Value and Save it for Later Use"
   ]
  },
  {
   "cell_type": "code",
   "execution_count": 51,
   "metadata": {
    "collapsed": true
   },
   "outputs": [],
   "source": [
    "# route_df[\"distance\"] = flight_distances\n",
    "\n",
    "# route_df.to_csv(\"route_distance\", index=False)"
   ]
  },
  {
   "cell_type": "code",
   "execution_count": 52,
   "metadata": {
    "collapsed": true
   },
   "outputs": [],
   "source": [
    "route_df = pd.read_csv(\"route_distance\")"
   ]
  },
  {
   "cell_type": "code",
   "execution_count": 53,
   "metadata": {
    "collapsed": true
   },
   "outputs": [],
   "source": [
    "df = pd.merge(df, route_df,  how='left', left_on=[\"departure_airport_code\", \"arrival_airport_code\"], right_on=[\"departure_airport_code\", \"arrival_airport_code\"])"
   ]
  },
  {
   "cell_type": "markdown",
   "metadata": {},
   "source": [
    "### Convert Scheduled Flight Duration to Hour"
   ]
  },
  {
   "cell_type": "code",
   "execution_count": 54,
   "metadata": {
    "collapsed": true
   },
   "outputs": [],
   "source": [
    "df[\"scheduled_flight_duration_h\"] = df[\"scheduled_flight_duration\"].apply(lambda x: x / 60)"
   ]
  },
  {
   "cell_type": "markdown",
   "metadata": {},
   "source": [
    "### Calculate the Flight Velocity (in km/hour)"
   ]
  },
  {
   "cell_type": "code",
   "execution_count": 55,
   "metadata": {
    "collapsed": true
   },
   "outputs": [],
   "source": [
    "df[\"flight_velocity\"] = df[\"distance\"] / df[\"scheduled_flight_duration_h\"]"
   ]
  },
  {
   "cell_type": "markdown",
   "metadata": {},
   "source": [
    "### Get the Day\n",
    "Get the name of the day, `Monday`, `Sunday` etc."
   ]
  },
  {
   "cell_type": "code",
   "execution_count": 56,
   "metadata": {
    "collapsed": true
   },
   "outputs": [],
   "source": [
    "df[\"scheduled_departure_day\"] = df[\"scheduled_departure_time\"].apply(lambda x: x.strftime(\"%A\"))"
   ]
  },
  {
   "cell_type": "markdown",
   "metadata": {},
   "source": [
    "### Flag Weekend\n",
    "If the `scheduled_departure_day` is weekend (`Sunday` or `Saturday`), the data point is flagged as `1`, `0` otherwise"
   ]
  },
  {
   "cell_type": "code",
   "execution_count": 57,
   "metadata": {
    "collapsed": true
   },
   "outputs": [],
   "source": [
    "df[\"scheduled_departure_weekend_flag\"] = df[\"scheduled_departure_day\"].apply(lambda x: 1 if x in [\"Sunday\", \"Saturday\"] else 0)"
   ]
  },
  {
   "cell_type": "markdown",
   "metadata": {},
   "source": [
    "### Get the Hour"
   ]
  },
  {
   "cell_type": "code",
   "execution_count": 58,
   "metadata": {
    "collapsed": true
   },
   "outputs": [],
   "source": [
    "df[\"scheduled_departure_hour\"] = df[\"scheduled_departure_time\"].apply(lambda x : x.hour)"
   ]
  },
  {
   "cell_type": "markdown",
   "metadata": {},
   "source": [
    "### Get the Parts of the Day"
   ]
  },
  {
   "cell_type": "markdown",
   "metadata": {},
   "source": [
    "https://7esl.com/times-of-the-day/"
   ]
  },
  {
   "cell_type": "code",
   "execution_count": 59,
   "metadata": {
    "collapsed": true
   },
   "outputs": [],
   "source": [
    "def convert_to_pod(hour):\n",
    "    if hour <= 4:\n",
    "        return'Late Night'\n",
    "    elif hour <= 8:\n",
    "        return 'Early Morning'\n",
    "    elif hour <= 12:\n",
    "        return 'Morning'\n",
    "    elif hour <= 16:\n",
    "        return'Noon'\n",
    "    elif hour <= 20:\n",
    "        return 'Eve'\n",
    "    else:\n",
    "        return'Night'"
   ]
  },
  {
   "cell_type": "code",
   "execution_count": 60,
   "metadata": {
    "collapsed": true
   },
   "outputs": [],
   "source": [
    "df[\"scheduled_departure_pod\"] = df[\"scheduled_departure_hour\"].apply(convert_to_pod)"
   ]
  },
  {
   "cell_type": "markdown",
   "metadata": {},
   "source": [
    "### Flag Holiday"
   ]
  },
  {
   "cell_type": "code",
   "execution_count": 61,
   "metadata": {
    "collapsed": true
   },
   "outputs": [],
   "source": [
    "holiday_df = pd.read_csv(\"../data/flight/holiday_2018.csv\")"
   ]
  },
  {
   "cell_type": "code",
   "execution_count": 62,
   "metadata": {
    "collapsed": true
   },
   "outputs": [],
   "source": [
    "holiday_df[\"Date\"] = holiday_df[\"Date\"].str.split(\"-\").apply(lambda x: f\"{x[2]}-{x[1]}-{x[0]}\")"
   ]
  },
  {
   "cell_type": "code",
   "execution_count": 63,
   "metadata": {
    "collapsed": true
   },
   "outputs": [],
   "source": [
    "df[\"scheduled_departure_date\"] = df[\"scheduled_departure_time\"].apply(lambda x: x.strftime(\"%Y-%m-%d\"))\n",
    "\n",
    "holidays_2018 = list(holiday_df[\"Date\"])\n",
    "\n",
    "df[\"scheduled_departure_holiday_flag\"] = df[\"scheduled_departure_date\"].apply(lambda x: 1 if x in holidays_2018 else 0)"
   ]
  },
  {
   "cell_type": "markdown",
   "metadata": {},
   "source": [
    "### Flag -1 Holiday"
   ]
  },
  {
   "cell_type": "code",
   "execution_count": 64,
   "metadata": {
    "collapsed": true
   },
   "outputs": [],
   "source": [
    "holidays_2018_1 = []\n",
    "for holiday_2018 in holidays_2018:\n",
    "    if holiday_2018[5:7] in [\"10\", \"11\"]:\n",
    "        day_before = int(holiday_2018[-2:]) - 1\n",
    "        day_after = int(holiday_2018[-2:]) + 1\n",
    "        \n",
    "        if day_before // 10 == 0:\n",
    "            day_before = f\"0{day_before}\"\n",
    "        \n",
    "        if day_after // 10 == 0:\n",
    "            day_after = f\"0{day_after}\"\n",
    "        \n",
    "        date_before = f\"2018-{holiday_2018[5:7]}-{day_before}\"\n",
    "        date_after = f\"2018-{holiday_2018[ 5:7]}-{day_after}\"\n",
    "        \n",
    "        holidays_2018_1.append(date_before) \n",
    "        holidays_2018_1.append(date_after)"
   ]
  },
  {
   "cell_type": "code",
   "execution_count": 65,
   "metadata": {
    "collapsed": true
   },
   "outputs": [],
   "source": [
    "df[\"scheduled_departure_min_1_holiday_flag\"] = df[\"scheduled_departure_date\"].apply(lambda x: 1 if x in holidays_2018_1 else 0)"
   ]
  },
  {
   "cell_type": "markdown",
   "metadata": {},
   "source": [
    "### Flag Delay"
   ]
  },
  {
   "cell_type": "code",
   "execution_count": 66,
   "metadata": {
    "collapsed": true
   },
   "outputs": [],
   "source": [
    "df[\"flag_delay\"] = df[\"delay\"].apply(lambda x : 1 if x > 0 else 0)"
   ]
  },
  {
   "cell_type": "markdown",
   "metadata": {},
   "source": [
    "### Group Delay"
   ]
  },
  {
   "cell_type": "code",
   "execution_count": 67,
   "metadata": {
    "collapsed": true
   },
   "outputs": [],
   "source": [
    "def group_delay(delay):\n",
    "    if delay == 0:\n",
    "        return \"on time\"\n",
    "    elif delay < 5:\n",
    "        return \"small delay\"\n",
    "    elif delay < 45:\n",
    "        return \"medium delay\"\n",
    "    else:\n",
    "        return \"large delay\""
   ]
  },
  {
   "cell_type": "code",
   "execution_count": 68,
   "metadata": {
    "collapsed": true
   },
   "outputs": [],
   "source": [
    "df[\"delay_level\"] = df[\"delay\"].apply(group_delay)"
   ]
  },
  {
   "cell_type": "code",
   "execution_count": 69,
   "metadata": {
    "collapsed": true
   },
   "outputs": [],
   "source": [
    "top_10_airline_counts = df['airline_name'].value_counts().head(10).index"
   ]
  },
  {
   "cell_type": "code",
   "execution_count": 70,
   "metadata": {
    "scrolled": false
   },
   "outputs": [
    {
     "data": {
      "image/png": "[encoded data removed]",
      "text/plain": [
       "<Figure size 1440x1440 with 1 Axes>"
      ]
     },
     "metadata": {},
     "output_type": "display_data"
    }
   ],
   "source": [
    "fig = plt.figure(1, figsize=(20, 20))\n",
    "\n",
    "palette = ['#ff9999','#66b3ff','#99ff99','#ffcc99']\n",
    "\n",
    "ax = sns.countplot(y=\"airline_name\", hue='delay_level', palette=palette, data=df[df[\"airline_name\"].isin(top_10_airline_counts)], order = top_10_airline_counts)\n",
    "plt.show()"
   ]
  },
  {
   "cell_type": "markdown",
   "metadata": {},
   "source": [
    "### Count No. of Airplanes in a Terminal on Specific Date"
   ]
  },
  {
   "cell_type": "code",
   "execution_count": 71,
   "metadata": {
    "collapsed": true
   },
   "outputs": [],
   "source": [
    "cnt_by_airport_date_df = df.groupby([\"scheduled_departure_date\", \"departure_airport_code\"]).count()[[\"id\"]].reset_index().rename(columns={\"id\": \"cnt_by_airport_date\"})"
   ]
  },
  {
   "cell_type": "code",
   "execution_count": 72,
   "metadata": {
    "collapsed": true
   },
   "outputs": [],
   "source": [
    "df = pd.merge(df, cnt_by_airport_date_df,  how='left', left_on=[\"scheduled_departure_date\", \"departure_airport_code\"], right_on=[\"scheduled_departure_date\", \"departure_airport_code\"])"
   ]
  },
  {
   "cell_type": "code",
   "execution_count": 73,
   "metadata": {},
   "outputs": [
    {
     "data": {
      "text/html": [
       "<div>\n",
       "<style>\n",
       "    .dataframe thead tr:only-child th {\n",
       "        text-align: right;\n",
       "    }\n",
       "\n",
       "    .dataframe thead th {\n",
       "        text-align: left;\n",
       "    }\n",
       "\n",
       "    .dataframe tbody tr th {\n",
       "        vertical-align: top;\n",
       "    }\n",
       "</style>\n",
       "<table border=\"1\" class=\"dataframe\">\n",
       "  <thead>\n",
       "    <tr style=\"text-align: right;\">\n",
       "      <th></th>\n",
       "      <th>id</th>\n",
       "      <th>number</th>\n",
       "      <th>airline</th>\n",
       "      <th>airline_name</th>\n",
       "      <th>scheduled_departure_time</th>\n",
       "      <th>scheduled_arrival_time</th>\n",
       "      <th>departure_airport_city</th>\n",
       "      <th>departure_airport_code</th>\n",
       "      <th>departure_airport_country</th>\n",
       "      <th>departure_airport_gate</th>\n",
       "      <th>departure_airport_name</th>\n",
       "      <th>departure_airport_region</th>\n",
       "      <th>departure_airport_terminal</th>\n",
       "      <th>departure_airport_timezone</th>\n",
       "      <th>arrival_airport_city</th>\n",
       "      <th>arrival_airport_code</th>\n",
       "      <th>arrival_airport_country</th>\n",
       "      <th>arrival_airport_gate</th>\n",
       "      <th>arrival_airport_name</th>\n",
       "      <th>arrival_airport_region</th>\n",
       "      <th>arrival_airport_terminal</th>\n",
       "      <th>arrival_airport_timezone</th>\n",
       "      <th>flight_equipment_iata</th>\n",
       "      <th>flight_equipment_name</th>\n",
       "      <th>flight_duration</th>\n",
       "      <th>delay</th>\n",
       "      <th>flag_test</th>\n",
       "      <th>scheduled_flight_duration</th>\n",
       "      <th>distance</th>\n",
       "      <th>scheduled_flight_duration_h</th>\n",
       "      <th>flight_velocity</th>\n",
       "      <th>scheduled_departure_day</th>\n",
       "      <th>scheduled_departure_weekend_flag</th>\n",
       "      <th>scheduled_departure_hour</th>\n",
       "      <th>scheduled_departure_pod</th>\n",
       "      <th>scheduled_departure_date</th>\n",
       "      <th>scheduled_departure_holiday_flag</th>\n",
       "      <th>scheduled_departure_min_1_holiday_flag</th>\n",
       "      <th>flag_delay</th>\n",
       "      <th>delay_level</th>\n",
       "      <th>cnt_by_airport_date</th>\n",
       "    </tr>\n",
       "  </thead>\n",
       "  <tbody>\n",
       "    <tr>\n",
       "      <th>97340</th>\n",
       "      <td>405504</td>\n",
       "      <td>D7214</td>\n",
       "      <td>D7</td>\n",
       "      <td>AirAsia X</td>\n",
       "      <td>2018-11-24 14:25:00</td>\n",
       "      <td>2018-11-24 22:20:00</td>\n",
       "      <td>Kuala Lumpur</td>\n",
       "      <td>KUL</td>\n",
       "      <td>MY</td>\n",
       "      <td>Q10</td>\n",
       "      <td>Kuala Lumpur International Airport</td>\n",
       "      <td>Asia</td>\n",
       "      <td>2</td>\n",
       "      <td>Asia/Kuala_Lumpur</td>\n",
       "      <td>Melbourne</td>\n",
       "      <td>MEL</td>\n",
       "      <td>AU</td>\n",
       "      <td>3</td>\n",
       "      <td>Melbourne Tullamarine Airport</td>\n",
       "      <td>Oceania</td>\n",
       "      <td>2</td>\n",
       "      <td>Australia/Sydney</td>\n",
       "      <td>333</td>\n",
       "      <td>Airbus A330-300</td>\n",
       "      <td>7h 55m</td>\n",
       "      <td>26</td>\n",
       "      <td>0</td>\n",
       "      <td>475.0</td>\n",
       "      <td>6316.97</td>\n",
       "      <td>7.916667</td>\n",
       "      <td>797.933053</td>\n",
       "      <td>Saturday</td>\n",
       "      <td>1</td>\n",
       "      <td>14</td>\n",
       "      <td>Noon</td>\n",
       "      <td>2018-11-24</td>\n",
       "      <td>0</td>\n",
       "      <td>0</td>\n",
       "      <td>1</td>\n",
       "      <td>medium delay</td>\n",
       "      <td>1132</td>\n",
       "    </tr>\n",
       "  </tbody>\n",
       "</table>\n",
       "</div>"
      ],
      "text/plain": [
       "           id number airline airline_name scheduled_departure_time  \\\n",
       "97340  405504  D7214      D7    AirAsia X      2018-11-24 14:25:00   \n",
       "\n",
       "      scheduled_arrival_time departure_airport_city departure_airport_code  \\\n",
       "97340    2018-11-24 22:20:00           Kuala Lumpur                    KUL   \n",
       "\n",
       "      departure_airport_country departure_airport_gate  \\\n",
       "97340                        MY                    Q10   \n",
       "\n",
       "                   departure_airport_name departure_airport_region  \\\n",
       "97340  Kuala Lumpur International Airport                     Asia   \n",
       "\n",
       "      departure_airport_terminal departure_airport_timezone  \\\n",
       "97340                          2          Asia/Kuala_Lumpur   \n",
       "\n",
       "      arrival_airport_city arrival_airport_code arrival_airport_country  \\\n",
       "97340            Melbourne                  MEL                      AU   \n",
       "\n",
       "      arrival_airport_gate           arrival_airport_name  \\\n",
       "97340                    3  Melbourne Tullamarine Airport   \n",
       "\n",
       "      arrival_airport_region arrival_airport_terminal  \\\n",
       "97340                Oceania                        2   \n",
       "\n",
       "      arrival_airport_timezone flight_equipment_iata flight_equipment_name  \\\n",
       "97340         Australia/Sydney                   333       Airbus A330-300   \n",
       "\n",
       "      flight_duration  delay  flag_test  scheduled_flight_duration  distance  \\\n",
       "97340          7h 55m     26          0                      475.0   6316.97   \n",
       "\n",
       "       scheduled_flight_duration_h  flight_velocity scheduled_departure_day  \\\n",
       "97340                     7.916667       797.933053                Saturday   \n",
       "\n",
       "       scheduled_departure_weekend_flag  scheduled_departure_hour  \\\n",
       "97340                                 1                        14   \n",
       "\n",
       "      scheduled_departure_pod scheduled_departure_date  \\\n",
       "97340                    Noon               2018-11-24   \n",
       "\n",
       "       scheduled_departure_holiday_flag  \\\n",
       "97340                                 0   \n",
       "\n",
       "       scheduled_departure_min_1_holiday_flag  flag_delay   delay_level  \\\n",
       "97340                                       0           1  medium delay   \n",
       "\n",
       "       cnt_by_airport_date  \n",
       "97340                 1132  "
      ]
     },
     "execution_count": 73,
     "metadata": {},
     "output_type": "execute_result"
    }
   ],
   "source": [
    "df.sample()"
   ]
  },
  {
   "cell_type": "markdown",
   "metadata": {},
   "source": [
    "### Count No. of Airplanes in a Terminal on Specific Hour"
   ]
  },
  {
   "cell_type": "code",
   "execution_count": 74,
   "metadata": {
    "collapsed": true
   },
   "outputs": [],
   "source": [
    "cnt_by_airport_hour_df = df.groupby([\"departure_airport_code\", \"scheduled_departure_hour\"]).count()[[\"id\"]].reset_index().rename(columns={\"id\": \"cnt_by_airport_hour\"})"
   ]
  },
  {
   "cell_type": "code",
   "execution_count": 75,
   "metadata": {
    "collapsed": true
   },
   "outputs": [],
   "source": [
    "df = pd.merge(df, cnt_by_airport_hour_df,  how='left', left_on=[\"scheduled_departure_hour\", \"departure_airport_code\"], right_on=[\"scheduled_departure_hour\", \"departure_airport_code\"])"
   ]
  },
  {
   "cell_type": "code",
   "execution_count": 76,
   "metadata": {},
   "outputs": [
    {
     "data": {
      "text/html": [
       "<div>\n",
       "<style>\n",
       "    .dataframe thead tr:only-child th {\n",
       "        text-align: right;\n",
       "    }\n",
       "\n",
       "    .dataframe thead th {\n",
       "        text-align: left;\n",
       "    }\n",
       "\n",
       "    .dataframe tbody tr th {\n",
       "        vertical-align: top;\n",
       "    }\n",
       "</style>\n",
       "<table border=\"1\" class=\"dataframe\">\n",
       "  <thead>\n",
       "    <tr style=\"text-align: right;\">\n",
       "      <th></th>\n",
       "      <th>id</th>\n",
       "      <th>number</th>\n",
       "      <th>airline</th>\n",
       "      <th>airline_name</th>\n",
       "      <th>scheduled_departure_time</th>\n",
       "      <th>scheduled_arrival_time</th>\n",
       "      <th>departure_airport_city</th>\n",
       "      <th>departure_airport_code</th>\n",
       "      <th>departure_airport_country</th>\n",
       "      <th>departure_airport_gate</th>\n",
       "      <th>departure_airport_name</th>\n",
       "      <th>departure_airport_region</th>\n",
       "      <th>departure_airport_terminal</th>\n",
       "      <th>departure_airport_timezone</th>\n",
       "      <th>arrival_airport_city</th>\n",
       "      <th>arrival_airport_code</th>\n",
       "      <th>arrival_airport_country</th>\n",
       "      <th>arrival_airport_gate</th>\n",
       "      <th>arrival_airport_name</th>\n",
       "      <th>arrival_airport_region</th>\n",
       "      <th>arrival_airport_terminal</th>\n",
       "      <th>arrival_airport_timezone</th>\n",
       "      <th>flight_equipment_iata</th>\n",
       "      <th>flight_equipment_name</th>\n",
       "      <th>flight_duration</th>\n",
       "      <th>delay</th>\n",
       "      <th>flag_test</th>\n",
       "      <th>scheduled_flight_duration</th>\n",
       "      <th>distance</th>\n",
       "      <th>scheduled_flight_duration_h</th>\n",
       "      <th>flight_velocity</th>\n",
       "      <th>scheduled_departure_day</th>\n",
       "      <th>scheduled_departure_weekend_flag</th>\n",
       "      <th>scheduled_departure_hour</th>\n",
       "      <th>scheduled_departure_pod</th>\n",
       "      <th>scheduled_departure_date</th>\n",
       "      <th>scheduled_departure_holiday_flag</th>\n",
       "      <th>scheduled_departure_min_1_holiday_flag</th>\n",
       "      <th>flag_delay</th>\n",
       "      <th>delay_level</th>\n",
       "      <th>cnt_by_airport_date</th>\n",
       "      <th>cnt_by_airport_hour</th>\n",
       "    </tr>\n",
       "  </thead>\n",
       "  <tbody>\n",
       "    <tr>\n",
       "      <th>140843</th>\n",
       "      <td>644695</td>\n",
       "      <td>AK5174</td>\n",
       "      <td>AK</td>\n",
       "      <td>AirAsia</td>\n",
       "      <td>2018-12-15 10:15:00</td>\n",
       "      <td>2018-12-15 12:45:00</td>\n",
       "      <td>Kuala Lumpur</td>\n",
       "      <td>KUL</td>\n",
       "      <td>MY</td>\n",
       "      <td>J6</td>\n",
       "      <td>Kuala Lumpur International Airport</td>\n",
       "      <td>Asia</td>\n",
       "      <td>2</td>\n",
       "      <td>Asia/Kuala_Lumpur</td>\n",
       "      <td>Labuan</td>\n",
       "      <td>LBU</td>\n",
       "      <td>MY</td>\n",
       "      <td>NaN</td>\n",
       "      <td>Labuan Airport</td>\n",
       "      <td>Asia</td>\n",
       "      <td>NaN</td>\n",
       "      <td>Asia/Kuala_Lumpur</td>\n",
       "      <td>32S</td>\n",
       "      <td>Airbus A318 / A319 / A320 / A321</td>\n",
       "      <td>2h 30m</td>\n",
       "      <td>27</td>\n",
       "      <td>1</td>\n",
       "      <td>150.0</td>\n",
       "      <td>1528.84</td>\n",
       "      <td>2.5</td>\n",
       "      <td>611.536</td>\n",
       "      <td>Saturday</td>\n",
       "      <td>1</td>\n",
       "      <td>10</td>\n",
       "      <td>Morning</td>\n",
       "      <td>2018-12-15</td>\n",
       "      <td>0</td>\n",
       "      <td>0</td>\n",
       "      <td>1</td>\n",
       "      <td>medium delay</td>\n",
       "      <td>1171</td>\n",
       "      <td>5221</td>\n",
       "    </tr>\n",
       "  </tbody>\n",
       "</table>\n",
       "</div>"
      ],
      "text/plain": [
       "            id  number airline airline_name scheduled_departure_time  \\\n",
       "140843  644695  AK5174      AK      AirAsia      2018-12-15 10:15:00   \n",
       "\n",
       "       scheduled_arrival_time departure_airport_city departure_airport_code  \\\n",
       "140843    2018-12-15 12:45:00           Kuala Lumpur                    KUL   \n",
       "\n",
       "       departure_airport_country departure_airport_gate  \\\n",
       "140843                        MY                     J6   \n",
       "\n",
       "                    departure_airport_name departure_airport_region  \\\n",
       "140843  Kuala Lumpur International Airport                     Asia   \n",
       "\n",
       "       departure_airport_terminal departure_airport_timezone  \\\n",
       "140843                          2          Asia/Kuala_Lumpur   \n",
       "\n",
       "       arrival_airport_city arrival_airport_code arrival_airport_country  \\\n",
       "140843               Labuan                  LBU                      MY   \n",
       "\n",
       "       arrival_airport_gate arrival_airport_name arrival_airport_region  \\\n",
       "140843                  NaN       Labuan Airport                   Asia   \n",
       "\n",
       "       arrival_airport_terminal arrival_airport_timezone  \\\n",
       "140843                      NaN        Asia/Kuala_Lumpur   \n",
       "\n",
       "       flight_equipment_iata             flight_equipment_name  \\\n",
       "140843                   32S  Airbus A318 / A319 / A320 / A321   \n",
       "\n",
       "       flight_duration  delay  flag_test  scheduled_flight_duration  distance  \\\n",
       "140843          2h 30m     27          1                      150.0   1528.84   \n",
       "\n",
       "        scheduled_flight_duration_h  flight_velocity scheduled_departure_day  \\\n",
       "140843                          2.5          611.536                Saturday   \n",
       "\n",
       "        scheduled_departure_weekend_flag  scheduled_departure_hour  \\\n",
       "140843                                 1                        10   \n",
       "\n",
       "       scheduled_departure_pod scheduled_departure_date  \\\n",
       "140843                 Morning               2018-12-15   \n",
       "\n",
       "        scheduled_departure_holiday_flag  \\\n",
       "140843                                 0   \n",
       "\n",
       "        scheduled_departure_min_1_holiday_flag  flag_delay   delay_level  \\\n",
       "140843                                       0           1  medium delay   \n",
       "\n",
       "        cnt_by_airport_date  cnt_by_airport_hour  \n",
       "140843                 1171                 5221  "
      ]
     },
     "execution_count": 76,
     "metadata": {},
     "output_type": "execute_result"
    }
   ],
   "source": [
    "df.sample()"
   ]
  },
  {
   "cell_type": "markdown",
   "metadata": {},
   "source": [
    "### Get Wake Category from Flight_Equipment_IATA\n",
    "The wake category is obtained from the [Flugzeuginfo.net](http://www.flugzeuginfo.net/table_accodes_iata_en.php). Wake turbulence is a disturbance in the atmosphere that forms behind an aircraft as it passes through the air. It includes various components, the most important of which are wingtip vortices and jetwash. ICAO mandates the Wake turbulence categories based upon the Maximum Takeoff Weight (MTOW) of the aircraft. The FAA uses a similar system, though with different weights (Wikipedia).\n",
    "\n",
    "| ICAO Category | MTOW                                          |\n",
    "|---------------|-----------------------------------------------|\n",
    "| Light (L)     | x <= 7,000 kilograms (15,000 lb)              |\n",
    "| Medium (M)    | 7,000 kg < x < 136,000 kilograms (300,000 lb) |\n",
    "| Heavy (H)     | 136,000 kg <= x                               |\n",
    "| Super (J)     | Airbus A380                                   |"
   ]
  },
  {
   "cell_type": "code",
   "execution_count": 77,
   "metadata": {
    "collapsed": true
   },
   "outputs": [],
   "source": [
    "flightment_iata_df = pd.read_csv(\"../data/flight/flightment_iata.csv\")"
   ]
  },
  {
   "cell_type": "code",
   "execution_count": 78,
   "metadata": {
    "collapsed": true
   },
   "outputs": [],
   "source": [
    "df = pd.merge(df, flightment_iata_df[[\"IATA\", \"Wake\"]], how='left', left_on=\"flight_equipment_iata\", right_on=\"IATA\")"
   ]
  },
  {
   "cell_type": "markdown",
   "metadata": {},
   "source": [
    "### Get the Weather Data"
   ]
  },
  {
   "cell_type": "markdown",
   "metadata": {},
   "source": [
    "#### Clean the Weather Data"
   ]
  },
  {
   "cell_type": "code",
   "execution_count": 79,
   "metadata": {},
   "outputs": [
    {
     "data": {
      "text/plain": [
       "array(['Kuala Lumpur', 'Kota Kinabalu', 'Sandakan', 'Kudat', 'Miri',\n",
       "       'Labuan', 'Penang', 'Kuching', 'Bintulu', 'Johor Bharu', 'Langkawi',\n",
       "       'Sibu', 'Marudi', 'Kota Bharu', 'Lawas', 'Mulu'], dtype=object)"
      ]
     },
     "execution_count": 79,
     "metadata": {},
     "output_type": "execute_result"
    }
   ],
   "source": [
    "df[\"departure_airport_city\"].unique()"
   ]
  },
  {
   "cell_type": "code",
   "execution_count": 214,
   "metadata": {
    "collapsed": true
   },
   "outputs": [],
   "source": [
    "weather_data_df = pd.read_csv(\"../data/flight/weather_data/labuan.csv\", index_col=False, sep=\";\")"
   ]
  },
  {
   "cell_type": "code",
   "execution_count": 215,
   "metadata": {},
   "outputs": [
    {
     "data": {
      "text/html": [
       "<div>\n",
       "<style>\n",
       "    .dataframe thead tr:only-child th {\n",
       "        text-align: right;\n",
       "    }\n",
       "\n",
       "    .dataframe thead th {\n",
       "        text-align: left;\n",
       "    }\n",
       "\n",
       "    .dataframe tbody tr th {\n",
       "        vertical-align: top;\n",
       "    }\n",
       "</style>\n",
       "<table border=\"1\" class=\"dataframe\">\n",
       "  <thead>\n",
       "    <tr style=\"text-align: right;\">\n",
       "      <th></th>\n",
       "      <th>Local time in Labuan (airport)</th>\n",
       "      <th>T</th>\n",
       "      <th>Po</th>\n",
       "      <th>P</th>\n",
       "      <th>Pa</th>\n",
       "      <th>U</th>\n",
       "      <th>DD</th>\n",
       "      <th>Ff</th>\n",
       "      <th>ff10</th>\n",
       "      <th>ff3</th>\n",
       "      <th>N</th>\n",
       "      <th>WW</th>\n",
       "      <th>W1</th>\n",
       "      <th>W2</th>\n",
       "      <th>Tn</th>\n",
       "      <th>Tx</th>\n",
       "      <th>Cl</th>\n",
       "      <th>Nh</th>\n",
       "      <th>H</th>\n",
       "      <th>Cm</th>\n",
       "      <th>Ch</th>\n",
       "      <th>VV</th>\n",
       "      <th>Td</th>\n",
       "      <th>RRR</th>\n",
       "      <th>tR</th>\n",
       "      <th>E</th>\n",
       "      <th>Tg</th>\n",
       "      <th>E'</th>\n",
       "      <th>sss</th>\n",
       "    </tr>\n",
       "  </thead>\n",
       "  <tbody>\n",
       "    <tr>\n",
       "      <th>462</th>\n",
       "      <td>04.11.2018 05:00</td>\n",
       "      <td>26.1</td>\n",
       "      <td>753.7</td>\n",
       "      <td>756.2</td>\n",
       "      <td>-0.6</td>\n",
       "      <td>95</td>\n",
       "      <td>Wind blowing from the north-northwest</td>\n",
       "      <td>1</td>\n",
       "      <td>NaN</td>\n",
       "      <td>NaN</td>\n",
       "      <td>90  or more, but not 100%</td>\n",
       "      <td>State of sky on the whole unchanged.</td>\n",
       "      <td>Cloud covering more than 1/2 of the sky throug...</td>\n",
       "      <td>Cloud covering more than 1/2 of the sky throug...</td>\n",
       "      <td>NaN</td>\n",
       "      <td>NaN</td>\n",
       "      <td>Cumulus and Stratocumulus other than Stratocum...</td>\n",
       "      <td>10%  or less, but not 0</td>\n",
       "      <td>300-600</td>\n",
       "      <td>Patches (often lenticular) of Altocumulus tran...</td>\n",
       "      <td>Cirrus spissatus, in patches or entangled shea...</td>\n",
       "      <td>20.0</td>\n",
       "      <td>25.3</td>\n",
       "      <td>NaN</td>\n",
       "      <td>NaN</td>\n",
       "      <td>NaN</td>\n",
       "      <td>NaN</td>\n",
       "      <td>NaN</td>\n",
       "      <td>NaN</td>\n",
       "    </tr>\n",
       "  </tbody>\n",
       "</table>\n",
       "</div>"
      ],
      "text/plain": [
       "    Local time in Labuan (airport)     T     Po      P   Pa   U  \\\n",
       "462               04.11.2018 05:00  26.1  753.7  756.2 -0.6  95   \n",
       "\n",
       "                                        DD  Ff  ff10  ff3  \\\n",
       "462  Wind blowing from the north-northwest   1   NaN  NaN   \n",
       "\n",
       "                             N                                     WW  \\\n",
       "462  90  or more, but not 100%  State of sky on the whole unchanged.    \n",
       "\n",
       "                                                    W1  \\\n",
       "462  Cloud covering more than 1/2 of the sky throug...   \n",
       "\n",
       "                                                    W2  Tn  Tx  \\\n",
       "462  Cloud covering more than 1/2 of the sky throug... NaN NaN   \n",
       "\n",
       "                                                    Cl  \\\n",
       "462  Cumulus and Stratocumulus other than Stratocum...   \n",
       "\n",
       "                          Nh        H  \\\n",
       "462  10%  or less, but not 0  300-600   \n",
       "\n",
       "                                                    Cm  \\\n",
       "462  Patches (often lenticular) of Altocumulus tran...   \n",
       "\n",
       "                                                    Ch    VV    Td  RRR  tR  \\\n",
       "462  Cirrus spissatus, in patches or entangled shea...  20.0  25.3  NaN NaN   \n",
       "\n",
       "      E  Tg  E'  sss  \n",
       "462 NaN NaN NaN  NaN  "
      ]
     },
     "execution_count": 215,
     "metadata": {},
     "output_type": "execute_result"
    }
   ],
   "source": [
    "weather_data_df.sample()"
   ]
  },
  {
   "cell_type": "code",
   "execution_count": 216,
   "metadata": {
    "collapsed": true
   },
   "outputs": [],
   "source": [
    "weather_data_df[\"date\"] = weather_data_df.iloc[:,0].str.split().str[0].str.split(\".\").apply(lambda x: np.array(x)[[2, 1, 0]]).str.join(\"-\")\n",
    "weather_data_df[\"time\"] = weather_data_df.iloc[:,0].str.split().str[1].str.split(\":\").str[0]"
   ]
  },
  {
   "cell_type": "code",
   "execution_count": 217,
   "metadata": {
    "collapsed": true
   },
   "outputs": [],
   "source": [
    "weather_data_df = weather_data_df[[\"date\", \"time\", \"T\", \"Po\", \"U\", \"DD\", \"Ff\", \"N\", \"WW\", \"Cl\", \"Nh\", \"H\", \"VV\"]]"
   ]
  },
  {
   "cell_type": "code",
   "execution_count": 219,
   "metadata": {
    "collapsed": true
   },
   "outputs": [],
   "source": [
    "weather_data_df[\"city\"] = \"Labuan\""
   ]
  },
  {
   "cell_type": "code",
   "execution_count": 220,
   "metadata": {
    "collapsed": true,
    "scrolled": false
   },
   "outputs": [],
   "source": [
    "# weather_data_comp_df = weather_data_df.copy()"
   ]
  },
  {
   "cell_type": "code",
   "execution_count": 221,
   "metadata": {
    "collapsed": true
   },
   "outputs": [],
   "source": [
    "weather_data_comp_df = weather_data_comp_df.append(weather_data_df)"
   ]
  },
  {
   "cell_type": "code",
   "execution_count": 247,
   "metadata": {
    "collapsed": true
   },
   "outputs": [],
   "source": [
    "weather_data_comp_df.to_csv(\"weather_data_comp.csv\", index=False, encoding = \"utf-8\")"
   ]
  },
  {
   "cell_type": "markdown",
   "metadata": {},
   "source": [
    "### Find the Closest Time and Date to Weather"
   ]
  },
  {
   "cell_type": "code",
   "execution_count": 227,
   "metadata": {},
   "outputs": [
    {
     "data": {
      "text/plain": [
       "array(['23', '20', '17', '14', '11', '08', '05', '02'], dtype=object)"
      ]
     },
     "execution_count": 227,
     "metadata": {},
     "output_type": "execute_result"
    }
   ],
   "source": [
    "weather_data_comp_df[\"time\"].unique()"
   ]
  },
  {
   "cell_type": "code",
   "execution_count": 229,
   "metadata": {},
   "outputs": [
    {
     "data": {
      "text/plain": [
       "array([22, 23,  6,  0,  1,  2,  3,  4,  5,  7,  8,  9, 10, 11, 12, 13, 14,\n",
       "       15, 16, 17, 18, 21, 19, 20], dtype=int64)"
      ]
     },
     "execution_count": 229,
     "metadata": {},
     "output_type": "execute_result"
    }
   ],
   "source": [
    "df[\"scheduled_departure_hour\"].unique()"
   ]
  },
  {
   "cell_type": "code",
   "execution_count": 230,
   "metadata": {
    "collapsed": true
   },
   "outputs": [],
   "source": [
    "def get_closest_weather_time(time):\n",
    "    if time in [1, 2, 3]:\n",
    "        return \"02\"\n",
    "    elif time in [4, 5, 6]:\n",
    "        return \"05\"\n",
    "    elif time in [7, 8, 9]:\n",
    "        return \"08\"\n",
    "    elif time in [10, 11, 12]:\n",
    "        return \"11\"\n",
    "    elif time in [13, 14, 15]:\n",
    "        return \"14\"\n",
    "    elif time in [16, 17, 18]:\n",
    "        return \"17\"\n",
    "    elif time in [19, 20, 21]:\n",
    "        return \"20\"\n",
    "    elif time in [22, 23, 0]:\n",
    "        return \"23\""
   ]
  },
  {
   "cell_type": "code",
   "execution_count": 233,
   "metadata": {
    "collapsed": true
   },
   "outputs": [],
   "source": [
    "df[\"closest_weather_time\"] = df[\"scheduled_departure_hour\"].apply(get_closest_weather_time)"
   ]
  },
  {
   "cell_type": "markdown",
   "metadata": {},
   "source": [
    "#### Combine Weather Data with the Flight Data"
   ]
  },
  {
   "cell_type": "code",
   "execution_count": 238,
   "metadata": {},
   "outputs": [
    {
     "data": {
      "text/html": [
       "<div>\n",
       "<style>\n",
       "    .dataframe thead tr:only-child th {\n",
       "        text-align: right;\n",
       "    }\n",
       "\n",
       "    .dataframe thead th {\n",
       "        text-align: left;\n",
       "    }\n",
       "\n",
       "    .dataframe tbody tr th {\n",
       "        vertical-align: top;\n",
       "    }\n",
       "</style>\n",
       "<table border=\"1\" class=\"dataframe\">\n",
       "  <thead>\n",
       "    <tr style=\"text-align: right;\">\n",
       "      <th></th>\n",
       "      <th>id</th>\n",
       "      <th>number</th>\n",
       "      <th>airline</th>\n",
       "      <th>airline_name</th>\n",
       "      <th>scheduled_departure_time</th>\n",
       "      <th>scheduled_arrival_time</th>\n",
       "      <th>departure_airport_city</th>\n",
       "      <th>departure_airport_code</th>\n",
       "      <th>departure_airport_country</th>\n",
       "      <th>departure_airport_gate</th>\n",
       "      <th>departure_airport_name</th>\n",
       "      <th>departure_airport_region</th>\n",
       "      <th>departure_airport_terminal</th>\n",
       "      <th>departure_airport_timezone</th>\n",
       "      <th>arrival_airport_city</th>\n",
       "      <th>arrival_airport_code</th>\n",
       "      <th>arrival_airport_country</th>\n",
       "      <th>arrival_airport_gate</th>\n",
       "      <th>arrival_airport_name</th>\n",
       "      <th>arrival_airport_region</th>\n",
       "      <th>arrival_airport_terminal</th>\n",
       "      <th>arrival_airport_timezone</th>\n",
       "      <th>flight_equipment_iata</th>\n",
       "      <th>flight_equipment_name</th>\n",
       "      <th>flight_duration</th>\n",
       "      <th>delay</th>\n",
       "      <th>flag_test</th>\n",
       "      <th>scheduled_flight_duration</th>\n",
       "      <th>distance</th>\n",
       "      <th>scheduled_flight_duration_h</th>\n",
       "      <th>flight_velocity</th>\n",
       "      <th>scheduled_departure_day</th>\n",
       "      <th>scheduled_departure_weekend_flag</th>\n",
       "      <th>scheduled_departure_hour</th>\n",
       "      <th>scheduled_departure_pod</th>\n",
       "      <th>scheduled_departure_date</th>\n",
       "      <th>scheduled_departure_holiday_flag</th>\n",
       "      <th>scheduled_departure_min_1_holiday_flag</th>\n",
       "      <th>flag_delay</th>\n",
       "      <th>delay_level</th>\n",
       "      <th>cnt_by_airport_date</th>\n",
       "      <th>cnt_by_airport_hour</th>\n",
       "      <th>IATA</th>\n",
       "      <th>Wake</th>\n",
       "      <th>closest_weather_time</th>\n",
       "    </tr>\n",
       "  </thead>\n",
       "  <tbody>\n",
       "    <tr>\n",
       "      <th>111557</th>\n",
       "      <td>483741</td>\n",
       "      <td>SQ5117</td>\n",
       "      <td>SQ</td>\n",
       "      <td>Singapore Airlines</td>\n",
       "      <td>2018-12-01 06:35:00</td>\n",
       "      <td>2018-12-01 07:35:00</td>\n",
       "      <td>Kuala Lumpur</td>\n",
       "      <td>KUL</td>\n",
       "      <td>MY</td>\n",
       "      <td>C6</td>\n",
       "      <td>Kuala Lumpur International Airport</td>\n",
       "      <td>Asia</td>\n",
       "      <td>1</td>\n",
       "      <td>Asia/Kuala_Lumpur</td>\n",
       "      <td>Singapore</td>\n",
       "      <td>SIN</td>\n",
       "      <td>SG</td>\n",
       "      <td>NaN</td>\n",
       "      <td>Changi International Airport</td>\n",
       "      <td>Asia</td>\n",
       "      <td>2</td>\n",
       "      <td>Asia/Singapore</td>\n",
       "      <td>738</td>\n",
       "      <td>Boeing 737-800 Passenger</td>\n",
       "      <td>1h</td>\n",
       "      <td>39</td>\n",
       "      <td>1</td>\n",
       "      <td>60.0</td>\n",
       "      <td>296.71</td>\n",
       "      <td>1.0</td>\n",
       "      <td>296.71</td>\n",
       "      <td>Saturday</td>\n",
       "      <td>1</td>\n",
       "      <td>6</td>\n",
       "      <td>Early Morning</td>\n",
       "      <td>2018-12-01</td>\n",
       "      <td>0</td>\n",
       "      <td>0</td>\n",
       "      <td>1</td>\n",
       "      <td>medium delay</td>\n",
       "      <td>1173</td>\n",
       "      <td>7535</td>\n",
       "      <td>738</td>\n",
       "      <td>M</td>\n",
       "      <td>05</td>\n",
       "    </tr>\n",
       "  </tbody>\n",
       "</table>\n",
       "</div>"
      ],
      "text/plain": [
       "            id  number airline        airline_name scheduled_departure_time  \\\n",
       "111557  483741  SQ5117      SQ  Singapore Airlines      2018-12-01 06:35:00   \n",
       "\n",
       "       scheduled_arrival_time departure_airport_city departure_airport_code  \\\n",
       "111557    2018-12-01 07:35:00           Kuala Lumpur                    KUL   \n",
       "\n",
       "       departure_airport_country departure_airport_gate  \\\n",
       "111557                        MY                     C6   \n",
       "\n",
       "                    departure_airport_name departure_airport_region  \\\n",
       "111557  Kuala Lumpur International Airport                     Asia   \n",
       "\n",
       "       departure_airport_terminal departure_airport_timezone  \\\n",
       "111557                          1          Asia/Kuala_Lumpur   \n",
       "\n",
       "       arrival_airport_city arrival_airport_code arrival_airport_country  \\\n",
       "111557            Singapore                  SIN                      SG   \n",
       "\n",
       "       arrival_airport_gate          arrival_airport_name  \\\n",
       "111557                  NaN  Changi International Airport   \n",
       "\n",
       "       arrival_airport_region arrival_airport_terminal  \\\n",
       "111557                   Asia                        2   \n",
       "\n",
       "       arrival_airport_timezone flight_equipment_iata  \\\n",
       "111557           Asia/Singapore                   738   \n",
       "\n",
       "           flight_equipment_name flight_duration  delay  flag_test  \\\n",
       "111557  Boeing 737-800 Passenger              1h     39          1   \n",
       "\n",
       "        scheduled_flight_duration  distance  scheduled_flight_duration_h  \\\n",
       "111557                       60.0    296.71                          1.0   \n",
       "\n",
       "        flight_velocity scheduled_departure_day  \\\n",
       "111557           296.71                Saturday   \n",
       "\n",
       "        scheduled_departure_weekend_flag  scheduled_departure_hour  \\\n",
       "111557                                 1                         6   \n",
       "\n",
       "       scheduled_departure_pod scheduled_departure_date  \\\n",
       "111557           Early Morning               2018-12-01   \n",
       "\n",
       "        scheduled_departure_holiday_flag  \\\n",
       "111557                                 0   \n",
       "\n",
       "        scheduled_departure_min_1_holiday_flag  flag_delay   delay_level  \\\n",
       "111557                                       0           1  medium delay   \n",
       "\n",
       "        cnt_by_airport_date  cnt_by_airport_hour IATA Wake  \\\n",
       "111557                 1173                 7535  738    M   \n",
       "\n",
       "       closest_weather_time  \n",
       "111557                   05  "
      ]
     },
     "execution_count": 238,
     "metadata": {},
     "output_type": "execute_result"
    }
   ],
   "source": [
    "df.sample()"
   ]
  },
  {
   "cell_type": "code",
   "execution_count": 245,
   "metadata": {
    "collapsed": true
   },
   "outputs": [],
   "source": [
    "df = pd.merge(df, weather_data_comp_df, how='left', left_on=[\"scheduled_departure_date\", \"closest_weather_time\", \"departure_airport_city\"], right_on=[\"date\", \"time\", \"city\"])"
   ]
  },
  {
   "cell_type": "code",
   "execution_count": 251,
   "metadata": {
    "collapsed": true
   },
   "outputs": [],
   "source": [
    "merged_weather_df = df[[\"IATA\", \"Wake\", \"T\", \"Po\", \"U\", \"DD\", \"Ff\", \"N\", \"WW\", \"Cl\", \"Nh\", \"H\", \"VV\"]]"
   ]
  },
  {
   "cell_type": "code",
   "execution_count": 266,
   "metadata": {},
   "outputs": [
    {
     "data": {
      "text/plain": [
       "array(['Kota Kinabalu', 'Sandakan', 'Kudat', 'Bintulu', 'Johor Bharu',\n",
       "       'Langkawi', 'Sibu', 'Marudi', 'Lawas', 'Mulu'], dtype=object)"
      ]
     },
     "execution_count": 266,
     "metadata": {},
     "output_type": "execute_result"
    }
   ],
   "source": [
    "df[df[\"T\"].isnull()][\"departure_airport_city\"].unique()"
   ]
  },
  {
   "cell_type": "code",
   "execution_count": 252,
   "metadata": {},
   "outputs": [
    {
     "data": {
      "text/html": [
       "<div>\n",
       "<style>\n",
       "    .dataframe thead tr:only-child th {\n",
       "        text-align: right;\n",
       "    }\n",
       "\n",
       "    .dataframe thead th {\n",
       "        text-align: left;\n",
       "    }\n",
       "\n",
       "    .dataframe tbody tr th {\n",
       "        vertical-align: top;\n",
       "    }\n",
       "</style>\n",
       "<table border=\"1\" class=\"dataframe\">\n",
       "  <thead>\n",
       "    <tr style=\"text-align: right;\">\n",
       "      <th></th>\n",
       "      <th>data_type</th>\n",
       "      <th>#_unique</th>\n",
       "      <th>#_nan</th>\n",
       "      <th>%_nan</th>\n",
       "    </tr>\n",
       "  </thead>\n",
       "  <tbody>\n",
       "    <tr>\n",
       "      <th>T</th>\n",
       "      <td>float64</td>\n",
       "      <td>115</td>\n",
       "      <td>20331</td>\n",
       "      <td>13.320885</td>\n",
       "    </tr>\n",
       "    <tr>\n",
       "      <th>Po</th>\n",
       "      <td>float64</td>\n",
       "      <td>92</td>\n",
       "      <td>20331</td>\n",
       "      <td>13.320885</td>\n",
       "    </tr>\n",
       "    <tr>\n",
       "      <th>U</th>\n",
       "      <td>float64</td>\n",
       "      <td>49</td>\n",
       "      <td>20331</td>\n",
       "      <td>13.320885</td>\n",
       "    </tr>\n",
       "    <tr>\n",
       "      <th>IATA</th>\n",
       "      <td>object</td>\n",
       "      <td>44</td>\n",
       "      <td>44602</td>\n",
       "      <td>29.223260</td>\n",
       "    </tr>\n",
       "    <tr>\n",
       "      <th>VV</th>\n",
       "      <td>float64</td>\n",
       "      <td>37</td>\n",
       "      <td>20331</td>\n",
       "      <td>13.320885</td>\n",
       "    </tr>\n",
       "    <tr>\n",
       "      <th>WW</th>\n",
       "      <td>object</td>\n",
       "      <td>30</td>\n",
       "      <td>20331</td>\n",
       "      <td>13.320885</td>\n",
       "    </tr>\n",
       "    <tr>\n",
       "      <th>DD</th>\n",
       "      <td>object</td>\n",
       "      <td>16</td>\n",
       "      <td>20331</td>\n",
       "      <td>13.320885</td>\n",
       "    </tr>\n",
       "    <tr>\n",
       "      <th>Cl</th>\n",
       "      <td>object</td>\n",
       "      <td>9</td>\n",
       "      <td>20331</td>\n",
       "      <td>13.320885</td>\n",
       "    </tr>\n",
       "    <tr>\n",
       "      <th>Ff</th>\n",
       "      <td>float64</td>\n",
       "      <td>8</td>\n",
       "      <td>20331</td>\n",
       "      <td>13.320885</td>\n",
       "    </tr>\n",
       "    <tr>\n",
       "      <th>Nh</th>\n",
       "      <td>object</td>\n",
       "      <td>7</td>\n",
       "      <td>20509</td>\n",
       "      <td>13.437510</td>\n",
       "    </tr>\n",
       "    <tr>\n",
       "      <th>H</th>\n",
       "      <td>object</td>\n",
       "      <td>6</td>\n",
       "      <td>20331</td>\n",
       "      <td>13.320885</td>\n",
       "    </tr>\n",
       "    <tr>\n",
       "      <th>N</th>\n",
       "      <td>object</td>\n",
       "      <td>4</td>\n",
       "      <td>20331</td>\n",
       "      <td>13.320885</td>\n",
       "    </tr>\n",
       "    <tr>\n",
       "      <th>Wake</th>\n",
       "      <td>object</td>\n",
       "      <td>3</td>\n",
       "      <td>44602</td>\n",
       "      <td>29.223260</td>\n",
       "    </tr>\n",
       "  </tbody>\n",
       "</table>\n",
       "</div>"
      ],
      "text/plain": [
       "     data_type  #_unique  #_nan      %_nan\n",
       "T      float64       115  20331  13.320885\n",
       "Po     float64        92  20331  13.320885\n",
       "U      float64        49  20331  13.320885\n",
       "IATA    object        44  44602  29.223260\n",
       "VV     float64        37  20331  13.320885\n",
       "WW      object        30  20331  13.320885\n",
       "DD      object        16  20331  13.320885\n",
       "Cl      object         9  20331  13.320885\n",
       "Ff     float64         8  20331  13.320885\n",
       "Nh      object         7  20509  13.437510\n",
       "H       object         6  20331  13.320885\n",
       "N       object         4  20331  13.320885\n",
       "Wake    object         3  44602  29.223260"
      ]
     },
     "execution_count": 252,
     "metadata": {},
     "output_type": "execute_result"
    }
   ],
   "source": [
    "# gives some infos on columns types and number of null values\n",
    "df_info = pd.DataFrame(merged_weather_df.dtypes).rename(columns={0:'data_type'})\n",
    "df_info[\"#_unique\"] = merged_weather_df.nunique()\n",
    "df_info[\"#_nan\"] = merged_weather_df.isnull().sum().astype(int)\n",
    "df_info[\"%_nan\"] = merged_weather_df.isnull().sum()/merged_weather_df.shape[0]*100\n",
    "\n",
    "df_info.sort_values(by=\"#_unique\", ascending=False)"
   ]
  },
  {
   "cell_type": "markdown",
   "metadata": {},
   "source": [
    "## Data Cleaning"
   ]
  },
  {
   "cell_type": "markdown",
   "metadata": {},
   "source": [
    "### Drop Possibly Unused Features"
   ]
  },
  {
   "cell_type": "markdown",
   "metadata": {},
   "source": [
    "The feature below are dropped based on these criteria:\n",
    "1. Categorical features which have plenty number of unique values (e.g. `scheduled_arrival_time`)\n",
    "2. Categorical features with similar number of unique values (e.g. `arrival_airport_name` and `arrival_airport_code` are pretty similar, one of them needs to be dropped)\n",
    "3. Features which have more than ~40% of missing data\n",
    "4. Features with only 1 unique value\n"
   ]
  },
  {
   "cell_type": "code",
   "execution_count": 152,
   "metadata": {
    "collapsed": true
   },
   "outputs": [],
   "source": [
    "df = df.drop([\n",
    "    \"id\", \n",
    "    \"scheduled_arrival_time\", \n",
    "    \"scheduled_departure_time\", \n",
    "    \"flight_duration\",\n",
    "    \"arrival_airport_gate\",\n",
    "    \"departure_airport_gate\",\n",
    "    \"arrival_airport_name\",\n",
    "    \"arrival_airport_city\",\n",
    "    \"airline\",\n",
    "    \"flight_equipment_name\",\n",
    "    \"arrival_airport_timezone\",\n",
    "    \"arrival_airport_country\",\n",
    "    \"arrival_airport_terminal\",\n",
    "    \"departure_airport_name\",\n",
    "    \"departure_airport_city\",\n",
    "    \"departure_airport_terminal\",\n",
    "    \"arrival_airport_region\",\n",
    "    \"departure_airport_region\",\n",
    "    \"departure_airport_country\",4\n",
    "    \"departure_airport_timezone\"\n",
    "], axis=1)"
   ]
  },
  {
   "cell_type": "code",
   "execution_count": 153,
   "metadata": {},
   "outputs": [
    {
     "data": {
      "text/html": [
       "<div>\n",
       "<style>\n",
       "    .dataframe thead tr:only-child th {\n",
       "        text-align: right;\n",
       "    }\n",
       "\n",
       "    .dataframe thead th {\n",
       "        text-align: left;\n",
       "    }\n",
       "\n",
       "    .dataframe tbody tr th {\n",
       "        vertical-align: top;\n",
       "    }\n",
       "</style>\n",
       "<table border=\"1\" class=\"dataframe\">\n",
       "  <thead>\n",
       "    <tr style=\"text-align: right;\">\n",
       "      <th></th>\n",
       "      <th>number</th>\n",
       "      <th>airline_name</th>\n",
       "      <th>departure_airport_code</th>\n",
       "      <th>arrival_airport_code</th>\n",
       "      <th>flight_equipment_iata</th>\n",
       "      <th>delay</th>\n",
       "      <th>flag_test</th>\n",
       "      <th>scheduled_flight_duration</th>\n",
       "      <th>distance</th>\n",
       "      <th>scheduled_departure_day</th>\n",
       "      <th>scheduled_departure_weekend_flag</th>\n",
       "      <th>scheduled_departure_hour</th>\n",
       "      <th>scheduled_departure_pod</th>\n",
       "      <th>scheduled_flight_duration_h</th>\n",
       "      <th>flight_velocity</th>\n",
       "      <th>scheduled_departure_date</th>\n",
       "      <th>scheduled_departure_holiday_flag</th>\n",
       "      <th>scheduled_departure_min_1_holiday_flag</th>\n",
       "      <th>flag_delay</th>\n",
       "      <th>delay_level</th>\n",
       "    </tr>\n",
       "  </thead>\n",
       "  <tbody>\n",
       "    <tr>\n",
       "      <th>0</th>\n",
       "      <td>AK6430</td>\n",
       "      <td>AirAsia</td>\n",
       "      <td>KUL</td>\n",
       "      <td>KBR</td>\n",
       "      <td>32S</td>\n",
       "      <td>2</td>\n",
       "      <td>0</td>\n",
       "      <td>65.0</td>\n",
       "      <td>385.98</td>\n",
       "      <td>Friday</td>\n",
       "      <td>0</td>\n",
       "      <td>22</td>\n",
       "      <td>Night</td>\n",
       "      <td>1.083333</td>\n",
       "      <td>356.289231</td>\n",
       "      <td>2018-10-05</td>\n",
       "      <td>0</td>\n",
       "      <td>1</td>\n",
       "      <td>1</td>\n",
       "      <td>small delay</td>\n",
       "    </tr>\n",
       "    <tr>\n",
       "      <th>1</th>\n",
       "      <td>ID*7164</td>\n",
       "      <td>Batik Air</td>\n",
       "      <td>KUL</td>\n",
       "      <td>CGK</td>\n",
       "      <td>32S</td>\n",
       "      <td>8</td>\n",
       "      <td>0</td>\n",
       "      <td>115.0</td>\n",
       "      <td>1129.47</td>\n",
       "      <td>Friday</td>\n",
       "      <td>0</td>\n",
       "      <td>22</td>\n",
       "      <td>Night</td>\n",
       "      <td>1.916667</td>\n",
       "      <td>589.288696</td>\n",
       "      <td>2018-10-05</td>\n",
       "      <td>0</td>\n",
       "      <td>1</td>\n",
       "      <td>1</td>\n",
       "      <td>medium delay</td>\n",
       "    </tr>\n",
       "    <tr>\n",
       "      <th>2</th>\n",
       "      <td>MXD9116</td>\n",
       "      <td>Malindo Air</td>\n",
       "      <td>KUL</td>\n",
       "      <td>CGK</td>\n",
       "      <td>32S</td>\n",
       "      <td>8</td>\n",
       "      <td>0</td>\n",
       "      <td>115.0</td>\n",
       "      <td>1129.47</td>\n",
       "      <td>Friday</td>\n",
       "      <td>0</td>\n",
       "      <td>22</td>\n",
       "      <td>Night</td>\n",
       "      <td>1.916667</td>\n",
       "      <td>589.288696</td>\n",
       "      <td>2018-10-05</td>\n",
       "      <td>0</td>\n",
       "      <td>1</td>\n",
       "      <td>1</td>\n",
       "      <td>medium delay</td>\n",
       "    </tr>\n",
       "    <tr>\n",
       "      <th>3</th>\n",
       "      <td>AK5198</td>\n",
       "      <td>AirAsia</td>\n",
       "      <td>KUL</td>\n",
       "      <td>SDK</td>\n",
       "      <td>32S</td>\n",
       "      <td>0</td>\n",
       "      <td>0</td>\n",
       "      <td>175.0</td>\n",
       "      <td>1846.94</td>\n",
       "      <td>Friday</td>\n",
       "      <td>0</td>\n",
       "      <td>22</td>\n",
       "      <td>Night</td>\n",
       "      <td>2.916667</td>\n",
       "      <td>633.236571</td>\n",
       "      <td>2018-10-05</td>\n",
       "      <td>0</td>\n",
       "      <td>1</td>\n",
       "      <td>0</td>\n",
       "      <td>on time</td>\n",
       "    </tr>\n",
       "    <tr>\n",
       "      <th>4</th>\n",
       "      <td>AK516</td>\n",
       "      <td>AirAsia</td>\n",
       "      <td>KUL</td>\n",
       "      <td>HAN</td>\n",
       "      <td>32S</td>\n",
       "      <td>0</td>\n",
       "      <td>0</td>\n",
       "      <td>195.0</td>\n",
       "      <td>2102.37</td>\n",
       "      <td>Friday</td>\n",
       "      <td>0</td>\n",
       "      <td>22</td>\n",
       "      <td>Night</td>\n",
       "      <td>3.250000</td>\n",
       "      <td>646.883077</td>\n",
       "      <td>2018-10-05</td>\n",
       "      <td>0</td>\n",
       "      <td>1</td>\n",
       "      <td>0</td>\n",
       "      <td>on time</td>\n",
       "    </tr>\n",
       "  </tbody>\n",
       "</table>\n",
       "</div>"
      ],
      "text/plain": [
       "    number airline_name departure_airport_code arrival_airport_code  \\\n",
       "0   AK6430      AirAsia                    KUL                  KBR   \n",
       "1  ID*7164    Batik Air                    KUL                  CGK   \n",
       "2  MXD9116  Malindo Air                    KUL                  CGK   \n",
       "3   AK5198      AirAsia                    KUL                  SDK   \n",
       "4    AK516      AirAsia                    KUL                  HAN   \n",
       "\n",
       "  flight_equipment_iata  delay  flag_test  scheduled_flight_duration  \\\n",
       "0                   32S      2          0                       65.0   \n",
       "1                   32S      8          0                      115.0   \n",
       "2                   32S      8          0                      115.0   \n",
       "3                   32S      0          0                      175.0   \n",
       "4                   32S      0          0                      195.0   \n",
       "\n",
       "   distance scheduled_departure_day  scheduled_departure_weekend_flag  \\\n",
       "0    385.98                  Friday                                 0   \n",
       "1   1129.47                  Friday                                 0   \n",
       "2   1129.47                  Friday                                 0   \n",
       "3   1846.94                  Friday                                 0   \n",
       "4   2102.37                  Friday                                 0   \n",
       "\n",
       "   scheduled_departure_hour scheduled_departure_pod  \\\n",
       "0                        22                   Night   \n",
       "1                        22                   Night   \n",
       "2                        22                   Night   \n",
       "3                        22                   Night   \n",
       "4                        22                   Night   \n",
       "\n",
       "   scheduled_flight_duration_h  flight_velocity scheduled_departure_date  \\\n",
       "0                     1.083333       356.289231               2018-10-05   \n",
       "1                     1.916667       589.288696               2018-10-05   \n",
       "2                     1.916667       589.288696               2018-10-05   \n",
       "3                     2.916667       633.236571               2018-10-05   \n",
       "4                     3.250000       646.883077               2018-10-05   \n",
       "\n",
       "   scheduled_departure_holiday_flag  scheduled_departure_min_1_holiday_flag  \\\n",
       "0                                 0                                       1   \n",
       "1                                 0                                       1   \n",
       "2                                 0                                       1   \n",
       "3                                 0                                       1   \n",
       "4                                 0                                       1   \n",
       "\n",
       "   flag_delay   delay_level  \n",
       "0           1   small delay  \n",
       "1           1  medium delay  \n",
       "2           1  medium delay  \n",
       "3           0       on time  \n",
       "4           0       on time  "
      ]
     },
     "execution_count": 153,
     "metadata": {},
     "output_type": "execute_result"
    }
   ],
   "source": [
    "df.head()"
   ]
  },
  {
   "cell_type": "markdown",
   "metadata": {},
   "source": [
    "### Drop Missing Values"
   ]
  },
  {
   "cell_type": "code",
   "execution_count": 154,
   "metadata": {
    "collapsed": true
   },
   "outputs": [],
   "source": [
    "df = df.dropna()"
   ]
  },
  {
   "cell_type": "code",
   "execution_count": 155,
   "metadata": {},
   "outputs": [
    {
     "name": "stdout",
     "output_type": "stream",
     "text": [
      "After missing values are removed the total number of rows become 152316\n"
     ]
    }
   ],
   "source": [
    "print(f\"After missing values are removed the total number of rows become {df.shape[0]}\")"
   ]
  },
  {
   "cell_type": "markdown",
   "metadata": {},
   "source": [
    "### Drop Outliers"
   ]
  },
  {
   "cell_type": "code",
   "execution_count": 156,
   "metadata": {},
   "outputs": [
    {
     "data": {
      "image/png": "[encoded data removed]",
      "text/plain": [
       "<Figure size 1440x720 with 1 Axes>"
      ]
     },
     "metadata": {},
     "output_type": "display_data"
    }
   ],
   "source": [
    "plt.figure(figsize=[20, 10])\n",
    "sns.distplot(df[\"delay\"], hist=False)\n",
    "plt.title(\"Distribution of the Delay\")\n",
    "plt.show()"
   ]
  },
  {
   "cell_type": "code",
   "execution_count": 157,
   "metadata": {},
   "outputs": [
    {
     "name": "stdout",
     "output_type": "stream",
     "text": [
      "The total number of rows before the deletion of the outliers based on the column delay is 152316\n"
     ]
    }
   ],
   "source": [
    "print(f\"The total number of rows before the deletion of the outliers based on the column delay is {df.shape[0]}\")"
   ]
  },
  {
   "cell_type": "code",
   "execution_count": 158,
   "metadata": {
    "collapsed": true
   },
   "outputs": [],
   "source": [
    "q1 = df[\"delay\"].quantile(0.25)\n",
    "q3 = df[\"delay\"].quantile(0.75)\n",
    "\n",
    "iqr = q3 - q1"
   ]
  },
  {
   "cell_type": "code",
   "execution_count": 159,
   "metadata": {
    "collapsed": true
   },
   "outputs": [],
   "source": [
    "df = df[~(df[\"delay\"] > (q3 + 1.5 * iqr))]"
   ]
  },
  {
   "cell_type": "code",
   "execution_count": 160,
   "metadata": {},
   "outputs": [
    {
     "data": {
      "image/png": "[encoded data removed]",
      "text/plain": [
       "<Figure size 1440x720 with 1 Axes>"
      ]
     },
     "metadata": {},
     "output_type": "display_data"
    }
   ],
   "source": [
    "plt.figure(figsize=[20, 10])\n",
    "sns.distplot(df[\"delay\"], hist=False)\n",
    "plt.title(\"Distribution of the Delay After Outlier Removal\")\n",
    "plt.show()"
   ]
  },
  {
   "cell_type": "code",
   "execution_count": 161,
   "metadata": {},
   "outputs": [
    {
     "name": "stdout",
     "output_type": "stream",
     "text": [
      "The total number of rows before the deletion of the outliers based on the column delay is 139528\n"
     ]
    }
   ],
   "source": [
    "print(f\"The total number of rows before the deletion of the outliers based on the column delay is {df.shape[0]}\")"
   ]
  },
  {
   "cell_type": "code",
   "execution_count": 162,
   "metadata": {
    "collapsed": true
   },
   "outputs": [],
   "source": [
    "df_test = df.copy()\n",
    "df_test = df_test[df_test[\"flag_test\"] == 1]\n",
    "\n",
    "df = df[df[\"flag_test\"] == 0].drop(\"flag_test\", axis=1)"
   ]
  },
  {
   "cell_type": "markdown",
   "metadata": {},
   "source": [
    "### Correlation Between Numerical Features"
   ]
  },
  {
   "cell_type": "code",
   "execution_count": 164,
   "metadata": {},
   "outputs": [
    {
     "data": {
      "image/png": "[encoded data removed]",
      "text/plain": [
       "<Figure size 864x864 with 2 Axes>"
      ]
     },
     "metadata": {},
     "output_type": "display_data"
    }
   ],
   "source": [
    "plt.figure(figsize=[12, 12])\n",
    "sns.heatmap(df.corr())\n",
    "plt.show()"
   ]
  },
  {
   "cell_type": "markdown",
   "metadata": {},
   "source": [
    "### Recommendation for the Passengers"
   ]
  },
  {
   "cell_type": "code",
   "execution_count": 41,
   "metadata": {
    "collapsed": true
   },
   "outputs": [],
   "source": [
    "delay_by_features = [\"airline_name\", \n",
    "                     \"scheduled_departure_pod\", \n",
    "                     \"scheduled_departure_hour\", \n",
    "                     \"scheduled_departure_holiday_flag\", \n",
    "                     \"scheduled_departure_day\",\n",
    "                    \"arrival_airport_code\",\n",
    "                     \"departure_airport_code\",\n",
    "                    \"number\"]\n",
    "delay_bys = {}\n",
    "\n",
    "for delay_by_feature in delay_by_features:\n",
    "    cnt_delay_by_df = df.groupby(delay_by_feature).sum()[\"flag_delay\"].reset_index().rename(columns={\"flag_delay\": \"cnt_delay\"})\n",
    "    obs_delay_by_df = df.groupby(delay_by_feature).count()[\"flag_delay\"].reset_index().rename(columns={\"flag_delay\": \"obs_delay\"})\n",
    "\n",
    "    delay_by_df = pd.merge(cnt_delay_by_df, obs_delay_by_df,  how='left', left_on=[delay_by_feature], right_on=[delay_by_feature])\n",
    "    delay_by_df[\"%_delay\"] = delay_by_df[\"cnt_delay\"] / delay_by_df[\"obs_delay\"]\n",
    "    \n",
    "    delay_bys[delay_by_feature] = delay_by_df.sort_values(by=\"%_delay\")"
   ]
  },
  {
   "cell_type": "code",
   "execution_count": 44,
   "metadata": {},
   "outputs": [
    {
     "data": {
      "image/png": "[encoded data removed]",
      "text/plain": [
       "<Figure size 1440x1440 with 4 Axes>"
      ]
     },
     "metadata": {},
     "output_type": "display_data"
    }
   ],
   "source": [
    "fig, axs = plt.subplots(2, 2, figsize=(20, 20))\n",
    "colors = ['#ff9999','#66b3ff','#99ff99','#ffcc99']\n",
    "\n",
    "\n",
    "i, j = 0, 0\n",
    "for col in [\"scheduled_departure_pod\", \"scheduled_departure_holiday_flag\", \"scheduled_departure_day\", \"departure_airport_code\"]:\n",
    "    labels = list(delay_bys[col][col])\n",
    "    sizes = list(round(delay_bys[col][\"%_delay\"] * 100))\n",
    "    \n",
    "    axs[i, j].pie(sizes, colors = colors, labels=labels, autopct='%1.1f%%', startangle=90)\n",
    "    axs[i, j].set_title(f\"Likelihood to delay by {col}\")\n",
    "    j += 1\n",
    "    \n",
    "    if j % 2 == 0:\n",
    "        j = 0\n",
    "        i += 1\n",
    "        \n",
    "plt.show()"
   ]
  },
  {
   "cell_type": "markdown",
   "metadata": {},
   "source": [
    "Looking at the pie charts above we can conclude these recommendations for the passengers:\n",
    "1. Travelling in the night (9pm - 3am) has a lower likelihood to delay compared to traveling in the noon (12pm - 4pm)\n",
    "2. Travelling in during the d-day of holiday has lower chance to delay compared to other normal days\n",
    "3. There's no really significant difference between travelling on weekdays or on weekends\n",
    "4. Travelling from Sultan Abdul Aziz Shah Airport (SZB) has lower chance to delay compared than the rest airport"
   ]
  },
  {
   "cell_type": "code",
   "execution_count": 45,
   "metadata": {
    "scrolled": true
   },
   "outputs": [
    {
     "data": {
      "text/html": [
       "<div>\n",
       "<style>\n",
       "    .dataframe thead tr:only-child th {\n",
       "        text-align: right;\n",
       "    }\n",
       "\n",
       "    .dataframe thead th {\n",
       "        text-align: left;\n",
       "    }\n",
       "\n",
       "    .dataframe tbody tr th {\n",
       "        vertical-align: top;\n",
       "    }\n",
       "</style>\n",
       "<table border=\"1\" class=\"dataframe\">\n",
       "  <thead>\n",
       "    <tr style=\"text-align: right;\">\n",
       "      <th></th>\n",
       "      <th>airline_name</th>\n",
       "      <th>cnt_delay</th>\n",
       "      <th>obs_delay</th>\n",
       "      <th>%_delay</th>\n",
       "    </tr>\n",
       "  </thead>\n",
       "  <tbody>\n",
       "    <tr>\n",
       "      <th>39</th>\n",
       "      <td>Firefly</td>\n",
       "      <td>0</td>\n",
       "      <td>4465</td>\n",
       "      <td>0.0</td>\n",
       "    </tr>\n",
       "    <tr>\n",
       "      <th>44</th>\n",
       "      <td>Hong Kong Airlines</td>\n",
       "      <td>0</td>\n",
       "      <td>16</td>\n",
       "      <td>0.0</td>\n",
       "    </tr>\n",
       "    <tr>\n",
       "      <th>100</th>\n",
       "      <td>YTO Cargo</td>\n",
       "      <td>0</td>\n",
       "      <td>24</td>\n",
       "      <td>0.0</td>\n",
       "    </tr>\n",
       "    <tr>\n",
       "      <th>41</th>\n",
       "      <td>Guangxi Beibu Gulf Airlines</td>\n",
       "      <td>0</td>\n",
       "      <td>36</td>\n",
       "      <td>0.0</td>\n",
       "    </tr>\n",
       "    <tr>\n",
       "      <th>80</th>\n",
       "      <td>Silk Way West</td>\n",
       "      <td>0</td>\n",
       "      <td>14</td>\n",
       "      <td>0.0</td>\n",
       "    </tr>\n",
       "  </tbody>\n",
       "</table>\n",
       "</div>"
      ],
      "text/plain": [
       "                    airline_name  cnt_delay  obs_delay  %_delay\n",
       "39                       Firefly          0       4465      0.0\n",
       "44            Hong Kong Airlines          0         16      0.0\n",
       "100                    YTO Cargo          0         24      0.0\n",
       "41   Guangxi Beibu Gulf Airlines          0         36      0.0\n",
       "80                 Silk Way West          0         14      0.0"
      ]
     },
     "execution_count": 45,
     "metadata": {},
     "output_type": "execute_result"
    }
   ],
   "source": [
    "delay_bys[\"airline_name\"].head()"
   ]
  },
  {
   "cell_type": "markdown",
   "metadata": {},
   "source": [
    "Travelling using Firefly is very recommended since it has zero delays even after the 4,5k flights in the month"
   ]
  },
  {
   "cell_type": "code",
   "execution_count": 46,
   "metadata": {
    "scrolled": true
   },
   "outputs": [
    {
     "data": {
      "text/html": [
       "<div>\n",
       "<style>\n",
       "    .dataframe thead tr:only-child th {\n",
       "        text-align: right;\n",
       "    }\n",
       "\n",
       "    .dataframe thead th {\n",
       "        text-align: left;\n",
       "    }\n",
       "\n",
       "    .dataframe tbody tr th {\n",
       "        vertical-align: top;\n",
       "    }\n",
       "</style>\n",
       "<table border=\"1\" class=\"dataframe\">\n",
       "  <thead>\n",
       "    <tr style=\"text-align: right;\">\n",
       "      <th></th>\n",
       "      <th>arrival_airport_code</th>\n",
       "      <th>cnt_delay</th>\n",
       "      <th>obs_delay</th>\n",
       "      <th>%_delay</th>\n",
       "    </tr>\n",
       "  </thead>\n",
       "  <tbody>\n",
       "    <tr>\n",
       "      <th>145</th>\n",
       "      <td>XSP</td>\n",
       "      <td>0</td>\n",
       "      <td>2</td>\n",
       "      <td>0.000000</td>\n",
       "    </tr>\n",
       "    <tr>\n",
       "      <th>46</th>\n",
       "      <td>GYD</td>\n",
       "      <td>0</td>\n",
       "      <td>14</td>\n",
       "      <td>0.000000</td>\n",
       "    </tr>\n",
       "    <tr>\n",
       "      <th>81</th>\n",
       "      <td>LGL</td>\n",
       "      <td>1</td>\n",
       "      <td>23</td>\n",
       "      <td>0.043478</td>\n",
       "    </tr>\n",
       "    <tr>\n",
       "      <th>134</th>\n",
       "      <td>TSN</td>\n",
       "      <td>1</td>\n",
       "      <td>12</td>\n",
       "      <td>0.083333</td>\n",
       "    </tr>\n",
       "    <tr>\n",
       "      <th>93</th>\n",
       "      <td>MKM</td>\n",
       "      <td>31</td>\n",
       "      <td>273</td>\n",
       "      <td>0.113553</td>\n",
       "    </tr>\n",
       "  </tbody>\n",
       "</table>\n",
       "</div>"
      ],
      "text/plain": [
       "    arrival_airport_code  cnt_delay  obs_delay   %_delay\n",
       "145                  XSP          0          2  0.000000\n",
       "46                   GYD          0         14  0.000000\n",
       "81                   LGL          1         23  0.043478\n",
       "134                  TSN          1         12  0.083333\n",
       "93                   MKM         31        273  0.113553"
      ]
     },
     "execution_count": 46,
     "metadata": {},
     "output_type": "execute_result"
    }
   ],
   "source": [
    "delay_bys[\"arrival_airport_code\"].head()"
   ]
  },
  {
   "cell_type": "code",
   "execution_count": 47,
   "metadata": {
    "scrolled": true
   },
   "outputs": [
    {
     "data": {
      "text/html": [
       "<div>\n",
       "<style>\n",
       "    .dataframe thead tr:only-child th {\n",
       "        text-align: right;\n",
       "    }\n",
       "\n",
       "    .dataframe thead th {\n",
       "        text-align: left;\n",
       "    }\n",
       "\n",
       "    .dataframe tbody tr th {\n",
       "        vertical-align: top;\n",
       "    }\n",
       "</style>\n",
       "<table border=\"1\" class=\"dataframe\">\n",
       "  <thead>\n",
       "    <tr style=\"text-align: right;\">\n",
       "      <th></th>\n",
       "      <th>number</th>\n",
       "      <th>cnt_delay</th>\n",
       "      <th>obs_delay</th>\n",
       "      <th>%_delay</th>\n",
       "    </tr>\n",
       "  </thead>\n",
       "  <tbody>\n",
       "    <tr>\n",
       "      <th>955</th>\n",
       "      <td>FY1150</td>\n",
       "      <td>0</td>\n",
       "      <td>34</td>\n",
       "      <td>0.0</td>\n",
       "    </tr>\n",
       "    <tr>\n",
       "      <th>1079</th>\n",
       "      <td>FY3007</td>\n",
       "      <td>0</td>\n",
       "      <td>13</td>\n",
       "      <td>0.0</td>\n",
       "    </tr>\n",
       "    <tr>\n",
       "      <th>1080</th>\n",
       "      <td>FY3009</td>\n",
       "      <td>0</td>\n",
       "      <td>23</td>\n",
       "      <td>0.0</td>\n",
       "    </tr>\n",
       "    <tr>\n",
       "      <th>1081</th>\n",
       "      <td>FY3011</td>\n",
       "      <td>0</td>\n",
       "      <td>23</td>\n",
       "      <td>0.0</td>\n",
       "    </tr>\n",
       "    <tr>\n",
       "      <th>1082</th>\n",
       "      <td>FY3013</td>\n",
       "      <td>0</td>\n",
       "      <td>23</td>\n",
       "      <td>0.0</td>\n",
       "    </tr>\n",
       "  </tbody>\n",
       "</table>\n",
       "</div>"
      ],
      "text/plain": [
       "      number  cnt_delay  obs_delay  %_delay\n",
       "955   FY1150          0         34      0.0\n",
       "1079  FY3007          0         13      0.0\n",
       "1080  FY3009          0         23      0.0\n",
       "1081  FY3011          0         23      0.0\n",
       "1082  FY3013          0         23      0.0"
      ]
     },
     "execution_count": 47,
     "metadata": {},
     "output_type": "execute_result"
    }
   ],
   "source": [
    "delay_bys[\"number\"].head()"
   ]
  },
  {
   "cell_type": "markdown",
   "metadata": {},
   "source": [
    "## Linear Regression"
   ]
  },
  {
   "cell_type": "code",
   "execution_count": 48,
   "metadata": {
    "collapsed": true
   },
   "outputs": [],
   "source": [
    "from sklearn.linear_model import LinearRegression, LogisticRegression\n",
    "from sklearn.metrics import r2_score\n",
    "\n",
    "import statsmodels.api as sm"
   ]
  },
  {
   "cell_type": "markdown",
   "metadata": {},
   "source": [
    "#### Univariate Linear Regression"
   ]
  },
  {
   "cell_type": "markdown",
   "metadata": {},
   "source": [
    "For the purpose of creating the univariate linear regression, I used the delay as the dependent variable and distance as the independent variable"
   ]
  },
  {
   "cell_type": "code",
   "execution_count": 49,
   "metadata": {},
   "outputs": [
    {
     "name": "stdout",
     "output_type": "stream",
     "text": [
      "The linear model is: Y = 5.3366 + 0.00061125X\n"
     ]
    }
   ],
   "source": [
    "X = df[\"distance\"].values.reshape(-1,1)\n",
    "y = df[\"delay\"].values.reshape(-1,1)\n",
    "\n",
    "reg = LinearRegression()\n",
    "reg.fit(X, y)\n",
    "print(\"The linear model is: Y = {:.5} + {:.5}X\".format(reg.intercept_[0], reg.coef_[0][0]))"
   ]
  },
  {
   "cell_type": "code",
   "execution_count": 52,
   "metadata": {},
   "outputs": [
    {
     "data": {
      "image/png": "[encoded data removed]",
      "text/plain": [
       "<Figure size 1152x576 with 1 Axes>"
      ]
     },
     "metadata": {},
     "output_type": "display_data"
    }
   ],
   "source": [
    "predictions = reg.predict(X)\n",
    "\n",
    "plt.figure(figsize=(16, 8))\n",
    "plt.scatter(\n",
    "    df['distance'],\n",
    "    df['delay'],\n",
    "    c='black'\n",
    ")\n",
    "plt.plot(\n",
    "    df['distance'],\n",
    "    predictions,\n",
    "    c='blue',\n",
    "    linewidth=2\n",
    ")\n",
    "plt.xlabel(\"Distance between two airports\")\n",
    "plt.ylabel(\"Delay\")\n",
    "plt.show()"
   ]
  },
  {
   "cell_type": "code",
   "execution_count": 63,
   "metadata": {
    "collapsed": true
   },
   "outputs": [],
   "source": [
    "from sklearn.metrics import r2_score, mean_squared_error, confusion_matrix, f1_score, auc"
   ]
  },
  {
   "cell_type": "code",
   "execution_count": 54,
   "metadata": {},
   "outputs": [
    {
     "name": "stdout",
     "output_type": "stream",
     "text": [
      "The R2 Score for the Univariate Linear Regression model is 0.014227336669757173 and the mean-squared error is 89.30783627849854\n"
     ]
    }
   ],
   "source": [
    "r2 = r2_score(y, predictions)\n",
    "mse = mean_squared_error(y, predictions)\n",
    "\n",
    "print(f\"The R2 Score for the Univariate Linear Regression model is {r2} and the mean-squared error is {mse}\")"
   ]
  },
  {
   "cell_type": "markdown",
   "metadata": {},
   "source": [
    "#### Multivariate Linear Regression"
   ]
  },
  {
   "cell_type": "code",
   "execution_count": 55,
   "metadata": {},
   "outputs": [
    {
     "name": "stdout",
     "output_type": "stream",
     "text": [
      "The linear model is: Y = 5.6361 + 0.00061129X1 -0.41718X2  -0.86757X3\n"
     ]
    }
   ],
   "source": [
    "X = df[[\"distance\", \"scheduled_departure_weekend_flag\", \"scheduled_departure_holiday_flag\"]]\n",
    "y = df[\"delay\"].values.reshape(-1,1)\n",
    "\n",
    "reg = LinearRegression()\n",
    "reg.fit(X, y)\n",
    "print(\"The linear model is: Y = {:.5} + {:.5}X1 {:.5}X2  {:.5}X3\".format(reg.intercept_[0], reg.coef_[0][0], reg.coef_[0][1], reg.coef_[0][2]))"
   ]
  },
  {
   "cell_type": "code",
   "execution_count": 56,
   "metadata": {
    "collapsed": true
   },
   "outputs": [],
   "source": [
    "predictions = reg.predict(X)"
   ]
  },
  {
   "cell_type": "code",
   "execution_count": 57,
   "metadata": {},
   "outputs": [
    {
     "name": "stdout",
     "output_type": "stream",
     "text": [
      "The R2 Score for the Univariate Linear Regression model is 0.01593958707018206 and the mean-squared error is 89.15271189321447\n"
     ]
    }
   ],
   "source": [
    "r2 = r2_score(y, predictions)\n",
    "mse = mean_squared_error(y, predictions)\n",
    "\n",
    "print(f\"The R2 Score for the Univariate Linear Regression model is {r2} and the mean-squared error is {mse}\")"
   ]
  },
  {
   "cell_type": "markdown",
   "metadata": {},
   "source": [
    "### Logistic Regression"
   ]
  },
  {
   "cell_type": "code",
   "execution_count": 68,
   "metadata": {
    "collapsed": true
   },
   "outputs": [],
   "source": [
    "X = df[\"distance\"].values.reshape(-1,1)\n",
    "y = df[\"flag_delay\"].values.reshape(-1,1)"
   ]
  },
  {
   "cell_type": "code",
   "execution_count": 69,
   "metadata": {
    "collapsed": true
   },
   "outputs": [],
   "source": [
    "X_train, X_val, y_train, y_val = train_test_split(X, y, random_state=42)"
   ]
  },
  {
   "cell_type": "code",
   "execution_count": 70,
   "metadata": {},
   "outputs": [
    {
     "data": {
      "text/plain": [
       "LogisticRegression(C=1.0, class_weight=None, dual=False, fit_intercept=True,\n",
       "          intercept_scaling=1, max_iter=100, multi_class='ovr', n_jobs=1,\n",
       "          penalty='l2', random_state=None, solver='liblinear', tol=0.0001,\n",
       "          verbose=0, warm_start=False)"
      ]
     },
     "execution_count": 70,
     "metadata": {},
     "output_type": "execute_result"
    }
   ],
   "source": [
    "lr = LogisticRegression()\n",
    "lr.fit(X_train, y_train)"
   ]
  },
  {
   "cell_type": "code",
   "execution_count": 71,
   "metadata": {
    "collapsed": true
   },
   "outputs": [],
   "source": [
    "y_pred = lr.predict(X_val)"
   ]
  },
  {
   "cell_type": "markdown",
   "metadata": {},
   "source": [
    "The confusion matrix, AUC and F1Score for the logistic regression model"
   ]
  },
  {
   "cell_type": "code",
   "execution_count": 75,
   "metadata": {},
   "outputs": [
    {
     "name": "stdout",
     "output_type": "stream",
     "text": [
      "The confusion matrix is as follow [[11920  1733]\n",
      " [ 8853  3244]]\n",
      "The F1 Score is 0.3799929717699427\n"
     ]
    }
   ],
   "source": [
    "print(f\"The confusion matrix is as follow {confusion_matrix(y_val, y_pred)}\")\n",
    "print(f\"The F1 Score is {f1_score(y_val, y_pred)}\")"
   ]
  },
  {
   "cell_type": "code",
   "execution_count": 78,
   "metadata": {
    "collapsed": true
   },
   "outputs": [],
   "source": [
    "from scipy.special import expit\n",
    "\n",
    "df = pd.DataFrame({'X': X_val[:,0], 'y': y_val})\n",
    "df = df.sort_values(by='X')\n",
    "\n",
    "sigmoid_function = expit(df['X'] * lr.coef_[0][0] + lr.intercept_[0]).ravel()\n",
    "plt.figure(figsize=(16, 8))\n",
    "\n",
    "plt.plot(df['X'], sigmoid_function)\n",
    "plt.scatter(df['X'], df['y'], c=df['y'])\n",
    "plt.show()"
   ]
  },
  {
   "cell_type": "markdown",
   "metadata": {},
   "source": [
    "#### Decision Tree"
   ]
  },
  {
   "cell_type": "code",
   "execution_count": 79,
   "metadata": {
    "collapsed": true
   },
   "outputs": [],
   "source": [
    "from sklearn.tree import DecisionTreeClassifier\n",
    "from sklearn.tree import export_graphviz\n",
    "from sklearn.externals.six import StringIO \n"
   ]
  },
  {
   "cell_type": "code",
   "execution_count": 80,
   "metadata": {
    "collapsed": true
   },
   "outputs": [],
   "source": [
    "X = df[[\"distance\", \"scheduled_departure_weekend_flag\", \"scheduled_departure_holiday_flag\"]]\n",
    "y = df[\"delay\"]"
   ]
  },
  {
   "cell_type": "code",
   "execution_count": 81,
   "metadata": {
    "collapsed": true
   },
   "outputs": [],
   "source": [
    "X_train, X_val, y_train, y_val = train_test_split(X, y, random_state=1)"
   ]
  },
  {
   "cell_type": "code",
   "execution_count": 82,
   "metadata": {},
   "outputs": [
    {
     "data": {
      "text/plain": [
       "DecisionTreeClassifier(class_weight=None, criterion='gini', max_depth=None,\n",
       "            max_features=None, max_leaf_nodes=None,\n",
       "            min_impurity_decrease=0.0, min_impurity_split=None,\n",
       "            min_samples_leaf=1, min_samples_split=2,\n",
       "            min_weight_fraction_leaf=0.0, presort=False, random_state=None,\n",
       "            splitter='best')"
      ]
     },
     "execution_count": 82,
     "metadata": {},
     "output_type": "execute_result"
    }
   ],
   "source": [
    "dt = DecisionTreeClassifier()\n",
    "dt.fit(X_train, y_train)"
   ]
  },
  {
   "cell_type": "code",
   "execution_count": 83,
   "metadata": {
    "collapsed": true
   },
   "outputs": [],
   "source": [
    "y_pred = dt.predict(X_val)"
   ]
  },
  {
   "cell_type": "code",
   "execution_count": 85,
   "metadata": {
    "collapsed": true
   },
   "outputs": [],
   "source": [
    "print(f\"The confusion matrix is as follow {confusion_matrix(y_val, y_pred)}\")\n",
    "print(f\"The F1 Score is {f1_score(y_val, y_pred)}\")\n",
    "print(f\"The AUC is {auc(y_val, y_pred)}\")"
   ]
  }
 ],
 "metadata": {
  "kernelspec": {
   "display_name": "Python 3",
   "language": "python",
   "name": "python3"
  },
  "language_info": {
   "codemirror_mode": {
    "name": "ipython",
    "version": 3
   },
   "file_extension": ".py",
   "mimetype": "text/x-python",
   "name": "python",
   "nbconvert_exporter": "python",
   "pygments_lexer": "ipython3",
   "version": "3.6.3"
  }
 },
 "nbformat": 4,
 "nbformat_minor": 2
}
