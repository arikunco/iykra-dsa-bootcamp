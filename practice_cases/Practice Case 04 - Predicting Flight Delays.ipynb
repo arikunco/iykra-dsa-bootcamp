{
 "cells": [
  {
   "cell_type": "markdown",
   "metadata": {},
   "source": [
    "<style>\n",
    "    .zero-margin {\n",
    "        margin: 0 px;\n",
    "     }\n",
    "</style>\n",
    "\n",
    "<div class=\"zero-margin\" style=\"text-align: center;\">\n",
    "    <p style=\"text-align: center; font-size: 20px; margin-bottom: 10px;\">Practice Case 04<p>\n",
    "    <p style=\"text-align: center; font-size: 40px; margin: 0px; font-weight: bold;text-transform: uppercase;\">Machine Learning</p><br/>\n",
    "    <p  style=\"text-align: center; margin-bottom: 0px;\">Monday, November 4th 2019</p>\n",
    "     <p  style=\"text-align: center; margin-top: 0px;\">M. Haries Ramdhani</p>\n",
    "</div>"
   ]
  },
  {
   "cell_type": "markdown",
   "metadata": {},
   "source": [
    "# Data Preparation"
   ]
  },
  {
   "cell_type": "code",
   "execution_count": 1,
   "metadata": {
    "collapsed": true
   },
   "outputs": [],
   "source": [
    "import pandas as pd\n",
    "import numpy as np\n",
    "import seaborn as sns\n",
    "import matplotlib.pyplot as plt\n",
    "\n",
    "from collections import OrderedDict\n",
    "from matplotlib.gridspec import GridSpec\n",
    "from sklearn import metrics, linear_model\n",
    "from sklearn.preprocessing import PolynomialFeatures, StandardScaler\n",
    "from sklearn.preprocessing import LabelEncoder, OneHotEncoder\n",
    "from sklearn.model_selection import train_test_split, cross_val_score, cross_val_predict\n",
    "from scipy.optimize import curve_fit\n",
    "\n",
    "pd.options.display.max_columns = 50\n",
    "import warnings\n",
    "warnings.filterwarnings(\"ignore\")"
   ]
  },
  {
   "cell_type": "code",
   "execution_count": 2,
   "metadata": {
    "collapsed": true
   },
   "outputs": [],
   "source": [
    "from bs4 import BeautifulSoup as bs\n",
    "import requests\n",
    "import re\n",
    "import time"
   ]
  },
  {
   "cell_type": "code",
   "execution_count": 3,
   "metadata": {
    "collapsed": true
   },
   "outputs": [],
   "source": [
    "df = pd.read_csv(\"../data/flight/training_dataset.csv\")\n",
    "df_test = pd.read_csv(\"../data/flight/test_dataset.csv\")"
   ]
  },
  {
   "cell_type": "code",
   "execution_count": 4,
   "metadata": {
    "collapsed": true
   },
   "outputs": [],
   "source": [
    "# Flag the test and train data so it can be easily distinguished in the future\n",
    "df_test[\"flag_test\"] = 1\n",
    "df[\"flag_test\"] = 0"
   ]
  },
  {
   "cell_type": "code",
   "execution_count": 5,
   "metadata": {
    "collapsed": true
   },
   "outputs": [],
   "source": [
    "df = df.append(df_test)"
   ]
  },
  {
   "cell_type": "code",
   "execution_count": 6,
   "metadata": {},
   "outputs": [
    {
     "data": {
      "text/html": [
       "<div>\n",
       "<style scoped>\n",
       "    .dataframe tbody tr th:only-of-type {\n",
       "        vertical-align: middle;\n",
       "    }\n",
       "\n",
       "    .dataframe tbody tr th {\n",
       "        vertical-align: top;\n",
       "    }\n",
       "\n",
       "    .dataframe thead th {\n",
       "        text-align: right;\n",
       "    }\n",
       "</style>\n",
       "<table border=\"1\" class=\"dataframe\">\n",
       "  <thead>\n",
       "    <tr style=\"text-align: right;\">\n",
       "      <th></th>\n",
       "      <th>id</th>\n",
       "      <th>number</th>\n",
       "      <th>airline</th>\n",
       "      <th>airline_name</th>\n",
       "      <th>scheduled_departure_time</th>\n",
       "      <th>scheduled_arrival_time</th>\n",
       "      <th>departure_airport_city</th>\n",
       "      <th>departure_airport_code</th>\n",
       "      <th>departure_airport_country</th>\n",
       "      <th>departure_airport_gate</th>\n",
       "      <th>departure_airport_name</th>\n",
       "      <th>departure_airport_region</th>\n",
       "      <th>departure_airport_terminal</th>\n",
       "      <th>departure_airport_timezone</th>\n",
       "      <th>arrival_airport_city</th>\n",
       "      <th>arrival_airport_code</th>\n",
       "      <th>arrival_airport_country</th>\n",
       "      <th>arrival_airport_gate</th>\n",
       "      <th>arrival_airport_name</th>\n",
       "      <th>arrival_airport_region</th>\n",
       "      <th>arrival_airport_terminal</th>\n",
       "      <th>arrival_airport_timezone</th>\n",
       "      <th>flight_equipment_iata</th>\n",
       "      <th>flight_equipment_name</th>\n",
       "      <th>flight_duration</th>\n",
       "      <th>delay</th>\n",
       "      <th>flag_test</th>\n",
       "    </tr>\n",
       "  </thead>\n",
       "  <tbody>\n",
       "    <tr>\n",
       "      <th>0</th>\n",
       "      <td>1</td>\n",
       "      <td>AK6430</td>\n",
       "      <td>AK</td>\n",
       "      <td>AirAsia</td>\n",
       "      <td>2018-10-05 22:00:00</td>\n",
       "      <td>2018-10-05 23:05:00</td>\n",
       "      <td>Kuala Lumpur</td>\n",
       "      <td>KUL</td>\n",
       "      <td>MY</td>\n",
       "      <td>J15</td>\n",
       "      <td>Kuala Lumpur International Airport</td>\n",
       "      <td>Asia</td>\n",
       "      <td>2</td>\n",
       "      <td>Asia/Kuala_Lumpur</td>\n",
       "      <td>Kota Bharu</td>\n",
       "      <td>KBR</td>\n",
       "      <td>MY</td>\n",
       "      <td>2</td>\n",
       "      <td>Sultan Ismail Petra Airport</td>\n",
       "      <td>Asia</td>\n",
       "      <td>NaN</td>\n",
       "      <td>Asia/Kuala_Lumpur</td>\n",
       "      <td>32S</td>\n",
       "      <td>Airbus A318 / A319 / A320 / A321</td>\n",
       "      <td>58m</td>\n",
       "      <td>2</td>\n",
       "      <td>0</td>\n",
       "    </tr>\n",
       "    <tr>\n",
       "      <th>1</th>\n",
       "      <td>2</td>\n",
       "      <td>ID*7164</td>\n",
       "      <td>ID*</td>\n",
       "      <td>Batik Air</td>\n",
       "      <td>2018-10-05 22:00:00</td>\n",
       "      <td>2018-10-05 23:55:00</td>\n",
       "      <td>Kuala Lumpur</td>\n",
       "      <td>KUL</td>\n",
       "      <td>MY</td>\n",
       "      <td>C33</td>\n",
       "      <td>Kuala Lumpur International Airport</td>\n",
       "      <td>Asia</td>\n",
       "      <td>M</td>\n",
       "      <td>Asia/Kuala_Lumpur</td>\n",
       "      <td>Jakarta</td>\n",
       "      <td>CGK</td>\n",
       "      <td>ID</td>\n",
       "      <td>5</td>\n",
       "      <td>Soekarno-Hatta International Airport</td>\n",
       "      <td>Asia</td>\n",
       "      <td>2</td>\n",
       "      <td>Asia/Jakarta</td>\n",
       "      <td>32S</td>\n",
       "      <td>Airbus A318 / A319 / A320 / A321</td>\n",
       "      <td>1h 55m</td>\n",
       "      <td>8</td>\n",
       "      <td>0</td>\n",
       "    </tr>\n",
       "    <tr>\n",
       "      <th>2</th>\n",
       "      <td>3</td>\n",
       "      <td>MXD9116</td>\n",
       "      <td>MXD</td>\n",
       "      <td>Malindo Air</td>\n",
       "      <td>2018-10-05 22:00:00</td>\n",
       "      <td>2018-10-05 23:55:00</td>\n",
       "      <td>Kuala Lumpur</td>\n",
       "      <td>KUL</td>\n",
       "      <td>MY</td>\n",
       "      <td>C33</td>\n",
       "      <td>Kuala Lumpur International Airport</td>\n",
       "      <td>Asia</td>\n",
       "      <td>M</td>\n",
       "      <td>Asia/Kuala_Lumpur</td>\n",
       "      <td>Jakarta</td>\n",
       "      <td>CGK</td>\n",
       "      <td>ID</td>\n",
       "      <td>5</td>\n",
       "      <td>Soekarno-Hatta International Airport</td>\n",
       "      <td>Asia</td>\n",
       "      <td>2</td>\n",
       "      <td>Asia/Jakarta</td>\n",
       "      <td>32S</td>\n",
       "      <td>Airbus A318 / A319 / A320 / A321</td>\n",
       "      <td>1h 55m</td>\n",
       "      <td>8</td>\n",
       "      <td>0</td>\n",
       "    </tr>\n",
       "    <tr>\n",
       "      <th>3</th>\n",
       "      <td>4</td>\n",
       "      <td>AK5198</td>\n",
       "      <td>AK</td>\n",
       "      <td>AirAsia</td>\n",
       "      <td>2018-10-05 22:05:00</td>\n",
       "      <td>2018-10-06 01:00:00</td>\n",
       "      <td>Kuala Lumpur</td>\n",
       "      <td>KUL</td>\n",
       "      <td>MY</td>\n",
       "      <td>J9</td>\n",
       "      <td>Kuala Lumpur International Airport</td>\n",
       "      <td>Asia</td>\n",
       "      <td>2</td>\n",
       "      <td>Asia/Kuala_Lumpur</td>\n",
       "      <td>Sandakan</td>\n",
       "      <td>SDK</td>\n",
       "      <td>MY</td>\n",
       "      <td>INT</td>\n",
       "      <td>Sandakan Airport</td>\n",
       "      <td>Asia</td>\n",
       "      <td>NaN</td>\n",
       "      <td>Asia/Kuala_Lumpur</td>\n",
       "      <td>32S</td>\n",
       "      <td>Airbus A318 / A319 / A320 / A321</td>\n",
       "      <td>2h 54m</td>\n",
       "      <td>0</td>\n",
       "      <td>0</td>\n",
       "    </tr>\n",
       "    <tr>\n",
       "      <th>4</th>\n",
       "      <td>5</td>\n",
       "      <td>AK516</td>\n",
       "      <td>AK</td>\n",
       "      <td>AirAsia</td>\n",
       "      <td>2018-10-05 22:10:00</td>\n",
       "      <td>2018-10-06 01:25:00</td>\n",
       "      <td>Kuala Lumpur</td>\n",
       "      <td>KUL</td>\n",
       "      <td>MY</td>\n",
       "      <td>P1</td>\n",
       "      <td>Kuala Lumpur International Airport</td>\n",
       "      <td>Asia</td>\n",
       "      <td>2</td>\n",
       "      <td>Asia/Kuala_Lumpur</td>\n",
       "      <td>Hanoi</td>\n",
       "      <td>HAN</td>\n",
       "      <td>VN</td>\n",
       "      <td>NaN</td>\n",
       "      <td>Noi Bai International Airport</td>\n",
       "      <td>Asia</td>\n",
       "      <td>T2</td>\n",
       "      <td>Asia/Ho_Chi_Minh</td>\n",
       "      <td>32S</td>\n",
       "      <td>Airbus A318 / A319 / A320 / A321</td>\n",
       "      <td>3h 17m</td>\n",
       "      <td>0</td>\n",
       "      <td>0</td>\n",
       "    </tr>\n",
       "  </tbody>\n",
       "</table>\n",
       "</div>"
      ],
      "text/plain": [
       "   id   number airline airline_name scheduled_departure_time  \\\n",
       "0   1   AK6430      AK      AirAsia      2018-10-05 22:00:00   \n",
       "1   2  ID*7164     ID*    Batik Air      2018-10-05 22:00:00   \n",
       "2   3  MXD9116     MXD  Malindo Air      2018-10-05 22:00:00   \n",
       "3   4   AK5198      AK      AirAsia      2018-10-05 22:05:00   \n",
       "4   5    AK516      AK      AirAsia      2018-10-05 22:10:00   \n",
       "\n",
       "  scheduled_arrival_time departure_airport_city departure_airport_code  \\\n",
       "0    2018-10-05 23:05:00           Kuala Lumpur                    KUL   \n",
       "1    2018-10-05 23:55:00           Kuala Lumpur                    KUL   \n",
       "2    2018-10-05 23:55:00           Kuala Lumpur                    KUL   \n",
       "3    2018-10-06 01:00:00           Kuala Lumpur                    KUL   \n",
       "4    2018-10-06 01:25:00           Kuala Lumpur                    KUL   \n",
       "\n",
       "  departure_airport_country departure_airport_gate  \\\n",
       "0                        MY                    J15   \n",
       "1                        MY                    C33   \n",
       "2                        MY                    C33   \n",
       "3                        MY                     J9   \n",
       "4                        MY                     P1   \n",
       "\n",
       "               departure_airport_name departure_airport_region  \\\n",
       "0  Kuala Lumpur International Airport                     Asia   \n",
       "1  Kuala Lumpur International Airport                     Asia   \n",
       "2  Kuala Lumpur International Airport                     Asia   \n",
       "3  Kuala Lumpur International Airport                     Asia   \n",
       "4  Kuala Lumpur International Airport                     Asia   \n",
       "\n",
       "  departure_airport_terminal departure_airport_timezone arrival_airport_city  \\\n",
       "0                          2          Asia/Kuala_Lumpur           Kota Bharu   \n",
       "1                          M          Asia/Kuala_Lumpur              Jakarta   \n",
       "2                          M          Asia/Kuala_Lumpur              Jakarta   \n",
       "3                          2          Asia/Kuala_Lumpur             Sandakan   \n",
       "4                          2          Asia/Kuala_Lumpur                Hanoi   \n",
       "\n",
       "  arrival_airport_code arrival_airport_country arrival_airport_gate  \\\n",
       "0                  KBR                      MY                    2   \n",
       "1                  CGK                      ID                    5   \n",
       "2                  CGK                      ID                    5   \n",
       "3                  SDK                      MY                  INT   \n",
       "4                  HAN                      VN                  NaN   \n",
       "\n",
       "                   arrival_airport_name arrival_airport_region  \\\n",
       "0           Sultan Ismail Petra Airport                   Asia   \n",
       "1  Soekarno-Hatta International Airport                   Asia   \n",
       "2  Soekarno-Hatta International Airport                   Asia   \n",
       "3                      Sandakan Airport                   Asia   \n",
       "4         Noi Bai International Airport                   Asia   \n",
       "\n",
       "  arrival_airport_terminal arrival_airport_timezone flight_equipment_iata  \\\n",
       "0                      NaN        Asia/Kuala_Lumpur                   32S   \n",
       "1                        2             Asia/Jakarta                   32S   \n",
       "2                        2             Asia/Jakarta                   32S   \n",
       "3                      NaN        Asia/Kuala_Lumpur                   32S   \n",
       "4                       T2         Asia/Ho_Chi_Minh                   32S   \n",
       "\n",
       "              flight_equipment_name flight_duration  delay  flag_test  \n",
       "0  Airbus A318 / A319 / A320 / A321             58m      2          0  \n",
       "1  Airbus A318 / A319 / A320 / A321          1h 55m      8          0  \n",
       "2  Airbus A318 / A319 / A320 / A321          1h 55m      8          0  \n",
       "3  Airbus A318 / A319 / A320 / A321          2h 54m      0          0  \n",
       "4  Airbus A318 / A319 / A320 / A321          3h 17m      0          0  "
      ]
     },
     "execution_count": 6,
     "metadata": {},
     "output_type": "execute_result"
    }
   ],
   "source": [
    "# Preview of the data frame\n",
    "df.head()"
   ]
  },
  {
   "cell_type": "code",
   "execution_count": 7,
   "metadata": {
    "scrolled": false
   },
   "outputs": [
    {
     "data": {
      "text/html": [
       "<div>\n",
       "<style scoped>\n",
       "    .dataframe tbody tr th:only-of-type {\n",
       "        vertical-align: middle;\n",
       "    }\n",
       "\n",
       "    .dataframe tbody tr th {\n",
       "        vertical-align: top;\n",
       "    }\n",
       "\n",
       "    .dataframe thead th {\n",
       "        text-align: right;\n",
       "    }\n",
       "</style>\n",
       "<table border=\"1\" class=\"dataframe\">\n",
       "  <thead>\n",
       "    <tr style=\"text-align: right;\">\n",
       "      <th></th>\n",
       "      <th>data_type</th>\n",
       "      <th>#_unique</th>\n",
       "      <th>#_nan</th>\n",
       "      <th>%_nan</th>\n",
       "    </tr>\n",
       "  </thead>\n",
       "  <tbody>\n",
       "    <tr>\n",
       "      <th>id</th>\n",
       "      <td>int64</td>\n",
       "      <td>152625</td>\n",
       "      <td>0</td>\n",
       "      <td>0.000000</td>\n",
       "    </tr>\n",
       "    <tr>\n",
       "      <th>scheduled_arrival_time</th>\n",
       "      <td>object</td>\n",
       "      <td>19159</td>\n",
       "      <td>7</td>\n",
       "      <td>0.004586</td>\n",
       "    </tr>\n",
       "    <tr>\n",
       "      <th>scheduled_departure_time</th>\n",
       "      <td>object</td>\n",
       "      <td>17499</td>\n",
       "      <td>0</td>\n",
       "      <td>0.000000</td>\n",
       "    </tr>\n",
       "    <tr>\n",
       "      <th>number</th>\n",
       "      <td>object</td>\n",
       "      <td>2590</td>\n",
       "      <td>0</td>\n",
       "      <td>0.000000</td>\n",
       "    </tr>\n",
       "    <tr>\n",
       "      <th>flight_duration</th>\n",
       "      <td>object</td>\n",
       "      <td>723</td>\n",
       "      <td>5</td>\n",
       "      <td>0.003276</td>\n",
       "    </tr>\n",
       "    <tr>\n",
       "      <th>delay</th>\n",
       "      <td>int64</td>\n",
       "      <td>379</td>\n",
       "      <td>0</td>\n",
       "      <td>0.000000</td>\n",
       "    </tr>\n",
       "    <tr>\n",
       "      <th>arrival_airport_gate</th>\n",
       "      <td>object</td>\n",
       "      <td>284</td>\n",
       "      <td>137275</td>\n",
       "      <td>89.942670</td>\n",
       "    </tr>\n",
       "    <tr>\n",
       "      <th>departure_airport_gate</th>\n",
       "      <td>object</td>\n",
       "      <td>189</td>\n",
       "      <td>60619</td>\n",
       "      <td>39.717609</td>\n",
       "    </tr>\n",
       "    <tr>\n",
       "      <th>arrival_airport_name</th>\n",
       "      <td>object</td>\n",
       "      <td>157</td>\n",
       "      <td>0</td>\n",
       "      <td>0.000000</td>\n",
       "    </tr>\n",
       "    <tr>\n",
       "      <th>arrival_airport_code</th>\n",
       "      <td>object</td>\n",
       "      <td>157</td>\n",
       "      <td>0</td>\n",
       "      <td>0.000000</td>\n",
       "    </tr>\n",
       "    <tr>\n",
       "      <th>arrival_airport_city</th>\n",
       "      <td>object</td>\n",
       "      <td>152</td>\n",
       "      <td>0</td>\n",
       "      <td>0.000000</td>\n",
       "    </tr>\n",
       "    <tr>\n",
       "      <th>airline</th>\n",
       "      <td>object</td>\n",
       "      <td>105</td>\n",
       "      <td>0</td>\n",
       "      <td>0.000000</td>\n",
       "    </tr>\n",
       "    <tr>\n",
       "      <th>airline_name</th>\n",
       "      <td>object</td>\n",
       "      <td>105</td>\n",
       "      <td>0</td>\n",
       "      <td>0.000000</td>\n",
       "    </tr>\n",
       "    <tr>\n",
       "      <th>flight_equipment_name</th>\n",
       "      <td>object</td>\n",
       "      <td>49</td>\n",
       "      <td>22</td>\n",
       "      <td>0.014414</td>\n",
       "    </tr>\n",
       "    <tr>\n",
       "      <th>flight_equipment_iata</th>\n",
       "      <td>object</td>\n",
       "      <td>49</td>\n",
       "      <td>22</td>\n",
       "      <td>0.014414</td>\n",
       "    </tr>\n",
       "    <tr>\n",
       "      <th>arrival_airport_timezone</th>\n",
       "      <td>object</td>\n",
       "      <td>43</td>\n",
       "      <td>0</td>\n",
       "      <td>0.000000</td>\n",
       "    </tr>\n",
       "    <tr>\n",
       "      <th>arrival_airport_country</th>\n",
       "      <td>object</td>\n",
       "      <td>39</td>\n",
       "      <td>0</td>\n",
       "      <td>0.000000</td>\n",
       "    </tr>\n",
       "    <tr>\n",
       "      <th>departure_airport_name</th>\n",
       "      <td>object</td>\n",
       "      <td>17</td>\n",
       "      <td>0</td>\n",
       "      <td>0.000000</td>\n",
       "    </tr>\n",
       "    <tr>\n",
       "      <th>departure_airport_code</th>\n",
       "      <td>object</td>\n",
       "      <td>17</td>\n",
       "      <td>0</td>\n",
       "      <td>0.000000</td>\n",
       "    </tr>\n",
       "    <tr>\n",
       "      <th>arrival_airport_terminal</th>\n",
       "      <td>object</td>\n",
       "      <td>17</td>\n",
       "      <td>79410</td>\n",
       "      <td>52.029484</td>\n",
       "    </tr>\n",
       "    <tr>\n",
       "      <th>departure_airport_city</th>\n",
       "      <td>object</td>\n",
       "      <td>16</td>\n",
       "      <td>0</td>\n",
       "      <td>0.000000</td>\n",
       "    </tr>\n",
       "    <tr>\n",
       "      <th>departure_airport_terminal</th>\n",
       "      <td>object</td>\n",
       "      <td>6</td>\n",
       "      <td>56588</td>\n",
       "      <td>37.076495</td>\n",
       "    </tr>\n",
       "    <tr>\n",
       "      <th>arrival_airport_region</th>\n",
       "      <td>object</td>\n",
       "      <td>4</td>\n",
       "      <td>0</td>\n",
       "      <td>0.000000</td>\n",
       "    </tr>\n",
       "    <tr>\n",
       "      <th>flag_test</th>\n",
       "      <td>int64</td>\n",
       "      <td>2</td>\n",
       "      <td>0</td>\n",
       "      <td>0.000000</td>\n",
       "    </tr>\n",
       "    <tr>\n",
       "      <th>departure_airport_region</th>\n",
       "      <td>object</td>\n",
       "      <td>1</td>\n",
       "      <td>0</td>\n",
       "      <td>0.000000</td>\n",
       "    </tr>\n",
       "    <tr>\n",
       "      <th>departure_airport_country</th>\n",
       "      <td>object</td>\n",
       "      <td>1</td>\n",
       "      <td>0</td>\n",
       "      <td>0.000000</td>\n",
       "    </tr>\n",
       "    <tr>\n",
       "      <th>departure_airport_timezone</th>\n",
       "      <td>object</td>\n",
       "      <td>1</td>\n",
       "      <td>0</td>\n",
       "      <td>0.000000</td>\n",
       "    </tr>\n",
       "  </tbody>\n",
       "</table>\n",
       "</div>"
      ],
      "text/plain": [
       "                           data_type  #_unique   #_nan      %_nan\n",
       "id                             int64    152625       0   0.000000\n",
       "scheduled_arrival_time        object     19159       7   0.004586\n",
       "scheduled_departure_time      object     17499       0   0.000000\n",
       "number                        object      2590       0   0.000000\n",
       "flight_duration               object       723       5   0.003276\n",
       "delay                          int64       379       0   0.000000\n",
       "arrival_airport_gate          object       284  137275  89.942670\n",
       "departure_airport_gate        object       189   60619  39.717609\n",
       "arrival_airport_name          object       157       0   0.000000\n",
       "arrival_airport_code          object       157       0   0.000000\n",
       "arrival_airport_city          object       152       0   0.000000\n",
       "airline                       object       105       0   0.000000\n",
       "airline_name                  object       105       0   0.000000\n",
       "flight_equipment_name         object        49      22   0.014414\n",
       "flight_equipment_iata         object        49      22   0.014414\n",
       "arrival_airport_timezone      object        43       0   0.000000\n",
       "arrival_airport_country       object        39       0   0.000000\n",
       "departure_airport_name        object        17       0   0.000000\n",
       "departure_airport_code        object        17       0   0.000000\n",
       "arrival_airport_terminal      object        17   79410  52.029484\n",
       "departure_airport_city        object        16       0   0.000000\n",
       "departure_airport_terminal    object         6   56588  37.076495\n",
       "arrival_airport_region        object         4       0   0.000000\n",
       "flag_test                      int64         2       0   0.000000\n",
       "departure_airport_region      object         1       0   0.000000\n",
       "departure_airport_country     object         1       0   0.000000\n",
       "departure_airport_timezone    object         1       0   0.000000"
      ]
     },
     "execution_count": 7,
     "metadata": {},
     "output_type": "execute_result"
    }
   ],
   "source": [
    "# gives some infos on columns types and number of null values\n",
    "df_info = pd.DataFrame(df.dtypes).rename(columns={0:'data_type'})\n",
    "df_info[\"#_unique\"] = df.nunique()\n",
    "df_info[\"#_nan\"] = df.isnull().sum().astype(int)\n",
    "df_info[\"%_nan\"] = df.isnull().sum()/df.shape[0]*100\n",
    "\n",
    "df_info.sort_values(by=\"#_unique\", ascending=False)"
   ]
  },
  {
   "cell_type": "markdown",
   "metadata": {},
   "source": [
    "Looking at the DataFrame above we got these insights:\n",
    "1. `scheduled_arrival_time` and `scheduled_departure_time` have to be converted into time format\n",
    "2. `arrival_airport_gate`, `arrival_airport_terminal`, `departure_airport_gate`, `departure_airport_terminal` contain the most missing values, this can be caused by the fact that the passengers aren't tracked based on the gates and terminals. Percentages of their missing values are very high (would be nice if it can be dropped).\n",
    "3. `flight_duration` is still in the object (string) type. It needs to be converted to `int`, in this case to minutes\n",
    "4. `departure_airport_region`, `departure_airport_country` and `departure_airport_timezone` only contain 1 unique value, so we can safely drop them\n",
    "5. We can also scrape the flight distance data from another website to get the distance between the two airports"
   ]
  },
  {
   "cell_type": "markdown",
   "metadata": {},
   "source": [
    "## Feature Engineering"
   ]
  },
  {
   "cell_type": "markdown",
   "metadata": {},
   "source": [
    "### Get Scheduled Flight Duration\n",
    "Get the scheduled flight duration from the ticket. This is calculated by substracting the `scheduled_arrival_date` and `scheduled_departure_date`<br/><br/> \n",
    "**ASSUMPTION**: `scheduled_flight_duration` might have something to do with the delay because it can be used to calculate the velocity of the airplane by dividing the `distance` with the `scheduled_flight_duration`, the slower the velocity of the airplane compared to the normal ones may cause the flight come later than its supposed to.\n"
   ]
  },
  {
   "cell_type": "markdown",
   "metadata": {},
   "source": [
    "#### Convert the time data to time objects"
   ]
  },
  {
   "cell_type": "code",
   "execution_count": 8,
   "metadata": {
    "collapsed": true
   },
   "outputs": [],
   "source": [
    "df[\"scheduled_departure_time\"] = pd.to_datetime(df[\"scheduled_departure_time\"]) \n",
    "df[\"scheduled_arrival_time\"] = pd.to_datetime(df[\"scheduled_arrival_time\"])"
   ]
  },
  {
   "cell_type": "code",
   "execution_count": 9,
   "metadata": {
    "collapsed": true
   },
   "outputs": [],
   "source": [
    "df[\"scheduled_flight_duration\"] = df[\"scheduled_arrival_time\"] - df[\"scheduled_departure_time\"]\n",
    "df[\"scheduled_flight_duration\"] = df[\"scheduled_flight_duration\"].dt.components['hours'] * 60 + df[\"scheduled_flight_duration\"].dt.components['minutes']"
   ]
  },
  {
   "cell_type": "code",
   "execution_count": 10,
   "metadata": {},
   "outputs": [
    {
     "data": {
      "text/html": [
       "<div>\n",
       "<style scoped>\n",
       "    .dataframe tbody tr th:only-of-type {\n",
       "        vertical-align: middle;\n",
       "    }\n",
       "\n",
       "    .dataframe tbody tr th {\n",
       "        vertical-align: top;\n",
       "    }\n",
       "\n",
       "    .dataframe thead th {\n",
       "        text-align: right;\n",
       "    }\n",
       "</style>\n",
       "<table border=\"1\" class=\"dataframe\">\n",
       "  <thead>\n",
       "    <tr style=\"text-align: right;\">\n",
       "      <th></th>\n",
       "      <th>id</th>\n",
       "      <th>number</th>\n",
       "      <th>airline</th>\n",
       "      <th>airline_name</th>\n",
       "      <th>scheduled_departure_time</th>\n",
       "      <th>scheduled_arrival_time</th>\n",
       "      <th>departure_airport_city</th>\n",
       "      <th>departure_airport_code</th>\n",
       "      <th>departure_airport_country</th>\n",
       "      <th>departure_airport_gate</th>\n",
       "      <th>departure_airport_name</th>\n",
       "      <th>departure_airport_region</th>\n",
       "      <th>departure_airport_terminal</th>\n",
       "      <th>departure_airport_timezone</th>\n",
       "      <th>arrival_airport_city</th>\n",
       "      <th>arrival_airport_code</th>\n",
       "      <th>arrival_airport_country</th>\n",
       "      <th>arrival_airport_gate</th>\n",
       "      <th>arrival_airport_name</th>\n",
       "      <th>arrival_airport_region</th>\n",
       "      <th>arrival_airport_terminal</th>\n",
       "      <th>arrival_airport_timezone</th>\n",
       "      <th>flight_equipment_iata</th>\n",
       "      <th>flight_equipment_name</th>\n",
       "      <th>flight_duration</th>\n",
       "      <th>delay</th>\n",
       "      <th>flag_test</th>\n",
       "      <th>scheduled_flight_duration</th>\n",
       "    </tr>\n",
       "  </thead>\n",
       "  <tbody>\n",
       "    <tr>\n",
       "      <th>0</th>\n",
       "      <td>1</td>\n",
       "      <td>AK6430</td>\n",
       "      <td>AK</td>\n",
       "      <td>AirAsia</td>\n",
       "      <td>2018-10-05 22:00:00</td>\n",
       "      <td>2018-10-05 23:05:00</td>\n",
       "      <td>Kuala Lumpur</td>\n",
       "      <td>KUL</td>\n",
       "      <td>MY</td>\n",
       "      <td>J15</td>\n",
       "      <td>Kuala Lumpur International Airport</td>\n",
       "      <td>Asia</td>\n",
       "      <td>2</td>\n",
       "      <td>Asia/Kuala_Lumpur</td>\n",
       "      <td>Kota Bharu</td>\n",
       "      <td>KBR</td>\n",
       "      <td>MY</td>\n",
       "      <td>2</td>\n",
       "      <td>Sultan Ismail Petra Airport</td>\n",
       "      <td>Asia</td>\n",
       "      <td>NaN</td>\n",
       "      <td>Asia/Kuala_Lumpur</td>\n",
       "      <td>32S</td>\n",
       "      <td>Airbus A318 / A319 / A320 / A321</td>\n",
       "      <td>58m</td>\n",
       "      <td>2</td>\n",
       "      <td>0</td>\n",
       "      <td>65.0</td>\n",
       "    </tr>\n",
       "    <tr>\n",
       "      <th>1</th>\n",
       "      <td>2</td>\n",
       "      <td>ID*7164</td>\n",
       "      <td>ID*</td>\n",
       "      <td>Batik Air</td>\n",
       "      <td>2018-10-05 22:00:00</td>\n",
       "      <td>2018-10-05 23:55:00</td>\n",
       "      <td>Kuala Lumpur</td>\n",
       "      <td>KUL</td>\n",
       "      <td>MY</td>\n",
       "      <td>C33</td>\n",
       "      <td>Kuala Lumpur International Airport</td>\n",
       "      <td>Asia</td>\n",
       "      <td>M</td>\n",
       "      <td>Asia/Kuala_Lumpur</td>\n",
       "      <td>Jakarta</td>\n",
       "      <td>CGK</td>\n",
       "      <td>ID</td>\n",
       "      <td>5</td>\n",
       "      <td>Soekarno-Hatta International Airport</td>\n",
       "      <td>Asia</td>\n",
       "      <td>2</td>\n",
       "      <td>Asia/Jakarta</td>\n",
       "      <td>32S</td>\n",
       "      <td>Airbus A318 / A319 / A320 / A321</td>\n",
       "      <td>1h 55m</td>\n",
       "      <td>8</td>\n",
       "      <td>0</td>\n",
       "      <td>115.0</td>\n",
       "    </tr>\n",
       "    <tr>\n",
       "      <th>2</th>\n",
       "      <td>3</td>\n",
       "      <td>MXD9116</td>\n",
       "      <td>MXD</td>\n",
       "      <td>Malindo Air</td>\n",
       "      <td>2018-10-05 22:00:00</td>\n",
       "      <td>2018-10-05 23:55:00</td>\n",
       "      <td>Kuala Lumpur</td>\n",
       "      <td>KUL</td>\n",
       "      <td>MY</td>\n",
       "      <td>C33</td>\n",
       "      <td>Kuala Lumpur International Airport</td>\n",
       "      <td>Asia</td>\n",
       "      <td>M</td>\n",
       "      <td>Asia/Kuala_Lumpur</td>\n",
       "      <td>Jakarta</td>\n",
       "      <td>CGK</td>\n",
       "      <td>ID</td>\n",
       "      <td>5</td>\n",
       "      <td>Soekarno-Hatta International Airport</td>\n",
       "      <td>Asia</td>\n",
       "      <td>2</td>\n",
       "      <td>Asia/Jakarta</td>\n",
       "      <td>32S</td>\n",
       "      <td>Airbus A318 / A319 / A320 / A321</td>\n",
       "      <td>1h 55m</td>\n",
       "      <td>8</td>\n",
       "      <td>0</td>\n",
       "      <td>115.0</td>\n",
       "    </tr>\n",
       "    <tr>\n",
       "      <th>3</th>\n",
       "      <td>4</td>\n",
       "      <td>AK5198</td>\n",
       "      <td>AK</td>\n",
       "      <td>AirAsia</td>\n",
       "      <td>2018-10-05 22:05:00</td>\n",
       "      <td>2018-10-06 01:00:00</td>\n",
       "      <td>Kuala Lumpur</td>\n",
       "      <td>KUL</td>\n",
       "      <td>MY</td>\n",
       "      <td>J9</td>\n",
       "      <td>Kuala Lumpur International Airport</td>\n",
       "      <td>Asia</td>\n",
       "      <td>2</td>\n",
       "      <td>Asia/Kuala_Lumpur</td>\n",
       "      <td>Sandakan</td>\n",
       "      <td>SDK</td>\n",
       "      <td>MY</td>\n",
       "      <td>INT</td>\n",
       "      <td>Sandakan Airport</td>\n",
       "      <td>Asia</td>\n",
       "      <td>NaN</td>\n",
       "      <td>Asia/Kuala_Lumpur</td>\n",
       "      <td>32S</td>\n",
       "      <td>Airbus A318 / A319 / A320 / A321</td>\n",
       "      <td>2h 54m</td>\n",
       "      <td>0</td>\n",
       "      <td>0</td>\n",
       "      <td>175.0</td>\n",
       "    </tr>\n",
       "    <tr>\n",
       "      <th>4</th>\n",
       "      <td>5</td>\n",
       "      <td>AK516</td>\n",
       "      <td>AK</td>\n",
       "      <td>AirAsia</td>\n",
       "      <td>2018-10-05 22:10:00</td>\n",
       "      <td>2018-10-06 01:25:00</td>\n",
       "      <td>Kuala Lumpur</td>\n",
       "      <td>KUL</td>\n",
       "      <td>MY</td>\n",
       "      <td>P1</td>\n",
       "      <td>Kuala Lumpur International Airport</td>\n",
       "      <td>Asia</td>\n",
       "      <td>2</td>\n",
       "      <td>Asia/Kuala_Lumpur</td>\n",
       "      <td>Hanoi</td>\n",
       "      <td>HAN</td>\n",
       "      <td>VN</td>\n",
       "      <td>NaN</td>\n",
       "      <td>Noi Bai International Airport</td>\n",
       "      <td>Asia</td>\n",
       "      <td>T2</td>\n",
       "      <td>Asia/Ho_Chi_Minh</td>\n",
       "      <td>32S</td>\n",
       "      <td>Airbus A318 / A319 / A320 / A321</td>\n",
       "      <td>3h 17m</td>\n",
       "      <td>0</td>\n",
       "      <td>0</td>\n",
       "      <td>195.0</td>\n",
       "    </tr>\n",
       "  </tbody>\n",
       "</table>\n",
       "</div>"
      ],
      "text/plain": [
       "   id   number airline airline_name scheduled_departure_time  \\\n",
       "0   1   AK6430      AK      AirAsia      2018-10-05 22:00:00   \n",
       "1   2  ID*7164     ID*    Batik Air      2018-10-05 22:00:00   \n",
       "2   3  MXD9116     MXD  Malindo Air      2018-10-05 22:00:00   \n",
       "3   4   AK5198      AK      AirAsia      2018-10-05 22:05:00   \n",
       "4   5    AK516      AK      AirAsia      2018-10-05 22:10:00   \n",
       "\n",
       "  scheduled_arrival_time departure_airport_city departure_airport_code  \\\n",
       "0    2018-10-05 23:05:00           Kuala Lumpur                    KUL   \n",
       "1    2018-10-05 23:55:00           Kuala Lumpur                    KUL   \n",
       "2    2018-10-05 23:55:00           Kuala Lumpur                    KUL   \n",
       "3    2018-10-06 01:00:00           Kuala Lumpur                    KUL   \n",
       "4    2018-10-06 01:25:00           Kuala Lumpur                    KUL   \n",
       "\n",
       "  departure_airport_country departure_airport_gate  \\\n",
       "0                        MY                    J15   \n",
       "1                        MY                    C33   \n",
       "2                        MY                    C33   \n",
       "3                        MY                     J9   \n",
       "4                        MY                     P1   \n",
       "\n",
       "               departure_airport_name departure_airport_region  \\\n",
       "0  Kuala Lumpur International Airport                     Asia   \n",
       "1  Kuala Lumpur International Airport                     Asia   \n",
       "2  Kuala Lumpur International Airport                     Asia   \n",
       "3  Kuala Lumpur International Airport                     Asia   \n",
       "4  Kuala Lumpur International Airport                     Asia   \n",
       "\n",
       "  departure_airport_terminal departure_airport_timezone arrival_airport_city  \\\n",
       "0                          2          Asia/Kuala_Lumpur           Kota Bharu   \n",
       "1                          M          Asia/Kuala_Lumpur              Jakarta   \n",
       "2                          M          Asia/Kuala_Lumpur              Jakarta   \n",
       "3                          2          Asia/Kuala_Lumpur             Sandakan   \n",
       "4                          2          Asia/Kuala_Lumpur                Hanoi   \n",
       "\n",
       "  arrival_airport_code arrival_airport_country arrival_airport_gate  \\\n",
       "0                  KBR                      MY                    2   \n",
       "1                  CGK                      ID                    5   \n",
       "2                  CGK                      ID                    5   \n",
       "3                  SDK                      MY                  INT   \n",
       "4                  HAN                      VN                  NaN   \n",
       "\n",
       "                   arrival_airport_name arrival_airport_region  \\\n",
       "0           Sultan Ismail Petra Airport                   Asia   \n",
       "1  Soekarno-Hatta International Airport                   Asia   \n",
       "2  Soekarno-Hatta International Airport                   Asia   \n",
       "3                      Sandakan Airport                   Asia   \n",
       "4         Noi Bai International Airport                   Asia   \n",
       "\n",
       "  arrival_airport_terminal arrival_airport_timezone flight_equipment_iata  \\\n",
       "0                      NaN        Asia/Kuala_Lumpur                   32S   \n",
       "1                        2             Asia/Jakarta                   32S   \n",
       "2                        2             Asia/Jakarta                   32S   \n",
       "3                      NaN        Asia/Kuala_Lumpur                   32S   \n",
       "4                       T2         Asia/Ho_Chi_Minh                   32S   \n",
       "\n",
       "              flight_equipment_name flight_duration  delay  flag_test  \\\n",
       "0  Airbus A318 / A319 / A320 / A321             58m      2          0   \n",
       "1  Airbus A318 / A319 / A320 / A321          1h 55m      8          0   \n",
       "2  Airbus A318 / A319 / A320 / A321          1h 55m      8          0   \n",
       "3  Airbus A318 / A319 / A320 / A321          2h 54m      0          0   \n",
       "4  Airbus A318 / A319 / A320 / A321          3h 17m      0          0   \n",
       "\n",
       "   scheduled_flight_duration  \n",
       "0                       65.0  \n",
       "1                      115.0  \n",
       "2                      115.0  \n",
       "3                      175.0  \n",
       "4                      195.0  "
      ]
     },
     "execution_count": 10,
     "metadata": {},
     "output_type": "execute_result"
    }
   ],
   "source": [
    "df.head()"
   ]
  },
  {
   "cell_type": "markdown",
   "metadata": {},
   "source": [
    "### Get Distance Between Two Airports\n",
    "Get the distance between the departure airport and arrival airport. The data of the distance between the airports is obtained from the website https://www.prokerala.com/travel/airports/distance, the data then scrapped and only the distances between he two airports were taken.<br/><br/>\n",
    "**ASSUMPTION**: As stated in the previous engineered feature, we're going to try to use the distance together with the flight duration to calculate the velocity of the airplane. *(ignoring the take off and landing time)*"
   ]
  },
  {
   "cell_type": "markdown",
   "metadata": {},
   "source": [
    "#### Get the Unique Routes\n",
    "Get only the unique routes since we don't want to perform it repeatedly -> time consuming and web scraping is already taking a long time"
   ]
  },
  {
   "cell_type": "code",
   "execution_count": 11,
   "metadata": {},
   "outputs": [
    {
     "data": {
      "text/html": [
       "<div>\n",
       "<style scoped>\n",
       "    .dataframe tbody tr th:only-of-type {\n",
       "        vertical-align: middle;\n",
       "    }\n",
       "\n",
       "    .dataframe tbody tr th {\n",
       "        vertical-align: top;\n",
       "    }\n",
       "\n",
       "    .dataframe thead th {\n",
       "        text-align: right;\n",
       "    }\n",
       "</style>\n",
       "<table border=\"1\" class=\"dataframe\">\n",
       "  <thead>\n",
       "    <tr style=\"text-align: right;\">\n",
       "      <th></th>\n",
       "      <th>departure_airport_code</th>\n",
       "      <th>arrival_airport_code</th>\n",
       "    </tr>\n",
       "  </thead>\n",
       "  <tbody>\n",
       "    <tr>\n",
       "      <th>0</th>\n",
       "      <td>KUL</td>\n",
       "      <td>KBR</td>\n",
       "    </tr>\n",
       "    <tr>\n",
       "      <th>1</th>\n",
       "      <td>KUL</td>\n",
       "      <td>CGK</td>\n",
       "    </tr>\n",
       "    <tr>\n",
       "      <th>3</th>\n",
       "      <td>KUL</td>\n",
       "      <td>SDK</td>\n",
       "    </tr>\n",
       "    <tr>\n",
       "      <th>4</th>\n",
       "      <td>KUL</td>\n",
       "      <td>HAN</td>\n",
       "    </tr>\n",
       "    <tr>\n",
       "      <th>5</th>\n",
       "      <td>KUL</td>\n",
       "      <td>AOR</td>\n",
       "    </tr>\n",
       "  </tbody>\n",
       "</table>\n",
       "</div>"
      ],
      "text/plain": [
       "  departure_airport_code arrival_airport_code\n",
       "0                    KUL                  KBR\n",
       "1                    KUL                  CGK\n",
       "3                    KUL                  SDK\n",
       "4                    KUL                  HAN\n",
       "5                    KUL                  AOR"
      ]
     },
     "execution_count": 11,
     "metadata": {},
     "output_type": "execute_result"
    }
   ],
   "source": [
    "route_df = df.drop_duplicates(subset=[\"departure_airport_code\", \"arrival_airport_code\"])[[\"departure_airport_code\", \"arrival_airport_code\"]]\n",
    "route_df.head()"
   ]
  },
  {
   "cell_type": "markdown",
   "metadata": {},
   "source": [
    "Basically what the below codes do is scraping the distance (in km) from prokerala.com using the dataframe of the unique route of the airplane."
   ]
  },
  {
   "cell_type": "code",
   "execution_count": 12,
   "metadata": {
    "collapsed": true
   },
   "outputs": [],
   "source": [
    "# flight_distances = []\n",
    "\n",
    "# for route in route_df.values:\n",
    "#     doc = f\"https://www.prokerala.com/travel/airports/distance/from-{route[0].lower()}/to-{route[1].lower()}/\"\n",
    "\n",
    "#     response = requests.get(doc, timeout = 10)\n",
    "#     soup = bs(response.content, \"html.parser\")\n",
    "\n",
    "#     content = [element.text for element in soup.find_all('div', {'class': 'tc'})]\n",
    "    \n",
    "#     # Check if content contains any values\n",
    "#     if content:\n",
    "#         flight_distance_content = content[1]\n",
    "\n",
    "#         flight_distance = re.findall(r\"(\\d+(\\.\\d+)?)\", content[1])[1][0]\n",
    "#         print(flight_distance)\n",
    "#         flight_distances.append(float(flight_distance))\n",
    "        \n",
    "#     else:\n",
    "#         flight_distances.append(np.nan)\n",
    "    \n",
    "#     time.sleep(2)"
   ]
  },
  {
   "cell_type": "markdown",
   "metadata": {},
   "source": [
    "#### Set the Value and Save it for Later Use"
   ]
  },
  {
   "cell_type": "code",
   "execution_count": 13,
   "metadata": {
    "collapsed": true
   },
   "outputs": [],
   "source": [
    "# route_df[\"distance\"] = flight_distances\n",
    "\n",
    "# route_df.to_csv(\"route_distance\", index=False)"
   ]
  },
  {
   "cell_type": "code",
   "execution_count": 14,
   "metadata": {
    "collapsed": true
   },
   "outputs": [],
   "source": [
    "route_df = pd.read_csv(\"route_distance\")"
   ]
  },
  {
   "cell_type": "code",
   "execution_count": 15,
   "metadata": {
    "collapsed": true
   },
   "outputs": [],
   "source": [
    "df = pd.merge(df, route_df,  how='left', left_on=[\"departure_airport_code\", \"arrival_airport_code\"], right_on=[\"departure_airport_code\", \"arrival_airport_code\"])"
   ]
  },
  {
   "cell_type": "markdown",
   "metadata": {},
   "source": [
    "### Convert Scheduled Flight Duration to Hour\n",
    "Get only the hour of how long the flight took place<br/>  \n",
    "**ASSUMPTION**: Taking the minutes into account is too specific -> it'd be hard for later grouping"
   ]
  },
  {
   "cell_type": "code",
   "execution_count": 16,
   "metadata": {
    "collapsed": true
   },
   "outputs": [],
   "source": [
    "df[\"scheduled_flight_duration_h\"] = df[\"scheduled_flight_duration\"].apply(lambda x: x / 60)"
   ]
  },
  {
   "cell_type": "markdown",
   "metadata": {},
   "source": [
    "### Calculate the Flight Velocity (in km/h)\n",
    "The flight velocity is calculated by dividing the flight distance with the scheduled_flight_duration"
   ]
  },
  {
   "cell_type": "code",
   "execution_count": 17,
   "metadata": {
    "collapsed": true
   },
   "outputs": [],
   "source": [
    "df[\"flight_velocity\"] = df[\"distance\"] / df[\"scheduled_flight_duration_h\"]"
   ]
  },
  {
   "cell_type": "markdown",
   "metadata": {},
   "source": [
    "### Flag Faster Flight\n",
    "The feature `flag_faster_flight` tells us whether the airplane flies faster than their counterparts. The flight is called faster if the `flight_velocity` is higher compared to any other planes which flew from the same departure airports to the same arrival airports.<br/>\n",
    "\n",
    "**ASSUMPTION**: Slower flight may be caused by the transit, if the delay happened during the transit it will eventually affect the following flight delay's probability."
   ]
  },
  {
   "cell_type": "code",
   "execution_count": 28,
   "metadata": {},
   "outputs": [],
   "source": [
    "flight_velocity_group_df = df.groupby([\"departure_airport_code\", \"arrival_airport_code\", \"flight_velocity\"]).count()[[]].reset_index()"
   ]
  },
  {
   "cell_type": "code",
   "execution_count": 35,
   "metadata": {},
   "outputs": [],
   "source": [
    "min_flight_velocity_group_df = flight_velocity_group_df.groupby([\"departure_airport_code\", \"arrival_airport_code\"]).min().reset_index().rename(columns={\"flight_velocity\": \"min_flight_velocity\"})"
   ]
  },
  {
   "cell_type": "code",
   "execution_count": 36,
   "metadata": {
    "collapsed": true
   },
   "outputs": [],
   "source": [
    "flight_velocity_group_df = pd.merge(flight_velocity_group_df, min_flight_velocity_group_df,  how='left', left_on=[\"departure_airport_code\", \"arrival_airport_code\"], right_on=[\"departure_airport_code\", \"arrival_airport_code\"])"
   ]
  },
  {
   "cell_type": "code",
   "execution_count": 42,
   "metadata": {},
   "outputs": [],
   "source": [
    "flight_velocity_group_df[\"flag_faster_flight\"] = (flight_velocity_group_df[\"flight_velocity\"] == flight_velocity_group_df[\"min_flight_velocity\"]).astype(int)"
   ]
  },
  {
   "cell_type": "code",
   "execution_count": 45,
   "metadata": {},
   "outputs": [],
   "source": [
    "flight_velocity_group_df = flight_velocity_group_df.drop(\"min_flight_velocity\", axis=1)"
   ]
  },
  {
   "cell_type": "code",
   "execution_count": 47,
   "metadata": {
    "collapsed": true
   },
   "outputs": [],
   "source": [
    "df = pd.merge(df, flight_velocity_group_df,  how='left', left_on=[\"departure_airport_code\", \"arrival_airport_code\", \"flight_velocity\"], right_on=[\"departure_airport_code\", \"arrival_airport_code\", \"flight_velocity\"])"
   ]
  },
  {
   "cell_type": "code",
   "execution_count": 48,
   "metadata": {},
   "outputs": [
    {
     "data": {
      "text/html": [
       "<div>\n",
       "<style scoped>\n",
       "    .dataframe tbody tr th:only-of-type {\n",
       "        vertical-align: middle;\n",
       "    }\n",
       "\n",
       "    .dataframe tbody tr th {\n",
       "        vertical-align: top;\n",
       "    }\n",
       "\n",
       "    .dataframe thead th {\n",
       "        text-align: right;\n",
       "    }\n",
       "</style>\n",
       "<table border=\"1\" class=\"dataframe\">\n",
       "  <thead>\n",
       "    <tr style=\"text-align: right;\">\n",
       "      <th></th>\n",
       "      <th>id</th>\n",
       "      <th>number</th>\n",
       "      <th>airline</th>\n",
       "      <th>airline_name</th>\n",
       "      <th>scheduled_departure_time</th>\n",
       "      <th>scheduled_arrival_time</th>\n",
       "      <th>departure_airport_city</th>\n",
       "      <th>departure_airport_code</th>\n",
       "      <th>departure_airport_country</th>\n",
       "      <th>departure_airport_gate</th>\n",
       "      <th>departure_airport_name</th>\n",
       "      <th>departure_airport_region</th>\n",
       "      <th>departure_airport_terminal</th>\n",
       "      <th>departure_airport_timezone</th>\n",
       "      <th>arrival_airport_city</th>\n",
       "      <th>arrival_airport_code</th>\n",
       "      <th>arrival_airport_country</th>\n",
       "      <th>arrival_airport_gate</th>\n",
       "      <th>arrival_airport_name</th>\n",
       "      <th>arrival_airport_region</th>\n",
       "      <th>arrival_airport_terminal</th>\n",
       "      <th>arrival_airport_timezone</th>\n",
       "      <th>flight_equipment_iata</th>\n",
       "      <th>flight_equipment_name</th>\n",
       "      <th>flight_duration</th>\n",
       "      <th>delay</th>\n",
       "      <th>flag_test</th>\n",
       "      <th>scheduled_flight_duration</th>\n",
       "      <th>distance</th>\n",
       "      <th>scheduled_flight_duration_h</th>\n",
       "      <th>flight_velocity</th>\n",
       "      <th>flag_faster_flight</th>\n",
       "    </tr>\n",
       "  </thead>\n",
       "  <tbody>\n",
       "    <tr>\n",
       "      <th>0</th>\n",
       "      <td>1</td>\n",
       "      <td>AK6430</td>\n",
       "      <td>AK</td>\n",
       "      <td>AirAsia</td>\n",
       "      <td>2018-10-05 22:00:00</td>\n",
       "      <td>2018-10-05 23:05:00</td>\n",
       "      <td>Kuala Lumpur</td>\n",
       "      <td>KUL</td>\n",
       "      <td>MY</td>\n",
       "      <td>J15</td>\n",
       "      <td>Kuala Lumpur International Airport</td>\n",
       "      <td>Asia</td>\n",
       "      <td>2</td>\n",
       "      <td>Asia/Kuala_Lumpur</td>\n",
       "      <td>Kota Bharu</td>\n",
       "      <td>KBR</td>\n",
       "      <td>MY</td>\n",
       "      <td>2</td>\n",
       "      <td>Sultan Ismail Petra Airport</td>\n",
       "      <td>Asia</td>\n",
       "      <td>NaN</td>\n",
       "      <td>Asia/Kuala_Lumpur</td>\n",
       "      <td>32S</td>\n",
       "      <td>Airbus A318 / A319 / A320 / A321</td>\n",
       "      <td>58m</td>\n",
       "      <td>2</td>\n",
       "      <td>0</td>\n",
       "      <td>65.0</td>\n",
       "      <td>385.98</td>\n",
       "      <td>1.083333</td>\n",
       "      <td>356.289231</td>\n",
       "      <td>0.0</td>\n",
       "    </tr>\n",
       "    <tr>\n",
       "      <th>1</th>\n",
       "      <td>2</td>\n",
       "      <td>ID*7164</td>\n",
       "      <td>ID*</td>\n",
       "      <td>Batik Air</td>\n",
       "      <td>2018-10-05 22:00:00</td>\n",
       "      <td>2018-10-05 23:55:00</td>\n",
       "      <td>Kuala Lumpur</td>\n",
       "      <td>KUL</td>\n",
       "      <td>MY</td>\n",
       "      <td>C33</td>\n",
       "      <td>Kuala Lumpur International Airport</td>\n",
       "      <td>Asia</td>\n",
       "      <td>M</td>\n",
       "      <td>Asia/Kuala_Lumpur</td>\n",
       "      <td>Jakarta</td>\n",
       "      <td>CGK</td>\n",
       "      <td>ID</td>\n",
       "      <td>5</td>\n",
       "      <td>Soekarno-Hatta International Airport</td>\n",
       "      <td>Asia</td>\n",
       "      <td>2</td>\n",
       "      <td>Asia/Jakarta</td>\n",
       "      <td>32S</td>\n",
       "      <td>Airbus A318 / A319 / A320 / A321</td>\n",
       "      <td>1h 55m</td>\n",
       "      <td>8</td>\n",
       "      <td>0</td>\n",
       "      <td>115.0</td>\n",
       "      <td>1129.47</td>\n",
       "      <td>1.916667</td>\n",
       "      <td>589.288696</td>\n",
       "      <td>0.0</td>\n",
       "    </tr>\n",
       "    <tr>\n",
       "      <th>2</th>\n",
       "      <td>3</td>\n",
       "      <td>MXD9116</td>\n",
       "      <td>MXD</td>\n",
       "      <td>Malindo Air</td>\n",
       "      <td>2018-10-05 22:00:00</td>\n",
       "      <td>2018-10-05 23:55:00</td>\n",
       "      <td>Kuala Lumpur</td>\n",
       "      <td>KUL</td>\n",
       "      <td>MY</td>\n",
       "      <td>C33</td>\n",
       "      <td>Kuala Lumpur International Airport</td>\n",
       "      <td>Asia</td>\n",
       "      <td>M</td>\n",
       "      <td>Asia/Kuala_Lumpur</td>\n",
       "      <td>Jakarta</td>\n",
       "      <td>CGK</td>\n",
       "      <td>ID</td>\n",
       "      <td>5</td>\n",
       "      <td>Soekarno-Hatta International Airport</td>\n",
       "      <td>Asia</td>\n",
       "      <td>2</td>\n",
       "      <td>Asia/Jakarta</td>\n",
       "      <td>32S</td>\n",
       "      <td>Airbus A318 / A319 / A320 / A321</td>\n",
       "      <td>1h 55m</td>\n",
       "      <td>8</td>\n",
       "      <td>0</td>\n",
       "      <td>115.0</td>\n",
       "      <td>1129.47</td>\n",
       "      <td>1.916667</td>\n",
       "      <td>589.288696</td>\n",
       "      <td>0.0</td>\n",
       "    </tr>\n",
       "    <tr>\n",
       "      <th>3</th>\n",
       "      <td>4</td>\n",
       "      <td>AK5198</td>\n",
       "      <td>AK</td>\n",
       "      <td>AirAsia</td>\n",
       "      <td>2018-10-05 22:05:00</td>\n",
       "      <td>2018-10-06 01:00:00</td>\n",
       "      <td>Kuala Lumpur</td>\n",
       "      <td>KUL</td>\n",
       "      <td>MY</td>\n",
       "      <td>J9</td>\n",
       "      <td>Kuala Lumpur International Airport</td>\n",
       "      <td>Asia</td>\n",
       "      <td>2</td>\n",
       "      <td>Asia/Kuala_Lumpur</td>\n",
       "      <td>Sandakan</td>\n",
       "      <td>SDK</td>\n",
       "      <td>MY</td>\n",
       "      <td>INT</td>\n",
       "      <td>Sandakan Airport</td>\n",
       "      <td>Asia</td>\n",
       "      <td>NaN</td>\n",
       "      <td>Asia/Kuala_Lumpur</td>\n",
       "      <td>32S</td>\n",
       "      <td>Airbus A318 / A319 / A320 / A321</td>\n",
       "      <td>2h 54m</td>\n",
       "      <td>0</td>\n",
       "      <td>0</td>\n",
       "      <td>175.0</td>\n",
       "      <td>1846.94</td>\n",
       "      <td>2.916667</td>\n",
       "      <td>633.236571</td>\n",
       "      <td>1.0</td>\n",
       "    </tr>\n",
       "    <tr>\n",
       "      <th>4</th>\n",
       "      <td>5</td>\n",
       "      <td>AK516</td>\n",
       "      <td>AK</td>\n",
       "      <td>AirAsia</td>\n",
       "      <td>2018-10-05 22:10:00</td>\n",
       "      <td>2018-10-06 01:25:00</td>\n",
       "      <td>Kuala Lumpur</td>\n",
       "      <td>KUL</td>\n",
       "      <td>MY</td>\n",
       "      <td>P1</td>\n",
       "      <td>Kuala Lumpur International Airport</td>\n",
       "      <td>Asia</td>\n",
       "      <td>2</td>\n",
       "      <td>Asia/Kuala_Lumpur</td>\n",
       "      <td>Hanoi</td>\n",
       "      <td>HAN</td>\n",
       "      <td>VN</td>\n",
       "      <td>NaN</td>\n",
       "      <td>Noi Bai International Airport</td>\n",
       "      <td>Asia</td>\n",
       "      <td>T2</td>\n",
       "      <td>Asia/Ho_Chi_Minh</td>\n",
       "      <td>32S</td>\n",
       "      <td>Airbus A318 / A319 / A320 / A321</td>\n",
       "      <td>3h 17m</td>\n",
       "      <td>0</td>\n",
       "      <td>0</td>\n",
       "      <td>195.0</td>\n",
       "      <td>2102.37</td>\n",
       "      <td>3.250000</td>\n",
       "      <td>646.883077</td>\n",
       "      <td>0.0</td>\n",
       "    </tr>\n",
       "  </tbody>\n",
       "</table>\n",
       "</div>"
      ],
      "text/plain": [
       "   id   number airline airline_name scheduled_departure_time  \\\n",
       "0   1   AK6430      AK      AirAsia      2018-10-05 22:00:00   \n",
       "1   2  ID*7164     ID*    Batik Air      2018-10-05 22:00:00   \n",
       "2   3  MXD9116     MXD  Malindo Air      2018-10-05 22:00:00   \n",
       "3   4   AK5198      AK      AirAsia      2018-10-05 22:05:00   \n",
       "4   5    AK516      AK      AirAsia      2018-10-05 22:10:00   \n",
       "\n",
       "  scheduled_arrival_time departure_airport_city departure_airport_code  \\\n",
       "0    2018-10-05 23:05:00           Kuala Lumpur                    KUL   \n",
       "1    2018-10-05 23:55:00           Kuala Lumpur                    KUL   \n",
       "2    2018-10-05 23:55:00           Kuala Lumpur                    KUL   \n",
       "3    2018-10-06 01:00:00           Kuala Lumpur                    KUL   \n",
       "4    2018-10-06 01:25:00           Kuala Lumpur                    KUL   \n",
       "\n",
       "  departure_airport_country departure_airport_gate  \\\n",
       "0                        MY                    J15   \n",
       "1                        MY                    C33   \n",
       "2                        MY                    C33   \n",
       "3                        MY                     J9   \n",
       "4                        MY                     P1   \n",
       "\n",
       "               departure_airport_name departure_airport_region  \\\n",
       "0  Kuala Lumpur International Airport                     Asia   \n",
       "1  Kuala Lumpur International Airport                     Asia   \n",
       "2  Kuala Lumpur International Airport                     Asia   \n",
       "3  Kuala Lumpur International Airport                     Asia   \n",
       "4  Kuala Lumpur International Airport                     Asia   \n",
       "\n",
       "  departure_airport_terminal departure_airport_timezone arrival_airport_city  \\\n",
       "0                          2          Asia/Kuala_Lumpur           Kota Bharu   \n",
       "1                          M          Asia/Kuala_Lumpur              Jakarta   \n",
       "2                          M          Asia/Kuala_Lumpur              Jakarta   \n",
       "3                          2          Asia/Kuala_Lumpur             Sandakan   \n",
       "4                          2          Asia/Kuala_Lumpur                Hanoi   \n",
       "\n",
       "  arrival_airport_code arrival_airport_country arrival_airport_gate  \\\n",
       "0                  KBR                      MY                    2   \n",
       "1                  CGK                      ID                    5   \n",
       "2                  CGK                      ID                    5   \n",
       "3                  SDK                      MY                  INT   \n",
       "4                  HAN                      VN                  NaN   \n",
       "\n",
       "                   arrival_airport_name arrival_airport_region  \\\n",
       "0           Sultan Ismail Petra Airport                   Asia   \n",
       "1  Soekarno-Hatta International Airport                   Asia   \n",
       "2  Soekarno-Hatta International Airport                   Asia   \n",
       "3                      Sandakan Airport                   Asia   \n",
       "4         Noi Bai International Airport                   Asia   \n",
       "\n",
       "  arrival_airport_terminal arrival_airport_timezone flight_equipment_iata  \\\n",
       "0                      NaN        Asia/Kuala_Lumpur                   32S   \n",
       "1                        2             Asia/Jakarta                   32S   \n",
       "2                        2             Asia/Jakarta                   32S   \n",
       "3                      NaN        Asia/Kuala_Lumpur                   32S   \n",
       "4                       T2         Asia/Ho_Chi_Minh                   32S   \n",
       "\n",
       "              flight_equipment_name flight_duration  delay  flag_test  \\\n",
       "0  Airbus A318 / A319 / A320 / A321             58m      2          0   \n",
       "1  Airbus A318 / A319 / A320 / A321          1h 55m      8          0   \n",
       "2  Airbus A318 / A319 / A320 / A321          1h 55m      8          0   \n",
       "3  Airbus A318 / A319 / A320 / A321          2h 54m      0          0   \n",
       "4  Airbus A318 / A319 / A320 / A321          3h 17m      0          0   \n",
       "\n",
       "   scheduled_flight_duration  distance  scheduled_flight_duration_h  \\\n",
       "0                       65.0    385.98                     1.083333   \n",
       "1                      115.0   1129.47                     1.916667   \n",
       "2                      115.0   1129.47                     1.916667   \n",
       "3                      175.0   1846.94                     2.916667   \n",
       "4                      195.0   2102.37                     3.250000   \n",
       "\n",
       "   flight_velocity  flag_faster_flight  \n",
       "0       356.289231                 0.0  \n",
       "1       589.288696                 0.0  \n",
       "2       589.288696                 0.0  \n",
       "3       633.236571                 1.0  \n",
       "4       646.883077                 0.0  "
      ]
     },
     "execution_count": 48,
     "metadata": {},
     "output_type": "execute_result"
    }
   ],
   "source": [
    "df.head()"
   ]
  },
  {
   "cell_type": "markdown",
   "metadata": {},
   "source": [
    "### Get the Day\n",
    "Get the name of the day, `Monday`, `Sunday` etc."
   ]
  },
  {
   "cell_type": "code",
   "execution_count": 50,
   "metadata": {
    "collapsed": true
   },
   "outputs": [],
   "source": [
    "df[\"scheduled_departure_day\"] = df[\"scheduled_departure_time\"].apply(lambda x: x.strftime(\"%A\"))"
   ]
  },
  {
   "cell_type": "markdown",
   "metadata": {},
   "source": [
    "### Flag Weekend\n",
    "If the `scheduled_departure_day` is weekend (`Sunday` or `Saturday`), the data point is flagged as `1`, `0` otherwise"
   ]
  },
  {
   "cell_type": "code",
   "execution_count": 51,
   "metadata": {},
   "outputs": [],
   "source": [
    "df[\"scheduled_departure_weekend_flag\"] = df[\"scheduled_departure_day\"].apply(lambda x: 1 if x in [\"Sunday\", \"Saturday\"] else 0)"
   ]
  },
  {
   "cell_type": "markdown",
   "metadata": {},
   "source": [
    "### Get the Hour"
   ]
  },
  {
   "cell_type": "code",
   "execution_count": 52,
   "metadata": {
    "collapsed": true
   },
   "outputs": [],
   "source": [
    "df[\"scheduled_departure_hour\"] = df[\"scheduled_departure_time\"].apply(lambda x : x.hour)"
   ]
  },
  {
   "cell_type": "markdown",
   "metadata": {},
   "source": [
    "### Get the Parts of the Day"
   ]
  },
  {
   "cell_type": "markdown",
   "metadata": {},
   "source": [
    "https://7esl.com/times-of-the-day/"
   ]
  },
  {
   "cell_type": "code",
   "execution_count": 53,
   "metadata": {
    "collapsed": true
   },
   "outputs": [],
   "source": [
    "def convert_to_pod(hour):\n",
    "    if hour <= 4:\n",
    "        return'Late Night'\n",
    "    elif hour <= 8:\n",
    "        return 'Early Morning'\n",
    "    elif hour <= 12:\n",
    "        return 'Morning'\n",
    "    elif hour <= 16:\n",
    "        return'Noon'\n",
    "    elif hour <= 20:\n",
    "        return 'Eve'\n",
    "    else:\n",
    "        return'Night'"
   ]
  },
  {
   "cell_type": "code",
   "execution_count": 54,
   "metadata": {
    "collapsed": true
   },
   "outputs": [],
   "source": [
    "df[\"scheduled_departure_pod\"] = df[\"scheduled_departure_hour\"].apply(convert_to_pod)"
   ]
  },
  {
   "cell_type": "markdown",
   "metadata": {},
   "source": [
    "### Flag Holiday"
   ]
  },
  {
   "cell_type": "code",
   "execution_count": 55,
   "metadata": {
    "collapsed": true
   },
   "outputs": [],
   "source": [
    "holiday_df = pd.read_csv(\"../data/flight/holiday_2018.csv\")"
   ]
  },
  {
   "cell_type": "code",
   "execution_count": 56,
   "metadata": {
    "collapsed": true
   },
   "outputs": [],
   "source": [
    "holiday_df[\"Date\"] = holiday_df[\"Date\"].str.split(\"-\").apply(lambda x: f\"{x[2]}-{x[1]}-{x[0]}\")"
   ]
  },
  {
   "cell_type": "code",
   "execution_count": 57,
   "metadata": {
    "collapsed": true
   },
   "outputs": [],
   "source": [
    "df[\"scheduled_departure_date\"] = df[\"scheduled_departure_time\"].apply(lambda x: x.strftime(\"%Y-%m-%d\"))\n",
    "\n",
    "holidays_2018 = list(holiday_df[\"Date\"])\n",
    "\n",
    "df[\"scheduled_departure_holiday_flag\"] = df[\"scheduled_departure_date\"].apply(lambda x: 1 if x in holidays_2018 else 0)"
   ]
  },
  {
   "cell_type": "markdown",
   "metadata": {},
   "source": [
    "### Flag -1 Holiday"
   ]
  },
  {
   "cell_type": "code",
   "execution_count": 58,
   "metadata": {
    "collapsed": true
   },
   "outputs": [],
   "source": [
    "holidays_2018_1 = []\n",
    "for holiday_2018 in holidays_2018:\n",
    "    if holiday_2018[5:7] in [\"10\", \"11\"]:\n",
    "        day_before = int(holiday_2018[-2:]) - 1\n",
    "        day_after = int(holiday_2018[-2:]) + 1\n",
    "        \n",
    "        if day_before // 10 == 0:\n",
    "            day_before = f\"0{day_before}\"\n",
    "        \n",
    "        if day_after // 10 == 0:\n",
    "            day_after = f\"0{day_after}\"\n",
    "        \n",
    "        date_before = f\"2018-{holiday_2018[5:7]}-{day_before}\"\n",
    "        date_after = f\"2018-{holiday_2018[ 5:7]}-{day_after}\"\n",
    "        \n",
    "        holidays_2018_1.append(date_before) \n",
    "        holidays_2018_1.append(date_after)"
   ]
  },
  {
   "cell_type": "code",
   "execution_count": 59,
   "metadata": {
    "collapsed": true
   },
   "outputs": [],
   "source": [
    "df[\"scheduled_departure_min_1_holiday_flag\"] = df[\"scheduled_departure_date\"].apply(lambda x: 1 if x in holidays_2018_1 else 0)"
   ]
  },
  {
   "cell_type": "markdown",
   "metadata": {},
   "source": [
    "### Flag Delay"
   ]
  },
  {
   "cell_type": "code",
   "execution_count": 60,
   "metadata": {
    "collapsed": true
   },
   "outputs": [],
   "source": [
    "df[\"flag_delay\"] = df[\"delay\"].apply(lambda x : 1 if x > 0 else 0)"
   ]
  },
  {
   "cell_type": "markdown",
   "metadata": {},
   "source": [
    "### Group Delay"
   ]
  },
  {
   "cell_type": "code",
   "execution_count": 61,
   "metadata": {
    "collapsed": true
   },
   "outputs": [],
   "source": [
    "def group_delay(delay):\n",
    "    if delay == 0:\n",
    "        return \"on time\"\n",
    "    elif delay < 5:\n",
    "        return \"small delay\"\n",
    "    elif delay < 45:\n",
    "        return \"medium delay\"\n",
    "    else:\n",
    "        return \"large delay\""
   ]
  },
  {
   "cell_type": "code",
   "execution_count": 62,
   "metadata": {
    "collapsed": true
   },
   "outputs": [],
   "source": [
    "df[\"delay_level\"] = df[\"delay\"].apply(group_delay)"
   ]
  },
  {
   "cell_type": "code",
   "execution_count": 63,
   "metadata": {
    "collapsed": true
   },
   "outputs": [],
   "source": [
    "top_10_airline_counts = df['airline_name'].value_counts().head(10).index"
   ]
  },
  {
   "cell_type": "code",
   "execution_count": 64,
   "metadata": {
    "scrolled": false
   },
   "outputs": [
    {
     "data": {
      "image/png": "[encoded data removed]",
      "text/plain": [
       "<Figure size 1440x1440 with 1 Axes>"
      ]
     },
     "metadata": {},
     "output_type": "display_data"
    }
   ],
   "source": [
    "fig = plt.figure(1, figsize=(20, 20))\n",
    "\n",
    "palette = ['#ff9999','#66b3ff','#99ff99','#ffcc99']\n",
    "\n",
    "ax = sns.countplot(y=\"airline_name\", hue='delay_level', palette=palette, data=df[df[\"airline_name\"].isin(top_10_airline_counts)], order = top_10_airline_counts)\n",
    "plt.show()"
   ]
  },
  {
   "cell_type": "markdown",
   "metadata": {},
   "source": [
    "### Count No. of Airplanes in a Terminal on Specific Date"
   ]
  },
  {
   "cell_type": "code",
   "execution_count": 65,
   "metadata": {
    "collapsed": true
   },
   "outputs": [],
   "source": [
    "cnt_by_airport_date_df = df.groupby([\"scheduled_departure_date\", \"departure_airport_code\"]).count()[[\"id\"]].reset_index().rename(columns={\"id\": \"cnt_by_airport_date\"})"
   ]
  },
  {
   "cell_type": "code",
   "execution_count": 66,
   "metadata": {
    "collapsed": true
   },
   "outputs": [],
   "source": [
    "df = pd.merge(df, cnt_by_airport_date_df,  how='left', left_on=[\"scheduled_departure_date\", \"departure_airport_code\"], right_on=[\"scheduled_departure_date\", \"departure_airport_code\"])"
   ]
  },
  {
   "cell_type": "code",
   "execution_count": 67,
   "metadata": {},
   "outputs": [
    {
     "data": {
      "text/html": [
       "<div>\n",
       "<style scoped>\n",
       "    .dataframe tbody tr th:only-of-type {\n",
       "        vertical-align: middle;\n",
       "    }\n",
       "\n",
       "    .dataframe tbody tr th {\n",
       "        vertical-align: top;\n",
       "    }\n",
       "\n",
       "    .dataframe thead th {\n",
       "        text-align: right;\n",
       "    }\n",
       "</style>\n",
       "<table border=\"1\" class=\"dataframe\">\n",
       "  <thead>\n",
       "    <tr style=\"text-align: right;\">\n",
       "      <th></th>\n",
       "      <th>id</th>\n",
       "      <th>number</th>\n",
       "      <th>airline</th>\n",
       "      <th>airline_name</th>\n",
       "      <th>scheduled_departure_time</th>\n",
       "      <th>scheduled_arrival_time</th>\n",
       "      <th>departure_airport_city</th>\n",
       "      <th>departure_airport_code</th>\n",
       "      <th>departure_airport_country</th>\n",
       "      <th>departure_airport_gate</th>\n",
       "      <th>departure_airport_name</th>\n",
       "      <th>departure_airport_region</th>\n",
       "      <th>departure_airport_terminal</th>\n",
       "      <th>departure_airport_timezone</th>\n",
       "      <th>arrival_airport_city</th>\n",
       "      <th>arrival_airport_code</th>\n",
       "      <th>arrival_airport_country</th>\n",
       "      <th>arrival_airport_gate</th>\n",
       "      <th>arrival_airport_name</th>\n",
       "      <th>arrival_airport_region</th>\n",
       "      <th>arrival_airport_terminal</th>\n",
       "      <th>arrival_airport_timezone</th>\n",
       "      <th>flight_equipment_iata</th>\n",
       "      <th>flight_equipment_name</th>\n",
       "      <th>flight_duration</th>\n",
       "      <th>delay</th>\n",
       "      <th>flag_test</th>\n",
       "      <th>scheduled_flight_duration</th>\n",
       "      <th>distance</th>\n",
       "      <th>scheduled_flight_duration_h</th>\n",
       "      <th>flight_velocity</th>\n",
       "      <th>flag_faster_flight</th>\n",
       "      <th>scheduled_departure_day</th>\n",
       "      <th>scheduled_departure_weekend_flag</th>\n",
       "      <th>scheduled_departure_hour</th>\n",
       "      <th>scheduled_departure_pod</th>\n",
       "      <th>scheduled_departure_date</th>\n",
       "      <th>scheduled_departure_holiday_flag</th>\n",
       "      <th>scheduled_departure_min_1_holiday_flag</th>\n",
       "      <th>flag_delay</th>\n",
       "      <th>delay_level</th>\n",
       "      <th>cnt_by_airport_date</th>\n",
       "    </tr>\n",
       "  </thead>\n",
       "  <tbody>\n",
       "    <tr>\n",
       "      <th>785</th>\n",
       "      <td>805</td>\n",
       "      <td>EY411</td>\n",
       "      <td>EY</td>\n",
       "      <td>Etihad Airways</td>\n",
       "      <td>2018-10-06 11:45:00</td>\n",
       "      <td>2018-10-06 19:00:00</td>\n",
       "      <td>Kuala Lumpur</td>\n",
       "      <td>KUL</td>\n",
       "      <td>MY</td>\n",
       "      <td>C12</td>\n",
       "      <td>Kuala Lumpur International Airport</td>\n",
       "      <td>Asia</td>\n",
       "      <td>M</td>\n",
       "      <td>Asia/Kuala_Lumpur</td>\n",
       "      <td>Abu Dhabi</td>\n",
       "      <td>AUH</td>\n",
       "      <td>AE</td>\n",
       "      <td>NaN</td>\n",
       "      <td>Abu Dhabi International Airport</td>\n",
       "      <td>Middle East</td>\n",
       "      <td>T1</td>\n",
       "      <td>Asia/Dubai</td>\n",
       "      <td>332</td>\n",
       "      <td>Airbus A330-200</td>\n",
       "      <td>7h 15m</td>\n",
       "      <td>19</td>\n",
       "      <td>0</td>\n",
       "      <td>435.0</td>\n",
       "      <td>5590.45</td>\n",
       "      <td>7.25</td>\n",
       "      <td>771.096552</td>\n",
       "      <td>0.0</td>\n",
       "      <td>Saturday</td>\n",
       "      <td>1</td>\n",
       "      <td>11</td>\n",
       "      <td>Morning</td>\n",
       "      <td>2018-10-06</td>\n",
       "      <td>1</td>\n",
       "      <td>0</td>\n",
       "      <td>1</td>\n",
       "      <td>medium delay</td>\n",
       "      <td>993</td>\n",
       "    </tr>\n",
       "  </tbody>\n",
       "</table>\n",
       "</div>"
      ],
      "text/plain": [
       "      id number airline    airline_name scheduled_departure_time  \\\n",
       "785  805  EY411      EY  Etihad Airways      2018-10-06 11:45:00   \n",
       "\n",
       "    scheduled_arrival_time departure_airport_city departure_airport_code  \\\n",
       "785    2018-10-06 19:00:00           Kuala Lumpur                    KUL   \n",
       "\n",
       "    departure_airport_country departure_airport_gate  \\\n",
       "785                        MY                    C12   \n",
       "\n",
       "                 departure_airport_name departure_airport_region  \\\n",
       "785  Kuala Lumpur International Airport                     Asia   \n",
       "\n",
       "    departure_airport_terminal departure_airport_timezone  \\\n",
       "785                          M          Asia/Kuala_Lumpur   \n",
       "\n",
       "    arrival_airport_city arrival_airport_code arrival_airport_country  \\\n",
       "785            Abu Dhabi                  AUH                      AE   \n",
       "\n",
       "    arrival_airport_gate             arrival_airport_name  \\\n",
       "785                  NaN  Abu Dhabi International Airport   \n",
       "\n",
       "    arrival_airport_region arrival_airport_terminal arrival_airport_timezone  \\\n",
       "785            Middle East                       T1               Asia/Dubai   \n",
       "\n",
       "    flight_equipment_iata flight_equipment_name flight_duration  delay  \\\n",
       "785                   332       Airbus A330-200          7h 15m     19   \n",
       "\n",
       "     flag_test  scheduled_flight_duration  distance  \\\n",
       "785          0                      435.0   5590.45   \n",
       "\n",
       "     scheduled_flight_duration_h  flight_velocity  flag_faster_flight  \\\n",
       "785                         7.25       771.096552                 0.0   \n",
       "\n",
       "    scheduled_departure_day  scheduled_departure_weekend_flag  \\\n",
       "785                Saturday                                 1   \n",
       "\n",
       "     scheduled_departure_hour scheduled_departure_pod  \\\n",
       "785                        11                 Morning   \n",
       "\n",
       "    scheduled_departure_date  scheduled_departure_holiday_flag  \\\n",
       "785               2018-10-06                                 1   \n",
       "\n",
       "     scheduled_departure_min_1_holiday_flag  flag_delay   delay_level  \\\n",
       "785                                       0           1  medium delay   \n",
       "\n",
       "     cnt_by_airport_date  \n",
       "785                  993  "
      ]
     },
     "execution_count": 67,
     "metadata": {},
     "output_type": "execute_result"
    }
   ],
   "source": [
    "df.sample()"
   ]
  },
  {
   "cell_type": "markdown",
   "metadata": {},
   "source": [
    "### Count No. of Airplanes in a Terminal on Specific Hour"
   ]
  },
  {
   "cell_type": "code",
   "execution_count": 68,
   "metadata": {
    "collapsed": true
   },
   "outputs": [],
   "source": [
    "cnt_by_airport_hour_df = df.groupby([\"departure_airport_code\", \"scheduled_departure_hour\"]).count()[[\"id\"]].reset_index().rename(columns={\"id\": \"cnt_by_airport_hour\"})"
   ]
  },
  {
   "cell_type": "code",
   "execution_count": 69,
   "metadata": {
    "collapsed": true
   },
   "outputs": [],
   "source": [
    "df = pd.merge(df, cnt_by_airport_hour_df,  how='left', left_on=[\"scheduled_departure_hour\", \"departure_airport_code\"], right_on=[\"scheduled_departure_hour\", \"departure_airport_code\"])"
   ]
  },
  {
   "cell_type": "code",
   "execution_count": 70,
   "metadata": {},
   "outputs": [
    {
     "data": {
      "text/html": [
       "<div>\n",
       "<style scoped>\n",
       "    .dataframe tbody tr th:only-of-type {\n",
       "        vertical-align: middle;\n",
       "    }\n",
       "\n",
       "    .dataframe tbody tr th {\n",
       "        vertical-align: top;\n",
       "    }\n",
       "\n",
       "    .dataframe thead th {\n",
       "        text-align: right;\n",
       "    }\n",
       "</style>\n",
       "<table border=\"1\" class=\"dataframe\">\n",
       "  <thead>\n",
       "    <tr style=\"text-align: right;\">\n",
       "      <th></th>\n",
       "      <th>id</th>\n",
       "      <th>number</th>\n",
       "      <th>airline</th>\n",
       "      <th>airline_name</th>\n",
       "      <th>scheduled_departure_time</th>\n",
       "      <th>scheduled_arrival_time</th>\n",
       "      <th>departure_airport_city</th>\n",
       "      <th>departure_airport_code</th>\n",
       "      <th>departure_airport_country</th>\n",
       "      <th>departure_airport_gate</th>\n",
       "      <th>departure_airport_name</th>\n",
       "      <th>departure_airport_region</th>\n",
       "      <th>departure_airport_terminal</th>\n",
       "      <th>departure_airport_timezone</th>\n",
       "      <th>arrival_airport_city</th>\n",
       "      <th>arrival_airport_code</th>\n",
       "      <th>arrival_airport_country</th>\n",
       "      <th>arrival_airport_gate</th>\n",
       "      <th>arrival_airport_name</th>\n",
       "      <th>arrival_airport_region</th>\n",
       "      <th>arrival_airport_terminal</th>\n",
       "      <th>arrival_airport_timezone</th>\n",
       "      <th>flight_equipment_iata</th>\n",
       "      <th>flight_equipment_name</th>\n",
       "      <th>flight_duration</th>\n",
       "      <th>delay</th>\n",
       "      <th>flag_test</th>\n",
       "      <th>scheduled_flight_duration</th>\n",
       "      <th>distance</th>\n",
       "      <th>scheduled_flight_duration_h</th>\n",
       "      <th>flight_velocity</th>\n",
       "      <th>flag_faster_flight</th>\n",
       "      <th>scheduled_departure_day</th>\n",
       "      <th>scheduled_departure_weekend_flag</th>\n",
       "      <th>scheduled_departure_hour</th>\n",
       "      <th>scheduled_departure_pod</th>\n",
       "      <th>scheduled_departure_date</th>\n",
       "      <th>scheduled_departure_holiday_flag</th>\n",
       "      <th>scheduled_departure_min_1_holiday_flag</th>\n",
       "      <th>flag_delay</th>\n",
       "      <th>delay_level</th>\n",
       "      <th>cnt_by_airport_date</th>\n",
       "      <th>cnt_by_airport_hour</th>\n",
       "    </tr>\n",
       "  </thead>\n",
       "  <tbody>\n",
       "    <tr>\n",
       "      <th>3614</th>\n",
       "      <td>3657</td>\n",
       "      <td>MI8397</td>\n",
       "      <td>MI</td>\n",
       "      <td>SilkAir</td>\n",
       "      <td>2018-10-07 12:00:00</td>\n",
       "      <td>2018-10-07 14:00:00</td>\n",
       "      <td>Langkawi</td>\n",
       "      <td>LGK</td>\n",
       "      <td>MY</td>\n",
       "      <td>NaN</td>\n",
       "      <td>Langkawi International Airport</td>\n",
       "      <td>Asia</td>\n",
       "      <td>NaN</td>\n",
       "      <td>Asia/Kuala_Lumpur</td>\n",
       "      <td>Singapore</td>\n",
       "      <td>SIN</td>\n",
       "      <td>SG</td>\n",
       "      <td>NaN</td>\n",
       "      <td>Changi International Airport</td>\n",
       "      <td>Asia</td>\n",
       "      <td>2</td>\n",
       "      <td>Asia/Singapore</td>\n",
       "      <td>32S</td>\n",
       "      <td>Airbus A318 / A319 / A320 / A321</td>\n",
       "      <td>2h</td>\n",
       "      <td>0</td>\n",
       "      <td>0</td>\n",
       "      <td>120.0</td>\n",
       "      <td>727.56</td>\n",
       "      <td>2.0</td>\n",
       "      <td>363.78</td>\n",
       "      <td>1.0</td>\n",
       "      <td>Sunday</td>\n",
       "      <td>1</td>\n",
       "      <td>12</td>\n",
       "      <td>Morning</td>\n",
       "      <td>2018-10-07</td>\n",
       "      <td>0</td>\n",
       "      <td>1</td>\n",
       "      <td>0</td>\n",
       "      <td>on time</td>\n",
       "      <td>65</td>\n",
       "      <td>178</td>\n",
       "    </tr>\n",
       "  </tbody>\n",
       "</table>\n",
       "</div>"
      ],
      "text/plain": [
       "        id  number airline airline_name scheduled_departure_time  \\\n",
       "3614  3657  MI8397      MI      SilkAir      2018-10-07 12:00:00   \n",
       "\n",
       "     scheduled_arrival_time departure_airport_city departure_airport_code  \\\n",
       "3614    2018-10-07 14:00:00               Langkawi                    LGK   \n",
       "\n",
       "     departure_airport_country departure_airport_gate  \\\n",
       "3614                        MY                    NaN   \n",
       "\n",
       "              departure_airport_name departure_airport_region  \\\n",
       "3614  Langkawi International Airport                     Asia   \n",
       "\n",
       "     departure_airport_terminal departure_airport_timezone  \\\n",
       "3614                        NaN          Asia/Kuala_Lumpur   \n",
       "\n",
       "     arrival_airport_city arrival_airport_code arrival_airport_country  \\\n",
       "3614            Singapore                  SIN                      SG   \n",
       "\n",
       "     arrival_airport_gate          arrival_airport_name  \\\n",
       "3614                  NaN  Changi International Airport   \n",
       "\n",
       "     arrival_airport_region arrival_airport_terminal arrival_airport_timezone  \\\n",
       "3614                   Asia                        2           Asia/Singapore   \n",
       "\n",
       "     flight_equipment_iata             flight_equipment_name flight_duration  \\\n",
       "3614                   32S  Airbus A318 / A319 / A320 / A321              2h   \n",
       "\n",
       "      delay  flag_test  scheduled_flight_duration  distance  \\\n",
       "3614      0          0                      120.0    727.56   \n",
       "\n",
       "      scheduled_flight_duration_h  flight_velocity  flag_faster_flight  \\\n",
       "3614                          2.0           363.78                 1.0   \n",
       "\n",
       "     scheduled_departure_day  scheduled_departure_weekend_flag  \\\n",
       "3614                  Sunday                                 1   \n",
       "\n",
       "      scheduled_departure_hour scheduled_departure_pod  \\\n",
       "3614                        12                 Morning   \n",
       "\n",
       "     scheduled_departure_date  scheduled_departure_holiday_flag  \\\n",
       "3614               2018-10-07                                 0   \n",
       "\n",
       "      scheduled_departure_min_1_holiday_flag  flag_delay delay_level  \\\n",
       "3614                                       1           0     on time   \n",
       "\n",
       "      cnt_by_airport_date  cnt_by_airport_hour  \n",
       "3614                   65                  178  "
      ]
     },
     "execution_count": 70,
     "metadata": {},
     "output_type": "execute_result"
    }
   ],
   "source": [
    "df.sample()"
   ]
  },
  {
   "cell_type": "markdown",
   "metadata": {},
   "source": [
    "### Get Wake Category from Flight_Equipment_IATA\n",
    "The wake category is obtained from the [Flugzeuginfo.net](http://www.flugzeuginfo.net/table_accodes_iata_en.php). Wake turbulence is a disturbance in the atmosphere that forms behind an aircraft as it passes through the air. It includes various components, the most important of which are wingtip vortices and jetwash. ICAO mandates the Wake turbulence categories based upon the Maximum Takeoff Weight (MTOW) of the aircraft. The FAA uses a similar system, though with different weights (Wikipedia).\n",
    "\n",
    "| ICAO Category | MTOW                                          |\n",
    "|---------------|-----------------------------------------------|\n",
    "| Light (L)     | x <= 7,000 kilograms (15,000 lb)              |\n",
    "| Medium (M)    | 7,000 kg < x < 136,000 kilograms (300,000 lb) |\n",
    "| Heavy (H)     | 136,000 kg <= x                               |\n",
    "| Super (J)     | Airbus A380                                   |"
   ]
  },
  {
   "cell_type": "code",
   "execution_count": 71,
   "metadata": {
    "collapsed": true
   },
   "outputs": [],
   "source": [
    "flightment_iata_df = pd.read_csv(\"../data/flight/flightment_iata.csv\")"
   ]
  },
  {
   "cell_type": "code",
   "execution_count": 72,
   "metadata": {
    "collapsed": true
   },
   "outputs": [],
   "source": [
    "df = pd.merge(df, flightment_iata_df[[\"IATA\", \"Wake\"]], how='left', left_on=\"flight_equipment_iata\", right_on=\"IATA\")"
   ]
  },
  {
   "cell_type": "markdown",
   "metadata": {},
   "source": [
    "### Get the Weather Data"
   ]
  },
  {
   "cell_type": "markdown",
   "metadata": {},
   "source": [
    "#### Clean the Weather Data"
   ]
  },
  {
   "cell_type": "code",
   "execution_count": 73,
   "metadata": {},
   "outputs": [
    {
     "data": {
      "text/plain": [
       "array(['Kuala Lumpur', 'Kota Kinabalu', 'Sandakan', 'Kudat', 'Miri',\n",
       "       'Labuan', 'Penang', 'Kuching', 'Bintulu', 'Johor Bharu',\n",
       "       'Langkawi', 'Sibu', 'Marudi', 'Kota Bharu', 'Lawas', 'Mulu'],\n",
       "      dtype=object)"
      ]
     },
     "execution_count": 73,
     "metadata": {},
     "output_type": "execute_result"
    }
   ],
   "source": [
    "df[\"departure_airport_city\"].unique()"
   ]
  },
  {
   "cell_type": "code",
   "execution_count": 74,
   "metadata": {
    "collapsed": true
   },
   "outputs": [],
   "source": [
    "weather_data_df = pd.read_csv(\"../data/flight/weather_data/labuan.csv\", index_col=False, sep=\";\")"
   ]
  },
  {
   "cell_type": "code",
   "execution_count": 75,
   "metadata": {},
   "outputs": [
    {
     "data": {
      "text/html": [
       "<div>\n",
       "<style scoped>\n",
       "    .dataframe tbody tr th:only-of-type {\n",
       "        vertical-align: middle;\n",
       "    }\n",
       "\n",
       "    .dataframe tbody tr th {\n",
       "        vertical-align: top;\n",
       "    }\n",
       "\n",
       "    .dataframe thead th {\n",
       "        text-align: right;\n",
       "    }\n",
       "</style>\n",
       "<table border=\"1\" class=\"dataframe\">\n",
       "  <thead>\n",
       "    <tr style=\"text-align: right;\">\n",
       "      <th></th>\n",
       "      <th>Local time in Labuan (airport)</th>\n",
       "      <th>T</th>\n",
       "      <th>Po</th>\n",
       "      <th>P</th>\n",
       "      <th>Pa</th>\n",
       "      <th>U</th>\n",
       "      <th>DD</th>\n",
       "      <th>Ff</th>\n",
       "      <th>ff10</th>\n",
       "      <th>ff3</th>\n",
       "      <th>N</th>\n",
       "      <th>WW</th>\n",
       "      <th>W1</th>\n",
       "      <th>W2</th>\n",
       "      <th>Tn</th>\n",
       "      <th>Tx</th>\n",
       "      <th>Cl</th>\n",
       "      <th>Nh</th>\n",
       "      <th>H</th>\n",
       "      <th>Cm</th>\n",
       "      <th>Ch</th>\n",
       "      <th>VV</th>\n",
       "      <th>Td</th>\n",
       "      <th>RRR</th>\n",
       "      <th>tR</th>\n",
       "      <th>E</th>\n",
       "      <th>Tg</th>\n",
       "      <th>E'</th>\n",
       "      <th>sss</th>\n",
       "    </tr>\n",
       "  </thead>\n",
       "  <tbody>\n",
       "    <tr>\n",
       "      <th>7</th>\n",
       "      <td>31.12.2018 02:00</td>\n",
       "      <td>26.6</td>\n",
       "      <td>754.3</td>\n",
       "      <td>756.8</td>\n",
       "      <td>-1.2</td>\n",
       "      <td>87</td>\n",
       "      <td>Wind blowing from the south-southwest</td>\n",
       "      <td>3</td>\n",
       "      <td>NaN</td>\n",
       "      <td>NaN</td>\n",
       "      <td>90  or more, but not 100%</td>\n",
       "      <td>Lightning visible, no thunder heard.</td>\n",
       "      <td>Cloud covering more than 1/2 of the sky throug...</td>\n",
       "      <td>Cloud covering more than 1/2 of the sky throug...</td>\n",
       "      <td>NaN</td>\n",
       "      <td>NaN</td>\n",
       "      <td>Cumulonimbus capillatus (often with an anvil),...</td>\n",
       "      <td>50%.</td>\n",
       "      <td>300-600</td>\n",
       "      <td>Altocumulus translucidus or opacus in two or m...</td>\n",
       "      <td>Cirrostratus not progressively invading the sk...</td>\n",
       "      <td>15.0</td>\n",
       "      <td>24.3</td>\n",
       "      <td>No precipitation</td>\n",
       "      <td>6.0</td>\n",
       "      <td>NaN</td>\n",
       "      <td>NaN</td>\n",
       "      <td>NaN</td>\n",
       "      <td>NaN</td>\n",
       "    </tr>\n",
       "  </tbody>\n",
       "</table>\n",
       "</div>"
      ],
      "text/plain": [
       "  Local time in Labuan (airport)     T     Po      P   Pa   U  \\\n",
       "7               31.12.2018 02:00  26.6  754.3  756.8 -1.2  87   \n",
       "\n",
       "                                      DD  Ff  ff10  ff3  \\\n",
       "7  Wind blowing from the south-southwest   3   NaN  NaN   \n",
       "\n",
       "                           N                                     WW  \\\n",
       "7  90  or more, but not 100%  Lightning visible, no thunder heard.    \n",
       "\n",
       "                                                  W1  \\\n",
       "7  Cloud covering more than 1/2 of the sky throug...   \n",
       "\n",
       "                                                  W2  Tn  Tx  \\\n",
       "7  Cloud covering more than 1/2 of the sky throug... NaN NaN   \n",
       "\n",
       "                                                  Cl    Nh        H  \\\n",
       "7  Cumulonimbus capillatus (often with an anvil),...  50%.  300-600   \n",
       "\n",
       "                                                  Cm  \\\n",
       "7  Altocumulus translucidus or opacus in two or m...   \n",
       "\n",
       "                                                  Ch    VV    Td  \\\n",
       "7  Cirrostratus not progressively invading the sk...  15.0  24.3   \n",
       "\n",
       "                RRR   tR   E  Tg  E'  sss  \n",
       "7  No precipitation  6.0 NaN NaN NaN  NaN  "
      ]
     },
     "execution_count": 75,
     "metadata": {},
     "output_type": "execute_result"
    }
   ],
   "source": [
    "weather_data_df.sample()"
   ]
  },
  {
   "cell_type": "code",
   "execution_count": 76,
   "metadata": {
    "collapsed": true
   },
   "outputs": [],
   "source": [
    "weather_data_df[\"date\"] = weather_data_df.iloc[:,0].str.split().str[0].str.split(\".\").apply(lambda x: np.array(x)[[2, 1, 0]]).str.join(\"-\")\n",
    "weather_data_df[\"time\"] = weather_data_df.iloc[:,0].str.split().str[1].str.split(\":\").str[0]"
   ]
  },
  {
   "cell_type": "code",
   "execution_count": 77,
   "metadata": {
    "collapsed": true
   },
   "outputs": [],
   "source": [
    "weather_data_df = weather_data_df[[\"date\", \"time\", \"T\", \"Po\", \"U\", \"DD\", \"Ff\", \"N\", \"WW\", \"Cl\", \"Nh\", \"H\", \"VV\"]]"
   ]
  },
  {
   "cell_type": "code",
   "execution_count": 78,
   "metadata": {
    "collapsed": true
   },
   "outputs": [],
   "source": [
    "weather_data_df[\"city\"] = \"Labuan\""
   ]
  },
  {
   "cell_type": "code",
   "execution_count": 81,
   "metadata": {
    "collapsed": true,
    "scrolled": false
   },
   "outputs": [],
   "source": [
    "# weather_data_comp_df = weather_data_df.copy()"
   ]
  },
  {
   "cell_type": "code",
   "execution_count": 82,
   "metadata": {},
   "outputs": [],
   "source": [
    "# weather_data_comp_df = weather_data_comp_df.append(weather_data_df)"
   ]
  },
  {
   "cell_type": "code",
   "execution_count": 83,
   "metadata": {
    "collapsed": true
   },
   "outputs": [],
   "source": [
    "# weather_data_comp_df.to_csv(\"weather_data_comp.csv\", index=False, encoding = \"utf-8\")"
   ]
  },
  {
   "cell_type": "code",
   "execution_count": 94,
   "metadata": {
    "collapsed": true
   },
   "outputs": [],
   "source": [
    "weather_data_comp_df = pd.read_csv(\"weather_data_comp.csv\")"
   ]
  },
  {
   "cell_type": "markdown",
   "metadata": {},
   "source": [
    "### Find the Closest Time and Date to Weather"
   ]
  },
  {
   "cell_type": "code",
   "execution_count": 95,
   "metadata": {},
   "outputs": [
    {
     "data": {
      "text/plain": [
       "array([23, 20, 17, 14, 11,  8,  5,  2], dtype=int64)"
      ]
     },
     "execution_count": 95,
     "metadata": {},
     "output_type": "execute_result"
    }
   ],
   "source": [
    "weather_data_comp_df[\"time\"].unique()"
   ]
  },
  {
   "cell_type": "code",
   "execution_count": 96,
   "metadata": {},
   "outputs": [
    {
     "data": {
      "text/plain": [
       "array([22, 23,  6,  0,  1,  2,  3,  4,  5,  7,  8,  9, 10, 11, 12, 13, 14,\n",
       "       15, 16, 17, 18, 21, 19, 20], dtype=int64)"
      ]
     },
     "execution_count": 96,
     "metadata": {},
     "output_type": "execute_result"
    }
   ],
   "source": [
    "df[\"scheduled_departure_hour\"].unique()"
   ]
  },
  {
   "cell_type": "code",
   "execution_count": 97,
   "metadata": {
    "collapsed": true
   },
   "outputs": [],
   "source": [
    "def get_closest_weather_time(time):\n",
    "    if time in [1, 2, 3]:\n",
    "        return \"02\"\n",
    "    elif time in [4, 5, 6]:\n",
    "        return \"05\"\n",
    "    elif time in [7, 8, 9]:\n",
    "        return \"08\"\n",
    "    elif time in [10, 11, 12]:\n",
    "        return \"11\"\n",
    "    elif time in [13, 14, 15]:\n",
    "        return \"14\"\n",
    "    elif time in [16, 17, 18]:\n",
    "        return \"17\"\n",
    "    elif time in [19, 20, 21]:\n",
    "        return \"20\"\n",
    "    elif time in [22, 23, 0]:\n",
    "        return \"23\""
   ]
  },
  {
   "cell_type": "code",
   "execution_count": 98,
   "metadata": {
    "collapsed": true
   },
   "outputs": [],
   "source": [
    "df[\"closest_weather_time\"] = df[\"scheduled_departure_hour\"].apply(get_closest_weather_time)"
   ]
  },
  {
   "cell_type": "markdown",
   "metadata": {},
   "source": [
    "#### Combine Weather Data with the Flight Data"
   ]
  },
  {
   "cell_type": "code",
   "execution_count": 99,
   "metadata": {},
   "outputs": [
    {
     "data": {
      "text/html": [
       "<div>\n",
       "<style scoped>\n",
       "    .dataframe tbody tr th:only-of-type {\n",
       "        vertical-align: middle;\n",
       "    }\n",
       "\n",
       "    .dataframe tbody tr th {\n",
       "        vertical-align: top;\n",
       "    }\n",
       "\n",
       "    .dataframe thead th {\n",
       "        text-align: right;\n",
       "    }\n",
       "</style>\n",
       "<table border=\"1\" class=\"dataframe\">\n",
       "  <thead>\n",
       "    <tr style=\"text-align: right;\">\n",
       "      <th></th>\n",
       "      <th>id</th>\n",
       "      <th>number</th>\n",
       "      <th>airline</th>\n",
       "      <th>airline_name</th>\n",
       "      <th>scheduled_departure_time</th>\n",
       "      <th>scheduled_arrival_time</th>\n",
       "      <th>departure_airport_city</th>\n",
       "      <th>departure_airport_code</th>\n",
       "      <th>departure_airport_country</th>\n",
       "      <th>departure_airport_gate</th>\n",
       "      <th>departure_airport_name</th>\n",
       "      <th>departure_airport_region</th>\n",
       "      <th>departure_airport_terminal</th>\n",
       "      <th>departure_airport_timezone</th>\n",
       "      <th>arrival_airport_city</th>\n",
       "      <th>arrival_airport_code</th>\n",
       "      <th>arrival_airport_country</th>\n",
       "      <th>arrival_airport_gate</th>\n",
       "      <th>arrival_airport_name</th>\n",
       "      <th>arrival_airport_region</th>\n",
       "      <th>arrival_airport_terminal</th>\n",
       "      <th>arrival_airport_timezone</th>\n",
       "      <th>flight_equipment_iata</th>\n",
       "      <th>flight_equipment_name</th>\n",
       "      <th>flight_duration</th>\n",
       "      <th>...</th>\n",
       "      <th>scheduled_departure_pod</th>\n",
       "      <th>scheduled_departure_date</th>\n",
       "      <th>scheduled_departure_holiday_flag</th>\n",
       "      <th>scheduled_departure_min_1_holiday_flag</th>\n",
       "      <th>flag_delay</th>\n",
       "      <th>delay_level</th>\n",
       "      <th>cnt_by_airport_date</th>\n",
       "      <th>cnt_by_airport_hour</th>\n",
       "      <th>IATA</th>\n",
       "      <th>Wake</th>\n",
       "      <th>closest_weather_time</th>\n",
       "      <th>date</th>\n",
       "      <th>time</th>\n",
       "      <th>T</th>\n",
       "      <th>Po</th>\n",
       "      <th>U</th>\n",
       "      <th>DD</th>\n",
       "      <th>Ff</th>\n",
       "      <th>N</th>\n",
       "      <th>WW</th>\n",
       "      <th>Cl</th>\n",
       "      <th>Nh</th>\n",
       "      <th>H</th>\n",
       "      <th>VV</th>\n",
       "      <th>city</th>\n",
       "    </tr>\n",
       "  </thead>\n",
       "  <tbody>\n",
       "    <tr>\n",
       "      <th>119855</th>\n",
       "      <td>529522</td>\n",
       "      <td>AK122</td>\n",
       "      <td>AK</td>\n",
       "      <td>AirAsia</td>\n",
       "      <td>2018-12-05 08:30:00</td>\n",
       "      <td>2018-12-05 12:45:00</td>\n",
       "      <td>Kuala Lumpur</td>\n",
       "      <td>KUL</td>\n",
       "      <td>MY</td>\n",
       "      <td>P11</td>\n",
       "      <td>Kuala Lumpur International Airport</td>\n",
       "      <td>Asia</td>\n",
       "      <td>2</td>\n",
       "      <td>Asia/Kuala_Lumpur</td>\n",
       "      <td>Shenzhen</td>\n",
       "      <td>SZX</td>\n",
       "      <td>CN</td>\n",
       "      <td>NaN</td>\n",
       "      <td>Shenzhen Bao'an International Airport</td>\n",
       "      <td>Asia</td>\n",
       "      <td>T3</td>\n",
       "      <td>Asia/Shanghai</td>\n",
       "      <td>32S</td>\n",
       "      <td>Airbus A318 / A319 / A320 / A321</td>\n",
       "      <td>4h 7m</td>\n",
       "      <td>...</td>\n",
       "      <td>Early Morning</td>\n",
       "      <td>2018-12-05</td>\n",
       "      <td>0</td>\n",
       "      <td>0</td>\n",
       "      <td>1</td>\n",
       "      <td>medium delay</td>\n",
       "      <td>1177</td>\n",
       "      <td>4091</td>\n",
       "      <td>NaN</td>\n",
       "      <td>NaN</td>\n",
       "      <td>08</td>\n",
       "      <td>NaN</td>\n",
       "      <td>NaN</td>\n",
       "      <td>NaN</td>\n",
       "      <td>NaN</td>\n",
       "      <td>NaN</td>\n",
       "      <td>NaN</td>\n",
       "      <td>NaN</td>\n",
       "      <td>NaN</td>\n",
       "      <td>NaN</td>\n",
       "      <td>NaN</td>\n",
       "      <td>NaN</td>\n",
       "      <td>NaN</td>\n",
       "      <td>NaN</td>\n",
       "      <td>NaN</td>\n",
       "    </tr>\n",
       "  </tbody>\n",
       "</table>\n",
       "<p>1 rows × 60 columns</p>\n",
       "</div>"
      ],
      "text/plain": [
       "            id number airline airline_name scheduled_departure_time  \\\n",
       "119855  529522  AK122      AK      AirAsia      2018-12-05 08:30:00   \n",
       "\n",
       "       scheduled_arrival_time departure_airport_city departure_airport_code  \\\n",
       "119855    2018-12-05 12:45:00           Kuala Lumpur                    KUL   \n",
       "\n",
       "       departure_airport_country departure_airport_gate  \\\n",
       "119855                        MY                    P11   \n",
       "\n",
       "                    departure_airport_name departure_airport_region  \\\n",
       "119855  Kuala Lumpur International Airport                     Asia   \n",
       "\n",
       "       departure_airport_terminal departure_airport_timezone  \\\n",
       "119855                          2          Asia/Kuala_Lumpur   \n",
       "\n",
       "       arrival_airport_city arrival_airport_code arrival_airport_country  \\\n",
       "119855             Shenzhen                  SZX                      CN   \n",
       "\n",
       "       arrival_airport_gate                   arrival_airport_name  \\\n",
       "119855                  NaN  Shenzhen Bao'an International Airport   \n",
       "\n",
       "       arrival_airport_region arrival_airport_terminal  \\\n",
       "119855                   Asia                       T3   \n",
       "\n",
       "       arrival_airport_timezone flight_equipment_iata  \\\n",
       "119855            Asia/Shanghai                   32S   \n",
       "\n",
       "                   flight_equipment_name flight_duration  ...  \\\n",
       "119855  Airbus A318 / A319 / A320 / A321           4h 7m  ...   \n",
       "\n",
       "        scheduled_departure_pod  scheduled_departure_date  \\\n",
       "119855            Early Morning                2018-12-05   \n",
       "\n",
       "        scheduled_departure_holiday_flag  \\\n",
       "119855                                 0   \n",
       "\n",
       "        scheduled_departure_min_1_holiday_flag  flag_delay   delay_level  \\\n",
       "119855                                       0           1  medium delay   \n",
       "\n",
       "        cnt_by_airport_date cnt_by_airport_hour  IATA  Wake  \\\n",
       "119855                 1177                4091   NaN   NaN   \n",
       "\n",
       "       closest_weather_time date  time   T  Po   U   DD  Ff    N   WW   Cl  \\\n",
       "119855                   08  NaN   NaN NaN NaN NaN  NaN NaN  NaN  NaN  NaN   \n",
       "\n",
       "         Nh    H  VV  city  \n",
       "119855  NaN  NaN NaN   NaN  \n",
       "\n",
       "[1 rows x 60 columns]"
      ]
     },
     "execution_count": 99,
     "metadata": {},
     "output_type": "execute_result"
    }
   ],
   "source": [
    "df.sample()"
   ]
  },
  {
   "cell_type": "code",
   "execution_count": 163,
   "metadata": {},
   "outputs": [],
   "source": [
    "df = pd.merge(df, weather_data_comp_df, how='left', left_on=[\"scheduled_departure_date\", \"closest_weather_time\", \"departure_airport_city\"], right_on=[\"date\", \"time\", \"city\"])"
   ]
  },
  {
   "cell_type": "code",
   "execution_count": 101,
   "metadata": {
    "collapsed": true
   },
   "outputs": [],
   "source": [
    "merged_weather_df = df[[\"IATA\", \"Wake\", \"T\", \"Po\", \"U\", \"DD\", \"Ff\", \"N\", \"WW\", \"Cl\", \"Nh\", \"H\", \"VV\"]]"
   ]
  },
  {
   "cell_type": "code",
   "execution_count": 102,
   "metadata": {},
   "outputs": [
    {
     "data": {
      "text/plain": [
       "array(['Kuala Lumpur', 'Kota Kinabalu', 'Sandakan', 'Kudat', 'Miri',\n",
       "       'Penang', 'Kuching', 'Bintulu', 'Johor Bharu', 'Langkawi', 'Sibu',\n",
       "       'Marudi', 'Kota Bharu', 'Lawas', 'Mulu'], dtype=object)"
      ]
     },
     "execution_count": 102,
     "metadata": {},
     "output_type": "execute_result"
    }
   ],
   "source": [
    "df[df[\"T\"].isnull()][\"departure_airport_city\"].unique()"
   ]
  },
  {
   "cell_type": "code",
   "execution_count": 103,
   "metadata": {},
   "outputs": [
    {
     "data": {
      "text/html": [
       "<div>\n",
       "<style scoped>\n",
       "    .dataframe tbody tr th:only-of-type {\n",
       "        vertical-align: middle;\n",
       "    }\n",
       "\n",
       "    .dataframe tbody tr th {\n",
       "        vertical-align: top;\n",
       "    }\n",
       "\n",
       "    .dataframe thead th {\n",
       "        text-align: right;\n",
       "    }\n",
       "</style>\n",
       "<table border=\"1\" class=\"dataframe\">\n",
       "  <thead>\n",
       "    <tr style=\"text-align: right;\">\n",
       "      <th></th>\n",
       "      <th>data_type</th>\n",
       "      <th>#_unique</th>\n",
       "      <th>#_nan</th>\n",
       "      <th>%_nan</th>\n",
       "    </tr>\n",
       "  </thead>\n",
       "  <tbody>\n",
       "    <tr>\n",
       "      <th>T</th>\n",
       "      <td>float64</td>\n",
       "      <td>70</td>\n",
       "      <td>152341</td>\n",
       "      <td>99.628537</td>\n",
       "    </tr>\n",
       "    <tr>\n",
       "      <th>Po</th>\n",
       "      <td>float64</td>\n",
       "      <td>52</td>\n",
       "      <td>152341</td>\n",
       "      <td>99.628537</td>\n",
       "    </tr>\n",
       "    <tr>\n",
       "      <th>IATA</th>\n",
       "      <td>object</td>\n",
       "      <td>44</td>\n",
       "      <td>44602</td>\n",
       "      <td>29.168983</td>\n",
       "    </tr>\n",
       "    <tr>\n",
       "      <th>U</th>\n",
       "      <td>float64</td>\n",
       "      <td>36</td>\n",
       "      <td>152341</td>\n",
       "      <td>99.628537</td>\n",
       "    </tr>\n",
       "    <tr>\n",
       "      <th>DD</th>\n",
       "      <td>object</td>\n",
       "      <td>16</td>\n",
       "      <td>152341</td>\n",
       "      <td>99.628537</td>\n",
       "    </tr>\n",
       "    <tr>\n",
       "      <th>WW</th>\n",
       "      <td>object</td>\n",
       "      <td>14</td>\n",
       "      <td>152341</td>\n",
       "      <td>99.628537</td>\n",
       "    </tr>\n",
       "    <tr>\n",
       "      <th>VV</th>\n",
       "      <td>float64</td>\n",
       "      <td>12</td>\n",
       "      <td>152341</td>\n",
       "      <td>99.628537</td>\n",
       "    </tr>\n",
       "    <tr>\n",
       "      <th>Ff</th>\n",
       "      <td>float64</td>\n",
       "      <td>6</td>\n",
       "      <td>152341</td>\n",
       "      <td>99.628537</td>\n",
       "    </tr>\n",
       "    <tr>\n",
       "      <th>Nh</th>\n",
       "      <td>object</td>\n",
       "      <td>6</td>\n",
       "      <td>152347</td>\n",
       "      <td>99.632461</td>\n",
       "    </tr>\n",
       "    <tr>\n",
       "      <th>Wake</th>\n",
       "      <td>object</td>\n",
       "      <td>3</td>\n",
       "      <td>44602</td>\n",
       "      <td>29.168983</td>\n",
       "    </tr>\n",
       "    <tr>\n",
       "      <th>N</th>\n",
       "      <td>object</td>\n",
       "      <td>3</td>\n",
       "      <td>152341</td>\n",
       "      <td>99.628537</td>\n",
       "    </tr>\n",
       "    <tr>\n",
       "      <th>Cl</th>\n",
       "      <td>object</td>\n",
       "      <td>3</td>\n",
       "      <td>152341</td>\n",
       "      <td>99.628537</td>\n",
       "    </tr>\n",
       "    <tr>\n",
       "      <th>H</th>\n",
       "      <td>object</td>\n",
       "      <td>1</td>\n",
       "      <td>152341</td>\n",
       "      <td>99.628537</td>\n",
       "    </tr>\n",
       "  </tbody>\n",
       "</table>\n",
       "</div>"
      ],
      "text/plain": [
       "     data_type  #_unique   #_nan      %_nan\n",
       "T      float64        70  152341  99.628537\n",
       "Po     float64        52  152341  99.628537\n",
       "IATA    object        44   44602  29.168983\n",
       "U      float64        36  152341  99.628537\n",
       "DD      object        16  152341  99.628537\n",
       "WW      object        14  152341  99.628537\n",
       "VV     float64        12  152341  99.628537\n",
       "Ff     float64         6  152341  99.628537\n",
       "Nh      object         6  152347  99.632461\n",
       "Wake    object         3   44602  29.168983\n",
       "N       object         3  152341  99.628537\n",
       "Cl      object         3  152341  99.628537\n",
       "H       object         1  152341  99.628537"
      ]
     },
     "execution_count": 103,
     "metadata": {},
     "output_type": "execute_result"
    }
   ],
   "source": [
    "# gives some infos on columns types and number of null values\n",
    "df_info = pd.DataFrame(merged_weather_df.dtypes).rename(columns={0:'data_type'})\n",
    "df_info[\"#_unique\"] = merged_weather_df.nunique()\n",
    "df_info[\"#_nan\"] = merged_weather_df.isnull().sum().astype(int)\n",
    "df_info[\"%_nan\"] = merged_weather_df.isnull().sum()/merged_weather_df.shape[0]*100\n",
    "\n",
    "df_info.sort_values(by=\"#_unique\", ascending=False)"
   ]
  },
  {
   "cell_type": "code",
   "execution_count": 104,
   "metadata": {},
   "outputs": [
    {
     "data": {
      "text/html": [
       "<div>\n",
       "<style scoped>\n",
       "    .dataframe tbody tr th:only-of-type {\n",
       "        vertical-align: middle;\n",
       "    }\n",
       "\n",
       "    .dataframe tbody tr th {\n",
       "        vertical-align: top;\n",
       "    }\n",
       "\n",
       "    .dataframe thead th {\n",
       "        text-align: right;\n",
       "    }\n",
       "</style>\n",
       "<table border=\"1\" class=\"dataframe\">\n",
       "  <thead>\n",
       "    <tr style=\"text-align: right;\">\n",
       "      <th></th>\n",
       "      <th>id</th>\n",
       "      <th>number</th>\n",
       "      <th>airline</th>\n",
       "      <th>airline_name</th>\n",
       "      <th>scheduled_departure_time</th>\n",
       "      <th>scheduled_arrival_time</th>\n",
       "      <th>departure_airport_city</th>\n",
       "      <th>departure_airport_code</th>\n",
       "      <th>departure_airport_country</th>\n",
       "      <th>departure_airport_gate</th>\n",
       "      <th>departure_airport_name</th>\n",
       "      <th>departure_airport_region</th>\n",
       "      <th>departure_airport_terminal</th>\n",
       "      <th>departure_airport_timezone</th>\n",
       "      <th>arrival_airport_city</th>\n",
       "      <th>arrival_airport_code</th>\n",
       "      <th>arrival_airport_country</th>\n",
       "      <th>arrival_airport_gate</th>\n",
       "      <th>arrival_airport_name</th>\n",
       "      <th>arrival_airport_region</th>\n",
       "      <th>arrival_airport_terminal</th>\n",
       "      <th>arrival_airport_timezone</th>\n",
       "      <th>flight_equipment_iata</th>\n",
       "      <th>flight_equipment_name</th>\n",
       "      <th>flight_duration</th>\n",
       "      <th>...</th>\n",
       "      <th>scheduled_departure_pod</th>\n",
       "      <th>scheduled_departure_date</th>\n",
       "      <th>scheduled_departure_holiday_flag</th>\n",
       "      <th>scheduled_departure_min_1_holiday_flag</th>\n",
       "      <th>flag_delay</th>\n",
       "      <th>delay_level</th>\n",
       "      <th>cnt_by_airport_date</th>\n",
       "      <th>cnt_by_airport_hour</th>\n",
       "      <th>IATA</th>\n",
       "      <th>Wake</th>\n",
       "      <th>closest_weather_time</th>\n",
       "      <th>date</th>\n",
       "      <th>time</th>\n",
       "      <th>T</th>\n",
       "      <th>Po</th>\n",
       "      <th>U</th>\n",
       "      <th>DD</th>\n",
       "      <th>Ff</th>\n",
       "      <th>N</th>\n",
       "      <th>WW</th>\n",
       "      <th>Cl</th>\n",
       "      <th>Nh</th>\n",
       "      <th>H</th>\n",
       "      <th>VV</th>\n",
       "      <th>city</th>\n",
       "    </tr>\n",
       "  </thead>\n",
       "  <tbody>\n",
       "    <tr>\n",
       "      <th>77150</th>\n",
       "      <td>296762</td>\n",
       "      <td>RJ181</td>\n",
       "      <td>RJ</td>\n",
       "      <td>Royal Jordanian</td>\n",
       "      <td>2018-11-14 14:20:00</td>\n",
       "      <td>2018-11-14 16:20:00</td>\n",
       "      <td>Kuala Lumpur</td>\n",
       "      <td>KUL</td>\n",
       "      <td>MY</td>\n",
       "      <td>C1</td>\n",
       "      <td>Kuala Lumpur International Airport</td>\n",
       "      <td>Asia</td>\n",
       "      <td>M</td>\n",
       "      <td>Asia/Kuala_Lumpur</td>\n",
       "      <td>Bangkok</td>\n",
       "      <td>BKK</td>\n",
       "      <td>TH</td>\n",
       "      <td>NaN</td>\n",
       "      <td>Suvarnabhumi Airport</td>\n",
       "      <td>Asia</td>\n",
       "      <td>NaN</td>\n",
       "      <td>Asia/Bangkok</td>\n",
       "      <td>788</td>\n",
       "      <td>Boeing 787-8</td>\n",
       "      <td>2h</td>\n",
       "      <td>...</td>\n",
       "      <td>Noon</td>\n",
       "      <td>2018-11-14</td>\n",
       "      <td>0</td>\n",
       "      <td>0</td>\n",
       "      <td>1</td>\n",
       "      <td>small delay</td>\n",
       "      <td>1132</td>\n",
       "      <td>3650</td>\n",
       "      <td>788</td>\n",
       "      <td>H</td>\n",
       "      <td>14</td>\n",
       "      <td>NaN</td>\n",
       "      <td>NaN</td>\n",
       "      <td>NaN</td>\n",
       "      <td>NaN</td>\n",
       "      <td>NaN</td>\n",
       "      <td>NaN</td>\n",
       "      <td>NaN</td>\n",
       "      <td>NaN</td>\n",
       "      <td>NaN</td>\n",
       "      <td>NaN</td>\n",
       "      <td>NaN</td>\n",
       "      <td>NaN</td>\n",
       "      <td>NaN</td>\n",
       "      <td>NaN</td>\n",
       "    </tr>\n",
       "  </tbody>\n",
       "</table>\n",
       "<p>1 rows × 60 columns</p>\n",
       "</div>"
      ],
      "text/plain": [
       "           id number airline     airline_name scheduled_departure_time  \\\n",
       "77150  296762  RJ181      RJ  Royal Jordanian      2018-11-14 14:20:00   \n",
       "\n",
       "      scheduled_arrival_time departure_airport_city departure_airport_code  \\\n",
       "77150    2018-11-14 16:20:00           Kuala Lumpur                    KUL   \n",
       "\n",
       "      departure_airport_country departure_airport_gate  \\\n",
       "77150                        MY                     C1   \n",
       "\n",
       "                   departure_airport_name departure_airport_region  \\\n",
       "77150  Kuala Lumpur International Airport                     Asia   \n",
       "\n",
       "      departure_airport_terminal departure_airport_timezone  \\\n",
       "77150                          M          Asia/Kuala_Lumpur   \n",
       "\n",
       "      arrival_airport_city arrival_airport_code arrival_airport_country  \\\n",
       "77150              Bangkok                  BKK                      TH   \n",
       "\n",
       "      arrival_airport_gate  arrival_airport_name arrival_airport_region  \\\n",
       "77150                  NaN  Suvarnabhumi Airport                   Asia   \n",
       "\n",
       "      arrival_airport_terminal arrival_airport_timezone flight_equipment_iata  \\\n",
       "77150                      NaN             Asia/Bangkok                   788   \n",
       "\n",
       "      flight_equipment_name flight_duration  ...  scheduled_departure_pod  \\\n",
       "77150          Boeing 787-8              2h  ...                     Noon   \n",
       "\n",
       "       scheduled_departure_date  scheduled_departure_holiday_flag  \\\n",
       "77150                2018-11-14                                 0   \n",
       "\n",
       "       scheduled_departure_min_1_holiday_flag  flag_delay  delay_level  \\\n",
       "77150                                       0           1  small delay   \n",
       "\n",
       "       cnt_by_airport_date cnt_by_airport_hour  IATA  Wake  \\\n",
       "77150                 1132                3650   788     H   \n",
       "\n",
       "      closest_weather_time date  time   T  Po   U   DD  Ff    N   WW   Cl  \\\n",
       "77150                   14  NaN   NaN NaN NaN NaN  NaN NaN  NaN  NaN  NaN   \n",
       "\n",
       "        Nh    H  VV  city  \n",
       "77150  NaN  NaN NaN   NaN  \n",
       "\n",
       "[1 rows x 60 columns]"
      ]
     },
     "execution_count": 104,
     "metadata": {},
     "output_type": "execute_result"
    }
   ],
   "source": [
    "df.sample()"
   ]
  },
  {
   "cell_type": "markdown",
   "metadata": {},
   "source": [
    "## Data Cleaning"
   ]
  },
  {
   "cell_type": "markdown",
   "metadata": {},
   "source": [
    "### Drop Possibly Unused Features"
   ]
  },
  {
   "cell_type": "markdown",
   "metadata": {},
   "source": [
    "The feature below are dropped based on these criteria:\n",
    "1. Categorical features which have plenty number of unique values (e.g. `scheduled_arrival_time`)\n",
    "2. Categorical features with similar number of unique values (e.g. `arrival_airport_name` and `arrival_airport_code` are pretty similar, one of them needs to be dropped)\n",
    "3. Features which have more than ~40% of missing data\n",
    "4. Features with only 1 unique value\n"
   ]
  },
  {
   "cell_type": "code",
   "execution_count": 107,
   "metadata": {},
   "outputs": [],
   "source": [
    "df = df.drop([\n",
    "    \"id\", \n",
    "    \"scheduled_arrival_time\", \n",
    "    \"scheduled_departure_time\", \n",
    "    \"flight_duration\",\n",
    "    \"arrival_airport_gate\",\n",
    "    \"departure_airport_gate\",\n",
    "    \"arrival_airport_name\",\n",
    "    \"arrival_airport_city\",\n",
    "    \"airline\",\n",
    "    \"flight_equipment_name\",\n",
    "    \"arrival_airport_timezone\",\n",
    "    \"arrival_airport_country\",\n",
    "    \"arrival_airport_terminal\",\n",
    "    \"departure_airport_name\",\n",
    "    \"departure_airport_city\",\n",
    "    \"departure_airport_terminal\",\n",
    "    \"arrival_airport_region\",\n",
    "    \"departure_airport_region\",\n",
    "    \"departure_airport_country\",\n",
    "    \"departure_airport_timezone\"\n",
    "], axis=1)"
   ]
  },
  {
   "cell_type": "code",
   "execution_count": 108,
   "metadata": {},
   "outputs": [
    {
     "data": {
      "text/html": [
       "<div>\n",
       "<style scoped>\n",
       "    .dataframe tbody tr th:only-of-type {\n",
       "        vertical-align: middle;\n",
       "    }\n",
       "\n",
       "    .dataframe tbody tr th {\n",
       "        vertical-align: top;\n",
       "    }\n",
       "\n",
       "    .dataframe thead th {\n",
       "        text-align: right;\n",
       "    }\n",
       "</style>\n",
       "<table border=\"1\" class=\"dataframe\">\n",
       "  <thead>\n",
       "    <tr style=\"text-align: right;\">\n",
       "      <th></th>\n",
       "      <th>number</th>\n",
       "      <th>airline_name</th>\n",
       "      <th>departure_airport_code</th>\n",
       "      <th>arrival_airport_code</th>\n",
       "      <th>flight_equipment_iata</th>\n",
       "      <th>delay</th>\n",
       "      <th>flag_test</th>\n",
       "      <th>scheduled_flight_duration</th>\n",
       "      <th>distance</th>\n",
       "      <th>scheduled_flight_duration_h</th>\n",
       "      <th>flight_velocity</th>\n",
       "      <th>flag_faster_flight</th>\n",
       "      <th>scheduled_departure_day</th>\n",
       "      <th>scheduled_departure_weekend_flag</th>\n",
       "      <th>scheduled_departure_hour</th>\n",
       "      <th>scheduled_departure_pod</th>\n",
       "      <th>scheduled_departure_date</th>\n",
       "      <th>scheduled_departure_holiday_flag</th>\n",
       "      <th>scheduled_departure_min_1_holiday_flag</th>\n",
       "      <th>flag_delay</th>\n",
       "      <th>delay_level</th>\n",
       "      <th>cnt_by_airport_date</th>\n",
       "      <th>cnt_by_airport_hour</th>\n",
       "      <th>IATA</th>\n",
       "      <th>Wake</th>\n",
       "      <th>closest_weather_time</th>\n",
       "      <th>date</th>\n",
       "      <th>time</th>\n",
       "      <th>T</th>\n",
       "      <th>Po</th>\n",
       "      <th>U</th>\n",
       "      <th>DD</th>\n",
       "      <th>Ff</th>\n",
       "      <th>N</th>\n",
       "      <th>WW</th>\n",
       "      <th>Cl</th>\n",
       "      <th>Nh</th>\n",
       "      <th>H</th>\n",
       "      <th>VV</th>\n",
       "      <th>city</th>\n",
       "    </tr>\n",
       "  </thead>\n",
       "  <tbody>\n",
       "    <tr>\n",
       "      <th>0</th>\n",
       "      <td>AK6430</td>\n",
       "      <td>AirAsia</td>\n",
       "      <td>KUL</td>\n",
       "      <td>KBR</td>\n",
       "      <td>32S</td>\n",
       "      <td>2</td>\n",
       "      <td>0</td>\n",
       "      <td>65.0</td>\n",
       "      <td>385.98</td>\n",
       "      <td>1.083333</td>\n",
       "      <td>356.289231</td>\n",
       "      <td>0.0</td>\n",
       "      <td>Friday</td>\n",
       "      <td>0</td>\n",
       "      <td>22</td>\n",
       "      <td>Night</td>\n",
       "      <td>2018-10-05</td>\n",
       "      <td>0</td>\n",
       "      <td>1</td>\n",
       "      <td>1</td>\n",
       "      <td>small delay</td>\n",
       "      <td>1055</td>\n",
       "      <td>2174</td>\n",
       "      <td>NaN</td>\n",
       "      <td>NaN</td>\n",
       "      <td>23</td>\n",
       "      <td>NaN</td>\n",
       "      <td>NaN</td>\n",
       "      <td>NaN</td>\n",
       "      <td>NaN</td>\n",
       "      <td>NaN</td>\n",
       "      <td>NaN</td>\n",
       "      <td>NaN</td>\n",
       "      <td>NaN</td>\n",
       "      <td>NaN</td>\n",
       "      <td>NaN</td>\n",
       "      <td>NaN</td>\n",
       "      <td>NaN</td>\n",
       "      <td>NaN</td>\n",
       "      <td>NaN</td>\n",
       "    </tr>\n",
       "    <tr>\n",
       "      <th>1</th>\n",
       "      <td>ID*7164</td>\n",
       "      <td>Batik Air</td>\n",
       "      <td>KUL</td>\n",
       "      <td>CGK</td>\n",
       "      <td>32S</td>\n",
       "      <td>8</td>\n",
       "      <td>0</td>\n",
       "      <td>115.0</td>\n",
       "      <td>1129.47</td>\n",
       "      <td>1.916667</td>\n",
       "      <td>589.288696</td>\n",
       "      <td>0.0</td>\n",
       "      <td>Friday</td>\n",
       "      <td>0</td>\n",
       "      <td>22</td>\n",
       "      <td>Night</td>\n",
       "      <td>2018-10-05</td>\n",
       "      <td>0</td>\n",
       "      <td>1</td>\n",
       "      <td>1</td>\n",
       "      <td>medium delay</td>\n",
       "      <td>1055</td>\n",
       "      <td>2174</td>\n",
       "      <td>NaN</td>\n",
       "      <td>NaN</td>\n",
       "      <td>23</td>\n",
       "      <td>NaN</td>\n",
       "      <td>NaN</td>\n",
       "      <td>NaN</td>\n",
       "      <td>NaN</td>\n",
       "      <td>NaN</td>\n",
       "      <td>NaN</td>\n",
       "      <td>NaN</td>\n",
       "      <td>NaN</td>\n",
       "      <td>NaN</td>\n",
       "      <td>NaN</td>\n",
       "      <td>NaN</td>\n",
       "      <td>NaN</td>\n",
       "      <td>NaN</td>\n",
       "      <td>NaN</td>\n",
       "    </tr>\n",
       "    <tr>\n",
       "      <th>2</th>\n",
       "      <td>MXD9116</td>\n",
       "      <td>Malindo Air</td>\n",
       "      <td>KUL</td>\n",
       "      <td>CGK</td>\n",
       "      <td>32S</td>\n",
       "      <td>8</td>\n",
       "      <td>0</td>\n",
       "      <td>115.0</td>\n",
       "      <td>1129.47</td>\n",
       "      <td>1.916667</td>\n",
       "      <td>589.288696</td>\n",
       "      <td>0.0</td>\n",
       "      <td>Friday</td>\n",
       "      <td>0</td>\n",
       "      <td>22</td>\n",
       "      <td>Night</td>\n",
       "      <td>2018-10-05</td>\n",
       "      <td>0</td>\n",
       "      <td>1</td>\n",
       "      <td>1</td>\n",
       "      <td>medium delay</td>\n",
       "      <td>1055</td>\n",
       "      <td>2174</td>\n",
       "      <td>NaN</td>\n",
       "      <td>NaN</td>\n",
       "      <td>23</td>\n",
       "      <td>NaN</td>\n",
       "      <td>NaN</td>\n",
       "      <td>NaN</td>\n",
       "      <td>NaN</td>\n",
       "      <td>NaN</td>\n",
       "      <td>NaN</td>\n",
       "      <td>NaN</td>\n",
       "      <td>NaN</td>\n",
       "      <td>NaN</td>\n",
       "      <td>NaN</td>\n",
       "      <td>NaN</td>\n",
       "      <td>NaN</td>\n",
       "      <td>NaN</td>\n",
       "      <td>NaN</td>\n",
       "    </tr>\n",
       "    <tr>\n",
       "      <th>3</th>\n",
       "      <td>AK5198</td>\n",
       "      <td>AirAsia</td>\n",
       "      <td>KUL</td>\n",
       "      <td>SDK</td>\n",
       "      <td>32S</td>\n",
       "      <td>0</td>\n",
       "      <td>0</td>\n",
       "      <td>175.0</td>\n",
       "      <td>1846.94</td>\n",
       "      <td>2.916667</td>\n",
       "      <td>633.236571</td>\n",
       "      <td>1.0</td>\n",
       "      <td>Friday</td>\n",
       "      <td>0</td>\n",
       "      <td>22</td>\n",
       "      <td>Night</td>\n",
       "      <td>2018-10-05</td>\n",
       "      <td>0</td>\n",
       "      <td>1</td>\n",
       "      <td>0</td>\n",
       "      <td>on time</td>\n",
       "      <td>1055</td>\n",
       "      <td>2174</td>\n",
       "      <td>NaN</td>\n",
       "      <td>NaN</td>\n",
       "      <td>23</td>\n",
       "      <td>NaN</td>\n",
       "      <td>NaN</td>\n",
       "      <td>NaN</td>\n",
       "      <td>NaN</td>\n",
       "      <td>NaN</td>\n",
       "      <td>NaN</td>\n",
       "      <td>NaN</td>\n",
       "      <td>NaN</td>\n",
       "      <td>NaN</td>\n",
       "      <td>NaN</td>\n",
       "      <td>NaN</td>\n",
       "      <td>NaN</td>\n",
       "      <td>NaN</td>\n",
       "      <td>NaN</td>\n",
       "    </tr>\n",
       "    <tr>\n",
       "      <th>4</th>\n",
       "      <td>AK516</td>\n",
       "      <td>AirAsia</td>\n",
       "      <td>KUL</td>\n",
       "      <td>HAN</td>\n",
       "      <td>32S</td>\n",
       "      <td>0</td>\n",
       "      <td>0</td>\n",
       "      <td>195.0</td>\n",
       "      <td>2102.37</td>\n",
       "      <td>3.250000</td>\n",
       "      <td>646.883077</td>\n",
       "      <td>0.0</td>\n",
       "      <td>Friday</td>\n",
       "      <td>0</td>\n",
       "      <td>22</td>\n",
       "      <td>Night</td>\n",
       "      <td>2018-10-05</td>\n",
       "      <td>0</td>\n",
       "      <td>1</td>\n",
       "      <td>0</td>\n",
       "      <td>on time</td>\n",
       "      <td>1055</td>\n",
       "      <td>2174</td>\n",
       "      <td>NaN</td>\n",
       "      <td>NaN</td>\n",
       "      <td>23</td>\n",
       "      <td>NaN</td>\n",
       "      <td>NaN</td>\n",
       "      <td>NaN</td>\n",
       "      <td>NaN</td>\n",
       "      <td>NaN</td>\n",
       "      <td>NaN</td>\n",
       "      <td>NaN</td>\n",
       "      <td>NaN</td>\n",
       "      <td>NaN</td>\n",
       "      <td>NaN</td>\n",
       "      <td>NaN</td>\n",
       "      <td>NaN</td>\n",
       "      <td>NaN</td>\n",
       "      <td>NaN</td>\n",
       "    </tr>\n",
       "  </tbody>\n",
       "</table>\n",
       "</div>"
      ],
      "text/plain": [
       "    number airline_name departure_airport_code arrival_airport_code  \\\n",
       "0   AK6430      AirAsia                    KUL                  KBR   \n",
       "1  ID*7164    Batik Air                    KUL                  CGK   \n",
       "2  MXD9116  Malindo Air                    KUL                  CGK   \n",
       "3   AK5198      AirAsia                    KUL                  SDK   \n",
       "4    AK516      AirAsia                    KUL                  HAN   \n",
       "\n",
       "  flight_equipment_iata  delay  flag_test  scheduled_flight_duration  \\\n",
       "0                   32S      2          0                       65.0   \n",
       "1                   32S      8          0                      115.0   \n",
       "2                   32S      8          0                      115.0   \n",
       "3                   32S      0          0                      175.0   \n",
       "4                   32S      0          0                      195.0   \n",
       "\n",
       "   distance  scheduled_flight_duration_h  flight_velocity  flag_faster_flight  \\\n",
       "0    385.98                     1.083333       356.289231                 0.0   \n",
       "1   1129.47                     1.916667       589.288696                 0.0   \n",
       "2   1129.47                     1.916667       589.288696                 0.0   \n",
       "3   1846.94                     2.916667       633.236571                 1.0   \n",
       "4   2102.37                     3.250000       646.883077                 0.0   \n",
       "\n",
       "  scheduled_departure_day  scheduled_departure_weekend_flag  \\\n",
       "0                  Friday                                 0   \n",
       "1                  Friday                                 0   \n",
       "2                  Friday                                 0   \n",
       "3                  Friday                                 0   \n",
       "4                  Friday                                 0   \n",
       "\n",
       "   scheduled_departure_hour scheduled_departure_pod scheduled_departure_date  \\\n",
       "0                        22                   Night               2018-10-05   \n",
       "1                        22                   Night               2018-10-05   \n",
       "2                        22                   Night               2018-10-05   \n",
       "3                        22                   Night               2018-10-05   \n",
       "4                        22                   Night               2018-10-05   \n",
       "\n",
       "   scheduled_departure_holiday_flag  scheduled_departure_min_1_holiday_flag  \\\n",
       "0                                 0                                       1   \n",
       "1                                 0                                       1   \n",
       "2                                 0                                       1   \n",
       "3                                 0                                       1   \n",
       "4                                 0                                       1   \n",
       "\n",
       "   flag_delay   delay_level  cnt_by_airport_date  cnt_by_airport_hour IATA  \\\n",
       "0           1   small delay                 1055                 2174  NaN   \n",
       "1           1  medium delay                 1055                 2174  NaN   \n",
       "2           1  medium delay                 1055                 2174  NaN   \n",
       "3           0       on time                 1055                 2174  NaN   \n",
       "4           0       on time                 1055                 2174  NaN   \n",
       "\n",
       "  Wake closest_weather_time date time   T  Po   U   DD  Ff    N   WW   Cl  \\\n",
       "0  NaN                   23  NaN  NaN NaN NaN NaN  NaN NaN  NaN  NaN  NaN   \n",
       "1  NaN                   23  NaN  NaN NaN NaN NaN  NaN NaN  NaN  NaN  NaN   \n",
       "2  NaN                   23  NaN  NaN NaN NaN NaN  NaN NaN  NaN  NaN  NaN   \n",
       "3  NaN                   23  NaN  NaN NaN NaN NaN  NaN NaN  NaN  NaN  NaN   \n",
       "4  NaN                   23  NaN  NaN NaN NaN NaN  NaN NaN  NaN  NaN  NaN   \n",
       "\n",
       "    Nh    H  VV city  \n",
       "0  NaN  NaN NaN  NaN  \n",
       "1  NaN  NaN NaN  NaN  \n",
       "2  NaN  NaN NaN  NaN  \n",
       "3  NaN  NaN NaN  NaN  \n",
       "4  NaN  NaN NaN  NaN  "
      ]
     },
     "execution_count": 108,
     "metadata": {},
     "output_type": "execute_result"
    }
   ],
   "source": [
    "df.head()"
   ]
  },
  {
   "cell_type": "markdown",
   "metadata": {},
   "source": [
    "### Drop Missing Values"
   ]
  },
  {
   "cell_type": "code",
   "execution_count": 109,
   "metadata": {
    "collapsed": true
   },
   "outputs": [],
   "source": [
    "df = df.dropna()"
   ]
  },
  {
   "cell_type": "code",
   "execution_count": 110,
   "metadata": {},
   "outputs": [
    {
     "name": "stdout",
     "output_type": "stream",
     "text": [
      "After missing values are removed the total number of rows become 562\n"
     ]
    }
   ],
   "source": [
    "print(f\"After missing values are removed the total number of rows become {df.shape[0]}\")"
   ]
  },
  {
   "cell_type": "markdown",
   "metadata": {},
   "source": [
    "### Drop Outliers"
   ]
  },
  {
   "cell_type": "code",
   "execution_count": 111,
   "metadata": {},
   "outputs": [
    {
     "data": {
      "image/png": "[encoded data removed]",
      "text/plain": [
       "<Figure size 1440x720 with 1 Axes>"
      ]
     },
     "metadata": {},
     "output_type": "display_data"
    }
   ],
   "source": [
    "plt.figure(figsize=[20, 10])\n",
    "sns.distplot(df[\"delay\"], hist=False)\n",
    "plt.title(\"Distribution of the Delay\")\n",
    "plt.show()"
   ]
  },
  {
   "cell_type": "code",
   "execution_count": 113,
   "metadata": {},
   "outputs": [
    {
     "name": "stdout",
     "output_type": "stream",
     "text": [
      "The total number of rows before the deletion of the outliers based on the column delay is 562\n"
     ]
    }
   ],
   "source": [
    "print(f\"The total number of rows before the deletion of the outliers based on the column delay is {df.shape[0]}\")"
   ]
  },
  {
   "cell_type": "code",
   "execution_count": 114,
   "metadata": {
    "collapsed": true
   },
   "outputs": [],
   "source": [
    "q1 = df[\"delay\"].quantile(0.25)\n",
    "q3 = df[\"delay\"].quantile(0.75)\n",
    "\n",
    "iqr = q3 - q1"
   ]
  },
  {
   "cell_type": "code",
   "execution_count": 115,
   "metadata": {},
   "outputs": [],
   "source": [
    "df = df[~(df[\"delay\"] > (q3 + 6 * iqr))]"
   ]
  },
  {
   "cell_type": "code",
   "execution_count": 116,
   "metadata": {},
   "outputs": [
    {
     "data": {
      "image/png": "[encoded data removed]",
      "text/plain": [
       "<Figure size 1440x720 with 1 Axes>"
      ]
     },
     "metadata": {},
     "output_type": "display_data"
    }
   ],
   "source": [
    "plt.figure(figsize=[20, 10])\n",
    "sns.distplot(df[\"delay\"], hist=False)\n",
    "plt.title(\"Distribution of the Delay After Outlier Removal\")\n",
    "plt.show()"
   ]
  },
  {
   "cell_type": "code",
   "execution_count": 117,
   "metadata": {},
   "outputs": [
    {
     "name": "stdout",
     "output_type": "stream",
     "text": [
      "The total number of rows before the deletion of the outliers based on the column delay is 514\n"
     ]
    }
   ],
   "source": [
    "print(f\"The total number of rows before the deletion of the outliers based on the column delay is {df.shape[0]}\")"
   ]
  },
  {
   "cell_type": "code",
   "execution_count": 118,
   "metadata": {
    "collapsed": true
   },
   "outputs": [],
   "source": [
    "df_test = df.copy()\n",
    "df_test = df_test[df_test[\"flag_test\"] == 1]\n",
    "\n",
    "df = df[df[\"flag_test\"] == 0].drop(\"flag_test\", axis=1)"
   ]
  },
  {
   "cell_type": "markdown",
   "metadata": {},
   "source": [
    "### Correlation Between Numerical Features"
   ]
  },
  {
   "cell_type": "code",
   "execution_count": 119,
   "metadata": {},
   "outputs": [
    {
     "data": {
      "image/png": "[encoded data removed]",
      "text/plain": [
       "<Figure size 864x864 with 2 Axes>"
      ]
     },
     "metadata": {},
     "output_type": "display_data"
    }
   ],
   "source": [
    "plt.figure(figsize=[12, 12])\n",
    "sns.heatmap(df.corr())\n",
    "plt.show()"
   ]
  },
  {
   "cell_type": "markdown",
   "metadata": {},
   "source": [
    "### Recommendation for the Passengers"
   ]
  },
  {
   "cell_type": "code",
   "execution_count": 120,
   "metadata": {
    "collapsed": true
   },
   "outputs": [],
   "source": [
    "delay_by_features = [\"airline_name\", \n",
    "                     \"scheduled_departure_pod\", \n",
    "                     \"scheduled_departure_hour\", \n",
    "                     \"scheduled_departure_holiday_flag\", \n",
    "                     \"scheduled_departure_day\",\n",
    "                    \"arrival_airport_code\",\n",
    "                     \"departure_airport_code\",\n",
    "                    \"number\"]\n",
    "delay_bys = {}\n",
    "\n",
    "for delay_by_feature in delay_by_features:\n",
    "    cnt_delay_by_df = df.groupby(delay_by_feature).sum()[\"flag_delay\"].reset_index().rename(columns={\"flag_delay\": \"cnt_delay\"})\n",
    "    obs_delay_by_df = df.groupby(delay_by_feature).count()[\"flag_delay\"].reset_index().rename(columns={\"flag_delay\": \"obs_delay\"})\n",
    "\n",
    "    delay_by_df = pd.merge(cnt_delay_by_df, obs_delay_by_df,  how='left', left_on=[delay_by_feature], right_on=[delay_by_feature])\n",
    "    delay_by_df[\"%_delay\"] = delay_by_df[\"cnt_delay\"] / delay_by_df[\"obs_delay\"]\n",
    "    \n",
    "    delay_bys[delay_by_feature] = delay_by_df.sort_values(by=\"%_delay\")"
   ]
  },
  {
   "cell_type": "code",
   "execution_count": 121,
   "metadata": {},
   "outputs": [
    {
     "data": {
      "image/png": "[encoded data removed]",
      "text/plain": [
       "<Figure size 1440x1440 with 4 Axes>"
      ]
     },
     "metadata": {},
     "output_type": "display_data"
    }
   ],
   "source": [
    "fig, axs = plt.subplots(2, 2, figsize=(20, 20))\n",
    "colors = ['#ff9999','#66b3ff','#99ff99','#ffcc99']\n",
    "\n",
    "\n",
    "i, j = 0, 0\n",
    "for col in [\"scheduled_departure_pod\", \"scheduled_departure_holiday_flag\", \"scheduled_departure_day\", \"departure_airport_code\"]:\n",
    "    labels = list(delay_bys[col][col])\n",
    "    sizes = list(round(delay_bys[col][\"%_delay\"] * 100))\n",
    "    \n",
    "    axs[i, j].pie(sizes, colors = colors, labels=labels, autopct='%1.1f%%', startangle=90)\n",
    "    axs[i, j].set_title(f\"Likelihood to delay by {col}\")\n",
    "    j += 1\n",
    "    \n",
    "    if j % 2 == 0:\n",
    "        j = 0\n",
    "        i += 1\n",
    "        \n",
    "plt.show()"
   ]
  },
  {
   "cell_type": "markdown",
   "metadata": {},
   "source": [
    "Looking at the pie charts above we can conclude these recommendations for the passengers:\n",
    "1. Travelling in the night (9pm - 3am) has a lower likelihood to delay compared to traveling in the noon (12pm - 4pm)\n",
    "2. Travelling in during the d-day of holiday has lower chance to delay compared to other normal days\n",
    "3. There's no really significant difference between travelling on weekdays or on weekends\n",
    "4. Travelling from Sultan Abdul Aziz Shah Airport (SZB) has lower chance to delay compared than the rest airport"
   ]
  },
  {
   "cell_type": "code",
   "execution_count": 122,
   "metadata": {
    "scrolled": true
   },
   "outputs": [
    {
     "data": {
      "text/html": [
       "<div>\n",
       "<style scoped>\n",
       "    .dataframe tbody tr th:only-of-type {\n",
       "        vertical-align: middle;\n",
       "    }\n",
       "\n",
       "    .dataframe tbody tr th {\n",
       "        vertical-align: top;\n",
       "    }\n",
       "\n",
       "    .dataframe thead th {\n",
       "        text-align: right;\n",
       "    }\n",
       "</style>\n",
       "<table border=\"1\" class=\"dataframe\">\n",
       "  <thead>\n",
       "    <tr style=\"text-align: right;\">\n",
       "      <th></th>\n",
       "      <th>airline_name</th>\n",
       "      <th>cnt_delay</th>\n",
       "      <th>obs_delay</th>\n",
       "      <th>%_delay</th>\n",
       "    </tr>\n",
       "  </thead>\n",
       "  <tbody>\n",
       "    <tr>\n",
       "      <th>0</th>\n",
       "      <td>Malaysia Airlines</td>\n",
       "      <td>152</td>\n",
       "      <td>384</td>\n",
       "      <td>0.395833</td>\n",
       "    </tr>\n",
       "  </tbody>\n",
       "</table>\n",
       "</div>"
      ],
      "text/plain": [
       "        airline_name  cnt_delay  obs_delay   %_delay\n",
       "0  Malaysia Airlines        152        384  0.395833"
      ]
     },
     "execution_count": 122,
     "metadata": {},
     "output_type": "execute_result"
    }
   ],
   "source": [
    "delay_bys[\"airline_name\"].head()"
   ]
  },
  {
   "cell_type": "markdown",
   "metadata": {},
   "source": [
    "Travelling using Firefly is very recommended since it has zero delays even after the 4,5k flights in the month"
   ]
  },
  {
   "cell_type": "code",
   "execution_count": 123,
   "metadata": {
    "scrolled": true
   },
   "outputs": [
    {
     "data": {
      "text/html": [
       "<div>\n",
       "<style scoped>\n",
       "    .dataframe tbody tr th:only-of-type {\n",
       "        vertical-align: middle;\n",
       "    }\n",
       "\n",
       "    .dataframe tbody tr th {\n",
       "        vertical-align: top;\n",
       "    }\n",
       "\n",
       "    .dataframe thead th {\n",
       "        text-align: right;\n",
       "    }\n",
       "</style>\n",
       "<table border=\"1\" class=\"dataframe\">\n",
       "  <thead>\n",
       "    <tr style=\"text-align: right;\">\n",
       "      <th></th>\n",
       "      <th>arrival_airport_code</th>\n",
       "      <th>cnt_delay</th>\n",
       "      <th>obs_delay</th>\n",
       "      <th>%_delay</th>\n",
       "    </tr>\n",
       "  </thead>\n",
       "  <tbody>\n",
       "    <tr>\n",
       "      <th>2</th>\n",
       "      <td>KCH</td>\n",
       "      <td>0</td>\n",
       "      <td>2</td>\n",
       "      <td>0.000000</td>\n",
       "    </tr>\n",
       "    <tr>\n",
       "      <th>0</th>\n",
       "      <td>BKI</td>\n",
       "      <td>52</td>\n",
       "      <td>216</td>\n",
       "      <td>0.240741</td>\n",
       "    </tr>\n",
       "    <tr>\n",
       "      <th>3</th>\n",
       "      <td>MYY</td>\n",
       "      <td>90</td>\n",
       "      <td>154</td>\n",
       "      <td>0.584416</td>\n",
       "    </tr>\n",
       "    <tr>\n",
       "      <th>1</th>\n",
       "      <td>HAN</td>\n",
       "      <td>10</td>\n",
       "      <td>12</td>\n",
       "      <td>0.833333</td>\n",
       "    </tr>\n",
       "  </tbody>\n",
       "</table>\n",
       "</div>"
      ],
      "text/plain": [
       "  arrival_airport_code  cnt_delay  obs_delay   %_delay\n",
       "2                  KCH          0          2  0.000000\n",
       "0                  BKI         52        216  0.240741\n",
       "3                  MYY         90        154  0.584416\n",
       "1                  HAN         10         12  0.833333"
      ]
     },
     "execution_count": 123,
     "metadata": {},
     "output_type": "execute_result"
    }
   ],
   "source": [
    "delay_bys[\"arrival_airport_code\"].head()"
   ]
  },
  {
   "cell_type": "code",
   "execution_count": 124,
   "metadata": {
    "scrolled": true
   },
   "outputs": [
    {
     "data": {
      "text/html": [
       "<div>\n",
       "<style scoped>\n",
       "    .dataframe tbody tr th:only-of-type {\n",
       "        vertical-align: middle;\n",
       "    }\n",
       "\n",
       "    .dataframe tbody tr th {\n",
       "        vertical-align: top;\n",
       "    }\n",
       "\n",
       "    .dataframe thead th {\n",
       "        text-align: right;\n",
       "    }\n",
       "</style>\n",
       "<table border=\"1\" class=\"dataframe\">\n",
       "  <thead>\n",
       "    <tr style=\"text-align: right;\">\n",
       "      <th></th>\n",
       "      <th>number</th>\n",
       "      <th>cnt_delay</th>\n",
       "      <th>obs_delay</th>\n",
       "      <th>%_delay</th>\n",
       "    </tr>\n",
       "  </thead>\n",
       "  <tbody>\n",
       "    <tr>\n",
       "      <th>5</th>\n",
       "      <td>MH6102</td>\n",
       "      <td>0</td>\n",
       "      <td>2</td>\n",
       "      <td>0.000000</td>\n",
       "    </tr>\n",
       "    <tr>\n",
       "      <th>0</th>\n",
       "      <td>MH3123</td>\n",
       "      <td>26</td>\n",
       "      <td>172</td>\n",
       "      <td>0.151163</td>\n",
       "    </tr>\n",
       "    <tr>\n",
       "      <th>1</th>\n",
       "      <td>MH3217</td>\n",
       "      <td>52</td>\n",
       "      <td>108</td>\n",
       "      <td>0.481481</td>\n",
       "    </tr>\n",
       "    <tr>\n",
       "      <th>2</th>\n",
       "      <td>MH3218</td>\n",
       "      <td>26</td>\n",
       "      <td>44</td>\n",
       "      <td>0.590909</td>\n",
       "    </tr>\n",
       "    <tr>\n",
       "      <th>3</th>\n",
       "      <td>MH3219</td>\n",
       "      <td>38</td>\n",
       "      <td>46</td>\n",
       "      <td>0.826087</td>\n",
       "    </tr>\n",
       "  </tbody>\n",
       "</table>\n",
       "</div>"
      ],
      "text/plain": [
       "   number  cnt_delay  obs_delay   %_delay\n",
       "5  MH6102          0          2  0.000000\n",
       "0  MH3123         26        172  0.151163\n",
       "1  MH3217         52        108  0.481481\n",
       "2  MH3218         26         44  0.590909\n",
       "3  MH3219         38         46  0.826087"
      ]
     },
     "execution_count": 124,
     "metadata": {},
     "output_type": "execute_result"
    }
   ],
   "source": [
    "delay_bys[\"number\"].head()"
   ]
  },
  {
   "cell_type": "markdown",
   "metadata": {},
   "source": [
    "## Linear Regression"
   ]
  },
  {
   "cell_type": "code",
   "execution_count": 126,
   "metadata": {},
   "outputs": [],
   "source": [
    "from sklearn.linear_model import LinearRegression, LogisticRegression\n",
    "from sklearn.metrics import r2_score"
   ]
  },
  {
   "cell_type": "markdown",
   "metadata": {},
   "source": [
    "#### Univariate Linear Regression"
   ]
  },
  {
   "cell_type": "markdown",
   "metadata": {},
   "source": [
    "For the purpose of creating the univariate linear regression, I used the delay as the dependent variable and distance as the independent variable"
   ]
  },
  {
   "cell_type": "code",
   "execution_count": 133,
   "metadata": {},
   "outputs": [
    {
     "name": "stdout",
     "output_type": "stream",
     "text": [
      "The linear model is: Y = 2.5561 + 0.004457X\n"
     ]
    }
   ],
   "source": [
    "X = df[\"distance\"].values.reshape(-1,1)\n",
    "y = df[\"delay\"].values.reshape(-1,1)\n",
    "\n",
    "reg = LinearRegression()\n",
    "reg.fit(X, y)\n",
    "print(\"The linear model is: Y = {:.5} + {:.5}X\".format(reg.intercept_[0], reg.coef_[0][0]))"
   ]
  },
  {
   "cell_type": "code",
   "execution_count": 134,
   "metadata": {},
   "outputs": [
    {
     "data": {
      "image/png": "[encoded data removed]",
      "text/plain": [
       "<Figure size 1152x576 with 1 Axes>"
      ]
     },
     "metadata": {},
     "output_type": "display_data"
    }
   ],
   "source": [
    "predictions = reg.predict(X)\n",
    "\n",
    "plt.figure(figsize=(16, 8))\n",
    "plt.scatter(\n",
    "    df['distance'],\n",
    "    df['delay'],\n",
    "    c='black'\n",
    ")\n",
    "plt.plot(\n",
    "    df['distance'],\n",
    "    predictions,\n",
    "    c='blue',\n",
    "    linewidth=2\n",
    ")\n",
    "plt.xlabel(\"Distance between two airports\")\n",
    "plt.ylabel(\"Delay\")\n",
    "plt.show()"
   ]
  },
  {
   "cell_type": "code",
   "execution_count": 135,
   "metadata": {
    "collapsed": true
   },
   "outputs": [],
   "source": [
    "from sklearn.metrics import r2_score, mean_squared_error, confusion_matrix, f1_score, auc"
   ]
  },
  {
   "cell_type": "code",
   "execution_count": 136,
   "metadata": {},
   "outputs": [
    {
     "name": "stdout",
     "output_type": "stream",
     "text": [
      "The R2 Score for the Univariate Linear Regression model is 0.05635493346452569 and the mean-squared error is 37.18387513047858\n"
     ]
    }
   ],
   "source": [
    "r2 = r2_score(y, predictions)\n",
    "mse = mean_squared_error(y, predictions)\n",
    "\n",
    "print(f\"The R2 Score for the Univariate Linear Regression model is {r2} and the mean-squared error is {mse}\")"
   ]
  },
  {
   "cell_type": "markdown",
   "metadata": {},
   "source": [
    "#### Multivariate Linear Regression"
   ]
  },
  {
   "cell_type": "code",
   "execution_count": 144,
   "metadata": {},
   "outputs": [
    {
     "data": {
      "text/plain": [
       "LinearRegression(copy_X=True, fit_intercept=True, n_jobs=None, normalize=False)"
      ]
     },
     "execution_count": 144,
     "metadata": {},
     "output_type": "execute_result"
    }
   ],
   "source": [
    "X = df[[\"flight_velocity\", \"flag_faster_flight\", \"scheduled_departure_holiday_flag\", \"cnt_by_airport_date\", \"cnt_by_airport_hour\", \"T\"]]\n",
    "y = df[\"delay\"].values.reshape(-1,1)\n",
    "\n",
    "reg = LinearRegression()\n",
    "reg.fit(X, y)"
   ]
  },
  {
   "cell_type": "code",
   "execution_count": 145,
   "metadata": {
    "collapsed": true
   },
   "outputs": [],
   "source": [
    "predictions = reg.predict(X)"
   ]
  },
  {
   "cell_type": "code",
   "execution_count": 146,
   "metadata": {},
   "outputs": [
    {
     "name": "stdout",
     "output_type": "stream",
     "text": [
      "The R2 Score for the Univariate Linear Regression model is 0.1292515167229401 and the mean-squared error is 34.31142070301985\n"
     ]
    }
   ],
   "source": [
    "r2 = r2_score(y, predictions)\n",
    "mse = mean_squared_error(y, predictions)\n",
    "\n",
    "print(f\"The R2 Score for the Univariate Linear Regression model is {r2} and the mean-squared error is {mse}\")"
   ]
  },
  {
   "cell_type": "markdown",
   "metadata": {},
   "source": [
    "### Logistic Regression"
   ]
  },
  {
   "cell_type": "code",
   "execution_count": 147,
   "metadata": {
    "collapsed": true
   },
   "outputs": [],
   "source": [
    "X = df[\"distance\"].values.reshape(-1,1)\n",
    "y = df[\"flag_delay\"].values.reshape(-1,1)"
   ]
  },
  {
   "cell_type": "code",
   "execution_count": 148,
   "metadata": {
    "collapsed": true
   },
   "outputs": [],
   "source": [
    "X_train, X_val, y_train, y_val = train_test_split(X, y, random_state=42)"
   ]
  },
  {
   "cell_type": "code",
   "execution_count": 149,
   "metadata": {},
   "outputs": [
    {
     "data": {
      "text/plain": [
       "LogisticRegression(C=1.0, class_weight=None, dual=False, fit_intercept=True,\n",
       "                   intercept_scaling=1, l1_ratio=None, max_iter=100,\n",
       "                   multi_class='warn', n_jobs=None, penalty='l2',\n",
       "                   random_state=None, solver='warn', tol=0.0001, verbose=0,\n",
       "                   warm_start=False)"
      ]
     },
     "execution_count": 149,
     "metadata": {},
     "output_type": "execute_result"
    }
   ],
   "source": [
    "lr = LogisticRegression()\n",
    "lr.fit(X_train, y_train)"
   ]
  },
  {
   "cell_type": "code",
   "execution_count": 150,
   "metadata": {
    "collapsed": true
   },
   "outputs": [],
   "source": [
    "y_pred = lr.predict(X_val)"
   ]
  },
  {
   "cell_type": "markdown",
   "metadata": {},
   "source": [
    "The confusion matrix, AUC and F1Score for the logistic regression model"
   ]
  },
  {
   "cell_type": "code",
   "execution_count": 151,
   "metadata": {},
   "outputs": [
    {
     "name": "stdout",
     "output_type": "stream",
     "text": [
      "The confusion matrix is as follow [[58  0]\n",
      " [35  3]]\n",
      "The F1 Score is 0.14634146341463414\n"
     ]
    }
   ],
   "source": [
    "print(f\"The confusion matrix is as follow {confusion_matrix(y_val, y_pred)}\")\n",
    "print(f\"The F1 Score is {f1_score(y_val, y_pred)}\")"
   ]
  },
  {
   "cell_type": "code",
   "execution_count": 155,
   "metadata": {},
   "outputs": [],
   "source": [
    "from scipy.special import expit\n",
    "\n",
    "df = pd.DataFrame({'X': X_val[:,0], 'y': y_val})\n",
    "df = df.sort_values(by='X')\n",
    "\n",
    "sigmoid_function = expit(df['X'] * lr.coef_[0][0] + lr.intercept_[0]).ravel()\n",
    "plt.figure(figsize=(16, 8))\n",
    "\n",
    "plt.plot(df['X'], sigmoid_function)\n",
    "plt.scatter(df['X'], df['y'], c=df['y'])\n",
    "plt.show()"
   ]
  },
  {
   "cell_type": "markdown",
   "metadata": {},
   "source": [
    "#### Decision Tree"
   ]
  },
  {
   "cell_type": "code",
   "execution_count": 156,
   "metadata": {
    "collapsed": true
   },
   "outputs": [],
   "source": [
    "from sklearn.tree import DecisionTreeClassifier\n",
    "from sklearn.tree import export_graphviz\n",
    "from sklearn.externals.six import StringIO \n"
   ]
  },
  {
   "cell_type": "code",
   "execution_count": 157,
   "metadata": {
    "collapsed": true
   },
   "outputs": [],
   "source": [
    "X = df[[\"distance\", \"scheduled_departure_weekend_flag\", \"scheduled_departure_holiday_flag\"]]\n",
    "y = df[\"delay\"]"
   ]
  },
  {
   "cell_type": "code",
   "execution_count": 158,
   "metadata": {
    "collapsed": true
   },
   "outputs": [],
   "source": [
    "X_train, X_val, y_train, y_val = train_test_split(X, y, random_state=1)"
   ]
  },
  {
   "cell_type": "code",
   "execution_count": 159,
   "metadata": {},
   "outputs": [
    {
     "data": {
      "text/plain": [
       "DecisionTreeClassifier(class_weight=None, criterion='gini', max_depth=None,\n",
       "                       max_features=None, max_leaf_nodes=None,\n",
       "                       min_impurity_decrease=0.0, min_impurity_split=None,\n",
       "                       min_samples_leaf=1, min_samples_split=2,\n",
       "                       min_weight_fraction_leaf=0.0, presort=False,\n",
       "                       random_state=None, splitter='best')"
      ]
     },
     "execution_count": 159,
     "metadata": {},
     "output_type": "execute_result"
    }
   ],
   "source": [
    "dt = DecisionTreeClassifier()\n",
    "dt.fit(X_train, y_train)"
   ]
  },
  {
   "cell_type": "code",
   "execution_count": 160,
   "metadata": {
    "collapsed": true
   },
   "outputs": [],
   "source": [
    "y_pred = dt.predict(X_val)"
   ]
  },
  {
   "cell_type": "code",
   "execution_count": 162,
   "metadata": {},
   "outputs": [],
   "source": [
    "print(f\"The confusion matrix is as follow {confusion_matrix(y_val, y_pred)}\")\n",
    "print(f\"The F1 Score is {f1_score(y_val, y_pred)}\")\n",
    "print(f\"The AUC is {auc(y_val, y_pred)}\")"
   ]
  }
 ],
 "metadata": {
  "kernelspec": {
   "display_name": "Python 3",
   "language": "python",
   "name": "python3"
  },
  "language_info": {
   "codemirror_mode": {
    "name": "ipython",
    "version": 3
   },
   "file_extension": ".py",
   "mimetype": "text/x-python",
   "name": "python",
   "nbconvert_exporter": "python",
   "pygments_lexer": "ipython3",
   "version": "3.6.3"
  }
 },
 "nbformat": 4,
 "nbformat_minor": 2
}
