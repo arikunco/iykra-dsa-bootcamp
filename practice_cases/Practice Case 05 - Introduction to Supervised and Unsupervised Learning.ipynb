{
 "cells": [
  {
   "cell_type": "markdown",
   "metadata": {},
   "source": [
    "<style>\n",
    "    .zero-margin {\n",
    "        margin: 0 px;\n",
    "     }\n",
    "</style>\n",
    "\n",
    "<div class=\"zero-margin\" style=\"text-align: center;\">\n",
    "    <p style=\"text-align: center; font-size: 20px; margin-bottom: 10px;\">Practice Case 05<p>\n",
    "    <p style=\"text-align: center; font-size: 30px; margin: 0px; font-weight: bold;text-transform: uppercase;\">Supervised Learning and Unsupervised Learning</p><br/>\n",
    "    <p  style=\"text-align: center; margin-bottom: 0px;\">Monday, November 11th 2019</p>\n",
    "     <p  style=\"text-align: center; margin-top: 0px;\">M. Haries Ramdhani</p>\n",
    "</div>"
   ]
  },
  {
   "cell_type": "markdown",
   "metadata": {},
   "source": [
    "# Data Preparation"
   ]
  },
  {
   "cell_type": "code",
   "execution_count": 1,
   "metadata": {
    "collapsed": true
   },
   "outputs": [],
   "source": [
    "import pandas as pd\n",
    "import numpy as np\n",
    "import seaborn as sns\n",
    "import matplotlib.pyplot as plt\n",
    "\n",
    "from collections import OrderedDict\n",
    "from matplotlib.gridspec import GridSpec\n",
    "from sklearn import metrics, linear_model\n",
    "from sklearn.preprocessing import PolynomialFeatures, StandardScaler\n",
    "from sklearn.preprocessing import LabelEncoder, OneHotEncoder\n",
    "from sklearn.model_selection import train_test_split, cross_val_score, cross_val_predict\n",
    "from scipy.optimize import curve_fit\n",
    "\n",
    "pd.options.display.max_columns = 50\n",
    "import warnings\n",
    "warnings.filterwarnings(\"ignore\")"
   ]
  },
  {
   "cell_type": "code",
   "execution_count": null,
   "metadata": {
    "collapsed": true
   },
   "outputs": [],
   "source": []
  }
 ],
 "metadata": {
  "kernelspec": {
   "display_name": "Python 3",
   "language": "python",
   "name": "python3"
  },
  "language_info": {
   "codemirror_mode": {
    "name": "ipython",
    "version": 3
   },
   "file_extension": ".py",
   "mimetype": "text/x-python",
   "name": "python",
   "nbconvert_exporter": "python",
   "pygments_lexer": "ipython3",
   "version": "3.6.3"
  }
 },
 "nbformat": 4,
 "nbformat_minor": 2
}
