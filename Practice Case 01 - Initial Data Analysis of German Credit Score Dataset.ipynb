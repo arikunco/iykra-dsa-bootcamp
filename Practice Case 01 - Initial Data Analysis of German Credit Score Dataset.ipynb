{
 "cells": [
  {
   "cell_type": "markdown",
   "metadata": {},
   "source": [
    "# Practice Case 01 - Initial Data Analysis of German Credit Score Dataset"
   ]
  },
  {
   "cell_type": "markdown",
   "metadata": {},
   "source": [
    "**Author**: M. Haries Ramdhani\n",
    "<br/>\n",
    "**Date**: Oct 24th 2019"
   ]
  },
  {
   "cell_type": "code",
   "execution_count": 147,
   "metadata": {
    "collapsed": true
   },
   "outputs": [],
   "source": [
    "import pandas as pd\n",
    "import numpy as np\n",
    "\n",
    "import warnings\n",
    "warnings.filterwarnings('ignore')"
   ]
  },
  {
   "cell_type": "code",
   "execution_count": 10,
   "metadata": {
    "collapsed": true
   },
   "outputs": [],
   "source": [
    "# Import the data and remove the index\n",
    "df = pd.read_csv(\"german_credit_data_with_risk.csv\").iloc[:, 1:]"
   ]
  },
  {
   "cell_type": "markdown",
   "metadata": {},
   "source": [
    "### Part A"
   ]
  },
  {
   "cell_type": "markdown",
   "metadata": {},
   "source": [
    "On your Jupyter notebook, answer the following questions! "
   ]
  },
  {
   "cell_type": "markdown",
   "metadata": {},
   "source": [
    "1\\. How many rows and columns reflected in the dataset?"
   ]
  },
  {
   "cell_type": "code",
   "execution_count": 11,
   "metadata": {
    "collapsed": true
   },
   "outputs": [],
   "source": [
    "row, column = df.shape"
   ]
  },
  {
   "cell_type": "code",
   "execution_count": 8,
   "metadata": {},
   "outputs": [
    {
     "name": "stdout",
     "output_type": "stream",
     "text": [
      "There are 1000 rows and 11 columns in the dataset\n"
     ]
    }
   ],
   "source": [
    "print(f\"There are {row} rows and {column} columns in the dataset\")"
   ]
  },
  {
   "cell_type": "markdown",
   "metadata": {},
   "source": [
    "2\\. What is the minimum, maximum, and mean of the customer's age?"
   ]
  },
  {
   "cell_type": "code",
   "execution_count": 20,
   "metadata": {},
   "outputs": [],
   "source": [
    "min_age, max_age, mean_age = df.describe()[\"Age\"].loc[[\"min\", \"max\", \"mean\"]].values"
   ]
  },
  {
   "cell_type": "code",
   "execution_count": 22,
   "metadata": {},
   "outputs": [
    {
     "name": "stdout",
     "output_type": "stream",
     "text": [
      "The minimum age of the customers is 19.0\n",
      "The maximum age of the customers is 75.0\n",
      "The mean age of the customers is 35.55\n"
     ]
    }
   ],
   "source": [
    "age_desc = {\n",
    "    \"minimum age\": min_age, \n",
    "    \"maximum age\": max_age, \n",
    "    \"mean age\": round(mean_age, 2)\n",
    "}\n",
    "\n",
    "for key in age_desc.keys():\n",
    "    print(f\"The {key} of the customers is {age_desc[key]}\")"
   ]
  },
  {
   "cell_type": "markdown",
   "metadata": {},
   "source": [
    "3\\. How many are male and how many are female? Why?"
   ]
  },
  {
   "cell_type": "code",
   "execution_count": 28,
   "metadata": {},
   "outputs": [],
   "source": [
    "male_count, female_count = df[\"Sex\"].value_counts().loc[[\"male\", \"female\"]]"
   ]
  },
  {
   "cell_type": "code",
   "execution_count": 29,
   "metadata": {},
   "outputs": [
    {
     "name": "stdout",
     "output_type": "stream",
     "text": [
      "There are 690 males and 310 females in the dataset\n"
     ]
    }
   ],
   "source": [
    "print(f\"There are {male_count} males and {female_count} females in the dataset\")"
   ]
  },
  {
   "cell_type": "markdown",
   "metadata": {},
   "source": [
    "Why? Possibly because of the tendency of female to use their husband's name when they're registering for credit. Also based on this [article](https://www.federalreserve.gov/econres/notes/feds-notes/gender-related-differences-in-credit-use-and-credit-scores-20180622.htm) it was suggested that male has higher tendency to credit."
   ]
  },
  {
   "cell_type": "markdown",
   "metadata": {},
   "source": [
    "4\\. How many high skilled workers customers reflected in the dataset?"
   ]
  },
  {
   "cell_type": "code",
   "execution_count": 63,
   "metadata": {
    "collapsed": true
   },
   "outputs": [],
   "source": [
    "# Create new column to store customers job description\n",
    "job_dict = {\n",
    "    0 : \"unskilled and non-resident\", \n",
    "    1 : \"unskilled and resident\", \n",
    "    2 : \"skilled\", \n",
    "    3 : \"highly skilled\" \n",
    "}\n",
    "\n",
    "df[\"Job desc\"] = df[\"Job\"].apply(lambda x: job_dict[x])"
   ]
  },
  {
   "cell_type": "code",
   "execution_count": 34,
   "metadata": {},
   "outputs": [],
   "source": [
    "h_skilled_workers_count = sum(df[\"Job\"] == 3)"
   ]
  },
  {
   "cell_type": "code",
   "execution_count": 35,
   "metadata": {},
   "outputs": [
    {
     "name": "stdout",
     "output_type": "stream",
     "text": [
      "There are 148 highly skilled workers customers in the data set\n"
     ]
    }
   ],
   "source": [
    "print(f\"There are {h_skilled_workers_count} highly skilled workers customers in the data set\")"
   ]
  },
  {
   "cell_type": "markdown",
   "metadata": {},
   "source": [
    "5\\. How many customers who own the house?"
   ]
  },
  {
   "cell_type": "code",
   "execution_count": 37,
   "metadata": {},
   "outputs": [],
   "source": [
    "own_house_count = sum(df[\"Housing\"] == \"own\")"
   ]
  },
  {
   "cell_type": "code",
   "execution_count": 38,
   "metadata": {},
   "outputs": [
    {
     "name": "stdout",
     "output_type": "stream",
     "text": [
      "There are 713 customers who own the house\n"
     ]
    }
   ],
   "source": [
    "print(f\"There are {own_house_count} customers who own the house\")"
   ]
  },
  {
   "cell_type": "markdown",
   "metadata": {},
   "source": [
    "6\\. How many customers who have 'rich' Saving accounts? "
   ]
  },
  {
   "cell_type": "code",
   "execution_count": 39,
   "metadata": {
    "collapsed": true
   },
   "outputs": [],
   "source": [
    "rich_saving_acc_count = sum(df[\"Saving accounts\"] == \"rich\")"
   ]
  },
  {
   "cell_type": "code",
   "execution_count": 40,
   "metadata": {},
   "outputs": [
    {
     "name": "stdout",
     "output_type": "stream",
     "text": [
      "There are 48 customers who have 'rich' saving accounts\n"
     ]
    }
   ],
   "source": [
    "print(f\"There are {rich_saving_acc_count} customers who have 'rich' saving accounts\")"
   ]
  },
  {
   "cell_type": "markdown",
   "metadata": {},
   "source": [
    "7\\. How many customers who do not have checking accounts or have zero checking account? "
   ]
  },
  {
   "cell_type": "code",
   "execution_count": 181,
   "metadata": {},
   "outputs": [],
   "source": [
    "no_checking_acc = sum(df[\"Saving accounts\"].isnull())"
   ]
  },
  {
   "cell_type": "code",
   "execution_count": 182,
   "metadata": {},
   "outputs": [
    {
     "name": "stdout",
     "output_type": "stream",
     "text": [
      "The total number of customer who do not have checking account is 183\n"
     ]
    }
   ],
   "source": [
    "print(f\"The total number of customer who do not have checking account is {no_checking_acc}\")"
   ]
  },
  {
   "cell_type": "markdown",
   "metadata": {},
   "source": [
    "8\\. Who is the one who have highest credit amount? Show us the profile of the age, sex, job, housing, saving\n",
    "account, and checking account!"
   ]
  },
  {
   "cell_type": "code",
   "execution_count": 65,
   "metadata": {},
   "outputs": [],
   "source": [
    "highest_saving_account = df[df[\"Credit amount\"] == max(df[\"Credit amount\"])]"
   ]
  },
  {
   "cell_type": "code",
   "execution_count": 51,
   "metadata": {},
   "outputs": [
    {
     "data": {
      "text/html": [
       "<div>\n",
       "<style>\n",
       "    .dataframe thead tr:only-child th {\n",
       "        text-align: right;\n",
       "    }\n",
       "\n",
       "    .dataframe thead th {\n",
       "        text-align: left;\n",
       "    }\n",
       "\n",
       "    .dataframe tbody tr th {\n",
       "        vertical-align: top;\n",
       "    }\n",
       "</style>\n",
       "<table border=\"1\" class=\"dataframe\">\n",
       "  <thead>\n",
       "    <tr style=\"text-align: right;\">\n",
       "      <th></th>\n",
       "      <th>Age</th>\n",
       "      <th>Sex</th>\n",
       "      <th>Job</th>\n",
       "      <th>Housing</th>\n",
       "      <th>Saving accounts</th>\n",
       "      <th>Checking account</th>\n",
       "      <th>Credit amount</th>\n",
       "      <th>Duration</th>\n",
       "      <th>Purpose</th>\n",
       "      <th>Risk</th>\n",
       "    </tr>\n",
       "  </thead>\n",
       "  <tbody>\n",
       "    <tr>\n",
       "      <th>915</th>\n",
       "      <td>32</td>\n",
       "      <td>female</td>\n",
       "      <td>3</td>\n",
       "      <td>own</td>\n",
       "      <td>little</td>\n",
       "      <td>moderate</td>\n",
       "      <td>18424</td>\n",
       "      <td>48</td>\n",
       "      <td>vacation/others</td>\n",
       "      <td>bad</td>\n",
       "    </tr>\n",
       "  </tbody>\n",
       "</table>\n",
       "</div>"
      ],
      "text/plain": [
       "     Age     Sex  Job Housing Saving accounts Checking account  Credit amount  \\\n",
       "915   32  female    3     own          little         moderate          18424   \n",
       "\n",
       "     Duration          Purpose Risk  \n",
       "915        48  vacation/others  bad  "
      ]
     },
     "execution_count": 51,
     "metadata": {},
     "output_type": "execute_result"
    }
   ],
   "source": [
    "highest_saving_account"
   ]
  },
  {
   "cell_type": "code",
   "execution_count": 69,
   "metadata": {},
   "outputs": [],
   "source": [
    "hsa_profile = {}\n",
    "hsa_profile[\"age\"], hsa_profile[\"sex\"], hsa_profile[\"job desc\"], hsa_profile[\"housing\"], hsa_profile[\"saving account\"], hsa_profile[\"checking account\"]  = highest_saving_account[[\"Age\", \"Sex\", \"Job desc\", \"Housing\", \"Saving accounts\", \"Checking account\"]].values[0]"
   ]
  },
  {
   "cell_type": "code",
   "execution_count": 117,
   "metadata": {},
   "outputs": [
    {
     "name": "stdout",
     "output_type": "stream",
     "text": [
      "Client with the highest credit amount is a female and she credited as much as 18424 Mark\n",
      "The client is 32 years old and a highly skilled worker\n",
      "The client own a house\n",
      "The client has little saving account and moderate checking account\n"
     ]
    }
   ],
   "source": [
    "print(f\"Client with the highest credit amount is a {hsa_profile['sex']} and she credited as much as {max(df['Credit amount'])} Mark\")\n",
    "print(f\"The client is {hsa_profile['age']} years old and a {hsa_profile['job desc']} worker\")\n",
    "print(f\"The client {hsa_profile['housing']} a house\")\n",
    "print(f\"The client has {hsa_profile['saving account']} saving account and {hsa_profile['checking account']} checking account\")"
   ]
  },
  {
   "cell_type": "markdown",
   "metadata": {},
   "source": [
    "9\\. How many customers are classified as good risk and bad risk? "
   ]
  },
  {
   "cell_type": "code",
   "execution_count": 82,
   "metadata": {},
   "outputs": [],
   "source": [
    "risk_good, risk_bad = df[\"Risk\"].value_counts().loc[[\"good\", \"bad\"]]"
   ]
  },
  {
   "cell_type": "code",
   "execution_count": 84,
   "metadata": {},
   "outputs": [
    {
     "name": "stdout",
     "output_type": "stream",
     "text": [
      "There are 700 customers classified as having a good risk and there are 300 customers classified as having a bad risk\n"
     ]
    }
   ],
   "source": [
    "print(f\"There are {risk_good} customers classified as having good risk and there are {risk_bad} customers classified as having bad risk\")"
   ]
  },
  {
   "cell_type": "markdown",
   "metadata": {},
   "source": [
    "10\\. Is the average of credit amount for good risk is higher than bad risk?"
   ]
  },
  {
   "cell_type": "code",
   "execution_count": 90,
   "metadata": {},
   "outputs": [],
   "source": [
    "good_risk_credit_amt = round(df[df[\"Risk\"] == \"good\"][\"Credit amount\"].mean(), 2)\n",
    "bad_risk_credit_amt = round(df[df[\"Risk\"] == \"bad\"][\"Credit amount\"].mean(), 2)"
   ]
  },
  {
   "cell_type": "code",
   "execution_count": 96,
   "metadata": {},
   "outputs": [
    {
     "name": "stdout",
     "output_type": "stream",
     "text": [
      "No, the average credit amount for good risk is not higher than bad risk\n"
     ]
    }
   ],
   "source": [
    "print(f\"{'Yes' if good_risk_credit_amt > bad_risk_credit_amt else 'No'}, the average credit amount for good risk {'is' if good_risk_credit_amt > bad_risk_credit_amt else 'is not'} higher than bad risk\")"
   ]
  },
  {
   "cell_type": "markdown",
   "metadata": {},
   "source": [
    "### Part B"
   ]
  },
  {
   "cell_type": "markdown",
   "metadata": {},
   "source": [
    "Aside questions mentioned on Part A, create 10 more questions and answers to understand more about\n",
    "the dataset. "
   ]
  },
  {
   "cell_type": "markdown",
   "metadata": {},
   "source": [
    "1\\. Do the clients with 'rich' saving accounts borrow more in average compared to the ones with 'little' saving accounts?"
   ]
  },
  {
   "cell_type": "code",
   "execution_count": 98,
   "metadata": {
    "collapsed": true
   },
   "outputs": [],
   "source": [
    "rich_sa_credit_amt = round(df[df[\"Saving accounts\"] == \"rich\"][\"Credit amount\"].mean(), 2)\n",
    "little_sa_credit_amt = round(df[df[\"Saving accounts\"] == \"little\"][\"Credit amount\"].mean(), 2)"
   ]
  },
  {
   "cell_type": "code",
   "execution_count": 102,
   "metadata": {},
   "outputs": [
    {
     "name": "stdout",
     "output_type": "stream",
     "text": [
      "No, the client with 'rich' saving accounts do not borrow more in average compared to the ones with 'little' saving accounts\n"
     ]
    }
   ],
   "source": [
    "print(f\"{'Yes' if rich_sa_credit_amt > little_sa_credit_amt else 'No'}, the client with 'rich' saving accounts {'' if rich_sa_credit_amt > little_sa_credit_amt else 'do not'} borrow more in average compared to the ones with 'little' saving accounts\")"
   ]
  },
  {
   "cell_type": "markdown",
   "metadata": {},
   "source": [
    "2\\. What did the majority of the client use their credit for?"
   ]
  },
  {
   "cell_type": "code",
   "execution_count": 116,
   "metadata": {},
   "outputs": [
    {
     "name": "stdout",
     "output_type": "stream",
     "text": [
      "The majority of the clients used their credit money to buy car\n"
     ]
    }
   ],
   "source": [
    "majority_purpose = df[\"Purpose\"].value_counts().index[0]\n",
    "print(f\"The majority of the clients used their credit money to buy {majority_purpose}\")"
   ]
  },
  {
   "cell_type": "markdown",
   "metadata": {},
   "source": [
    "3\\. Compared to the female customers, do male customers tend to be in the bad risk category?"
   ]
  },
  {
   "cell_type": "code",
   "execution_count": 134,
   "metadata": {},
   "outputs": [],
   "source": [
    "male_all_count = sum(df[\"Sex\"] == \"male\")\n",
    "male_bad_count = sum((df[\"Sex\"] == \"male\") & (df[\"Risk\"] == 'bad'))\n",
    "male_bad_percentage = round((male_bad_count/male_all_count) * 100, 2)\n",
    "\n",
    "female_all_count = sum(df[\"Sex\"] == \"female\")\n",
    "female_bad_count = sum((df[\"Sex\"] == \"female\") & (df[\"Risk\"] == 'bad'))\n",
    "female_bad_percentage = round((female_bad_count/female_all_count) * 100, 2)"
   ]
  },
  {
   "cell_type": "code",
   "execution_count": 137,
   "metadata": {},
   "outputs": [
    {
     "name": "stdout",
     "output_type": "stream",
     "text": [
      "No, male customers do not tend to be in the bad risk category\n",
      "Percentage of the male customers who are in the bad risk category 27.68%\n",
      "Percentage of the female customers who are in the bad risk category 35.16%\n"
     ]
    }
   ],
   "source": [
    "print(f\"{'Yes' if male_bad_percentage > female_bad_percentage else 'No'}, male customers {'' if male_bad_percentage > female_bad_percentage else 'do not'} tend to be in the bad risk category\")\n",
    "print(f\"Percentage of the male customers who are in the bad risk category {male_bad_percentage}%\")\n",
    "print(f\"Percentage of the female customers who are in the bad risk category {female_bad_percentage}%\")"
   ]
  },
  {
   "cell_type": "markdown",
   "metadata": {},
   "source": [
    "4\\. How many people in the Top 10 highest credit amount are having bad risk?"
   ]
  },
  {
   "cell_type": "code",
   "execution_count": 148,
   "metadata": {},
   "outputs": [],
   "source": [
    "bad_risk_top_10 = df.sort_values(by=\"Credit amount\", ascending=False).head(10)[df[\"Risk\"] == \"bad\"].shape[0]"
   ]
  },
  {
   "cell_type": "code",
   "execution_count": 150,
   "metadata": {},
   "outputs": [
    {
     "name": "stdout",
     "output_type": "stream",
     "text": [
      "There are 8 people in the Top 10 highest credit amount that are having bad risk\n"
     ]
    }
   ],
   "source": [
    "print(f\"There are {bad_risk_top_10} people in the Top 10 highest credit amount that are having bad risk\")"
   ]
  },
  {
   "cell_type": "markdown",
   "metadata": {},
   "source": [
    "5\\. What is the shortest and longest duration available to credit?"
   ]
  },
  {
   "cell_type": "code",
   "execution_count": 153,
   "metadata": {},
   "outputs": [],
   "source": [
    "max_duration = max(df[\"Duration\"])\n",
    "min_duration = min(df[\"Duration\"])"
   ]
  },
  {
   "cell_type": "code",
   "execution_count": 154,
   "metadata": {},
   "outputs": [
    {
     "name": "stdout",
     "output_type": "stream",
     "text": [
      "The maximum duration available to credit is 72 months and the minimum duration is 4 months\n"
     ]
    }
   ],
   "source": [
    "print(f\"The maximum duration available to credit is {max_duration} months and the minimum duration is {min_duration} months\")"
   ]
  },
  {
   "cell_type": "markdown",
   "metadata": {},
   "source": [
    "6\\. What is the profile of the person who has to pay the highest monthly (If we exclude the interest rate per month)?"
   ]
  },
  {
   "cell_type": "code",
   "execution_count": 155,
   "metadata": {
    "collapsed": true
   },
   "outputs": [],
   "source": [
    "df[\"pay_per_month_ex_ir\"] = df[\"Credit amount\"] / df[\"Duration\"]"
   ]
  },
  {
   "cell_type": "code",
   "execution_count": 160,
   "metadata": {},
   "outputs": [
    {
     "name": "stdout",
     "output_type": "stream",
     "text": [
      "This is the profile of the person who has to pay the highest monthly if we exclude the interest rate\n"
     ]
    },
    {
     "data": {
      "text/html": [
       "<div>\n",
       "<style>\n",
       "    .dataframe thead tr:only-child th {\n",
       "        text-align: right;\n",
       "    }\n",
       "\n",
       "    .dataframe thead th {\n",
       "        text-align: left;\n",
       "    }\n",
       "\n",
       "    .dataframe tbody tr th {\n",
       "        vertical-align: top;\n",
       "    }\n",
       "</style>\n",
       "<table border=\"1\" class=\"dataframe\">\n",
       "  <thead>\n",
       "    <tr style=\"text-align: right;\">\n",
       "      <th></th>\n",
       "      <th>Age</th>\n",
       "      <th>Sex</th>\n",
       "      <th>Job</th>\n",
       "      <th>Housing</th>\n",
       "      <th>Saving accounts</th>\n",
       "      <th>Checking account</th>\n",
       "      <th>Credit amount</th>\n",
       "      <th>Duration</th>\n",
       "      <th>Purpose</th>\n",
       "      <th>Risk</th>\n",
       "      <th>Job desc</th>\n",
       "      <th>pay_per_month_ex_ir</th>\n",
       "    </tr>\n",
       "  </thead>\n",
       "  <tbody>\n",
       "    <tr>\n",
       "      <th>917</th>\n",
       "      <td>68</td>\n",
       "      <td>male</td>\n",
       "      <td>3</td>\n",
       "      <td>own</td>\n",
       "      <td>little</td>\n",
       "      <td>little</td>\n",
       "      <td>14896</td>\n",
       "      <td>6</td>\n",
       "      <td>car</td>\n",
       "      <td>bad</td>\n",
       "      <td>highly skilled</td>\n",
       "      <td>2482.666667</td>\n",
       "    </tr>\n",
       "  </tbody>\n",
       "</table>\n",
       "</div>"
      ],
      "text/plain": [
       "     Age   Sex  Job Housing Saving accounts Checking account  Credit amount  \\\n",
       "917   68  male    3     own          little           little          14896   \n",
       "\n",
       "     Duration Purpose Risk        Job desc  pay_per_month_ex_ir  \n",
       "917         6     car  bad  highly skilled          2482.666667  "
      ]
     },
     "execution_count": 160,
     "metadata": {},
     "output_type": "execute_result"
    }
   ],
   "source": [
    "print(f\"This is the profile of the person who has to pay the highest monthly if we exclude the interest rate\")\n",
    "df.sort_values(by=\"pay_per_month_ex_ir\", ascending=False).head(1)"
   ]
  },
  {
   "cell_type": "markdown",
   "metadata": {},
   "source": [
    "7\\. What is the total of the credit amount of people who credited lower than 1 year duration in the data set?"
   ]
  },
  {
   "cell_type": "code",
   "execution_count": 166,
   "metadata": {
    "collapsed": true
   },
   "outputs": [],
   "source": [
    "total_cred_amt = sum(df[df[\"Duration\"] < 12][\"Credit amount\"])"
   ]
  },
  {
   "cell_type": "code",
   "execution_count": 168,
   "metadata": {},
   "outputs": [
    {
     "name": "stdout",
     "output_type": "stream",
     "text": [
      "The total credit amount in the data set is 330355 Mark\n"
     ]
    }
   ],
   "source": [
    "print(f\"The total credit amount in the data set is {total_cred_amt} Mark\")"
   ]
  },
  {
   "cell_type": "markdown",
   "metadata": {},
   "source": [
    "8\\. How many people have `little` saving account but `rich` checking account? "
   ]
  },
  {
   "cell_type": "code",
   "execution_count": 186,
   "metadata": {},
   "outputs": [],
   "source": [
    "account_count = df[(df[\"Saving accounts\"] == 'little') & (df[\"Checking account\"] == 'rich')].shape[0]"
   ]
  },
  {
   "cell_type": "code",
   "execution_count": 187,
   "metadata": {},
   "outputs": [
    {
     "name": "stdout",
     "output_type": "stream",
     "text": [
      "There are 41 who have little saving account but rich checking account\n"
     ]
    }
   ],
   "source": [
    "print(f\"There are {account_count} who have little saving account but rich checking account\")"
   ]
  },
  {
   "cell_type": "markdown",
   "metadata": {},
   "source": [
    "9\\. Do majoirty of the clients have little saving accounts?"
   ]
  },
  {
   "cell_type": "code",
   "execution_count": 198,
   "metadata": {},
   "outputs": [],
   "source": [
    "little_sa_percentage = sum(df[\"Saving accounts\"] == \"little\")/df.shape[0] * 100"
   ]
  },
  {
   "cell_type": "code",
   "execution_count": 201,
   "metadata": {},
   "outputs": [
    {
     "name": "stdout",
     "output_type": "stream",
     "text": [
      "Yes the majority of the clients have little saving account (60.3%)\n"
     ]
    }
   ],
   "source": [
    "print(f\"Yes the majority of the clients have little saving account ({little_sa_percentage}%)\")"
   ]
  },
  {
   "cell_type": "markdown",
   "metadata": {},
   "source": [
    "10\\. What age appears the most dataset?"
   ]
  },
  {
   "cell_type": "code",
   "execution_count": 206,
   "metadata": {},
   "outputs": [],
   "source": [
    "age = df[\"Age\"].value_counts().head(1).index[0]\n",
    "appearance = df[\"Age\"].value_counts().head(1).values[0]"
   ]
  },
  {
   "cell_type": "code",
   "execution_count": 207,
   "metadata": {},
   "outputs": [
    {
     "name": "stdout",
     "output_type": "stream",
     "text": [
      "The age 27 appeared 51 times in the data set\n"
     ]
    }
   ],
   "source": [
    "print(f\"The age {age} appeared {appearance} times in the data set\")"
   ]
  },
  {
   "cell_type": "markdown",
   "metadata": {},
   "source": [
    "### Part C"
   ]
  },
  {
   "cell_type": "markdown",
   "metadata": {},
   "source": [
    "1\\. Can we create a model to predict whether a client is having a bad risk or good risk using the attributes in the data set (Credit Scoring)?"
   ]
  },
  {
   "cell_type": "markdown",
   "metadata": {},
   "source": [
    "2\\. Using the prediction created in the first question, what would be the most optimized way to decide the threshold of the credit score?"
   ]
  },
  {
   "cell_type": "markdown",
   "metadata": {},
   "source": [
    "3\\. To what kind of people should we market our loan products if we know the fact that the clients with that kind of profile have good credit score and will always pay on time?"
   ]
  }
 ],
 "metadata": {
  "kernelspec": {
   "display_name": "Python 3",
   "language": "python",
   "name": "python3"
  },
  "language_info": {
   "codemirror_mode": {
    "name": "ipython",
    "version": 3
   },
   "file_extension": ".py",
   "mimetype": "text/x-python",
   "name": "python",
   "nbconvert_exporter": "python",
   "pygments_lexer": "ipython3",
   "version": "3.6.3"
  }
 },
 "nbformat": 4,
 "nbformat_minor": 2
}
