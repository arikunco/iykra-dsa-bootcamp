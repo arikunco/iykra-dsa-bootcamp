{
 "cells": [
  {
   "cell_type": "markdown",
   "metadata": {},
   "source": [
    "## Foundation of Statistics - Exercise"
   ]
  },
  {
   "cell_type": "markdown",
   "metadata": {},
   "source": [
    "**Author** : M. Haries Ramdhani<br/>\n",
    "**Date** : Oct 25th 2019"
   ]
  },
  {
   "cell_type": "code",
   "execution_count": 168,
   "metadata": {
    "collapsed": true
   },
   "outputs": [],
   "source": [
    "import pandas as pd\n",
    "import numpy as np\n",
    "import seaborn as sns\n",
    "import matplotlib.pyplot as plt\n",
    "import math\n",
    "\n",
    "pd.set_option('display.max_columns', 1000)"
   ]
  },
  {
   "cell_type": "code",
   "execution_count": 115,
   "metadata": {},
   "outputs": [],
   "source": [
    "# Import the data\n",
    "df = pd.read_excel(\"data loan.xlsx\")\n",
    "\n",
    "df = df.set_index(\"Kontrak\")"
   ]
  },
  {
   "cell_type": "code",
   "execution_count": 116,
   "metadata": {},
   "outputs": [
    {
     "name": "stdout",
     "output_type": "stream",
     "text": [
      "The initial data size is 28293 rows and 22 columns\n"
     ]
    }
   ],
   "source": [
    "print(f\"The initial data size is {df.shape[0]} rows and {df.shape[1]} columns\")"
   ]
  },
  {
   "cell_type": "code",
   "execution_count": 117,
   "metadata": {},
   "outputs": [],
   "source": [
    "# Sample 80% of the data\n",
    "df = df.sample(int(df.shape[0] * 0.8), random_state=42).reset_index(drop=True)"
   ]
  },
  {
   "cell_type": "code",
   "execution_count": 118,
   "metadata": {},
   "outputs": [
    {
     "name": "stdout",
     "output_type": "stream",
     "text": [
      "The data size after simple random sampling is performed became 22634 rows and 22 columns\n"
     ]
    }
   ],
   "source": [
    "print(f\"The data size after simple random sampling is performed became {df.shape[0]} rows and {df.shape[1]} columns\")"
   ]
  },
  {
   "cell_type": "code",
   "execution_count": 119,
   "metadata": {},
   "outputs": [
    {
     "data": {
      "text/html": [
       "<div>\n",
       "<style>\n",
       "    .dataframe thead tr:only-child th {\n",
       "        text-align: right;\n",
       "    }\n",
       "\n",
       "    .dataframe thead th {\n",
       "        text-align: left;\n",
       "    }\n",
       "\n",
       "    .dataframe tbody tr th {\n",
       "        vertical-align: top;\n",
       "    }\n",
       "</style>\n",
       "<table border=\"1\" class=\"dataframe\">\n",
       "  <thead>\n",
       "    <tr style=\"text-align: right;\">\n",
       "      <th></th>\n",
       "      <th>Tipe_Kendaraan</th>\n",
       "      <th>Pekerjaan</th>\n",
       "      <th>Area</th>\n",
       "      <th>Tenor</th>\n",
       "      <th>Bucket_Collectability</th>\n",
       "      <th>NPF</th>\n",
       "      <th>Total_AR</th>\n",
       "      <th>LTV</th>\n",
       "      <th>OTR</th>\n",
       "      <th>Age</th>\n",
       "      <th>Interest_Rate</th>\n",
       "      <th>Income</th>\n",
       "      <th>DP</th>\n",
       "      <th>AF</th>\n",
       "      <th>Tujuan</th>\n",
       "      <th>Pendidikan</th>\n",
       "      <th>Tanggungan</th>\n",
       "      <th>Status</th>\n",
       "      <th>Gender</th>\n",
       "      <th>Paket</th>\n",
       "      <th>Inflasi</th>\n",
       "      <th>Segmen</th>\n",
       "    </tr>\n",
       "  </thead>\n",
       "  <tbody>\n",
       "    <tr>\n",
       "      <th>0</th>\n",
       "      <td>MINIBUS</td>\n",
       "      <td>Karyawan</td>\n",
       "      <td>Jawa</td>\n",
       "      <td>36</td>\n",
       "      <td>0 - 30 hari</td>\n",
       "      <td>Tidak</td>\n",
       "      <td>265.751998</td>\n",
       "      <td>86.82</td>\n",
       "      <td>258.4</td>\n",
       "      <td>51</td>\n",
       "      <td>12.04</td>\n",
       "      <td>15</td>\n",
       "      <td>51.68</td>\n",
       "      <td>224.34</td>\n",
       "      <td>Private</td>\n",
       "      <td>Sarjana</td>\n",
       "      <td>Tidak ada</td>\n",
       "      <td>OTHERS</td>\n",
       "      <td>Perempuan</td>\n",
       "      <td>Ya</td>\n",
       "      <td>6.83</td>\n",
       "      <td>Jasa &amp; Perdagangan</td>\n",
       "    </tr>\n",
       "    <tr>\n",
       "      <th>1</th>\n",
       "      <td>OTHERS</td>\n",
       "      <td>Wiraswasta</td>\n",
       "      <td>Jawa</td>\n",
       "      <td>36</td>\n",
       "      <td>0 - 30 hari</td>\n",
       "      <td>Tidak</td>\n",
       "      <td>183.455999</td>\n",
       "      <td>66.72</td>\n",
       "      <td>241.9</td>\n",
       "      <td>45</td>\n",
       "      <td>9.02</td>\n",
       "      <td>20</td>\n",
       "      <td>101.60</td>\n",
       "      <td>161.41</td>\n",
       "      <td>Private</td>\n",
       "      <td>Sarjana</td>\n",
       "      <td>Tidak ada</td>\n",
       "      <td>MENIKAH</td>\n",
       "      <td>Laki-laki</td>\n",
       "      <td>Ya</td>\n",
       "      <td>3.82</td>\n",
       "      <td>Jasa &amp; Perdagangan</td>\n",
       "    </tr>\n",
       "    <tr>\n",
       "      <th>2</th>\n",
       "      <td>MINIBUS</td>\n",
       "      <td>Wiraswasta</td>\n",
       "      <td>Jawa</td>\n",
       "      <td>60</td>\n",
       "      <td>&gt; 150 hari</td>\n",
       "      <td>Ya</td>\n",
       "      <td>222.298162</td>\n",
       "      <td>81.08</td>\n",
       "      <td>194.1</td>\n",
       "      <td>40</td>\n",
       "      <td>14.53</td>\n",
       "      <td>20</td>\n",
       "      <td>48.53</td>\n",
       "      <td>157.38</td>\n",
       "      <td>Private</td>\n",
       "      <td>Others</td>\n",
       "      <td>Ada</td>\n",
       "      <td>OTHERS</td>\n",
       "      <td>Perempuan</td>\n",
       "      <td>Tidak</td>\n",
       "      <td>3.99</td>\n",
       "      <td>Others</td>\n",
       "    </tr>\n",
       "    <tr>\n",
       "      <th>3</th>\n",
       "      <td>OTHERS</td>\n",
       "      <td>Karyawan</td>\n",
       "      <td>Sumatera</td>\n",
       "      <td>24</td>\n",
       "      <td>0 - 30 hari</td>\n",
       "      <td>Tidak</td>\n",
       "      <td>244.732836</td>\n",
       "      <td>57.02</td>\n",
       "      <td>388.4</td>\n",
       "      <td>41</td>\n",
       "      <td>10.67</td>\n",
       "      <td>15</td>\n",
       "      <td>188.80</td>\n",
       "      <td>221.48</td>\n",
       "      <td>Private</td>\n",
       "      <td>Sarjana</td>\n",
       "      <td>Tidak ada</td>\n",
       "      <td>MENIKAH</td>\n",
       "      <td>Perempuan</td>\n",
       "      <td>Tidak</td>\n",
       "      <td>8.79</td>\n",
       "      <td>Others</td>\n",
       "    </tr>\n",
       "    <tr>\n",
       "      <th>4</th>\n",
       "      <td>MINIBUS</td>\n",
       "      <td>Karyawan</td>\n",
       "      <td>Jawa</td>\n",
       "      <td>36</td>\n",
       "      <td>&gt; 150 hari</td>\n",
       "      <td>Ya</td>\n",
       "      <td>159.217501</td>\n",
       "      <td>70.15</td>\n",
       "      <td>180.2</td>\n",
       "      <td>58</td>\n",
       "      <td>9.97</td>\n",
       "      <td>14</td>\n",
       "      <td>69.31</td>\n",
       "      <td>126.41</td>\n",
       "      <td>Private</td>\n",
       "      <td>Others</td>\n",
       "      <td>Tidak ada</td>\n",
       "      <td>MENIKAH</td>\n",
       "      <td>Perempuan</td>\n",
       "      <td>Ya</td>\n",
       "      <td>8.61</td>\n",
       "      <td>Jasa &amp; Perdagangan</td>\n",
       "    </tr>\n",
       "  </tbody>\n",
       "</table>\n",
       "</div>"
      ],
      "text/plain": [
       "  Tipe_Kendaraan   Pekerjaan      Area  Tenor Bucket_Collectability    NPF  \\\n",
       "0        MINIBUS    Karyawan      Jawa     36           0 - 30 hari  Tidak   \n",
       "1         OTHERS  Wiraswasta      Jawa     36           0 - 30 hari  Tidak   \n",
       "2        MINIBUS  Wiraswasta      Jawa     60            > 150 hari     Ya   \n",
       "3         OTHERS    Karyawan  Sumatera     24           0 - 30 hari  Tidak   \n",
       "4        MINIBUS    Karyawan      Jawa     36            > 150 hari     Ya   \n",
       "\n",
       "     Total_AR    LTV    OTR  Age  Interest_Rate  Income      DP      AF  \\\n",
       "0  265.751998  86.82  258.4   51          12.04      15   51.68  224.34   \n",
       "1  183.455999  66.72  241.9   45           9.02      20  101.60  161.41   \n",
       "2  222.298162  81.08  194.1   40          14.53      20   48.53  157.38   \n",
       "3  244.732836  57.02  388.4   41          10.67      15  188.80  221.48   \n",
       "4  159.217501  70.15  180.2   58           9.97      14   69.31  126.41   \n",
       "\n",
       "    Tujuan Pendidikan Tanggungan   Status     Gender  Paket  Inflasi  \\\n",
       "0  Private    Sarjana  Tidak ada   OTHERS  Perempuan     Ya     6.83   \n",
       "1  Private    Sarjana  Tidak ada  MENIKAH  Laki-laki     Ya     3.82   \n",
       "2  Private     Others        Ada   OTHERS  Perempuan  Tidak     3.99   \n",
       "3  Private    Sarjana  Tidak ada  MENIKAH  Perempuan  Tidak     8.79   \n",
       "4  Private     Others  Tidak ada  MENIKAH  Perempuan     Ya     8.61   \n",
       "\n",
       "               Segmen  \n",
       "0  Jasa & Perdagangan  \n",
       "1  Jasa & Perdagangan  \n",
       "2              Others  \n",
       "3              Others  \n",
       "4  Jasa & Perdagangan  "
      ]
     },
     "execution_count": 119,
     "metadata": {},
     "output_type": "execute_result"
    }
   ],
   "source": [
    "# Preview of the first five data\n",
    "df.head(5)"
   ]
  },
  {
   "cell_type": "code",
   "execution_count": 120,
   "metadata": {},
   "outputs": [],
   "source": [
    "# See the \n",
    "gender_dict = {\n",
    "    \"Laki-laki\" : \"male\",\n",
    "    \"Perempuan\" : \"female\"\n",
    "}\n",
    "\n",
    "genders = df[\"Gender\"].value_counts().index\n",
    "values = df[\"Gender\"].value_counts().values"
   ]
  },
  {
   "cell_type": "code",
   "execution_count": 121,
   "metadata": {},
   "outputs": [
    {
     "name": "stdout",
     "output_type": "stream",
     "text": [
      "There are 16732 male (73.92%) in the data set\n",
      "There are 5902 female (26.08%) in the data set\n"
     ]
    }
   ],
   "source": [
    "for i in range(len(genders)):\n",
    "    print(f\"There are {values[i]} {gender_dict[genders[i]]} ({round(values[i]/sum(values) * 100, 2)}%) in the data set\")"
   ]
  },
  {
   "cell_type": "markdown",
   "metadata": {},
   "source": [
    "Looking at this data we know that we have more male customers than female customers"
   ]
  },
  {
   "cell_type": "code",
   "execution_count": 122,
   "metadata": {},
   "outputs": [
    {
     "data": {
      "text/html": [
       "<div>\n",
       "<style>\n",
       "    .dataframe thead tr:only-child th {\n",
       "        text-align: right;\n",
       "    }\n",
       "\n",
       "    .dataframe thead th {\n",
       "        text-align: left;\n",
       "    }\n",
       "\n",
       "    .dataframe tbody tr th {\n",
       "        vertical-align: top;\n",
       "    }\n",
       "</style>\n",
       "<table border=\"1\" class=\"dataframe\">\n",
       "  <thead>\n",
       "    <tr style=\"text-align: right;\">\n",
       "      <th></th>\n",
       "      <th>Tipe_Kendaraan</th>\n",
       "      <th>Pekerjaan</th>\n",
       "      <th>Area</th>\n",
       "      <th>Tenor</th>\n",
       "      <th>Bucket_Collectability</th>\n",
       "      <th>NPF</th>\n",
       "      <th>Total_AR</th>\n",
       "      <th>LTV</th>\n",
       "      <th>OTR</th>\n",
       "      <th>Age</th>\n",
       "      <th>Interest_Rate</th>\n",
       "      <th>Income</th>\n",
       "      <th>DP</th>\n",
       "      <th>AF</th>\n",
       "      <th>Tujuan</th>\n",
       "      <th>Pendidikan</th>\n",
       "      <th>Tanggungan</th>\n",
       "      <th>Status</th>\n",
       "      <th>Gender</th>\n",
       "      <th>Paket</th>\n",
       "      <th>Inflasi</th>\n",
       "      <th>Segmen</th>\n",
       "    </tr>\n",
       "  </thead>\n",
       "  <tbody>\n",
       "    <tr>\n",
       "      <th>11391</th>\n",
       "      <td>OTHERS</td>\n",
       "      <td>Lainnya</td>\n",
       "      <td>Jawa</td>\n",
       "      <td>60</td>\n",
       "      <td>&gt;30 - 90 hari</td>\n",
       "      <td>Tidak</td>\n",
       "      <td>1854.341300</td>\n",
       "      <td>87.03</td>\n",
       "      <td>1508.40</td>\n",
       "      <td>33</td>\n",
       "      <td>15.09</td>\n",
       "      <td>30</td>\n",
       "      <td>301.68</td>\n",
       "      <td>1312.81</td>\n",
       "      <td>Private</td>\n",
       "      <td>Sarjana</td>\n",
       "      <td>Tidak ada</td>\n",
       "      <td>OTHERS</td>\n",
       "      <td>Laki-laki</td>\n",
       "      <td>Tidak</td>\n",
       "      <td>5.31</td>\n",
       "      <td>Others</td>\n",
       "    </tr>\n",
       "    <tr>\n",
       "      <th>1979</th>\n",
       "      <td>OTHERS</td>\n",
       "      <td>Wiraswasta</td>\n",
       "      <td>Jawa</td>\n",
       "      <td>48</td>\n",
       "      <td>0 - 30 hari</td>\n",
       "      <td>Tidak</td>\n",
       "      <td>1363.905573</td>\n",
       "      <td>76.76</td>\n",
       "      <td>1448.40</td>\n",
       "      <td>47</td>\n",
       "      <td>10.89</td>\n",
       "      <td>25</td>\n",
       "      <td>385.62</td>\n",
       "      <td>1111.76</td>\n",
       "      <td>Private</td>\n",
       "      <td>Sarjana</td>\n",
       "      <td>Ada</td>\n",
       "      <td>MENIKAH</td>\n",
       "      <td>Laki-laki</td>\n",
       "      <td>Tidak</td>\n",
       "      <td>5.31</td>\n",
       "      <td>Others</td>\n",
       "    </tr>\n",
       "    <tr>\n",
       "      <th>609</th>\n",
       "      <td>OTHERS</td>\n",
       "      <td>Wiraswasta</td>\n",
       "      <td>Jawa</td>\n",
       "      <td>24</td>\n",
       "      <td>0 - 30 hari</td>\n",
       "      <td>Tidak</td>\n",
       "      <td>1085.657160</td>\n",
       "      <td>70.00</td>\n",
       "      <td>1433.40</td>\n",
       "      <td>34</td>\n",
       "      <td>8.37</td>\n",
       "      <td>250</td>\n",
       "      <td>430.02</td>\n",
       "      <td>1003.38</td>\n",
       "      <td>Private</td>\n",
       "      <td>Sarjana</td>\n",
       "      <td>Tidak ada</td>\n",
       "      <td>OTHERS</td>\n",
       "      <td>Laki-laki</td>\n",
       "      <td>Tidak</td>\n",
       "      <td>5.90</td>\n",
       "      <td>Others</td>\n",
       "    </tr>\n",
       "    <tr>\n",
       "      <th>7748</th>\n",
       "      <td>OTHERS</td>\n",
       "      <td>Lainnya</td>\n",
       "      <td>Jawa</td>\n",
       "      <td>36</td>\n",
       "      <td>&gt;120 - 150 hari</td>\n",
       "      <td>Ya</td>\n",
       "      <td>1099.220215</td>\n",
       "      <td>66.18</td>\n",
       "      <td>1463.40</td>\n",
       "      <td>38</td>\n",
       "      <td>8.92</td>\n",
       "      <td>80</td>\n",
       "      <td>567.37</td>\n",
       "      <td>968.48</td>\n",
       "      <td>Private</td>\n",
       "      <td>Sarjana</td>\n",
       "      <td>Ada</td>\n",
       "      <td>OTHERS</td>\n",
       "      <td>Laki-laki</td>\n",
       "      <td>Tidak</td>\n",
       "      <td>5.90</td>\n",
       "      <td>Others</td>\n",
       "    </tr>\n",
       "    <tr>\n",
       "      <th>20429</th>\n",
       "      <td>OTHERS</td>\n",
       "      <td>Karyawan</td>\n",
       "      <td>Jawa</td>\n",
       "      <td>48</td>\n",
       "      <td>0 - 30 hari</td>\n",
       "      <td>Tidak</td>\n",
       "      <td>1144.655991</td>\n",
       "      <td>86.77</td>\n",
       "      <td>994.90</td>\n",
       "      <td>45</td>\n",
       "      <td>15.29</td>\n",
       "      <td>27</td>\n",
       "      <td>198.98</td>\n",
       "      <td>863.24</td>\n",
       "      <td>Private</td>\n",
       "      <td>Sarjana</td>\n",
       "      <td>Ada</td>\n",
       "      <td>MENIKAH</td>\n",
       "      <td>Laki-laki</td>\n",
       "      <td>Tidak</td>\n",
       "      <td>3.45</td>\n",
       "      <td>Others</td>\n",
       "    </tr>\n",
       "    <tr>\n",
       "      <th>7838</th>\n",
       "      <td>OTHERS</td>\n",
       "      <td>Wiraswasta</td>\n",
       "      <td>Jawa</td>\n",
       "      <td>48</td>\n",
       "      <td>0 - 30 hari</td>\n",
       "      <td>Tidak</td>\n",
       "      <td>1133.375986</td>\n",
       "      <td>86.76</td>\n",
       "      <td>989.60</td>\n",
       "      <td>50</td>\n",
       "      <td>14.35</td>\n",
       "      <td>50</td>\n",
       "      <td>197.95</td>\n",
       "      <td>858.61</td>\n",
       "      <td>Private</td>\n",
       "      <td>Sarjana</td>\n",
       "      <td>Tidak ada</td>\n",
       "      <td>MENIKAH</td>\n",
       "      <td>Perempuan</td>\n",
       "      <td>Tidak</td>\n",
       "      <td>4.42</td>\n",
       "      <td>Others</td>\n",
       "    </tr>\n",
       "    <tr>\n",
       "      <th>21423</th>\n",
       "      <td>OTHERS</td>\n",
       "      <td>Wiraswasta</td>\n",
       "      <td>Jawa</td>\n",
       "      <td>24</td>\n",
       "      <td>0 - 30 hari</td>\n",
       "      <td>Tidak</td>\n",
       "      <td>920.135996</td>\n",
       "      <td>79.85</td>\n",
       "      <td>1054.70</td>\n",
       "      <td>49</td>\n",
       "      <td>9.43</td>\n",
       "      <td>50</td>\n",
       "      <td>263.68</td>\n",
       "      <td>842.15</td>\n",
       "      <td>Private</td>\n",
       "      <td>Sarjana</td>\n",
       "      <td>Ada</td>\n",
       "      <td>MENIKAH</td>\n",
       "      <td>Laki-laki</td>\n",
       "      <td>Ya</td>\n",
       "      <td>3.61</td>\n",
       "      <td>Jasa &amp; Perdagangan</td>\n",
       "    </tr>\n",
       "    <tr>\n",
       "      <th>12420</th>\n",
       "      <td>OTHERS</td>\n",
       "      <td>Wiraswasta</td>\n",
       "      <td>Jawa</td>\n",
       "      <td>60</td>\n",
       "      <td>0 - 30 hari</td>\n",
       "      <td>Tidak</td>\n",
       "      <td>1058.880000</td>\n",
       "      <td>77.08</td>\n",
       "      <td>1050.55</td>\n",
       "      <td>44</td>\n",
       "      <td>11.52</td>\n",
       "      <td>100</td>\n",
       "      <td>315.17</td>\n",
       "      <td>809.81</td>\n",
       "      <td>Private</td>\n",
       "      <td>Sarjana</td>\n",
       "      <td>Tidak ada</td>\n",
       "      <td>MENIKAH</td>\n",
       "      <td>Laki-laki</td>\n",
       "      <td>Ya</td>\n",
       "      <td>3.61</td>\n",
       "      <td>Jasa &amp; Perdagangan</td>\n",
       "    </tr>\n",
       "    <tr>\n",
       "      <th>3174</th>\n",
       "      <td>OTHERS</td>\n",
       "      <td>Wiraswasta</td>\n",
       "      <td>Jawa</td>\n",
       "      <td>12</td>\n",
       "      <td>0 - 30 hari</td>\n",
       "      <td>Tidak</td>\n",
       "      <td>839.632751</td>\n",
       "      <td>66.54</td>\n",
       "      <td>1215.70</td>\n",
       "      <td>57</td>\n",
       "      <td>8.23</td>\n",
       "      <td>200</td>\n",
       "      <td>406.81</td>\n",
       "      <td>808.89</td>\n",
       "      <td>Private</td>\n",
       "      <td>Others</td>\n",
       "      <td>Ada</td>\n",
       "      <td>MENIKAH</td>\n",
       "      <td>Laki-laki</td>\n",
       "      <td>Tidak</td>\n",
       "      <td>5.47</td>\n",
       "      <td>Jasa &amp; Perdagangan</td>\n",
       "    </tr>\n",
       "    <tr>\n",
       "      <th>6244</th>\n",
       "      <td>OTHERS</td>\n",
       "      <td>Lainnya</td>\n",
       "      <td>Jawa</td>\n",
       "      <td>36</td>\n",
       "      <td>0 - 30 hari</td>\n",
       "      <td>Tidak</td>\n",
       "      <td>924.479995</td>\n",
       "      <td>77.94</td>\n",
       "      <td>1033.65</td>\n",
       "      <td>43</td>\n",
       "      <td>9.72</td>\n",
       "      <td>100</td>\n",
       "      <td>262.03</td>\n",
       "      <td>805.58</td>\n",
       "      <td>Private</td>\n",
       "      <td>Others</td>\n",
       "      <td>Tidak ada</td>\n",
       "      <td>OTHERS</td>\n",
       "      <td>Laki-laki</td>\n",
       "      <td>Ya</td>\n",
       "      <td>4.37</td>\n",
       "      <td>Others</td>\n",
       "    </tr>\n",
       "  </tbody>\n",
       "</table>\n",
       "</div>"
      ],
      "text/plain": [
       "      Tipe_Kendaraan   Pekerjaan  Area  Tenor Bucket_Collectability    NPF  \\\n",
       "11391         OTHERS     Lainnya  Jawa     60         >30 - 90 hari  Tidak   \n",
       "1979          OTHERS  Wiraswasta  Jawa     48           0 - 30 hari  Tidak   \n",
       "609           OTHERS  Wiraswasta  Jawa     24           0 - 30 hari  Tidak   \n",
       "7748          OTHERS     Lainnya  Jawa     36       >120 - 150 hari     Ya   \n",
       "20429         OTHERS    Karyawan  Jawa     48           0 - 30 hari  Tidak   \n",
       "7838          OTHERS  Wiraswasta  Jawa     48           0 - 30 hari  Tidak   \n",
       "21423         OTHERS  Wiraswasta  Jawa     24           0 - 30 hari  Tidak   \n",
       "12420         OTHERS  Wiraswasta  Jawa     60           0 - 30 hari  Tidak   \n",
       "3174          OTHERS  Wiraswasta  Jawa     12           0 - 30 hari  Tidak   \n",
       "6244          OTHERS     Lainnya  Jawa     36           0 - 30 hari  Tidak   \n",
       "\n",
       "          Total_AR    LTV      OTR  Age  Interest_Rate  Income      DP  \\\n",
       "11391  1854.341300  87.03  1508.40   33          15.09      30  301.68   \n",
       "1979   1363.905573  76.76  1448.40   47          10.89      25  385.62   \n",
       "609    1085.657160  70.00  1433.40   34           8.37     250  430.02   \n",
       "7748   1099.220215  66.18  1463.40   38           8.92      80  567.37   \n",
       "20429  1144.655991  86.77   994.90   45          15.29      27  198.98   \n",
       "7838   1133.375986  86.76   989.60   50          14.35      50  197.95   \n",
       "21423   920.135996  79.85  1054.70   49           9.43      50  263.68   \n",
       "12420  1058.880000  77.08  1050.55   44          11.52     100  315.17   \n",
       "3174    839.632751  66.54  1215.70   57           8.23     200  406.81   \n",
       "6244    924.479995  77.94  1033.65   43           9.72     100  262.03   \n",
       "\n",
       "            AF   Tujuan Pendidikan Tanggungan   Status     Gender  Paket  \\\n",
       "11391  1312.81  Private    Sarjana  Tidak ada   OTHERS  Laki-laki  Tidak   \n",
       "1979   1111.76  Private    Sarjana        Ada  MENIKAH  Laki-laki  Tidak   \n",
       "609    1003.38  Private    Sarjana  Tidak ada   OTHERS  Laki-laki  Tidak   \n",
       "7748    968.48  Private    Sarjana        Ada   OTHERS  Laki-laki  Tidak   \n",
       "20429   863.24  Private    Sarjana        Ada  MENIKAH  Laki-laki  Tidak   \n",
       "7838    858.61  Private    Sarjana  Tidak ada  MENIKAH  Perempuan  Tidak   \n",
       "21423   842.15  Private    Sarjana        Ada  MENIKAH  Laki-laki     Ya   \n",
       "12420   809.81  Private    Sarjana  Tidak ada  MENIKAH  Laki-laki     Ya   \n",
       "3174    808.89  Private     Others        Ada  MENIKAH  Laki-laki  Tidak   \n",
       "6244    805.58  Private     Others  Tidak ada   OTHERS  Laki-laki     Ya   \n",
       "\n",
       "       Inflasi              Segmen  \n",
       "11391     5.31              Others  \n",
       "1979      5.31              Others  \n",
       "609       5.90              Others  \n",
       "7748      5.90              Others  \n",
       "20429     3.45              Others  \n",
       "7838      4.42              Others  \n",
       "21423     3.61  Jasa & Perdagangan  \n",
       "12420     3.61  Jasa & Perdagangan  \n",
       "3174      5.47  Jasa & Perdagangan  \n",
       "6244      4.37              Others  "
      ]
     },
     "execution_count": 122,
     "metadata": {},
     "output_type": "execute_result"
    }
   ],
   "source": [
    "# Querying the highest 10 customers in the data set\n",
    "highest_10_AF = df.sort_values(by=\"AF\", ascending=False).head(10)\n",
    "highest_10_AF"
   ]
  },
  {
   "cell_type": "code",
   "execution_count": 126,
   "metadata": {},
   "outputs": [],
   "source": [
    "highest_10_AF_NPF_Yes_CNT = sum(highest_10_AF[\"NPF\"] == \"Ya\")"
   ]
  },
  {
   "cell_type": "code",
   "execution_count": 127,
   "metadata": {},
   "outputs": [
    {
     "name": "stdout",
     "output_type": "stream",
     "text": [
      "There are 1 clients in the Top 10 clients with the highest amount of finance who are having a bad risk\n"
     ]
    }
   ],
   "source": [
    "print(f\"There are {highest_10_AF_NPF_Yes_CNT} clients in the Top 10 clients with the highest amount of finance who are having a bad risk\")"
   ]
  },
  {
   "cell_type": "code",
   "execution_count": 128,
   "metadata": {},
   "outputs": [],
   "source": [
    "numeric_data = df.select_dtypes(include=[np.number]).columns\n",
    "categorical_data = df.select_dtypes(exclude=[np.number]).columns"
   ]
  },
  {
   "cell_type": "code",
   "execution_count": 129,
   "metadata": {},
   "outputs": [
    {
     "name": "stdout",
     "output_type": "stream",
     "text": [
      "In the dataset, there are 10 numeric columns and 12 categorical columns\n"
     ]
    }
   ],
   "source": [
    "print(f\"In the dataset, there are {len(numeric_data)} numeric columns and {len(categorical_data)} categorical columns\")"
   ]
  },
  {
   "cell_type": "code",
   "execution_count": 130,
   "metadata": {},
   "outputs": [
    {
     "data": {
      "image/png": "[encoded data removed]",
      "text/plain": [
       "<matplotlib.figure.Figure at 0x96dd7b8>"
      ]
     },
     "metadata": {},
     "output_type": "display_data"
    }
   ],
   "source": [
    "# See the correlation between each variables\n",
    "f, ax = plt.subplots(figsize=(15, 10))\n",
    "\n",
    "correlations = df.corr()\n",
    "sns.heatmap(correlations, annot=True, linewidths=.5, ax=ax)\n",
    "plt.show()"
   ]
  },
  {
   "cell_type": "code",
   "execution_count": 131,
   "metadata": {
    "scrolled": false
   },
   "outputs": [
    {
     "name": "stdout",
     "output_type": "stream",
     "text": [
      "COUNTING OUTLIERS BASED ON WHAT I LEARNED TODAY\n",
      "-----------------------------------------------\n",
      "\n",
      "[BASED ON IQR]\n",
      "Total outliers for the column Tenor is 0\n",
      "Total outliers for the column Total_AR is 391\n",
      "Total outliers for the column LTV is 2682\n",
      "Total outliers for the column OTR is 1294\n",
      "Total outliers for the column Age is 36\n",
      "Total outliers for the column Interest_Rate is 161\n",
      "Total outliers for the column Income is 1634\n",
      "Total outliers for the column DP is 1797\n",
      "Total outliers for the column AF is 721\n",
      "Total outliers for the column Inflasi is 0\n",
      "\n",
      "\n",
      "[BASED ON SD > 3]\n",
      "Total outliers for the column Tenor is 0\n",
      "Total outliers for the column Total_AR is 190\n",
      "Total outliers for the column LTV is 498\n",
      "Total outliers for the column OTR is 376\n",
      "Total outliers for the column Age is 36\n",
      "Total outliers for the column Interest_Rate is 146\n",
      "Total outliers for the column Income is 74\n",
      "Total outliers for the column DP is 466\n",
      "Total outliers for the column AF is 300\n",
      "Total outliers for the column Inflasi is 0\n"
     ]
    }
   ],
   "source": [
    "print(\"COUNTING OUTLIERS BASED ON WHAT I LEARNED TODAY\")\n",
    "print(\"-----------------------------------------------\\n\")\n",
    "print(\"[BASED ON IQR]\")\n",
    "for data in numeric_data:\n",
    "    q1 = df[data].quantile(0.25)\n",
    "    q3 = df[data].quantile(0.75)\n",
    "    iqr = q3 - q1\n",
    "    \n",
    "    outlier_cnt = df[data][(df[data] < (q1 - 1.5 * iqr)) | (df[data] > (q3 + 1.5 * iqr))].shape[0]  \n",
    "    \n",
    "    print(f\"Total outliers for the column {data} is {outlier_cnt}\")\n",
    "\n",
    "print(\"\\n\")\n",
    "print(\"[BASED ON SD > 3]\")\n",
    "for data in numeric_data:\n",
    "    standardized = (df[data] - df[data].mean()) / df[data].std()\n",
    "    outlier_cnt = standardized[abs(standardized) > 3].shape[0]\n",
    "    \n",
    "    print(f\"Total outliers for the column {data} is {outlier_cnt}\")"
   ]
  },
  {
   "cell_type": "code",
   "execution_count": 137,
   "metadata": {},
   "outputs": [],
   "source": [
    "# Standardized the numerical column\n",
    "for data in numeric_data:\n",
    "    df[data] = (df[data] - df[data].mean()) / df[data].std()"
   ]
  },
  {
   "cell_type": "code",
   "execution_count": 147,
   "metadata": {},
   "outputs": [],
   "source": [
    "df_dummies = pd.get_dummies(df[[\"Area\"]]).drop(\"Area_Others\", axis=1)"
   ]
  },
  {
   "cell_type": "markdown",
   "metadata": {},
   "source": [
    "For this task I used the duration, age, two dummy variables to predict the value of the total_AR"
   ]
  },
  {
   "cell_type": "code",
   "execution_count": 154,
   "metadata": {},
   "outputs": [],
   "source": [
    "X = pd.concat([df[[\"Tenor\", \"Age\"]], df_dummies], axis=1)\n",
    "y = df[\"Total_AR\"]"
   ]
  },
  {
   "cell_type": "code",
   "execution_count": 166,
   "metadata": {
    "collapsed": true
   },
   "outputs": [],
   "source": [
    "from sklearn.linear_model import LinearRegression\n",
    "from sklearn.metrics import r2_score, mean_squared_error"
   ]
  },
  {
   "cell_type": "code",
   "execution_count": 157,
   "metadata": {},
   "outputs": [
    {
     "data": {
      "text/plain": [
       "LinearRegression(copy_X=True, fit_intercept=True, n_jobs=1, normalize=False)"
      ]
     },
     "execution_count": 157,
     "metadata": {},
     "output_type": "execute_result"
    }
   ],
   "source": [
    "regressor = LinearRegression()\n",
    "regressor.fit(X, y)"
   ]
  },
  {
   "cell_type": "code",
   "execution_count": 161,
   "metadata": {},
   "outputs": [
    {
     "data": {
      "text/plain": [
       "array([ 0.47574462,  0.03473403, -0.21329039, -0.0740906 ])"
      ]
     },
     "execution_count": 161,
     "metadata": {},
     "output_type": "execute_result"
    }
   ],
   "source": [
    "regressor.coef_"
   ]
  },
  {
   "cell_type": "code",
   "execution_count": 171,
   "metadata": {},
   "outputs": [
    {
     "name": "stdout",
     "output_type": "stream",
     "text": [
      "The equation for the linear regression is :\n",
      "y = 0.144 + 0.476 X1 + 0.035 X2 + -0.213 X3 + + -0.074 X4\n"
     ]
    }
   ],
   "source": [
    "print(\"The equation for the linear regression is :\")\n",
    "print(f\"y = {round(regressor.intercept_, 3)} + {round(regressor.coef_[0], 3)} X1 + {round(regressor.coef_[1], 3)} X2 + {round(regressor.coef_[2], 3)} X3 + + {round(regressor.coef_[3], 3)} X4\")"
   ]
  },
  {
   "cell_type": "code",
   "execution_count": 167,
   "metadata": {},
   "outputs": [
    {
     "data": {
      "text/plain": [
       "0.77171360779753606"
      ]
     },
     "execution_count": 167,
     "metadata": {},
     "output_type": "execute_result"
    }
   ],
   "source": [
    "y_pred = regressor.predict(X)np.mean_squared_error(y, y_pred)"
   ]
  },
  {
   "cell_type": "code",
   "execution_count": 173,
   "metadata": {},
   "outputs": [
    {
     "name": "stdout",
     "output_type": "stream",
     "text": [
      "The RMSE fo the linear regression is 0.8784723147587157\n"
     ]
    }
   ],
   "source": [
    "y_pred = regressor.predict(X)\n",
    "rmse = math.sqrt(mean_squared_error(y, y_pred))\n",
    "print(f\"The RMSE fo the linear regression is {rmse}\")"
   ]
  }
 ],
 "metadata": {
  "kernelspec": {
   "display_name": "Python 3",
   "language": "python",
   "name": "python3"
  },
  "language_info": {
   "codemirror_mode": {
    "name": "ipython",
    "version": 3
   },
   "file_extension": ".py",
   "mimetype": "text/x-python",
   "name": "python",
   "nbconvert_exporter": "python",
   "pygments_lexer": "ipython3",
   "version": "3.6.3"
  }
 },
 "nbformat": 4,
 "nbformat_minor": 2
}
