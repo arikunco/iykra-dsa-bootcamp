{
 "cells": [
  {
   "cell_type": "markdown",
   "metadata": {},
   "source": [
    "<p style=\"font-size: 35px; font-weight: bold; text-align: center;\">IYKRA Foundation of Programming Exercise</p>"
   ]
  },
  {
   "cell_type": "markdown",
   "metadata": {},
   "source": [
    "**Name** : M. Haries Ramdhani\n",
    "<br/>\n",
    "**Date** : Oct 23rd 2019"
   ]
  },
  {
   "cell_type": "markdown",
   "metadata": {},
   "source": [
    "### Data Import and Preparation"
   ]
  },
  {
   "cell_type": "code",
   "execution_count": 1,
   "metadata": {
    "collapsed": true
   },
   "outputs": [],
   "source": [
    "# Import the essentials\n",
    "import pandas as pd\n",
    "import numpy as np\n",
    "\n",
    "pd.set_option('display.max_columns', 1000)"
   ]
  },
  {
   "cell_type": "code",
   "execution_count": 2,
   "metadata": {
    "collapsed": true
   },
   "outputs": [],
   "source": [
    "# Import the data\n",
    "imdb = pd.read_csv(\"IMDB-database-update.csv\", encoding='latin1')"
   ]
  },
  {
   "cell_type": "code",
   "execution_count": 3,
   "metadata": {},
   "outputs": [
    {
     "data": {
      "text/html": [
       "<div>\n",
       "<style>\n",
       "    .dataframe thead tr:only-child th {\n",
       "        text-align: right;\n",
       "    }\n",
       "\n",
       "    .dataframe thead th {\n",
       "        text-align: left;\n",
       "    }\n",
       "\n",
       "    .dataframe tbody tr th {\n",
       "        vertical-align: top;\n",
       "    }\n",
       "</style>\n",
       "<table border=\"1\" class=\"dataframe\">\n",
       "  <thead>\n",
       "    <tr style=\"text-align: right;\">\n",
       "      <th></th>\n",
       "      <th>total_missing_values</th>\n",
       "    </tr>\n",
       "  </thead>\n",
       "  <tbody>\n",
       "    <tr>\n",
       "      <th>movie_ID</th>\n",
       "      <td>0</td>\n",
       "    </tr>\n",
       "    <tr>\n",
       "      <th>movie_title</th>\n",
       "      <td>0</td>\n",
       "    </tr>\n",
       "    <tr>\n",
       "      <th>duration</th>\n",
       "      <td>0</td>\n",
       "    </tr>\n",
       "    <tr>\n",
       "      <th>color</th>\n",
       "      <td>0</td>\n",
       "    </tr>\n",
       "    <tr>\n",
       "      <th>title_year</th>\n",
       "      <td>0</td>\n",
       "    </tr>\n",
       "    <tr>\n",
       "      <th>country</th>\n",
       "      <td>0</td>\n",
       "    </tr>\n",
       "    <tr>\n",
       "      <th>language</th>\n",
       "      <td>0</td>\n",
       "    </tr>\n",
       "    <tr>\n",
       "      <th>content_rating</th>\n",
       "      <td>0</td>\n",
       "    </tr>\n",
       "    <tr>\n",
       "      <th>budget_USD</th>\n",
       "      <td>0</td>\n",
       "    </tr>\n",
       "    <tr>\n",
       "      <th>gross_USD</th>\n",
       "      <td>0</td>\n",
       "    </tr>\n",
       "    <tr>\n",
       "      <th>net_USD</th>\n",
       "      <td>0</td>\n",
       "    </tr>\n",
       "    <tr>\n",
       "      <th>profitable</th>\n",
       "      <td>0</td>\n",
       "    </tr>\n",
       "    <tr>\n",
       "      <th>director_name</th>\n",
       "      <td>0</td>\n",
       "    </tr>\n",
       "    <tr>\n",
       "      <th>director_top20?</th>\n",
       "      <td>0</td>\n",
       "    </tr>\n",
       "    <tr>\n",
       "      <th>director_facebook?</th>\n",
       "      <td>0</td>\n",
       "    </tr>\n",
       "    <tr>\n",
       "      <th>director_facebook_likes</th>\n",
       "      <td>0</td>\n",
       "    </tr>\n",
       "    <tr>\n",
       "      <th>actor_1_name</th>\n",
       "      <td>0</td>\n",
       "    </tr>\n",
       "    <tr>\n",
       "      <th>actor_top20?</th>\n",
       "      <td>0</td>\n",
       "    </tr>\n",
       "    <tr>\n",
       "      <th>actor_1_facebook?</th>\n",
       "      <td>0</td>\n",
       "    </tr>\n",
       "    <tr>\n",
       "      <th>actor_1_facebook_likes</th>\n",
       "      <td>0</td>\n",
       "    </tr>\n",
       "    <tr>\n",
       "      <th>actor_2_name</th>\n",
       "      <td>0</td>\n",
       "    </tr>\n",
       "    <tr>\n",
       "      <th>actor_top20?.1</th>\n",
       "      <td>0</td>\n",
       "    </tr>\n",
       "    <tr>\n",
       "      <th>actor_2_facebook?</th>\n",
       "      <td>0</td>\n",
       "    </tr>\n",
       "    <tr>\n",
       "      <th>actor_2_facebook_likes</th>\n",
       "      <td>0</td>\n",
       "    </tr>\n",
       "    <tr>\n",
       "      <th>actor_3_name</th>\n",
       "      <td>0</td>\n",
       "    </tr>\n",
       "    <tr>\n",
       "      <th>actor_top20?.2</th>\n",
       "      <td>0</td>\n",
       "    </tr>\n",
       "    <tr>\n",
       "      <th>actor_3_facebook?</th>\n",
       "      <td>0</td>\n",
       "    </tr>\n",
       "    <tr>\n",
       "      <th>actor_3_facebook_likes</th>\n",
       "      <td>0</td>\n",
       "    </tr>\n",
       "    <tr>\n",
       "      <th>cast_total_facebook_likes</th>\n",
       "      <td>0</td>\n",
       "    </tr>\n",
       "    <tr>\n",
       "      <th>movie_facebook?</th>\n",
       "      <td>0</td>\n",
       "    </tr>\n",
       "    <tr>\n",
       "      <th>movie_facebook_likes;</th>\n",
       "      <td>0</td>\n",
       "    </tr>\n",
       "    <tr>\n",
       "      <th>facenumber_in_poster</th>\n",
       "      <td>0</td>\n",
       "    </tr>\n",
       "    <tr>\n",
       "      <th>num_voted_users</th>\n",
       "      <td>0</td>\n",
       "    </tr>\n",
       "    <tr>\n",
       "      <th>num_user_for_reviews</th>\n",
       "      <td>0</td>\n",
       "    </tr>\n",
       "    <tr>\n",
       "      <th>imdb_score</th>\n",
       "      <td>0</td>\n",
       "    </tr>\n",
       "    <tr>\n",
       "      <th>imdb_top_250</th>\n",
       "      <td>0</td>\n",
       "    </tr>\n",
       "  </tbody>\n",
       "</table>\n",
       "</div>"
      ],
      "text/plain": [
       "                           total_missing_values\n",
       "movie_ID                                      0\n",
       "movie_title                                   0\n",
       "duration                                      0\n",
       "color                                         0\n",
       "title_year                                    0\n",
       "country                                       0\n",
       "language                                      0\n",
       "content_rating                                0\n",
       "budget_USD                                    0\n",
       "gross_USD                                     0\n",
       "net_USD                                       0\n",
       "profitable                                    0\n",
       "director_name                                 0\n",
       "director_top20?                               0\n",
       "director_facebook?                            0\n",
       "director_facebook_likes                       0\n",
       "actor_1_name                                  0\n",
       "actor_top20?                                  0\n",
       "actor_1_facebook?                             0\n",
       "actor_1_facebook_likes                        0\n",
       "actor_2_name                                  0\n",
       "actor_top20?.1                                0\n",
       "actor_2_facebook?                             0\n",
       "actor_2_facebook_likes                        0\n",
       "actor_3_name                                  0\n",
       "actor_top20?.2                                0\n",
       "actor_3_facebook?                             0\n",
       "actor_3_facebook_likes                        0\n",
       "cast_total_facebook_likes                     0\n",
       "movie_facebook?                               0\n",
       "movie_facebook_likes;                         0\n",
       "facenumber_in_poster                          0\n",
       "num_voted_users                               0\n",
       "num_user_for_reviews                          0\n",
       "imdb_score                                    0\n",
       "imdb_top_250                                  0"
      ]
     },
     "execution_count": 3,
     "metadata": {},
     "output_type": "execute_result"
    }
   ],
   "source": [
    "# Count the missing values\n",
    "pd.DataFrame(imdb.isnull().sum()).rename(columns={0: \"total_missing_values\"})"
   ]
  },
  {
   "cell_type": "code",
   "execution_count": 4,
   "metadata": {},
   "outputs": [],
   "source": [
    "def format_to_currency(amount : int) -> str:\n",
    "    \"\"\"\n",
    "    Format the amount of money to the standadized\n",
    "    comma-ed string\n",
    "    \n",
    "    INPUT\n",
    "    -------------------\n",
    "    amount: The amount of money\n",
    "    \n",
    "    RETURN\n",
    "    -------------------\n",
    "    formatted_amount: comma separated amount of money\n",
    "    \n",
    "    EXAMPLE\n",
    "    -------------------\n",
    "    >>> format_to_currency(12000000)\n",
    "    '12,000,000'\n",
    "    \"\"\"\n",
    "    \n",
    "    formatted_amount = format(amount, ',d')\n",
    "    \n",
    "    return formatted_amount"
   ]
  },
  {
   "cell_type": "markdown",
   "metadata": {},
   "source": [
    "**1\\. How many rows and columns reflected on dataset file IMDB-database-update.csv?**"
   ]
  },
  {
   "cell_type": "code",
   "execution_count": 5,
   "metadata": {},
   "outputs": [
    {
     "name": "stdout",
     "output_type": "stream",
     "text": [
      "There are 3781 rows and 36 columns in the dataset before the duplicates are dropped\n"
     ]
    }
   ],
   "source": [
    "# Count the number of rows and columns\n",
    "data_shape = imdb.shape\n",
    "print(f\"There are {data_shape[0]} rows and {data_shape[1]} columns in the dataset before the duplicates are dropped\")"
   ]
  },
  {
   "cell_type": "code",
   "execution_count": 6,
   "metadata": {
    "collapsed": true
   },
   "outputs": [],
   "source": [
    "# Drop the number of duplicated data based on the `movie_ID` and keep the first one\n",
    "imdb = imdb.drop_duplicates(\"movie_title\", keep=\"first\")"
   ]
  },
  {
   "cell_type": "code",
   "execution_count": 7,
   "metadata": {},
   "outputs": [
    {
     "name": "stdout",
     "output_type": "stream",
     "text": [
      "There are 3679 rows and 36 columns in the dataset after the duplicates are dropped\n"
     ]
    }
   ],
   "source": [
    "# Count the number of rows and columns\n",
    "data_shape = imdb.shape\n",
    "print(f\"There are {data_shape[0]} rows and {data_shape[1]} columns in the dataset after the duplicates are dropped\")"
   ]
  },
  {
   "cell_type": "markdown",
   "metadata": {},
   "source": [
    "**2\\. What are the top 3 movies with highest nett profit in 2015?**"
   ]
  },
  {
   "cell_type": "code",
   "execution_count": 8,
   "metadata": {},
   "outputs": [],
   "source": [
    "top_3_movie_titles_2015 = imdb[imdb[\"title_year\"] == 2015].sort_values(by=\"net_USD\", ascending=False).iloc[:3,[1, 10]].reset_index(drop=True)"
   ]
  },
  {
   "cell_type": "code",
   "execution_count": 9,
   "metadata": {},
   "outputs": [
    {
     "name": "stdout",
     "output_type": "stream",
     "text": [
      "The Top 3 Movie Titles with the highest nett profit in 2015 are\n",
      "1. Jurassic World with net profit of 502,177,271 USD\n",
      "2. Minions with net profit of 262,029,560 USD\n",
      "3. Avengers: Age of Ultron with net profit of 208,991,599 USD\n"
     ]
    }
   ],
   "source": [
    "print(\"The Top 3 Movie Titles with the highest nett profit in 2015 are\")\n",
    "\n",
    "i = 1\n",
    "for top_3_movie_title in top_3_movie_titles_2015.values:\n",
    "    print(f\"{i}. {top_3_movie_title[0]} with net profit of {format_to_currency(top_3_movie_title[1])} USD\")\n",
    "    i += 1"
   ]
  },
  {
   "cell_type": "code",
   "execution_count": 10,
   "metadata": {},
   "outputs": [
    {
     "data": {
      "text/html": [
       "<div>\n",
       "<style>\n",
       "    .dataframe thead tr:only-child th {\n",
       "        text-align: right;\n",
       "    }\n",
       "\n",
       "    .dataframe thead th {\n",
       "        text-align: left;\n",
       "    }\n",
       "\n",
       "    .dataframe tbody tr th {\n",
       "        vertical-align: top;\n",
       "    }\n",
       "</style>\n",
       "<table border=\"1\" class=\"dataframe\">\n",
       "  <thead>\n",
       "    <tr style=\"text-align: right;\">\n",
       "      <th></th>\n",
       "      <th>movie_title</th>\n",
       "      <th>net_USD</th>\n",
       "    </tr>\n",
       "  </thead>\n",
       "  <tbody>\n",
       "    <tr>\n",
       "      <th>0</th>\n",
       "      <td>Jurassic World</td>\n",
       "      <td>502177271</td>\n",
       "    </tr>\n",
       "    <tr>\n",
       "      <th>1</th>\n",
       "      <td>Minions</td>\n",
       "      <td>262029560</td>\n",
       "    </tr>\n",
       "    <tr>\n",
       "      <th>2</th>\n",
       "      <td>Avengers: Age of Ultron</td>\n",
       "      <td>208991599</td>\n",
       "    </tr>\n",
       "  </tbody>\n",
       "</table>\n",
       "</div>"
      ],
      "text/plain": [
       "               movie_title    net_USD\n",
       "0           Jurassic World  502177271\n",
       "1                  Minions  262029560\n",
       "2  Avengers: Age of Ultron  208991599"
      ]
     },
     "execution_count": 10,
     "metadata": {},
     "output_type": "execute_result"
    }
   ],
   "source": [
    "top_3_movie_titles_2015"
   ]
  },
  {
   "cell_type": "markdown",
   "metadata": {},
   "source": [
    "**3\\. What are the top 3 movies with highest gross profit in 2016?**"
   ]
  },
  {
   "cell_type": "code",
   "execution_count": 11,
   "metadata": {
    "collapsed": true
   },
   "outputs": [],
   "source": [
    "top_3_movie_titles_2016 = imdb[imdb[\"title_year\"] == 2016].sort_values(by=\"net_USD\", ascending=False).iloc[:3,[1, 10]].reset_index(drop=True)"
   ]
  },
  {
   "cell_type": "code",
   "execution_count": 12,
   "metadata": {},
   "outputs": [
    {
     "name": "stdout",
     "output_type": "stream",
     "text": [
      "The Top 3 Movie Titles with the highest nett profit in 2016 are\n",
      "1. Deadpool with net profit of 305,024,263 USD\n",
      "2. The Secret Life of Pets with net profit of 248,505,540 USD\n",
      "3. The Jungle Book with net profit of 187,645,141 USD\n"
     ]
    }
   ],
   "source": [
    "print(\"The Top 3 Movie Titles with the highest nett profit in 2016 are\")\n",
    "\n",
    "i = 1\n",
    "for top_3_movie_title in top_3_movie_titles_2016.values:\n",
    "    print(f\"{i}. {top_3_movie_title[0]} with net profit of {format_to_currency(top_3_movie_title[1])} USD\")\n",
    "    i += 1"
   ]
  },
  {
   "cell_type": "code",
   "execution_count": 13,
   "metadata": {},
   "outputs": [
    {
     "data": {
      "text/html": [
       "<div>\n",
       "<style>\n",
       "    .dataframe thead tr:only-child th {\n",
       "        text-align: right;\n",
       "    }\n",
       "\n",
       "    .dataframe thead th {\n",
       "        text-align: left;\n",
       "    }\n",
       "\n",
       "    .dataframe tbody tr th {\n",
       "        vertical-align: top;\n",
       "    }\n",
       "</style>\n",
       "<table border=\"1\" class=\"dataframe\">\n",
       "  <thead>\n",
       "    <tr style=\"text-align: right;\">\n",
       "      <th></th>\n",
       "      <th>movie_title</th>\n",
       "      <th>net_USD</th>\n",
       "    </tr>\n",
       "  </thead>\n",
       "  <tbody>\n",
       "    <tr>\n",
       "      <th>0</th>\n",
       "      <td>Deadpool</td>\n",
       "      <td>305024263</td>\n",
       "    </tr>\n",
       "    <tr>\n",
       "      <th>1</th>\n",
       "      <td>The Secret Life of Pets</td>\n",
       "      <td>248505540</td>\n",
       "    </tr>\n",
       "    <tr>\n",
       "      <th>2</th>\n",
       "      <td>The Jungle Book</td>\n",
       "      <td>187645141</td>\n",
       "    </tr>\n",
       "  </tbody>\n",
       "</table>\n",
       "</div>"
      ],
      "text/plain": [
       "               movie_title    net_USD\n",
       "0                 Deadpool  305024263\n",
       "1  The Secret Life of Pets  248505540\n",
       "2          The Jungle Book  187645141"
      ]
     },
     "execution_count": 13,
     "metadata": {},
     "output_type": "execute_result"
    }
   ],
   "source": [
    "top_3_movie_titles_2016"
   ]
  },
  {
   "cell_type": "markdown",
   "metadata": {},
   "source": [
    "**4\\. How many non-english movies are in the dataset? **"
   ]
  },
  {
   "cell_type": "code",
   "execution_count": 14,
   "metadata": {},
   "outputs": [],
   "source": [
    "# Count the number total non English movis in the data set\n",
    "total_non_english_movies = imdb[imdb[\"language\"] != \"English\"].shape[0]"
   ]
  },
  {
   "cell_type": "code",
   "execution_count": 15,
   "metadata": {},
   "outputs": [
    {
     "name": "stdout",
     "output_type": "stream",
     "text": [
      "There are 152 non-English movies in the data set\n"
     ]
    }
   ],
   "source": [
    "print(f\"There are {total_non_english_movies} non-English movies in the data set\")"
   ]
  },
  {
   "cell_type": "markdown",
   "metadata": {},
   "source": [
    "**5\\. What are top 3 languages in the data set aside English (based on number of movies)? **"
   ]
  },
  {
   "cell_type": "code",
   "execution_count": 16,
   "metadata": {},
   "outputs": [],
   "source": [
    "top_3_languages_non_english = imdb[imdb[\"language\"] != \"English\"][\"language\"].value_counts().head(3)"
   ]
  },
  {
   "cell_type": "code",
   "execution_count": 17,
   "metadata": {},
   "outputs": [
    {
     "name": "stdout",
     "output_type": "stream",
     "text": [
      "The Top 3 languages with the highest no of movies are\n"
     ]
    },
    {
     "data": {
      "text/html": [
       "<div>\n",
       "<style>\n",
       "    .dataframe thead tr:only-child th {\n",
       "        text-align: right;\n",
       "    }\n",
       "\n",
       "    .dataframe thead th {\n",
       "        text-align: left;\n",
       "    }\n",
       "\n",
       "    .dataframe tbody tr th {\n",
       "        vertical-align: top;\n",
       "    }\n",
       "</style>\n",
       "<table border=\"1\" class=\"dataframe\">\n",
       "  <thead>\n",
       "    <tr style=\"text-align: right;\">\n",
       "      <th></th>\n",
       "      <th>total_movies</th>\n",
       "    </tr>\n",
       "  </thead>\n",
       "  <tbody>\n",
       "    <tr>\n",
       "      <th>French</th>\n",
       "      <td>33</td>\n",
       "    </tr>\n",
       "    <tr>\n",
       "      <th>Spanish</th>\n",
       "      <td>23</td>\n",
       "    </tr>\n",
       "    <tr>\n",
       "      <th>Mandarin</th>\n",
       "      <td>13</td>\n",
       "    </tr>\n",
       "  </tbody>\n",
       "</table>\n",
       "</div>"
      ],
      "text/plain": [
       "          total_movies\n",
       "French              33\n",
       "Spanish             23\n",
       "Mandarin            13"
      ]
     },
     "execution_count": 17,
     "metadata": {},
     "output_type": "execute_result"
    }
   ],
   "source": [
    "print(\"The Top 3 languages with the highest no of movies are\")\n",
    "pd.DataFrame(top_3_languages_non_english).rename(columns={\"language\": \"total_movies\"})"
   ]
  },
  {
   "cell_type": "markdown",
   "metadata": {},
   "source": [
    "**6\\. What are the top 3 countries with the highest nett profit in all dataset times?**"
   ]
  },
  {
   "cell_type": "code",
   "execution_count": 18,
   "metadata": {},
   "outputs": [
    {
     "name": "stdout",
     "output_type": "stream",
     "text": [
      "The Top 3 countries with the highest nett profit are\n"
     ]
    }
   ],
   "source": [
    "print(\"The Top 3 countries with the highest nett profit are\")\n",
    "top_3_countries = imdb.groupby(\"country\").sum().sort_values(by=\"net_USD\", ascending=False)[[\"net_USD\"]].head(3)"
   ]
  },
  {
   "cell_type": "markdown",
   "metadata": {},
   "source": [
    "**7\\. What are the average budget of all movies in dataset in 2015?**"
   ]
  },
  {
   "cell_type": "code",
   "execution_count": 19,
   "metadata": {},
   "outputs": [],
   "source": [
    "average_budget_2015 = imdb[imdb[\"title_year\"] == 2015][\"budget_USD\"].mean()"
   ]
  },
  {
   "cell_type": "code",
   "execution_count": 20,
   "metadata": {},
   "outputs": [
    {
     "name": "stdout",
     "output_type": "stream",
     "text": [
      "The average budget of all movies in dataset in 2015 is 52,102,458 USD\n"
     ]
    }
   ],
   "source": [
    "print(f\"The average budget of all movies in dataset in 2015 is {format_to_currency(round(average_budget_2015))} USD\")"
   ]
  },
  {
   "cell_type": "markdown",
   "metadata": {},
   "source": [
    "**8\\. What are the average budget of all movies in dataset in 2016?**"
   ]
  },
  {
   "cell_type": "code",
   "execution_count": 21,
   "metadata": {
    "collapsed": true
   },
   "outputs": [],
   "source": [
    "average_budget_2016 = imdb[imdb[\"title_year\"] == 2016][\"budget_USD\"].mean()"
   ]
  },
  {
   "cell_type": "code",
   "execution_count": 22,
   "metadata": {},
   "outputs": [
    {
     "name": "stdout",
     "output_type": "stream",
     "text": [
      "The average budget of all movies in dataset in 2016 is 66,014,754 USD\n"
     ]
    }
   ],
   "source": [
    "print(f\"The average budget of all movies in dataset in 2016 is {format_to_currency(round(average_budget_2016))} USD\")"
   ]
  },
  {
   "cell_type": "markdown",
   "metadata": {},
   "source": [
    "**9\\. Which one is higher, average budget of all movies in dataset in 2015 or 2016?**"
   ]
  },
  {
   "cell_type": "code",
   "execution_count": 23,
   "metadata": {},
   "outputs": [
    {
     "name": "stdout",
     "output_type": "stream",
     "text": [
      "The highest average budget of all movies in dataset is in the year of 2016\n",
      "They differ by a value of 13,912,296 USD\n"
     ]
    }
   ],
   "source": [
    "highest_average_budget = \"2015\" if average_budget_2015 > average_budget_2016 else \"2016\"\n",
    "average_budget_difference = round(abs(average_budget_2016 - average_budget_2015))\n",
    "\n",
    "print(f\"The highest average budget of all movies in dataset is in the year of {highest_average_budget}\")\n",
    "print(f\"They differ by a value of {format_to_currency(average_budget_difference)} USD\")"
   ]
  },
  {
   "cell_type": "markdown",
   "metadata": {},
   "source": [
    "**10\\. What movie that resulted highest nett profit of all dataset times? How much did the movie make?**"
   ]
  },
  {
   "cell_type": "code",
   "execution_count": 24,
   "metadata": {},
   "outputs": [],
   "source": [
    "highest_nett_profited_movie = imdb.sort_values(by=\"net_USD\", ascending=False).head(1)[[\"movie_title\", \"net_USD\"]]"
   ]
  },
  {
   "cell_type": "code",
   "execution_count": 25,
   "metadata": {},
   "outputs": [
    {
     "name": "stdout",
     "output_type": "stream",
     "text": [
      "Movie with the highest nett profit and how much did the movie make\n"
     ]
    },
    {
     "data": {
      "text/html": [
       "<div>\n",
       "<style>\n",
       "    .dataframe thead tr:only-child th {\n",
       "        text-align: right;\n",
       "    }\n",
       "\n",
       "    .dataframe thead th {\n",
       "        text-align: left;\n",
       "    }\n",
       "\n",
       "    .dataframe tbody tr th {\n",
       "        vertical-align: top;\n",
       "    }\n",
       "</style>\n",
       "<table border=\"1\" class=\"dataframe\">\n",
       "  <thead>\n",
       "    <tr style=\"text-align: right;\">\n",
       "      <th></th>\n",
       "      <th>movie_title</th>\n",
       "      <th>net_USD</th>\n",
       "    </tr>\n",
       "  </thead>\n",
       "  <tbody>\n",
       "    <tr>\n",
       "      <th>0</th>\n",
       "      <td>Avatar</td>\n",
       "      <td>523505847</td>\n",
       "    </tr>\n",
       "  </tbody>\n",
       "</table>\n",
       "</div>"
      ],
      "text/plain": [
       "  movie_title    net_USD\n",
       "0      Avatar  523505847"
      ]
     },
     "execution_count": 25,
     "metadata": {},
     "output_type": "execute_result"
    }
   ],
   "source": [
    "print(\"Movie with the highest nett profit and how much did the movie make\")\n",
    "highest_nett_profited_movie"
   ]
  },
  {
   "cell_type": "code",
   "execution_count": 26,
   "metadata": {},
   "outputs": [],
   "source": [
    "movie_title, net_profit = highest_nett_profited_movie.values[0]"
   ]
  },
  {
   "cell_type": "code",
   "execution_count": 27,
   "metadata": {},
   "outputs": [
    {
     "name": "stdout",
     "output_type": "stream",
     "text": [
      "The movie Avatar is the movie with the highest profit in the dataset and made net profit of 523,505,847 USD\n"
     ]
    }
   ],
   "source": [
    "print(f\"The movie {movie_title} is the movie with the highest profit in the dataset and made net profit of {format_to_currency(net_profit)} USD\")"
   ]
  }
 ],
 "metadata": {
  "kernelspec": {
   "display_name": "Python 3",
   "language": "python",
   "name": "python3"
  },
  "language_info": {
   "codemirror_mode": {
    "name": "ipython",
    "version": 3
   },
   "file_extension": ".py",
   "mimetype": "text/x-python",
   "name": "python",
   "nbconvert_exporter": "python",
   "pygments_lexer": "ipython3",
   "version": "3.6.3"
  }
 },
 "nbformat": 4,
 "nbformat_minor": 2
}
